{
  "nbformat": 4,
  "nbformat_minor": 0,
  "metadata": {
    "colab": {
      "name": "00_tensorflow_fundamentals.ipynb",
      "provenance": [],
      "authorship_tag": "ABX9TyOcak42tL0MDnDnc+8tem7D",
      "include_colab_link": true
    },
    "kernelspec": {
      "name": "python3",
      "display_name": "Python 3"
    },
    "language_info": {
      "name": "python"
    }
  },
  "cells": [
    {
      "cell_type": "markdown",
      "metadata": {
        "id": "view-in-github",
        "colab_type": "text"
      },
      "source": [
        "<a href=\"https://colab.research.google.com/github/A-jha/TENSOR-FLOW-LAB/blob/master/00_tensorflow_fundamentals.ipynb\" target=\"_parent\"><img src=\"https://colab.research.google.com/assets/colab-badge.svg\" alt=\"Open In Colab\"/></a>"
      ]
    },
    {
      "cell_type": "markdown",
      "metadata": {
        "id": "Pj06jaEFMgvr"
      },
      "source": [
        "# Fundamental concept of Tensor using Tensorflow\n",
        "\n",
        "## Agenda\n",
        "- introduction to tensors\n",
        "- Getting information from tensors\n",
        "- Manipulating tensors\n",
        "- Tensors and Numpy\n",
        "- Using @tf.function (a way to speed up regular python functions)\n",
        "- Using GPUs/TPUs With tensorflow\n",
        "- Some Excercises "
      ]
    },
    {
      "cell_type": "markdown",
      "metadata": {
        "id": "YnJgszbiNrx1"
      },
      "source": [
        "# Introduction to Tensors"
      ]
    },
    {
      "cell_type": "code",
      "metadata": {
        "colab": {
          "base_uri": "https://localhost:8080/"
        },
        "id": "iVxVa4DUIhVO",
        "outputId": "dda5f480-e1cf-4307-daad-1d04c919b7a1"
      },
      "source": [
        "#import tensorflow\n",
        "import tensorflow as tf\n",
        "\n",
        "#print version of tensorflow\n",
        "print(\"Version of Tensorflow : \",tf.__version__)"
      ],
      "execution_count": 1,
      "outputs": [
        {
          "output_type": "stream",
          "text": [
            "Version of Tensorflow :  2.5.0\n"
          ],
          "name": "stdout"
        }
      ]
    },
    {
      "cell_type": "markdown",
      "metadata": {
        "id": "4lxa_JYKeUrA"
      },
      "source": [
        " **tf.constant()** - To create Tensors"
      ]
    },
    {
      "cell_type": "code",
      "metadata": {
        "colab": {
          "base_uri": "https://localhost:8080/"
        },
        "id": "PS9wZg6bIkXX",
        "outputId": "6540c0f3-5f13-4c69-c6d7-038011e13820"
      },
      "source": [
        "# Creating tensors with tf.constant()\n",
        "scalar = tf.constant(7)\n",
        "scalar"
      ],
      "execution_count": 2,
      "outputs": [
        {
          "output_type": "execute_result",
          "data": {
            "text/plain": [
              "<tf.Tensor: shape=(), dtype=int32, numpy=7>"
            ]
          },
          "metadata": {
            "tags": []
          },
          "execution_count": 2
        }
      ]
    },
    {
      "cell_type": "code",
      "metadata": {
        "colab": {
          "base_uri": "https://localhost:8080/"
        },
        "id": "4QqWzKODIps9",
        "outputId": "0c044af1-c22e-483b-ee70-c4fce71db9e5"
      },
      "source": [
        "# check dimensions of tensor\n",
        "scalar.ndim"
      ],
      "execution_count": 3,
      "outputs": [
        {
          "output_type": "execute_result",
          "data": {
            "text/plain": [
              "0"
            ]
          },
          "metadata": {
            "tags": []
          },
          "execution_count": 3
        }
      ]
    },
    {
      "cell_type": "code",
      "metadata": {
        "colab": {
          "base_uri": "https://localhost:8080/"
        },
        "id": "v83kB0AtKq77",
        "outputId": "bae4f70a-78eb-4268-af83-aba2c3a8f31a"
      },
      "source": [
        "# Create a vector\n",
        "vector = tf.constant([10,10])\n",
        "vector"
      ],
      "execution_count": 4,
      "outputs": [
        {
          "output_type": "execute_result",
          "data": {
            "text/plain": [
              "<tf.Tensor: shape=(2,), dtype=int32, numpy=array([10, 10], dtype=int32)>"
            ]
          },
          "metadata": {
            "tags": []
          },
          "execution_count": 4
        }
      ]
    },
    {
      "cell_type": "code",
      "metadata": {
        "colab": {
          "base_uri": "https://localhost:8080/"
        },
        "id": "JbOMunJRLcLh",
        "outputId": "e259f985-7ada-4edb-c9d4-91db43d7eee7"
      },
      "source": [
        "# Check Dimensions of vector\n",
        "vector.ndim"
      ],
      "execution_count": 5,
      "outputs": [
        {
          "output_type": "execute_result",
          "data": {
            "text/plain": [
              "1"
            ]
          },
          "metadata": {
            "tags": []
          },
          "execution_count": 5
        }
      ]
    },
    {
      "cell_type": "code",
      "metadata": {
        "colab": {
          "base_uri": "https://localhost:8080/"
        },
        "id": "HJl_Ry4gQJBi",
        "outputId": "38f42095-37e0-45fb-b713-ead44b1a945b"
      },
      "source": [
        "# Create a Matrix\n",
        "matrix = tf.constant([[10, 7],[7, 10]])\n",
        "matrix"
      ],
      "execution_count": 8,
      "outputs": [
        {
          "output_type": "execute_result",
          "data": {
            "text/plain": [
              "<tf.Tensor: shape=(2, 2), dtype=int32, numpy=\n",
              "array([[10,  7],\n",
              "       [ 7, 10]], dtype=int32)>"
            ]
          },
          "metadata": {
            "tags": []
          },
          "execution_count": 8
        }
      ]
    },
    {
      "cell_type": "code",
      "metadata": {
        "colab": {
          "base_uri": "https://localhost:8080/"
        },
        "id": "-ns1EC9eanJK",
        "outputId": "76ea15fb-d8fa-4ffa-ff20-621ee4d973fd"
      },
      "source": [
        "# Check dimention of matrix\n",
        "matrix.ndim"
      ],
      "execution_count": 9,
      "outputs": [
        {
          "output_type": "execute_result",
          "data": {
            "text/plain": [
              "2"
            ]
          },
          "metadata": {
            "tags": []
          },
          "execution_count": 9
        }
      ]
    },
    {
      "cell_type": "code",
      "metadata": {
        "colab": {
          "base_uri": "https://localhost:8080/"
        },
        "id": "tkoc2Y9Ka74B",
        "outputId": "619645a2-87ce-40e6-d347-1289389cd4a9"
      },
      "source": [
        "# Create Another Matrix\n",
        "another_matrix = tf.constant([[10.,8.],[8.,10.],[9.,8.]],dtype=tf.float16)\n",
        "another_matrix"
      ],
      "execution_count": 13,
      "outputs": [
        {
          "output_type": "execute_result",
          "data": {
            "text/plain": [
              "<tf.Tensor: shape=(3, 2), dtype=float16, numpy=\n",
              "array([[10.,  8.],\n",
              "       [ 8., 10.],\n",
              "       [ 9.,  8.]], dtype=float16)>"
            ]
          },
          "metadata": {
            "tags": []
          },
          "execution_count": 13
        }
      ]
    },
    {
      "cell_type": "code",
      "metadata": {
        "colab": {
          "base_uri": "https://localhost:8080/"
        },
        "id": "r5aCgPQ7bJhv",
        "outputId": "68e97cbe-9df6-4bcf-eb42-7906d072e975"
      },
      "source": [
        "# Check dimention of another matrix\n",
        "another_matrix.ndim"
      ],
      "execution_count": 14,
      "outputs": [
        {
          "output_type": "execute_result",
          "data": {
            "text/plain": [
              "2"
            ]
          },
          "metadata": {
            "tags": []
          },
          "execution_count": 14
        }
      ]
    },
    {
      "cell_type": "code",
      "metadata": {
        "colab": {
          "base_uri": "https://localhost:8080/"
        },
        "id": "3hCe89Ubbuog",
        "outputId": "06d37b88-e46d-4f2b-e41c-da087748b6bc"
      },
      "source": [
        "# Create a Tensor\n",
        "tensor = tf.constant([[[1,2],[3,4]],\n",
        "                      [[5,6],[6,7]],\n",
        "                      [[8,9],[9,10]]\n",
        "                      ])\n",
        "tensor"
      ],
      "execution_count": 15,
      "outputs": [
        {
          "output_type": "execute_result",
          "data": {
            "text/plain": [
              "<tf.Tensor: shape=(3, 2, 2), dtype=int32, numpy=\n",
              "array([[[ 1,  2],\n",
              "        [ 3,  4]],\n",
              "\n",
              "       [[ 5,  6],\n",
              "        [ 6,  7]],\n",
              "\n",
              "       [[ 8,  9],\n",
              "        [ 9, 10]]], dtype=int32)>"
            ]
          },
          "metadata": {
            "tags": []
          },
          "execution_count": 15
        }
      ]
    },
    {
      "cell_type": "code",
      "metadata": {
        "colab": {
          "base_uri": "https://localhost:8080/"
        },
        "id": "WGvnjj8_cZ-d",
        "outputId": "bbe91672-a42a-4212-ef7b-089dcce1a59f"
      },
      "source": [
        "# check dimensions of Tensor\n",
        "tensor.ndim"
      ],
      "execution_count": 16,
      "outputs": [
        {
          "output_type": "execute_result",
          "data": {
            "text/plain": [
              "3"
            ]
          },
          "metadata": {
            "tags": []
          },
          "execution_count": 16
        }
      ]
    },
    {
      "cell_type": "markdown",
      "metadata": {
        "id": "bO0GMUSacm7y"
      },
      "source": [
        "### What we have created \n",
        "- Scalar : a single number\n",
        "- Vector : a number with direction\n",
        "- Matrix : a two dimentional array of numbers\n",
        "- Tensor : an n-dimensional array of numbers\n",
        "  - when n = 0 then scalar / tensor\n",
        "  - when n = 1 then vector / tensor\n",
        "  - when n = 3 then matrix / tensor\n",
        "  - when n > 3 then tensor"
      ]
    },
    {
      "cell_type": "markdown",
      "metadata": {
        "id": "FBm6qMuQeOGM"
      },
      "source": [
        "**tf.varible()** - To create Tensor"
      ]
    },
    {
      "cell_type": "code",
      "metadata": {
        "id": "B0fn62A3e0kS"
      },
      "source": [
        ""
      ],
      "execution_count": null,
      "outputs": []
    }
  ]
}