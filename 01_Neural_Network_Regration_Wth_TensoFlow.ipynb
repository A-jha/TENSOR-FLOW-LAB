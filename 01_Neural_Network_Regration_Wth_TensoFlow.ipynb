{
  "nbformat": 4,
  "nbformat_minor": 0,
  "metadata": {
    "colab": {
      "name": "01_Neural_Network_Regration_Wth_TensoFlow.ipynb",
      "provenance": [],
      "collapsed_sections": [],
      "authorship_tag": "ABX9TyOlsCRCZ9cMrzlisALzR4qq",
      "include_colab_link": true
    },
    "kernelspec": {
      "name": "python3",
      "display_name": "Python 3"
    },
    "language_info": {
      "name": "python"
    }
  },
  "cells": [
    {
      "cell_type": "markdown",
      "metadata": {
        "id": "view-in-github",
        "colab_type": "text"
      },
      "source": [
        "<a href=\"https://colab.research.google.com/github/A-jha/TENSOR-FLOW-LAB/blob/master/01_Neural_Network_Regration_Wth_TensoFlow.ipynb\" target=\"_parent\"><img src=\"https://colab.research.google.com/assets/colab-badge.svg\" alt=\"Open In Colab\"/></a>"
      ]
    },
    {
      "cell_type": "markdown",
      "metadata": {
        "id": "-mK9BzRbcP4Z"
      },
      "source": [
        "# Neural Network regression wiyh Tensorflow"
      ]
    },
    {
      "cell_type": "markdown",
      "metadata": {
        "id": "C9zrOAZBczEm"
      },
      "source": [
        "## What is Regression ?\n",
        "Predicting a numerical a varible based on some other combination of variables, even shorter... predicting a number.\n",
        "\n",
        "In Statistical modeling, regression analysis is a set of Statistical processes for estimating the relationship between dependent (output varible) and one or more independent variable.\n",
        "\n",
        "Example : You are a small Restaurant owner . Tip are the best way to keep happy the waiters.\n",
        "- Tip value depends on total bill.\n",
        "- Now You would like to develop a model that will allow you to predics amount of bill.\n",
        "\n",
        "**Residual :** The distance from best fit line to actual value is called residual / error.\n",
        "  - Residual  always sumups to 0 .\n",
        "  - A good reggression model minimizes the SSE (Sum of Squared error).\n",
        "\n",
        "**Note :** The best bit regression line must pass through centroid.\n",
        "\n"
      ]
    },
    {
      "cell_type": "code",
      "metadata": {
        "id": "sXfdIDhNc3co",
        "colab": {
          "base_uri": "https://localhost:8080/"
        },
        "outputId": "e77ed52f-bd12-4503-f0a7-f1474583c4fd"
      },
      "source": [
        "# import tensorflow\n",
        "import tensorflow as tf\n",
        "print(tf.__version__)"
      ],
      "execution_count": 38,
      "outputs": [
        {
          "output_type": "stream",
          "text": [
            "2.5.0\n"
          ],
          "name": "stdout"
        }
      ]
    },
    {
      "cell_type": "code",
      "metadata": {
        "colab": {
          "base_uri": "https://localhost:8080/",
          "height": 287
        },
        "id": "i8S8vlo7_B-o",
        "outputId": "2cee9c74-caa3-4cf6-a34b-a15d3842d893"
      },
      "source": [
        "## Create some data \n",
        "import numpy as np\n",
        "import matplotlib.pyplot as plt\n",
        "\n",
        "# Create Features\n",
        "X = np.array([-7.0, -4.0, -1.0, 2.0, 5.0, 8.0, 11.0, 14.0])\n",
        "\n",
        "# Create a label\n",
        "Y = np.array([3.0, 6.0, 9.0, 12.0, 15.0, 18.0, 21.0, 24.0])\n",
        "\n",
        "# visualize it\n",
        "plt.scatter(X,Y)"
      ],
      "execution_count": 39,
      "outputs": [
        {
          "output_type": "execute_result",
          "data": {
            "text/plain": [
              "<matplotlib.collections.PathCollection at 0x7ff3ac9c8850>"
            ]
          },
          "metadata": {
            "tags": []
          },
          "execution_count": 39
        },
        {
          "output_type": "display_data",
          "data": {
            "image/png": "[encoded data removed]",
            "text/plain": [
              "<Figure size 432x288 with 1 Axes>"
            ]
          },
          "metadata": {
            "tags": [],
            "needs_background": "light"
          }
        }
      ]
    },
    {
      "cell_type": "code",
      "metadata": {
        "colab": {
          "base_uri": "https://localhost:8080/"
        },
        "id": "WDKjqWzmAEzd",
        "outputId": "91aa1323-698c-49f3-ed3d-91c700763fca"
      },
      "source": [
        "# Relation between X and Y\n",
        "Y == X + 10"
      ],
      "execution_count": 40,
      "outputs": [
        {
          "output_type": "execute_result",
          "data": {
            "text/plain": [
              "array([ True,  True,  True,  True,  True,  True,  True,  True])"
            ]
          },
          "metadata": {
            "tags": []
          },
          "execution_count": 40
        }
      ]
    },
    {
      "cell_type": "markdown",
      "metadata": {
        "id": "cVXtexEuAcH_"
      },
      "source": [
        "### Input and Output Shapes"
      ]
    },
    {
      "cell_type": "code",
      "metadata": {
        "colab": {
          "base_uri": "https://localhost:8080/"
        },
        "id": "Oc_57I2pAsDl",
        "outputId": "7e7d2370-2947-45ce-c02b-f4a4afc444cc"
      },
      "source": [
        "# create a dummy data for housing price prediction\n",
        "house_info = tf.constant([\"beedroom\", \"bathroom\", \"garage\"])\n",
        "house_price = tf.constant([934500]) \n",
        "house_info, house_price"
      ],
      "execution_count": 41,
      "outputs": [
        {
          "output_type": "execute_result",
          "data": {
            "text/plain": [
              "(<tf.Tensor: shape=(3,), dtype=string, numpy=array([b'beedroom', b'bathroom', b'garage'], dtype=object)>,\n",
              " <tf.Tensor: shape=(1,), dtype=int32, numpy=array([934500], dtype=int32)>)"
            ]
          },
          "metadata": {
            "tags": []
          },
          "execution_count": 41
        }
      ]
    },
    {
      "cell_type": "code",
      "metadata": {
        "colab": {
          "base_uri": "https://localhost:8080/"
        },
        "id": "FtjPxB8WBNbi",
        "outputId": "1176d234-9bad-43ae-f761-77550161f856"
      },
      "source": [
        "# Turn Numpy array into tensors\n",
        "X = tf.constant(X)\n",
        "Y = tf.constant(Y)\n",
        "X,Y\n",
        "tf.cast(X,dtype=tf.float32)\n",
        "tf.cast(Y,dtype=tf.float32)"
      ],
      "execution_count": 42,
      "outputs": [
        {
          "output_type": "execute_result",
          "data": {
            "text/plain": [
              "<tf.Tensor: shape=(8,), dtype=float32, numpy=array([ 3.,  6.,  9., 12., 15., 18., 21., 24.], dtype=float32)>"
            ]
          },
          "metadata": {
            "tags": []
          },
          "execution_count": 42
        }
      ]
    },
    {
      "cell_type": "code",
      "metadata": {
        "colab": {
          "base_uri": "https://localhost:8080/"
        },
        "id": "Yr50vgzfCf3V",
        "outputId": "30bc2c82-0045-408a-c49b-280b015503aa"
      },
      "source": [
        "#Here we have input as scaler and output as Scaler\n",
        "input_shape = X[0].shape\n",
        "output_shape = Y[0].shape \n",
        "input_shape, output_shape"
      ],
      "execution_count": 43,
      "outputs": [
        {
          "output_type": "execute_result",
          "data": {
            "text/plain": [
              "(TensorShape([]), TensorShape([]))"
            ]
          },
          "metadata": {
            "tags": []
          },
          "execution_count": 43
        }
      ]
    },
    {
      "cell_type": "markdown",
      "metadata": {
        "id": "ZGu2qf6rCvSr"
      },
      "source": [
        "## Steps in Modeling with Tensorflow\n",
        "1. Creating a model - define the input and output layers, as well as the hidden layers of a deep learning model.\n",
        "\n",
        "2. Compiling a model - \n",
        "  - define loss function (in other words, the function which tells our model how wrong it is)\n",
        "  - The optimzer (tells our model how to improve the patterns its learning)\n",
        "  - evaluation matrix (what we can use to interpret the performance of our model)\n",
        "3. Fitting a model- letting the model to fins pattern between X and Y(features and labels)\n",
        "  - epochs - How many time our mpdel will go through all the training example.\n",
        "\n",
        "**mae :**- mean absolute error"
      ]
    },
    {
      "cell_type": "code",
      "metadata": {
        "id": "Ur4-jWzwHEJo",
        "colab": {
          "base_uri": "https://localhost:8080/"
        },
        "outputId": "a642d842-644d-4eb1-eb62-394376a3e948"
      },
      "source": [
        "# Set random seed\n",
        "tf.random.set_seed(42)\n",
        "\n",
        "# 1. Create a model using sequential API\n",
        "model = tf.keras.Sequential([\n",
        "  tf.keras.layers.Dense(1)\n",
        "])\n",
        "\n",
        "#2. compile the model\n",
        "model.compile(loss= tf.keras.losses.mae, # mae - mean absolute error\n",
        "              optimizer = tf.keras.optimizers.SGD(), # sgd - stochasitc gradient descent\n",
        "              metrics = [\"mae\"]             \n",
        ")\n",
        "\n",
        "# fit the model\n",
        "model.fit(X,Y,epochs = 5)"
      ],
      "execution_count": 44,
      "outputs": [
        {
          "output_type": "stream",
          "text": [
            "Epoch 1/5\n",
            "1/1 [==============================] - 0s 245ms/step - loss: 11.5048 - mae: 11.5048\n",
            "Epoch 2/5\n",
            "1/1 [==============================] - 0s 5ms/step - loss: 11.3723 - mae: 11.3723\n",
            "Epoch 3/5\n",
            "1/1 [==============================] - 0s 4ms/step - loss: 11.2398 - mae: 11.2398\n",
            "Epoch 4/5\n",
            "1/1 [==============================] - 0s 3ms/step - loss: 11.1073 - mae: 11.1073\n",
            "Epoch 5/5\n",
            "1/1 [==============================] - 0s 4ms/step - loss: 10.9748 - mae: 10.9748\n"
          ],
          "name": "stdout"
        },
        {
          "output_type": "execute_result",
          "data": {
            "text/plain": [
              "<tensorflow.python.keras.callbacks.History at 0x7ff3a3ad1890>"
            ]
          },
          "metadata": {
            "tags": []
          },
          "execution_count": 44
        }
      ]
    },
    {
      "cell_type": "code",
      "metadata": {
        "colab": {
          "base_uri": "https://localhost:8080/"
        },
        "id": "GyBxsB5nQvXU",
        "outputId": "95a28b2a-a6ea-44e0-b02e-831ed282e7a9"
      },
      "source": [
        "# Check X and Y\n",
        "X,Y"
      ],
      "execution_count": 45,
      "outputs": [
        {
          "output_type": "execute_result",
          "data": {
            "text/plain": [
              "(<tf.Tensor: shape=(8,), dtype=float64, numpy=array([-7., -4., -1.,  2.,  5.,  8., 11., 14.])>,\n",
              " <tf.Tensor: shape=(8,), dtype=float64, numpy=array([ 3.,  6.,  9., 12., 15., 18., 21., 24.])>)"
            ]
          },
          "metadata": {
            "tags": []
          },
          "execution_count": 45
        }
      ]
    },
    {
      "cell_type": "code",
      "metadata": {
        "colab": {
          "base_uri": "https://localhost:8080/"
        },
        "id": "iFHJB-M0Rc9u",
        "outputId": "80eb801c-3463-4328-e62b-57902e43dcab"
      },
      "source": [
        "# Try to make prediction using model\n",
        "model.predict([17.0])"
      ],
      "execution_count": 46,
      "outputs": [
        {
          "output_type": "stream",
          "text": [
            "WARNING:tensorflow:6 out of the last 6 calls to <function Model.make_predict_function.<locals>.predict_function at 0x7ff3ac8bab00> triggered tf.function retracing. Tracing is expensive and the excessive number of tracings could be due to (1) creating @tf.function repeatedly in a loop, (2) passing tensors with different shapes, (3) passing Python objects instead of tensors. For (1), please define your @tf.function outside of the loop. For (2), @tf.function has experimental_relax_shapes=True option that relaxes argument shapes that can avoid unnecessary retracing. For (3), please refer to https://www.tensorflow.org/guide/function#controlling_retracing and https://www.tensorflow.org/api_docs/python/tf/function for  more details.\n"
          ],
          "name": "stdout"
        },
        {
          "output_type": "execute_result",
          "data": {
            "text/plain": [
              "array([[12.716021]], dtype=float32)"
            ]
          },
          "metadata": {
            "tags": []
          },
          "execution_count": 46
        }
      ]
    },
    {
      "cell_type": "markdown",
      "metadata": {
        "id": "FlNg3YYiRl7i"
      },
      "source": [
        "## Improving Model\n",
        "We can improve our model, by altering the steps we took to create a model.\n",
        "1. **Creating a model** - here we might add more layers, increase the number of hidden units (all called neurons) within each of the hidden layers, change the activation function of each layer.\n",
        "\n",
        "2. **Compiling a model** - Here we might the optimization  function or learning rate of the optimization function.\n",
        "\n",
        "3. **Fitting a model** - Here we might fit a model for more epochs(leave it training for long) or add more data to learn from."
      ]
    },
    {
      "cell_type": "code",
      "metadata": {
        "colab": {
          "base_uri": "https://localhost:8080/"
        },
        "id": "qEwO30hVUokd",
        "outputId": "d78e27ab-a6a5-4a77-ae04-0a0e60332e8a"
      },
      "source": [
        "# Let's rebuild our model\n",
        "#1. Create the model\n",
        "model = tf.keras.Sequential([\n",
        "                             tf.keras.layers.Dense(1)\n",
        "])\n",
        "\n",
        "# 2. compile the model\n",
        "model.compile(optimizer=tf.keras.optimizers.SGD(),\n",
        "              loss = \"mae\",\n",
        "              metrics =[ \"mae\"])\n",
        "\n",
        "# fit the model\n",
        "model.fit(X,Y,epochs = 200,verbose=0)"
      ],
      "execution_count": 47,
      "outputs": [
        {
          "output_type": "execute_result",
          "data": {
            "text/plain": [
              "<tensorflow.python.keras.callbacks.History at 0x7ff3ac8960d0>"
            ]
          },
          "metadata": {
            "tags": []
          },
          "execution_count": 47
        }
      ]
    },
    {
      "cell_type": "code",
      "metadata": {
        "colab": {
          "base_uri": "https://localhost:8080/"
        },
        "id": "ywSrg1_JVgFA",
        "outputId": "d542a1de-0b2f-4555-a198-8520b91493cd"
      },
      "source": [
        "# Our Data\n",
        "X,Y"
      ],
      "execution_count": 48,
      "outputs": [
        {
          "output_type": "execute_result",
          "data": {
            "text/plain": [
              "(<tf.Tensor: shape=(8,), dtype=float64, numpy=array([-7., -4., -1.,  2.,  5.,  8., 11., 14.])>,\n",
              " <tf.Tensor: shape=(8,), dtype=float64, numpy=array([ 3.,  6.,  9., 12., 15., 18., 21., 24.])>)"
            ]
          },
          "metadata": {
            "tags": []
          },
          "execution_count": 48
        }
      ]
    },
    {
      "cell_type": "code",
      "metadata": {
        "colab": {
          "base_uri": "https://localhost:8080/"
        },
        "id": "PJ5yIClxWQ_O",
        "outputId": "9aec9329-2f9e-49c3-e49b-b9b296dc2b6f"
      },
      "source": [
        "# lets predict with improved model\n",
        "model.predict([17.0])"
      ],
      "execution_count": 49,
      "outputs": [
        {
          "output_type": "execute_result",
          "data": {
            "text/plain": [
              "array([[30.489859]], dtype=float32)"
            ]
          },
          "metadata": {
            "tags": []
          },
          "execution_count": 49
        }
      ]
    },
    {
      "cell_type": "code",
      "metadata": {
        "colab": {
          "base_uri": "https://localhost:8080/"
        },
        "id": "nlnHhkfyWbaj",
        "outputId": "13482b58-91f3-464c-bea2-4a7df570628c"
      },
      "source": [
        "# let's add  more layer to our model to improve it\n",
        "model = tf.keras.Sequential([\n",
        "                             tf.keras.layers.Dense(100,activation=\"relu\"),\n",
        "                             tf.keras.layers.Dense(100, activation=\"relu\"),\n",
        "                             tf.keras.layers.Dense(1)\n",
        "])\n",
        "\n",
        "model.compile(optimizer= tf.keras.optimizers.SGD(),\n",
        "              loss = \"mae\",\n",
        "              metrics = [\"mae\"])\n",
        "\n",
        "model.fit(X,Y,epochs = 100,verbose=0)"
      ],
      "execution_count": 50,
      "outputs": [
        {
          "output_type": "execute_result",
          "data": {
            "text/plain": [
              "<tensorflow.python.keras.callbacks.History at 0x7ff3ac7d5190>"
            ]
          },
          "metadata": {
            "tags": []
          },
          "execution_count": 50
        }
      ]
    },
    {
      "cell_type": "code",
      "metadata": {
        "colab": {
          "base_uri": "https://localhost:8080/"
        },
        "id": "IjeTmPADXn5o",
        "outputId": "fcb002fc-3ca9-4eb9-e521-eb18bc1d7b37"
      },
      "source": [
        " # lets predict\n",
        " model.predict([17.0])"
      ],
      "execution_count": 51,
      "outputs": [
        {
          "output_type": "execute_result",
          "data": {
            "text/plain": [
              "array([[32.258904]], dtype=float32)"
            ]
          },
          "metadata": {
            "tags": []
          },
          "execution_count": 51
        }
      ]
    },
    {
      "cell_type": "code",
      "metadata": {
        "colab": {
          "base_uri": "https://localhost:8080/"
        },
        "id": "IJzAVfT1ZQB9",
        "outputId": "454bb581-11ad-4897-a936-195af072b78c"
      },
      "source": [
        "# Change the optimizer to improve our model\n",
        "model = tf.keras.Sequential([\n",
        "                             tf.keras.layers.Dense(100,activation=\"relu\"),\n",
        "                             tf.keras.layers.Dense(100, activation = \"relu\"),\n",
        "                             tf.keras.layers.Dense(1)\n",
        "])\n",
        "\n",
        "model.compile(\n",
        "    optimizer = tf.keras.optimizers.Adam(learning_rate=0.01),\n",
        "    loss = \"mae\",\n",
        "    metrics = [\"mae\"]\n",
        ")\n",
        "\n",
        "model.fit(X,Y,epochs =100,verbose=0)"
      ],
      "execution_count": 52,
      "outputs": [
        {
          "output_type": "execute_result",
          "data": {
            "text/plain": [
              "<tensorflow.python.keras.callbacks.History at 0x7ff3ac6d4290>"
            ]
          },
          "metadata": {
            "tags": []
          },
          "execution_count": 52
        }
      ]
    },
    {
      "cell_type": "code",
      "metadata": {
        "colab": {
          "base_uri": "https://localhost:8080/"
        },
        "id": "EHK_YdK2ebzZ",
        "outputId": "5aadb0bd-d95a-41ae-c102-7a4bf99e3943"
      },
      "source": [
        "# predict again\n",
        "model.predict([17.0])"
      ],
      "execution_count": 53,
      "outputs": [
        {
          "output_type": "execute_result",
          "data": {
            "text/plain": [
              "array([[27.83362]], dtype=float32)"
            ]
          },
          "metadata": {
            "tags": []
          },
          "execution_count": 53
        }
      ]
    },
    {
      "cell_type": "markdown",
      "metadata": {
        "id": "2zFvgWLleje6"
      },
      "source": [
        "### Evaluate the model\n",
        "When it comes to evaluation ... there are three words to say:\n",
        "> \"Visualize , visualize, visualize \"\n",
        "\n",
        "It's good idea to visualize:\n",
        "- The data - what data are we working with ? what does it look like ?\n",
        "- The model itself - what does our model look like ?\n",
        "- The training of a model - how does a model performs while it learns ?\n",
        "- The prediction of the model - how do the prediction of model lineup agains thew ground truth ?\n",
        " "
      ]
    },
    {
      "cell_type": "code",
      "metadata": {
        "colab": {
          "base_uri": "https://localhost:8080/"
        },
        "id": "La64Y0UYh7Qx",
        "outputId": "b0f3409c-4673-4e0e-a3bd-ede20ed2d36c"
      },
      "source": [
        "# make a bigger dataset\n",
        "X = tf.range(-100,100,4)\n",
        "X"
      ],
      "execution_count": 54,
      "outputs": [
        {
          "output_type": "execute_result",
          "data": {
            "text/plain": [
              "<tf.Tensor: shape=(50,), dtype=int32, numpy=\n",
              "array([-100,  -96,  -92,  -88,  -84,  -80,  -76,  -72,  -68,  -64,  -60,\n",
              "        -56,  -52,  -48,  -44,  -40,  -36,  -32,  -28,  -24,  -20,  -16,\n",
              "        -12,   -8,   -4,    0,    4,    8,   12,   16,   20,   24,   28,\n",
              "         32,   36,   40,   44,   48,   52,   56,   60,   64,   68,   72,\n",
              "         76,   80,   84,   88,   92,   96], dtype=int32)>"
            ]
          },
          "metadata": {
            "tags": []
          },
          "execution_count": 54
        }
      ]
    },
    {
      "cell_type": "code",
      "metadata": {
        "colab": {
          "base_uri": "https://localhost:8080/"
        },
        "id": "G6CDMN07jGx1",
        "outputId": "e436f8e0-1398-4738-e6c8-93311e022148"
      },
      "source": [
        "# Make labels for the dataset\n",
        "Y = X + 10\n",
        "Y"
      ],
      "execution_count": 55,
      "outputs": [
        {
          "output_type": "execute_result",
          "data": {
            "text/plain": [
              "<tf.Tensor: shape=(50,), dtype=int32, numpy=\n",
              "array([-90, -86, -82, -78, -74, -70, -66, -62, -58, -54, -50, -46, -42,\n",
              "       -38, -34, -30, -26, -22, -18, -14, -10,  -6,  -2,   2,   6,  10,\n",
              "        14,  18,  22,  26,  30,  34,  38,  42,  46,  50,  54,  58,  62,\n",
              "        66,  70,  74,  78,  82,  86,  90,  94,  98, 102, 106], dtype=int32)>"
            ]
          },
          "metadata": {
            "tags": []
          },
          "execution_count": 55
        }
      ]
    },
    {
      "cell_type": "code",
      "metadata": {
        "colab": {
          "base_uri": "https://localhost:8080/",
          "height": 283
        },
        "id": "37Md94vujPt9",
        "outputId": "dd7fdf8c-a961-4d68-f70f-444563975a7f"
      },
      "source": [
        "# visualize the data\n",
        "plt.plot(X,Y)"
      ],
      "execution_count": 56,
      "outputs": [
        {
          "output_type": "execute_result",
          "data": {
            "text/plain": [
              "[<matplotlib.lines.Line2D at 0x7ff3ac5a5350>]"
            ]
          },
          "metadata": {
            "tags": []
          },
          "execution_count": 56
        },
        {
          "output_type": "display_data",
          "data": {
            "image/png": "[encoded data removed]",
            "text/plain": [
              "<Figure size 432x288 with 1 Axes>"
            ]
          },
          "metadata": {
            "tags": [],
            "needs_background": "light"
          }
        }
      ]
    },
    {
      "cell_type": "code",
      "metadata": {
        "colab": {
          "base_uri": "https://localhost:8080/",
          "height": 283
        },
        "id": "3KfQs4uIjg2F",
        "outputId": "175122c3-f473-4606-904b-5af176f44e1d"
      },
      "source": [
        "# scatter plot\n",
        "plt.scatter(X,Y)"
      ],
      "execution_count": 57,
      "outputs": [
        {
          "output_type": "execute_result",
          "data": {
            "text/plain": [
              "<matplotlib.collections.PathCollection at 0x7ff3ac4fc9d0>"
            ]
          },
          "metadata": {
            "tags": []
          },
          "execution_count": 57
        },
        {
          "output_type": "display_data",
          "data": {
            "image/png": "[encoded data removed]",
            "text/plain": [
              "<Figure size 432x288 with 1 Axes>"
            ]
          },
          "metadata": {
            "tags": [],
            "needs_background": "light"
          }
        }
      ]
    },
    {
      "cell_type": "markdown",
      "metadata": {
        "id": "8QFYnSH7jpHW"
      },
      "source": [
        "### The 3 sets . . \n",
        "- Training Sets - the models learn from this data (70-80 %)\n",
        "- Validation set - The model gets tuned on this data, which is 10 to 15 %\n",
        "- Test Set - The model gets evaluated on this data to test what it has learned 10 to 15 %"
      ]
    },
    {
      "cell_type": "code",
      "metadata": {
        "colab": {
          "base_uri": "https://localhost:8080/"
        },
        "id": "JgG-EXgqkfSU",
        "outputId": "4e508117-39aa-4bd8-c760-bd2c6b532f5d"
      },
      "source": [
        "# check the length of sample\n",
        "len(X)"
      ],
      "execution_count": 58,
      "outputs": [
        {
          "output_type": "execute_result",
          "data": {
            "text/plain": [
              "50"
            ]
          },
          "metadata": {
            "tags": []
          },
          "execution_count": 58
        }
      ]
    },
    {
      "cell_type": "code",
      "metadata": {
        "colab": {
          "base_uri": "https://localhost:8080/"
        },
        "id": "CnFaOAbwkzVx",
        "outputId": "38d28e13-3edc-45ad-e888-443267262526"
      },
      "source": [
        "# Split data into training and testing dataset\n",
        "X_train = X[:40]\n",
        "X_test = X[40:]\n",
        "\n",
        "Y_train = Y[:40]\n",
        "Y_test = Y[40:]\n",
        "\n",
        "len(X_train) , len(X_test)"
      ],
      "execution_count": 59,
      "outputs": [
        {
          "output_type": "execute_result",
          "data": {
            "text/plain": [
              "(40, 10)"
            ]
          },
          "metadata": {
            "tags": []
          },
          "execution_count": 59
        }
      ]
    },
    {
      "cell_type": "markdown",
      "metadata": {
        "id": "U857Q2lglpFg"
      },
      "source": [
        "# Visualizing the data\n",
        "Now we've got our data in training and test sets... let's visualize it"
      ]
    },
    {
      "cell_type": "code",
      "metadata": {
        "colab": {
          "base_uri": "https://localhost:8080/",
          "height": 428
        },
        "id": "Upk3Vg7nmKB2",
        "outputId": "b83ee19d-dd66-46c9-d79f-264d7bd661ea"
      },
      "source": [
        "plt.figure(figsize=(10,7))\n",
        "\n",
        "# plot training data in blue\n",
        "plt.scatter(X_train, Y_train, c=\"b\", label = \"Training data\")\n",
        "\n",
        "# plot test data in green\n",
        "plt.scatter(X_test,Y_test,c=\"r\",label =\"Testing data\" )\n",
        "\n",
        "# show a legend\n",
        "plt.legend();"
      ],
      "execution_count": 60,
      "outputs": [
        {
          "output_type": "display_data",
          "data": {
            "image/png": "[encoded data removed]",
            "text/plain": [
              "<Figure size 720x504 with 1 Axes>"
            ]
          },
          "metadata": {
            "tags": [],
            "needs_background": "light"
          }
        }
      ]
    },
    {
      "cell_type": "code",
      "metadata": {
        "colab": {
          "base_uri": "https://localhost:8080/"
        },
        "id": "tCjcVJjvmx2U",
        "outputId": "d62022cc-7c38-4235-e3c8-b59cd4be5406"
      },
      "source": [
        "# let's build a neural network for our data\n",
        "\n",
        "# 1. Create a model with one layer of neurons\n",
        "model = tf.keras.Sequential([\n",
        "    tf.keras.layers.Dense(1)\n",
        "])\n",
        "\n",
        "# 2. Compile the model with SGD Optimizer first\n",
        "model.compile(\n",
        "               optimizer = tf.keras.optimizers.SGD(),\n",
        "               loss = \"mae\",\n",
        "               metrics = [\"mae\"]\n",
        ")\n",
        "\n",
        "# 3. fit the data into model\n",
        "model.fit(X_train,Y_train,epochs=100,verbose=0)"
      ],
      "execution_count": 61,
      "outputs": [
        {
          "output_type": "execute_result",
          "data": {
            "text/plain": [
              "<tensorflow.python.keras.callbacks.History at 0x7ff3ac3e6190>"
            ]
          },
          "metadata": {
            "tags": []
          },
          "execution_count": 61
        }
      ]
    },
    {
      "cell_type": "code",
      "metadata": {
        "colab": {
          "base_uri": "https://localhost:8080/"
        },
        "id": "haxLBHNboZj4",
        "outputId": "7c005466-3dd9-4fb0-ab70-089373739222"
      },
      "source": [
        "# Improve our model by adding some layer with relu activation function\n",
        "# 1. Create model -  add more layer to our model\n",
        "model = tf.keras.Sequential([\n",
        "                             tf.keras.layers.Dense(100, activation=\"relu\"),\n",
        "                             tf.keras.layers.Dense(100, activation=\"relu\"),\n",
        "                             tf.keras.layers.Dense(1)\n",
        "])\n",
        "\n",
        "# 2. compile the model\n",
        "model.compile(\n",
        "    loss = \"mae\",\n",
        "    optimizer = tf.keras.optimizers.SGD(),\n",
        "    metrics =[\"mae\"]\n",
        ")\n",
        "\n",
        "# 3. Fit the model\n",
        "model.fit(X_train, Y_train, epochs= 100,verbose=0)"
      ],
      "execution_count": 62,
      "outputs": [
        {
          "output_type": "execute_result",
          "data": {
            "text/plain": [
              "<tensorflow.python.keras.callbacks.History at 0x7ff3ac33b5d0>"
            ]
          },
          "metadata": {
            "tags": []
          },
          "execution_count": 62
        }
      ]
    },
    {
      "cell_type": "code",
      "metadata": {
        "colab": {
          "base_uri": "https://localhost:8080/"
        },
        "id": "cbjdwpxkqEjt",
        "outputId": "23c84623-6ea4-43be-ec26-1e01408017ef"
      },
      "source": [
        "# Improve our model by changing opimizer from SGD to Adam\n",
        "\n",
        "# 1. Create a model\n",
        "model = tf.keras.Sequential([\n",
        "                             tf.keras.layers.Dense(100, activation = \"relu\"),\n",
        "                              tf.keras.layers.Dense(100, activation = \"relu\"),\n",
        "                             tf.keras.layers.Dense(1)\n",
        "]) \n",
        "\n",
        "# 2. Compling a model\n",
        "model.compile(\n",
        "    optimizer = tf.keras.optimizers.Adam(learning_rate=.01),\n",
        "    loss = \"mae\",\n",
        "    metrics = [\"mae\"]\n",
        ")\n",
        "\n",
        "# 3. fit the model\n",
        "model.fit(X_train, Y_train, epochs=100,verbose=0)"
      ],
      "execution_count": 63,
      "outputs": [
        {
          "output_type": "execute_result",
          "data": {
            "text/plain": [
              "<tensorflow.python.keras.callbacks.History at 0x7ff3ac279790>"
            ]
          },
          "metadata": {
            "tags": []
          },
          "execution_count": 63
        }
      ]
    },
    {
      "cell_type": "code",
      "metadata": {
        "colab": {
          "base_uri": "https://localhost:8080/"
        },
        "id": "Mv_wxkyBrzjN",
        "outputId": "66508e2c-dc87-4ce8-db50-e846439c6c4a"
      },
      "source": [
        "# Now we can see we have a good accuracy lets predict the value\n",
        "model.predict(X_test), Y_test"
      ],
      "execution_count": 64,
      "outputs": [
        {
          "output_type": "execute_result",
          "data": {
            "text/plain": [
              "(array([[ 66.70861 ],\n",
              "        [ 70.50643 ],\n",
              "        [ 74.30421 ],\n",
              "        [ 78.102005],\n",
              "        [ 81.90981 ],\n",
              "        [ 85.718864],\n",
              "        [ 89.52671 ],\n",
              "        [ 93.333534],\n",
              "        [ 97.14044 ],\n",
              "        [100.94737 ]], dtype=float32),\n",
              " <tf.Tensor: shape=(10,), dtype=int32, numpy=array([ 70,  74,  78,  82,  86,  90,  94,  98, 102, 106], dtype=int32)>)"
            ]
          },
          "metadata": {
            "tags": []
          },
          "execution_count": 64
        }
      ]
    },
    {
      "cell_type": "code",
      "metadata": {
        "id": "MeiV10xnsKsT",
        "colab": {
          "base_uri": "https://localhost:8080/"
        },
        "outputId": "1e05d903-d343-44b2-f03f-9e97bf60e3a8"
      },
      "source": [
        "model.summary()"
      ],
      "execution_count": 65,
      "outputs": [
        {
          "output_type": "stream",
          "text": [
            "Model: \"sequential_14\"\n",
            "_________________________________________________________________\n",
            "Layer (type)                 Output Shape              Param #   \n",
            "=================================================================\n",
            "dense_30 (Dense)             (None, 100)               200       \n",
            "_________________________________________________________________\n",
            "dense_31 (Dense)             (None, 100)               10100     \n",
            "_________________________________________________________________\n",
            "dense_32 (Dense)             (None, 1)                 101       \n",
            "=================================================================\n",
            "Total params: 10,401\n",
            "Trainable params: 10,401\n",
            "Non-trainable params: 0\n",
            "_________________________________________________________________\n"
          ],
          "name": "stdout"
        }
      ]
    },
    {
      "cell_type": "markdown",
      "metadata": {
        "id": "Z0iRJ2fGDg90"
      },
      "source": [
        "- **Total Params** is the number of parameters in the model.\n",
        "- **Trainable Params** are the prameters (pattern) the model can update as it trains.\n",
        "- **Non-tainable Params** are not updated during training (thi id typical when you bring in already learn pattern or prameters from other models during transfer learning). "
      ]
    },
    {
      "cell_type": "code",
      "metadata": {
        "colab": {
          "base_uri": "https://localhost:8080/",
          "height": 422
        },
        "id": "W38uXW6hFRBY",
        "outputId": "1b5895f4-e6d9-4644-ff50-ec797fa48dd8"
      },
      "source": [
        "# Visualize the model\n",
        "from tensorflow.keras.utils import  plot_model\n",
        "\n",
        "plot_model(model = model, show_shapes=True)"
      ],
      "execution_count": 67,
      "outputs": [
        {
          "output_type": "execute_result",
          "data": {
            "image/png": "[encoded data removed]",
            "text/plain": [
              "<IPython.core.display.Image object>"
            ]
          },
          "metadata": {
            "tags": []
          },
          "execution_count": 67
        }
      ]
    },
    {
      "cell_type": "code",
      "metadata": {
        "id": "v09rM3RWHSIN"
      },
      "source": [
        ""
      ],
      "execution_count": null,
      "outputs": []
    }
  ]
}