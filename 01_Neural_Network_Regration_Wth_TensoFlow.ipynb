{
  "nbformat": 4,
  "nbformat_minor": 0,
  "metadata": {
    "colab": {
      "name": "01_Neural_Network_Regration_Wth_TensoFlow.ipynb",
      "provenance": [],
      "collapsed_sections": [],
      "authorship_tag": "ABX9TyNyA2OUWAnbkCuzK3dwF3vY",
      "include_colab_link": true
    },
    "kernelspec": {
      "name": "python3",
      "display_name": "Python 3"
    },
    "language_info": {
      "name": "python"
    }
  },
  "cells": [
    {
      "cell_type": "markdown",
      "metadata": {
        "id": "view-in-github",
        "colab_type": "text"
      },
      "source": [
        "<a href=\"https://colab.research.google.com/github/A-jha/TENSOR-FLOW-LAB/blob/master/01_Neural_Network_Regration_Wth_TensoFlow.ipynb\" target=\"_parent\"><img src=\"https://colab.research.google.com/assets/colab-badge.svg\" alt=\"Open In Colab\"/></a>"
      ]
    },
    {
      "cell_type": "markdown",
      "metadata": {
        "id": "-mK9BzRbcP4Z"
      },
      "source": [
        "# Neural Network regression wiyh Tensorflow"
      ]
    },
    {
      "cell_type": "markdown",
      "metadata": {
        "id": "C9zrOAZBczEm"
      },
      "source": [
        "## What is Regression ?\n",
        "Predicting a numerical a varible based on some other combination of variables, even shorter... predicting a number.\n",
        "\n",
        "In Statistical modeling, regression analysis is a set of Statistical processes for estimating the relationship between dependent (output varible) and one or more independent variable.\n",
        "\n",
        "Example : You are a small Restaurant owner . Tip are the best way to keep happy the waiters.\n",
        "- Tip value depends on total bill.\n",
        "- Now You would like to develop a model that will allow you to predics amount of bill.\n",
        "\n",
        "**Residual :** The distance from best fit line to actual value is called residual / error.\n",
        "  - Residual  always sumups to 0 .\n",
        "  - A good reggression model minimizes the SSE (Sum of Squared error).\n",
        "\n",
        "**Note :** The best bit regression line must pass through centroid.\n",
        "\n"
      ]
    },
    {
      "cell_type": "code",
      "metadata": {
        "id": "sXfdIDhNc3co",
        "colab": {
          "base_uri": "https://localhost:8080/"
        },
        "outputId": "c6efde97-2682-4748-f5e3-6dc4a6d777e1"
      },
      "source": [
        "# import tensorflow\n",
        "import tensorflow as tf\n",
        "print(tf.__version__)"
      ],
      "execution_count": 1,
      "outputs": [
        {
          "output_type": "stream",
          "text": [
            "2.5.0\n"
          ],
          "name": "stdout"
        }
      ]
    },
    {
      "cell_type": "code",
      "metadata": {
        "colab": {
          "base_uri": "https://localhost:8080/",
          "height": 287
        },
        "id": "i8S8vlo7_B-o",
        "outputId": "117c92b5-cd99-47bb-f899-f989ea41cee2"
      },
      "source": [
        "## Create some data \n",
        "import numpy as np\n",
        "import matplotlib.pyplot as plt\n",
        "\n",
        "# Create Features\n",
        "X = np.array([-7.0, -4.0, -1.0, 2.0, 5.0, 8.0, 11.0, 14.0])\n",
        "\n",
        "# Create a label\n",
        "Y = np.array([3.0, 6.0, 9.0, 12.0, 15.0, 18.0, 21.0, 24.0])\n",
        "\n",
        "# visualize it\n",
        "plt.scatter(X,Y)"
      ],
      "execution_count": 2,
      "outputs": [
        {
          "output_type": "execute_result",
          "data": {
            "text/plain": [
              "<matplotlib.collections.PathCollection at 0x7ff17a032b50>"
            ]
          },
          "metadata": {
            "tags": []
          },
          "execution_count": 2
        },
        {
          "output_type": "display_data",
          "data": {
            "image/png": "[encoded data removed]",
            "text/plain": [
              "<Figure size 432x288 with 1 Axes>"
            ]
          },
          "metadata": {
            "tags": [],
            "needs_background": "light"
          }
        }
      ]
    },
    {
      "cell_type": "code",
      "metadata": {
        "colab": {
          "base_uri": "https://localhost:8080/"
        },
        "id": "WDKjqWzmAEzd",
        "outputId": "37b2e75f-0bba-4746-f71b-4ac0f75e3a5b"
      },
      "source": [
        "# Relation between X and Y\n",
        "Y == X + 10"
      ],
      "execution_count": 3,
      "outputs": [
        {
          "output_type": "execute_result",
          "data": {
            "text/plain": [
              "array([ True,  True,  True,  True,  True,  True,  True,  True])"
            ]
          },
          "metadata": {
            "tags": []
          },
          "execution_count": 3
        }
      ]
    },
    {
      "cell_type": "markdown",
      "metadata": {
        "id": "cVXtexEuAcH_"
      },
      "source": [
        "### Input and Output Shapes"
      ]
    },
    {
      "cell_type": "code",
      "metadata": {
        "colab": {
          "base_uri": "https://localhost:8080/"
        },
        "id": "Oc_57I2pAsDl",
        "outputId": "d2309a8f-4a45-4909-ef10-66a9d22038b6"
      },
      "source": [
        "# create a dummy data for housing price prediction\n",
        "house_info = tf.constant([\"beedroom\", \"bathroom\", \"garage\"])\n",
        "house_price = tf.constant([934500]) \n",
        "house_info, house_price"
      ],
      "execution_count": 4,
      "outputs": [
        {
          "output_type": "execute_result",
          "data": {
            "text/plain": [
              "(<tf.Tensor: shape=(3,), dtype=string, numpy=array([b'beedroom', b'bathroom', b'garage'], dtype=object)>,\n",
              " <tf.Tensor: shape=(1,), dtype=int32, numpy=array([934500], dtype=int32)>)"
            ]
          },
          "metadata": {
            "tags": []
          },
          "execution_count": 4
        }
      ]
    },
    {
      "cell_type": "code",
      "metadata": {
        "colab": {
          "base_uri": "https://localhost:8080/"
        },
        "id": "FtjPxB8WBNbi",
        "outputId": "b4e10020-587f-41a2-e823-028de87de49c"
      },
      "source": [
        "# Turn Numpy array into tensors\n",
        "X = tf.constant(X)\n",
        "Y = tf.constant(Y)\n",
        "X,Y\n",
        "tf.cast(X,dtype=tf.float32)\n",
        "tf.cast(Y,dtype=tf.float32)"
      ],
      "execution_count": 5,
      "outputs": [
        {
          "output_type": "execute_result",
          "data": {
            "text/plain": [
              "<tf.Tensor: shape=(8,), dtype=float32, numpy=array([ 3.,  6.,  9., 12., 15., 18., 21., 24.], dtype=float32)>"
            ]
          },
          "metadata": {
            "tags": []
          },
          "execution_count": 5
        }
      ]
    },
    {
      "cell_type": "code",
      "metadata": {
        "colab": {
          "base_uri": "https://localhost:8080/"
        },
        "id": "Yr50vgzfCf3V",
        "outputId": "39125d6e-8174-4b9d-f536-c5d38928efe3"
      },
      "source": [
        "#Here we have input as scaler and output as Scaler\n",
        "input_shape = X[0].shape\n",
        "output_shape = Y[0].shape \n",
        "input_shape, output_shape"
      ],
      "execution_count": 6,
      "outputs": [
        {
          "output_type": "execute_result",
          "data": {
            "text/plain": [
              "(TensorShape([]), TensorShape([]))"
            ]
          },
          "metadata": {
            "tags": []
          },
          "execution_count": 6
        }
      ]
    },
    {
      "cell_type": "markdown",
      "metadata": {
        "id": "ZGu2qf6rCvSr"
      },
      "source": [
        "## Steps in Modeling with Tensorflow\n",
        "1. Creating a model - define the input and output layers, as well as the hidden layers of a deep learning model.\n",
        "\n",
        "2. Compiling a model - \n",
        "  - define loss function (in other words, the function which tells our model how wrong it is)\n",
        "  - The optimzer (tells our model how to improve the patterns its learning)\n",
        "  - evaluation matrix (what we can use to interpret the performance of our model)\n",
        "3. Fitting a model- letting the model to fins pattern between X and Y(features and labels)\n",
        "  - epochs - How many time our mpdel will go through all the training example.\n",
        "\n",
        "**mae :**- mean absolute error"
      ]
    },
    {
      "cell_type": "code",
      "metadata": {
        "id": "Ur4-jWzwHEJo",
        "colab": {
          "base_uri": "https://localhost:8080/"
        },
        "outputId": "c4551e17-6325-460c-f32c-9982c902fcc4"
      },
      "source": [
        "# Set random seed\n",
        "tf.random.set_seed(42)\n",
        "\n",
        "# 1. Create a model using sequential API\n",
        "model = tf.keras.Sequential([\n",
        "  tf.keras.layers.Dense(1)\n",
        "])\n",
        "\n",
        "#2. compile the model\n",
        "model.compile(loss= tf.keras.losses.mae, # mae - mean absolute error\n",
        "              optimizer = tf.keras.optimizers.SGD(), # sgd - stochasitc gradient descent\n",
        "              metrics = [\"mae\"]             \n",
        ")\n",
        "\n",
        "# fit the model\n",
        "model.fit(X,Y,epochs = 5)"
      ],
      "execution_count": 7,
      "outputs": [
        {
          "output_type": "stream",
          "text": [
            "Epoch 1/5\n",
            "1/1 [==============================] - 1s 619ms/step - loss: 11.5048 - mae: 11.5048\n",
            "Epoch 2/5\n",
            "1/1 [==============================] - 0s 7ms/step - loss: 11.3723 - mae: 11.3723\n",
            "Epoch 3/5\n",
            "1/1 [==============================] - 0s 7ms/step - loss: 11.2398 - mae: 11.2398\n",
            "Epoch 4/5\n",
            "1/1 [==============================] - 0s 7ms/step - loss: 11.1073 - mae: 11.1073\n",
            "Epoch 5/5\n",
            "1/1 [==============================] - 0s 4ms/step - loss: 10.9748 - mae: 10.9748\n"
          ],
          "name": "stdout"
        },
        {
          "output_type": "execute_result",
          "data": {
            "text/plain": [
              "<tensorflow.python.keras.callbacks.History at 0x7ff13360d710>"
            ]
          },
          "metadata": {
            "tags": []
          },
          "execution_count": 7
        }
      ]
    },
    {
      "cell_type": "code",
      "metadata": {
        "colab": {
          "base_uri": "https://localhost:8080/"
        },
        "id": "GyBxsB5nQvXU",
        "outputId": "d1ffe918-46c4-47a2-8e62-3faea5d437e3"
      },
      "source": [
        "# Check X and Y\n",
        "X,Y"
      ],
      "execution_count": 8,
      "outputs": [
        {
          "output_type": "execute_result",
          "data": {
            "text/plain": [
              "(<tf.Tensor: shape=(8,), dtype=float64, numpy=array([-7., -4., -1.,  2.,  5.,  8., 11., 14.])>,\n",
              " <tf.Tensor: shape=(8,), dtype=float64, numpy=array([ 3.,  6.,  9., 12., 15., 18., 21., 24.])>)"
            ]
          },
          "metadata": {
            "tags": []
          },
          "execution_count": 8
        }
      ]
    },
    {
      "cell_type": "code",
      "metadata": {
        "colab": {
          "base_uri": "https://localhost:8080/"
        },
        "id": "iFHJB-M0Rc9u",
        "outputId": "56103d20-be11-40d9-c04a-cb419c7f2890"
      },
      "source": [
        "# Try to make prediction using model\n",
        "model.predict([17.0])"
      ],
      "execution_count": 9,
      "outputs": [
        {
          "output_type": "execute_result",
          "data": {
            "text/plain": [
              "array([[12.716021]], dtype=float32)"
            ]
          },
          "metadata": {
            "tags": []
          },
          "execution_count": 9
        }
      ]
    },
    {
      "cell_type": "markdown",
      "metadata": {
        "id": "FlNg3YYiRl7i"
      },
      "source": [
        "## Improving Model\n",
        "We can improve our model, by altering the steps we took to create a model.\n",
        "1. **Creating a model** - here we might add more layers, increase the number of hidden units (all called neurons) within each of the hidden layers, change the activation function of each layer.\n",
        "\n",
        "2. **Compiling a model** - Here we might the optimization  function or learning rate of the optimization function.\n",
        "\n",
        "3. **Fitting a model** - Here we might fit a model for more epochs(leave it training for long) or add more data to learn from."
      ]
    },
    {
      "cell_type": "code",
      "metadata": {
        "colab": {
          "base_uri": "https://localhost:8080/"
        },
        "id": "qEwO30hVUokd",
        "outputId": "d7595241-9c82-4eff-b843-e05993fa0c14"
      },
      "source": [
        "# Let's rebuild our model\n",
        "#1. Create the model\n",
        "model = tf.keras.Sequential([\n",
        "                             tf.keras.layers.Dense(1)\n",
        "])\n",
        "\n",
        "# 2. compile the model\n",
        "model.compile(optimizer=tf.keras.optimizers.SGD(),\n",
        "              loss = \"mae\",\n",
        "              metrics =[ \"mae\"])\n",
        "\n",
        "# fit the model\n",
        "model.fit(X,Y,epochs = 200,verbose=0)"
      ],
      "execution_count": 10,
      "outputs": [
        {
          "output_type": "execute_result",
          "data": {
            "text/plain": [
              "<tensorflow.python.keras.callbacks.History at 0x7ff132de7d10>"
            ]
          },
          "metadata": {
            "tags": []
          },
          "execution_count": 10
        }
      ]
    },
    {
      "cell_type": "code",
      "metadata": {
        "colab": {
          "base_uri": "https://localhost:8080/"
        },
        "id": "ywSrg1_JVgFA",
        "outputId": "20147222-4e04-47dc-87f7-ba165e12b3ac"
      },
      "source": [
        "# Our Data\n",
        "X,Y"
      ],
      "execution_count": 11,
      "outputs": [
        {
          "output_type": "execute_result",
          "data": {
            "text/plain": [
              "(<tf.Tensor: shape=(8,), dtype=float64, numpy=array([-7., -4., -1.,  2.,  5.,  8., 11., 14.])>,\n",
              " <tf.Tensor: shape=(8,), dtype=float64, numpy=array([ 3.,  6.,  9., 12., 15., 18., 21., 24.])>)"
            ]
          },
          "metadata": {
            "tags": []
          },
          "execution_count": 11
        }
      ]
    },
    {
      "cell_type": "code",
      "metadata": {
        "colab": {
          "base_uri": "https://localhost:8080/"
        },
        "id": "PJ5yIClxWQ_O",
        "outputId": "b417eaed-3a33-4a59-8aca-3930a85f0efc"
      },
      "source": [
        "# lets predict with improved model\n",
        "model.predict([17.0])"
      ],
      "execution_count": 12,
      "outputs": [
        {
          "output_type": "execute_result",
          "data": {
            "text/plain": [
              "array([[30.489859]], dtype=float32)"
            ]
          },
          "metadata": {
            "tags": []
          },
          "execution_count": 12
        }
      ]
    },
    {
      "cell_type": "code",
      "metadata": {
        "colab": {
          "base_uri": "https://localhost:8080/"
        },
        "id": "nlnHhkfyWbaj",
        "outputId": "06767b26-c0db-4c1d-ab2a-2135c181493e"
      },
      "source": [
        "# let's add  more layer to our model to improve it\n",
        "model = tf.keras.Sequential([\n",
        "                             tf.keras.layers.Dense(100,activation=\"relu\"),\n",
        "                             tf.keras.layers.Dense(100, activation=\"relu\"),\n",
        "                             tf.keras.layers.Dense(1)\n",
        "])\n",
        "\n",
        "model.compile(optimizer= tf.keras.optimizers.SGD(),\n",
        "              loss = \"mae\",\n",
        "              metrics = [\"mae\"])\n",
        "\n",
        "model.fit(X,Y,epochs = 100,verbose=0)"
      ],
      "execution_count": 13,
      "outputs": [
        {
          "output_type": "execute_result",
          "data": {
            "text/plain": [
              "<tensorflow.python.keras.callbacks.History at 0x7ff130b4d850>"
            ]
          },
          "metadata": {
            "tags": []
          },
          "execution_count": 13
        }
      ]
    },
    {
      "cell_type": "code",
      "metadata": {
        "colab": {
          "base_uri": "https://localhost:8080/"
        },
        "id": "IjeTmPADXn5o",
        "outputId": "6d012711-3c70-4e03-8f25-31772ed96209"
      },
      "source": [
        " # lets predict\n",
        " model.predict([17.0])"
      ],
      "execution_count": 14,
      "outputs": [
        {
          "output_type": "execute_result",
          "data": {
            "text/plain": [
              "array([[32.258904]], dtype=float32)"
            ]
          },
          "metadata": {
            "tags": []
          },
          "execution_count": 14
        }
      ]
    },
    {
      "cell_type": "code",
      "metadata": {
        "colab": {
          "base_uri": "https://localhost:8080/"
        },
        "id": "IJzAVfT1ZQB9",
        "outputId": "a0ef19ee-049a-4ee5-fb86-7a1e489e0096"
      },
      "source": [
        "# Change the optimizer to improve our model\n",
        "model = tf.keras.Sequential([\n",
        "                             tf.keras.layers.Dense(100,activation=\"relu\"),\n",
        "                             tf.keras.layers.Dense(100, activation = \"relu\"),\n",
        "                             tf.keras.layers.Dense(1)\n",
        "])\n",
        "\n",
        "model.compile(\n",
        "    optimizer = tf.keras.optimizers.Adam(learning_rate=0.01),\n",
        "    loss = \"mae\",\n",
        "    metrics = [\"mae\"]\n",
        ")\n",
        "\n",
        "model.fit(X,Y,epochs =100,verbose=0)"
      ],
      "execution_count": 15,
      "outputs": [
        {
          "output_type": "execute_result",
          "data": {
            "text/plain": [
              "<tensorflow.python.keras.callbacks.History at 0x7ff12ece5b90>"
            ]
          },
          "metadata": {
            "tags": []
          },
          "execution_count": 15
        }
      ]
    },
    {
      "cell_type": "code",
      "metadata": {
        "colab": {
          "base_uri": "https://localhost:8080/"
        },
        "id": "EHK_YdK2ebzZ",
        "outputId": "894aff28-45f9-492c-900d-d2ce034b075e"
      },
      "source": [
        "# predict again\n",
        "model.predict([17.0])"
      ],
      "execution_count": 16,
      "outputs": [
        {
          "output_type": "execute_result",
          "data": {
            "text/plain": [
              "array([[27.83362]], dtype=float32)"
            ]
          },
          "metadata": {
            "tags": []
          },
          "execution_count": 16
        }
      ]
    },
    {
      "cell_type": "markdown",
      "metadata": {
        "id": "2zFvgWLleje6"
      },
      "source": [
        "### Evaluate the model\n",
        "When it comes to evaluation ... there are three words to say:\n",
        "> \"Visualize , visualize, visualize \"\n",
        "\n",
        "It's good idea to visualize:\n",
        "- The data - what data are we working with ? what does it look like ?\n",
        "- The model itself - what does our model look like ?\n",
        "- The training of a model - how does a model performs while it learns ?\n",
        "- The prediction of the model - how do the prediction of model lineup agains thew ground truth ?\n",
        " "
      ]
    },
    {
      "cell_type": "code",
      "metadata": {
        "colab": {
          "base_uri": "https://localhost:8080/"
        },
        "id": "La64Y0UYh7Qx",
        "outputId": "301420b5-8af3-4060-89a8-7f3d722fc742"
      },
      "source": [
        "# make a bigger dataset\n",
        "X = tf.range(-100,100,4)\n",
        "X"
      ],
      "execution_count": 34,
      "outputs": [
        {
          "output_type": "execute_result",
          "data": {
            "text/plain": [
              "<tf.Tensor: shape=(50,), dtype=int32, numpy=\n",
              "array([-100,  -96,  -92,  -88,  -84,  -80,  -76,  -72,  -68,  -64,  -60,\n",
              "        -56,  -52,  -48,  -44,  -40,  -36,  -32,  -28,  -24,  -20,  -16,\n",
              "        -12,   -8,   -4,    0,    4,    8,   12,   16,   20,   24,   28,\n",
              "         32,   36,   40,   44,   48,   52,   56,   60,   64,   68,   72,\n",
              "         76,   80,   84,   88,   92,   96], dtype=int32)>"
            ]
          },
          "metadata": {
            "tags": []
          },
          "execution_count": 34
        }
      ]
    },
    {
      "cell_type": "code",
      "metadata": {
        "colab": {
          "base_uri": "https://localhost:8080/"
        },
        "id": "G6CDMN07jGx1",
        "outputId": "cf08ad2a-7d0e-4969-c9a5-52a413e1c8f5"
      },
      "source": [
        "# Make labels for the dataset\n",
        "Y = X + 10\n",
        "Y"
      ],
      "execution_count": 35,
      "outputs": [
        {
          "output_type": "execute_result",
          "data": {
            "text/plain": [
              "<tf.Tensor: shape=(50,), dtype=int32, numpy=\n",
              "array([-90, -86, -82, -78, -74, -70, -66, -62, -58, -54, -50, -46, -42,\n",
              "       -38, -34, -30, -26, -22, -18, -14, -10,  -6,  -2,   2,   6,  10,\n",
              "        14,  18,  22,  26,  30,  34,  38,  42,  46,  50,  54,  58,  62,\n",
              "        66,  70,  74,  78,  82,  86,  90,  94,  98, 102, 106], dtype=int32)>"
            ]
          },
          "metadata": {
            "tags": []
          },
          "execution_count": 35
        }
      ]
    },
    {
      "cell_type": "code",
      "metadata": {
        "colab": {
          "base_uri": "https://localhost:8080/",
          "height": 283
        },
        "id": "37Md94vujPt9",
        "outputId": "622b2293-cc7e-42f1-e453-61c61942f2dc"
      },
      "source": [
        "# visualize the data\n",
        "plt.plot(X,Y)"
      ],
      "execution_count": 36,
      "outputs": [
        {
          "output_type": "execute_result",
          "data": {
            "text/plain": [
              "[<matplotlib.lines.Line2D at 0x7ff130b1ced0>]"
            ]
          },
          "metadata": {
            "tags": []
          },
          "execution_count": 36
        },
        {
          "output_type": "display_data",
          "data": {
            "image/png": "[encoded data removed]",
            "text/plain": [
              "<Figure size 432x288 with 1 Axes>"
            ]
          },
          "metadata": {
            "tags": [],
            "needs_background": "light"
          }
        }
      ]
    },
    {
      "cell_type": "code",
      "metadata": {
        "colab": {
          "base_uri": "https://localhost:8080/",
          "height": 283
        },
        "id": "3KfQs4uIjg2F",
        "outputId": "0756c040-cc1a-4f92-9ab3-a2de07d5b78d"
      },
      "source": [
        "# scatter plot\n",
        "plt.scatter(X,Y)"
      ],
      "execution_count": 37,
      "outputs": [
        {
          "output_type": "execute_result",
          "data": {
            "text/plain": [
              "<matplotlib.collections.PathCollection at 0x7ff12bfa2c10>"
            ]
          },
          "metadata": {
            "tags": []
          },
          "execution_count": 37
        },
        {
          "output_type": "display_data",
          "data": {
            "image/png": "[encoded data removed]",
            "text/plain": [
              "<Figure size 432x288 with 1 Axes>"
            ]
          },
          "metadata": {
            "tags": [],
            "needs_background": "light"
          }
        }
      ]
    },
    {
      "cell_type": "markdown",
      "metadata": {
        "id": "8QFYnSH7jpHW"
      },
      "source": [
        "### The 3 sets . . \n",
        "- Training Sets - the models learn from this data (70-80 %)\n",
        "- Validation set - The model gets tuned on this data, which is 10 to 15 %\n",
        "- Test Set - The model gets evaluated on this data to test what it has learned 10 to 15 %"
      ]
    },
    {
      "cell_type": "code",
      "metadata": {
        "colab": {
          "base_uri": "https://localhost:8080/"
        },
        "id": "JgG-EXgqkfSU",
        "outputId": "4c02f9c4-d075-42de-c068-969dc8214089"
      },
      "source": [
        "# check the length of sample\n",
        "len(X)"
      ],
      "execution_count": 38,
      "outputs": [
        {
          "output_type": "execute_result",
          "data": {
            "text/plain": [
              "50"
            ]
          },
          "metadata": {
            "tags": []
          },
          "execution_count": 38
        }
      ]
    },
    {
      "cell_type": "code",
      "metadata": {
        "colab": {
          "base_uri": "https://localhost:8080/"
        },
        "id": "CnFaOAbwkzVx",
        "outputId": "27ea1dbf-0ec7-4e6b-9398-993a612f8f42"
      },
      "source": [
        "# Split data into training and testing dataset\n",
        "X_train = X[:40]\n",
        "X_test = X[40:]\n",
        "\n",
        "Y_train = Y[:40]\n",
        "Y_test = Y[40:]\n",
        "\n",
        "len(X_train) , len(X_test)"
      ],
      "execution_count": 39,
      "outputs": [
        {
          "output_type": "execute_result",
          "data": {
            "text/plain": [
              "(40, 10)"
            ]
          },
          "metadata": {
            "tags": []
          },
          "execution_count": 39
        }
      ]
    },
    {
      "cell_type": "markdown",
      "metadata": {
        "id": "U857Q2lglpFg"
      },
      "source": [
        "# Visualizing the data\n",
        "Now we've got our data in training and test sets... let's visualize it"
      ]
    },
    {
      "cell_type": "code",
      "metadata": {
        "colab": {
          "base_uri": "https://localhost:8080/",
          "height": 428
        },
        "id": "Upk3Vg7nmKB2",
        "outputId": "b0105bd2-d134-452b-f854-c770e202146b"
      },
      "source": [
        "plt.figure(figsize=(10,7))\n",
        "\n",
        "# plot training data in blue\n",
        "plt.scatter(X_train, Y_train, c=\"b\", label = \"Training data\")\n",
        "\n",
        "# plot test data in green\n",
        "plt.scatter(X_test,Y_test,c=\"r\",label =\"Testing data\" )\n",
        "\n",
        "# show a legend\n",
        "plt.legend();"
      ],
      "execution_count": 40,
      "outputs": [
        {
          "output_type": "display_data",
          "data": {
            "image/png": "[encoded data removed]",
            "text/plain": [
              "<Figure size 720x504 with 1 Axes>"
            ]
          },
          "metadata": {
            "tags": [],
            "needs_background": "light"
          }
        }
      ]
    },
    {
      "cell_type": "code",
      "metadata": {
        "colab": {
          "base_uri": "https://localhost:8080/"
        },
        "id": "tCjcVJjvmx2U",
        "outputId": "f59da65c-e328-49fe-90c2-fc668e76265d"
      },
      "source": [
        "# let's build a neural network for our data\n",
        "\n",
        "# 1. Create a model with one layer of neurons\n",
        "model = tf.keras.Sequential([\n",
        "    tf.keras.layers.Dense(1)\n",
        "])\n",
        "\n",
        "# 2. Compile the model with SGD Optimizer first\n",
        "model.compile(\n",
        "               optimizer = tf.keras.optimizers.SGD(),\n",
        "               loss = \"mae\",\n",
        "               metrics = [\"mae\"]\n",
        ")\n",
        "\n",
        "# 3. fit the data into model\n",
        "model.fit(X_train,Y_train,epochs=100,verbose=0)"
      ],
      "execution_count": 41,
      "outputs": [
        {
          "output_type": "execute_result",
          "data": {
            "text/plain": [
              "<tensorflow.python.keras.callbacks.History at 0x7ff12ac54290>"
            ]
          },
          "metadata": {
            "tags": []
          },
          "execution_count": 41
        }
      ]
    },
    {
      "cell_type": "code",
      "metadata": {
        "colab": {
          "base_uri": "https://localhost:8080/"
        },
        "id": "haxLBHNboZj4",
        "outputId": "13ef5d16-603a-452b-e2ba-226c60b8a513"
      },
      "source": [
        "# Improve our model by adding some layer with relu activation function\n",
        "# 1. Create model -  add more layer to our model\n",
        "model = tf.keras.Sequential([\n",
        "                             tf.keras.layers.Dense(100, activation=\"relu\"),\n",
        "                             tf.keras.layers.Dense(100, activation=\"relu\"),\n",
        "                             tf.keras.layers.Dense(1)\n",
        "])\n",
        "\n",
        "# 2. compile the model\n",
        "model.compile(\n",
        "    loss = \"mae\",\n",
        "    optimizer = tf.keras.optimizers.SGD(),\n",
        "    metrics =[\"mae\"]\n",
        ")\n",
        "\n",
        "# 3. Fit the model\n",
        "model.fit(X_train, Y_train, epochs= 100,verbose=0)"
      ],
      "execution_count": 42,
      "outputs": [
        {
          "output_type": "execute_result",
          "data": {
            "text/plain": [
              "<tensorflow.python.keras.callbacks.History at 0x7ff12ab15ad0>"
            ]
          },
          "metadata": {
            "tags": []
          },
          "execution_count": 42
        }
      ]
    },
    {
      "cell_type": "code",
      "metadata": {
        "colab": {
          "base_uri": "https://localhost:8080/"
        },
        "id": "cbjdwpxkqEjt",
        "outputId": "a5de8683-8b9d-4ba3-a639-189bf18c92cd"
      },
      "source": [
        "# Improve our model by changing opimizer from SGD to Adam\n",
        "\n",
        "# 1. Create a model\n",
        "model = tf.keras.Sequential([\n",
        "                             tf.keras.layers.Dense(100, activation = \"relu\", name = \"Input_layer\"),\n",
        "                              tf.keras.layers.Dense(100, activation = \"relu\", name = \"Hidden_layer\"),\n",
        "                             tf.keras.layers.Dense(1, name=\"Output_layer\")\n",
        "])\n",
        "\n",
        "# 2. Compling a model\n",
        "model.compile(\n",
        "    optimizer = tf.keras.optimizers.Adam(learning_rate=.1),\n",
        "    loss = \"mae\",\n",
        "    \n",
        "    metrics = [\"mae\"]\n",
        ")\n",
        "\n",
        "# 3. fit the model\n",
        "model.fit(X_train, Y_train, epochs = 100, verbose = 0)"
      ],
      "execution_count": 82,
      "outputs": [
        {
          "output_type": "execute_result",
          "data": {
            "text/plain": [
              "<tensorflow.python.keras.callbacks.History at 0x7ff1204be850>"
            ]
          },
          "metadata": {
            "tags": []
          },
          "execution_count": 82
        }
      ]
    },
    {
      "cell_type": "code",
      "metadata": {
        "colab": {
          "base_uri": "https://localhost:8080/"
        },
        "id": "Mv_wxkyBrzjN",
        "outputId": "56fbf96e-d054-4de1-b437-07b762345888"
      },
      "source": [
        "# Now we can see we have a good accuracy lets predict the value\n",
        "model.predict(X_test), Y_test"
      ],
      "execution_count": 84,
      "outputs": [
        {
          "output_type": "execute_result",
          "data": {
            "text/plain": [
              "(array([[ 70.1254  ],\n",
              "        [ 74.13758 ],\n",
              "        [ 78.15126 ],\n",
              "        [ 82.166595],\n",
              "        [ 86.16821 ],\n",
              "        [ 90.15713 ],\n",
              "        [ 94.14589 ],\n",
              "        [ 98.13462 ],\n",
              "        [102.1237  ],\n",
              "        [106.11747 ]], dtype=float32),\n",
              " <tf.Tensor: shape=(10,), dtype=int32, numpy=array([ 70,  74,  78,  82,  86,  90,  94,  98, 102, 106], dtype=int32)>)"
            ]
          },
          "metadata": {
            "tags": []
          },
          "execution_count": 84
        }
      ]
    },
    {
      "cell_type": "code",
      "metadata": {
        "id": "MeiV10xnsKsT",
        "colab": {
          "base_uri": "https://localhost:8080/"
        },
        "outputId": "d877a275-28ae-437c-8194-64533886312f"
      },
      "source": [
        "model.summary()"
      ],
      "execution_count": 85,
      "outputs": [
        {
          "output_type": "stream",
          "text": [
            "Model: \"sequential_18\"\n",
            "_________________________________________________________________\n",
            "Layer (type)                 Output Shape              Param #   \n",
            "=================================================================\n",
            "Input_layer (Dense)          (None, 100)               200       \n",
            "_________________________________________________________________\n",
            "Hidden_layer (Dense)         (None, 100)               10100     \n",
            "_________________________________________________________________\n",
            "Output_layer (Dense)         (None, 1)                 101       \n",
            "=================================================================\n",
            "Total params: 10,401\n",
            "Trainable params: 10,401\n",
            "Non-trainable params: 0\n",
            "_________________________________________________________________\n"
          ],
          "name": "stdout"
        }
      ]
    },
    {
      "cell_type": "markdown",
      "metadata": {
        "id": "Z0iRJ2fGDg90"
      },
      "source": [
        "- **Total Params** is the number of parameters in the model.\n",
        "- **Trainable Params** are the prameters (pattern) the model can update as it trains.\n",
        "- **Non-tainable Params** are not updated during training (thi id typical when you bring in already learn pattern or prameters from other models during transfer learning). "
      ]
    },
    {
      "cell_type": "code",
      "metadata": {
        "colab": {
          "base_uri": "https://localhost:8080/",
          "height": 422
        },
        "id": "W38uXW6hFRBY",
        "outputId": "ff7d583e-4402-4675-a0ad-234626f9115a"
      },
      "source": [
        "# Visualize the model\n",
        "from tensorflow.keras.utils import  plot_model\n",
        "\n",
        "plot_model(model = model, show_shapes=True)"
      ],
      "execution_count": 86,
      "outputs": [
        {
          "output_type": "execute_result",
          "data": {
            "image/png": "[encoded data removed]",
            "text/plain": [
              "<IPython.core.display.Image object>"
            ]
          },
          "metadata": {
            "tags": []
          },
          "execution_count": 86
        }
      ]
    },
    {
      "cell_type": "markdown",
      "metadata": {
        "id": "v09rM3RWHSIN"
      },
      "source": [
        "### Visualizing our model's prediction\n",
        "- TO visualize prediction , it's a good idea to plot them against the ground truth labels."
      ]
    },
    {
      "cell_type": "code",
      "metadata": {
        "colab": {
          "base_uri": "https://localhost:8080/"
        },
        "id": "xDXbMKQRAKb1",
        "outputId": "f225eb3f-c495-4367-e955-40444d76eac0"
      },
      "source": [
        "Y_test"
      ],
      "execution_count": 87,
      "outputs": [
        {
          "output_type": "execute_result",
          "data": {
            "text/plain": [
              "<tf.Tensor: shape=(10,), dtype=int32, numpy=array([ 70,  74,  78,  82,  86,  90,  94,  98, 102, 106], dtype=int32)>"
            ]
          },
          "metadata": {
            "tags": []
          },
          "execution_count": 87
        }
      ]
    },
    {
      "cell_type": "code",
      "metadata": {
        "colab": {
          "base_uri": "https://localhost:8080/"
        },
        "id": "WiOnfFYk_yGE",
        "outputId": "f6f8a4f4-32b3-4dd1-d930-9aeff97b9e7a"
      },
      "source": [
        "Y_pred = model.predict(X_test)\n",
        "Y_pred"
      ],
      "execution_count": 88,
      "outputs": [
        {
          "output_type": "execute_result",
          "data": {
            "text/plain": [
              "array([[ 70.1254  ],\n",
              "       [ 74.13758 ],\n",
              "       [ 78.15126 ],\n",
              "       [ 82.166595],\n",
              "       [ 86.16821 ],\n",
              "       [ 90.15713 ],\n",
              "       [ 94.14589 ],\n",
              "       [ 98.13462 ],\n",
              "       [102.1237  ],\n",
              "       [106.11747 ]], dtype=float32)"
            ]
          },
          "metadata": {
            "tags": []
          },
          "execution_count": 88
        }
      ]
    },
    {
      "cell_type": "code",
      "metadata": {
        "id": "Ydz41HCx__Hs"
      },
      "source": [
        "# let's create a ploting function\n",
        "def plot_predictions(train_data = X_train,\n",
        "                     train_labels = Y_train,\n",
        "                     test_data = X_test,\n",
        "                     test_labels = Y_test,\n",
        "                     predictions = Y_pred):\n",
        "  \"\"\"\n",
        "  Plots training data and test data and compare prediction to ground truth labels.\n",
        "  \"\"\"\n",
        "  plt.figure(figsize=(10,7))\n",
        "\n",
        "  #plot training data in blue\n",
        "  plt.scatter(train_data, train_labels, c=\"b\", label = \"Training Data\")\n",
        "\n",
        "  # plot testing data in green \n",
        "  plt.scatter(test_data,test_labels, c= \"g\", label = \"Testing data\")\n",
        "\n",
        "  # plot prediction data bases on testing data\n",
        "  plt.scatter(test_data, predictions, c=\"r\", label=\"prediction\")\n",
        "\n",
        "  # Show the legends\n",
        "  plt.legend()"
      ],
      "execution_count": 89,
      "outputs": []
    },
    {
      "cell_type": "code",
      "metadata": {
        "colab": {
          "base_uri": "https://localhost:8080/",
          "height": 428
        },
        "id": "sCm9MCBUCsaR",
        "outputId": "6adca8b0-6faa-441b-b278-42eb3957a76b"
      },
      "source": [
        "plot_predictions()"
      ],
      "execution_count": 90,
      "outputs": [
        {
          "output_type": "display_data",
          "data": {
            "image/png": "[encoded data removed]",
            "text/plain": [
              "<Figure size 720x504 with 1 Axes>"
            ]
          },
          "metadata": {
            "tags": [],
            "needs_background": "light"
          }
        }
      ]
    },
    {
      "cell_type": "markdown",
      "metadata": {
        "id": "YpboIRZBC10P"
      },
      "source": [
        "### Evaluating model using Evaluation  matrics\n",
        "- Depending on which problem there may be different evaluation matrix to evaluate your model performance.\n",
        "\n",
        "Since we are working on aregression problem, two of the main matrics:\n",
        "- MAE - mean absolute error which tells on average , how wrong is each of my models prediction \n",
        "- MSE - Mean square error, \"square the average errors\"\n",
        "\n"
      ]
    },
    {
      "cell_type": "code",
      "metadata": {
        "colab": {
          "base_uri": "https://localhost:8080/"
        },
        "id": "qjpNu3-BGDym",
        "outputId": "ee4f14c4-0b26-48ee-e4d5-34aa57173263"
      },
      "source": [
        "# evaluating the model on test\n",
        "model.evaluate(X_test, Y_test)"
      ],
      "execution_count": 91,
      "outputs": [
        {
          "output_type": "stream",
          "text": [
            "1/1 [==============================] - 0s 138ms/step - loss: 0.1428 - mae: 0.1428\n"
          ],
          "name": "stdout"
        },
        {
          "output_type": "execute_result",
          "data": {
            "text/plain": [
              "[0.14278563857078552, 0.14278563857078552]"
            ]
          },
          "metadata": {
            "tags": []
          },
          "execution_count": 91
        }
      ]
    },
    {
      "cell_type": "code",
      "metadata": {
        "colab": {
          "base_uri": "https://localhost:8080/"
        },
        "id": "vJqQQNuNcF3t",
        "outputId": "73607744-0c67-414f-93cf-291e563de796"
      },
      "source": [
        "# calculate mean absolute error\n",
        "\n",
        "# 1. make all of them in same shape first\n",
        "print(\"shape of Y_test is \",tf.shape(Y_test))\n",
        "print(\"Shape of Y_pred is \",tf.shape(Y_pred))\n",
        "\n",
        "# change the shape of Y_pred as Shape of Y_test\n",
        "Y_pred = tf.squeeze(Y_pred)\n",
        "\n",
        "print(\"shape of Y_test is \",tf.shape(Y_test))\n",
        "print(\"Shape of Y_pred is \",tf.shape(Y_pred))\n"
      ],
      "execution_count": 107,
      "outputs": [
        {
          "output_type": "stream",
          "text": [
            "shape of Y_test is  tf.Tensor([10], shape=(1,), dtype=int32)\n",
            "Shape of Y_pred is  tf.Tensor([10], shape=(1,), dtype=int32)\n",
            "shape of Y_test is  tf.Tensor([10], shape=(1,), dtype=int32)\n",
            "Shape of Y_pred is  tf.Tensor([10], shape=(1,), dtype=int32)\n"
          ],
          "name": "stdout"
        }
      ]
    },
    {
      "cell_type": "code",
      "metadata": {
        "colab": {
          "base_uri": "https://localhost:8080/"
        },
        "id": "bs6NAvwwcjk-",
        "outputId": "dfbf49b0-7531-412e-e065-3e40e51184ed"
      },
      "source": [
        "# 2. Mean absolute error\n",
        "tf.metrics.mean_absolute_error(y_true=Y_test, y_pred= Y_pred)"
      ],
      "execution_count": 103,
      "outputs": [
        {
          "output_type": "execute_result",
          "data": {
            "text/plain": [
              "<tf.Tensor: shape=(), dtype=float32, numpy=0.14278564>"
            ]
          },
          "metadata": {
            "tags": []
          },
          "execution_count": 103
        }
      ]
    },
    {
      "cell_type": "code",
      "metadata": {
        "colab": {
          "base_uri": "https://localhost:8080/"
        },
        "id": "3q15LFi9kv8_",
        "outputId": "44cdf70c-ba53-4176-b41a-a50ff853a53b"
      },
      "source": [
        "# mean square error\n",
        "tf.metrics.mean_squared_error(y_true=Y_test, y_pred= Y_pred)"
      ],
      "execution_count": 108,
      "outputs": [
        {
          "output_type": "execute_result",
          "data": {
            "text/plain": [
              "<tf.Tensor: shape=(), dtype=float32, numpy=0.020677915>"
            ]
          },
          "metadata": {
            "tags": []
          },
          "execution_count": 108
        }
      ]
    },
    {
      "cell_type": "code",
      "metadata": {
        "id": "kD-o1a1slk4X"
      },
      "source": [
        "# function to reuse MAE and MSE\n",
        "\n",
        "def mae(y_true, y_pred):\n",
        "  return tf.metrics.mean_absolute_error(y_true = y_true, y_pred= tf.squeeze(y_prd))\n",
        "\n",
        "def mse(y_true, y_pred):\n",
        "  return tf.metrics.mean_squared_error(y_true = y_true, y_pred = tf.squeeze(y_pred))"
      ],
      "execution_count": 110,
      "outputs": []
    },
    {
      "cell_type": "code",
      "metadata": {
        "colab": {
          "base_uri": "https://localhost:8080/"
        },
        "id": "xrZTXKdMmmii",
        "outputId": "3dfb92d1-a5a5-46b7-cf80-49cb6ee927ee"
      },
      "source": [
        "### Lets create a new data\n",
        "data_X = tf.range(-100, 100, 2)\n",
        "data_X"
      ],
      "execution_count": 116,
      "outputs": [
        {
          "output_type": "execute_result",
          "data": {
            "text/plain": [
              "<tf.Tensor: shape=(100,), dtype=int32, numpy=\n",
              "array([-100,  -98,  -96,  -94,  -92,  -90,  -88,  -86,  -84,  -82,  -80,\n",
              "        -78,  -76,  -74,  -72,  -70,  -68,  -66,  -64,  -62,  -60,  -58,\n",
              "        -56,  -54,  -52,  -50,  -48,  -46,  -44,  -42,  -40,  -38,  -36,\n",
              "        -34,  -32,  -30,  -28,  -26,  -24,  -22,  -20,  -18,  -16,  -14,\n",
              "        -12,  -10,   -8,   -6,   -4,   -2,    0,    2,    4,    6,    8,\n",
              "         10,   12,   14,   16,   18,   20,   22,   24,   26,   28,   30,\n",
              "         32,   34,   36,   38,   40,   42,   44,   46,   48,   50,   52,\n",
              "         54,   56,   58,   60,   62,   64,   66,   68,   70,   72,   74,\n",
              "         76,   78,   80,   82,   84,   86,   88,   90,   92,   94,   96,\n",
              "         98], dtype=int32)>"
            ]
          },
          "metadata": {
            "tags": []
          },
          "execution_count": 116
        }
      ]
    },
    {
      "cell_type": "code",
      "metadata": {
        "colab": {
          "base_uri": "https://localhost:8080/"
        },
        "id": "Lh_PuXstqF7T",
        "outputId": "4e349be7-943a-4003-f822-2c9101c8cebb"
      },
      "source": [
        "data_Y = data_X**2 + 5\n",
        "data_Y"
      ],
      "execution_count": 118,
      "outputs": [
        {
          "output_type": "execute_result",
          "data": {
            "text/plain": [
              "<tf.Tensor: shape=(100,), dtype=int32, numpy=\n",
              "array([10005,  9609,  9221,  8841,  8469,  8105,  7749,  7401,  7061,\n",
              "        6729,  6405,  6089,  5781,  5481,  5189,  4905,  4629,  4361,\n",
              "        4101,  3849,  3605,  3369,  3141,  2921,  2709,  2505,  2309,\n",
              "        2121,  1941,  1769,  1605,  1449,  1301,  1161,  1029,   905,\n",
              "         789,   681,   581,   489,   405,   329,   261,   201,   149,\n",
              "         105,    69,    41,    21,     9,     5,     9,    21,    41,\n",
              "          69,   105,   149,   201,   261,   329,   405,   489,   581,\n",
              "         681,   789,   905,  1029,  1161,  1301,  1449,  1605,  1769,\n",
              "        1941,  2121,  2309,  2505,  2709,  2921,  3141,  3369,  3605,\n",
              "        3849,  4101,  4361,  4629,  4905,  5189,  5481,  5781,  6089,\n",
              "        6405,  6729,  7061,  7401,  7749,  8105,  8469,  8841,  9221,\n",
              "        9609], dtype=int32)>"
            ]
          },
          "metadata": {
            "tags": []
          },
          "execution_count": 118
        }
      ]
    },
    {
      "cell_type": "code",
      "metadata": {
        "colab": {
          "base_uri": "https://localhost:8080/",
          "height": 283
        },
        "id": "emFag54krVlO",
        "outputId": "1661c1db-d0d1-4b06-9dd8-8a2639d03d27"
      },
      "source": [
        "# visuallize the data\n",
        "plt.scatter(data_X, data_Y)"
      ],
      "execution_count": 121,
      "outputs": [
        {
          "output_type": "execute_result",
          "data": {
            "text/plain": [
              "<matplotlib.collections.PathCollection at 0x7ff129089a10>"
            ]
          },
          "metadata": {
            "tags": []
          },
          "execution_count": 121
        },
        {
          "output_type": "display_data",
          "data": {
            "image/png": "[encoded data removed]",
            "text/plain": [
              "<Figure size 432x288 with 1 Axes>"
            ]
          },
          "metadata": {
            "tags": [],
            "needs_background": "light"
          }
        }
      ]
    },
    {
      "cell_type": "code",
      "metadata": {
        "colab": {
          "base_uri": "https://localhost:8080/"
        },
        "id": "QSNU6I3qqXMs",
        "outputId": "54136679-9796-4533-dff8-63b6ddd742e2"
      },
      "source": [
        "# split data into trin and test sets\n",
        "\n",
        "X_train , X_test = data_X[:60],data_X[60:]\n",
        "X_train, X_test"
      ],
      "execution_count": 119,
      "outputs": [
        {
          "output_type": "execute_result",
          "data": {
            "text/plain": [
              "(<tf.Tensor: shape=(60,), dtype=int32, numpy=\n",
              " array([-100,  -98,  -96,  -94,  -92,  -90,  -88,  -86,  -84,  -82,  -80,\n",
              "         -78,  -76,  -74,  -72,  -70,  -68,  -66,  -64,  -62,  -60,  -58,\n",
              "         -56,  -54,  -52,  -50,  -48,  -46,  -44,  -42,  -40,  -38,  -36,\n",
              "         -34,  -32,  -30,  -28,  -26,  -24,  -22,  -20,  -18,  -16,  -14,\n",
              "         -12,  -10,   -8,   -6,   -4,   -2,    0,    2,    4,    6,    8,\n",
              "          10,   12,   14,   16,   18], dtype=int32)>,\n",
              " <tf.Tensor: shape=(40,), dtype=int32, numpy=\n",
              " array([20, 22, 24, 26, 28, 30, 32, 34, 36, 38, 40, 42, 44, 46, 48, 50, 52,\n",
              "        54, 56, 58, 60, 62, 64, 66, 68, 70, 72, 74, 76, 78, 80, 82, 84, 86,\n",
              "        88, 90, 92, 94, 96, 98], dtype=int32)>)"
            ]
          },
          "metadata": {
            "tags": []
          },
          "execution_count": 119
        }
      ]
    },
    {
      "cell_type": "code",
      "metadata": {
        "colab": {
          "base_uri": "https://localhost:8080/"
        },
        "id": "CDzAOQqdq39Y",
        "outputId": "09c27075-5be3-4c6f-f616-df5a35c43779"
      },
      "source": [
        "Y_train , Y_test = data_Y[:60],data_Y[60:]\n",
        "Y_train, Y_test"
      ],
      "execution_count": 120,
      "outputs": [
        {
          "output_type": "execute_result",
          "data": {
            "text/plain": [
              "(<tf.Tensor: shape=(60,), dtype=int32, numpy=\n",
              " array([10005,  9609,  9221,  8841,  8469,  8105,  7749,  7401,  7061,\n",
              "         6729,  6405,  6089,  5781,  5481,  5189,  4905,  4629,  4361,\n",
              "         4101,  3849,  3605,  3369,  3141,  2921,  2709,  2505,  2309,\n",
              "         2121,  1941,  1769,  1605,  1449,  1301,  1161,  1029,   905,\n",
              "          789,   681,   581,   489,   405,   329,   261,   201,   149,\n",
              "          105,    69,    41,    21,     9,     5,     9,    21,    41,\n",
              "           69,   105,   149,   201,   261,   329], dtype=int32)>,\n",
              " <tf.Tensor: shape=(40,), dtype=int32, numpy=\n",
              " array([ 405,  489,  581,  681,  789,  905, 1029, 1161, 1301, 1449, 1605,\n",
              "        1769, 1941, 2121, 2309, 2505, 2709, 2921, 3141, 3369, 3605, 3849,\n",
              "        4101, 4361, 4629, 4905, 5189, 5481, 5781, 6089, 6405, 6729, 7061,\n",
              "        7401, 7749, 8105, 8469, 8841, 9221, 9609], dtype=int32)>)"
            ]
          },
          "metadata": {
            "tags": []
          },
          "execution_count": 120
        }
      ]
    },
    {
      "cell_type": "code",
      "metadata": {
        "colab": {
          "base_uri": "https://localhost:8080/",
          "height": 446
        },
        "id": "mFFuGnPmrJt_",
        "outputId": "41af8916-2f37-43f3-84dc-41729810a522"
      },
      "source": [
        "# visualize the data\n",
        "\n",
        "# specify the size\n",
        "plt.figure(figsize=(10,7))\n",
        "\n",
        "# plot training data\n",
        "plt.scatter(X_train,Y_train,c=\"b\", label=\"trining data\")\n",
        "\n",
        "# plot test data\n",
        "plt.scatter(X_test,Y_test, c=\"g\" ,label = \"testing data\")\n",
        "\n",
        "# show legend\n",
        "plt.legend()"
      ],
      "execution_count": 124,
      "outputs": [
        {
          "output_type": "execute_result",
          "data": {
            "text/plain": [
              "<matplotlib.legend.Legend at 0x7ff11afcde90>"
            ]
          },
          "metadata": {
            "tags": []
          },
          "execution_count": 124
        },
        {
          "output_type": "display_data",
          "data": {
            "image/png": "[encoded data removed]",
            "text/plain": [
              "<Figure size 720x504 with 1 Axes>"
            ]
          },
          "metadata": {
            "tags": [],
            "needs_background": "light"
          }
        }
      ]
    },
    {
      "cell_type": "markdown",
      "metadata": {
        "id": "kwKdOhCArrxt"
      },
      "source": [
        "**Build the model**"
      ]
    },
    {
      "cell_type": "code",
      "metadata": {
        "colab": {
          "base_uri": "https://localhost:8080/"
        },
        "id": "QYYCpTAMs6bD",
        "outputId": "9bfc2f2a-b74d-4dda-9226-c02deab59b95"
      },
      "source": [
        "# 1. create a model with one layer\n",
        "model = tf.keras.Sequential([\n",
        "                             tf.keras.layers.Dense(1)\n",
        "])\n",
        "\n",
        "# 2. compile the model with SGD optimzer\n",
        "model.compile(\n",
        "    optimizer = tf.keras.optimizers.SGD(),\n",
        "    loss = \"mae\",\n",
        "    metrics = [\"mae\"]\n",
        "    )\n",
        "\n",
        "# 3. fit the model with 100 epochs\n",
        "model.fit(X_train, Y_train, epochs=100)"
      ],
      "execution_count": 127,
      "outputs": [
        {
          "output_type": "stream",
          "text": [
            "Epoch 1/100\n",
            "2/2 [==============================] - 0s 7ms/step - loss: 2888.5569 - mae: 2888.5569\n",
            "Epoch 2/100\n",
            "2/2 [==============================] - 0s 4ms/step - loss: 2854.9534 - mae: 2854.9534\n",
            "Epoch 3/100\n",
            "2/2 [==============================] - 0s 4ms/step - loss: 2821.0288 - mae: 2821.0288\n",
            "Epoch 4/100\n",
            "2/2 [==============================] - 0s 4ms/step - loss: 2788.0481 - mae: 2788.0481\n",
            "Epoch 5/100\n",
            "2/2 [==============================] - 0s 4ms/step - loss: 2754.2820 - mae: 2754.2820\n",
            "Epoch 6/100\n",
            "2/2 [==============================] - 0s 5ms/step - loss: 2720.6177 - mae: 2720.6177\n",
            "Epoch 7/100\n",
            "2/2 [==============================] - 0s 4ms/step - loss: 2686.9578 - mae: 2686.9578\n",
            "Epoch 8/100\n",
            "2/2 [==============================] - 0s 4ms/step - loss: 2653.4500 - mae: 2653.4500\n",
            "Epoch 9/100\n",
            "2/2 [==============================] - 0s 5ms/step - loss: 2620.1340 - mae: 2620.1340\n",
            "Epoch 10/100\n",
            "2/2 [==============================] - 0s 3ms/step - loss: 2587.0046 - mae: 2587.0046\n",
            "Epoch 11/100\n",
            "2/2 [==============================] - 0s 6ms/step - loss: 2554.6057 - mae: 2554.6060\n",
            "Epoch 12/100\n",
            "2/2 [==============================] - 0s 7ms/step - loss: 2521.7625 - mae: 2521.7625\n",
            "Epoch 13/100\n",
            "2/2 [==============================] - 0s 5ms/step - loss: 2488.6650 - mae: 2488.6650\n",
            "Epoch 14/100\n",
            "2/2 [==============================] - 0s 3ms/step - loss: 2455.9985 - mae: 2455.9985\n",
            "Epoch 15/100\n",
            "2/2 [==============================] - 0s 3ms/step - loss: 2423.8032 - mae: 2423.8032\n",
            "Epoch 16/100\n",
            "2/2 [==============================] - 0s 3ms/step - loss: 2391.8394 - mae: 2391.8394\n",
            "Epoch 17/100\n",
            "2/2 [==============================] - 0s 6ms/step - loss: 2360.2776 - mae: 2360.2776\n",
            "Epoch 18/100\n",
            "2/2 [==============================] - 0s 4ms/step - loss: 2328.9521 - mae: 2328.9521\n",
            "Epoch 19/100\n",
            "2/2 [==============================] - 0s 4ms/step - loss: 2297.7234 - mae: 2297.7234\n",
            "Epoch 20/100\n",
            "2/2 [==============================] - 0s 7ms/step - loss: 2267.0676 - mae: 2267.0676\n",
            "Epoch 21/100\n",
            "2/2 [==============================] - 0s 6ms/step - loss: 2236.4680 - mae: 2236.4680\n",
            "Epoch 22/100\n",
            "2/2 [==============================] - 0s 4ms/step - loss: 2205.9170 - mae: 2205.9170\n",
            "Epoch 23/100\n",
            "2/2 [==============================] - 0s 7ms/step - loss: 2175.8899 - mae: 2175.8899\n",
            "Epoch 24/100\n",
            "2/2 [==============================] - 0s 9ms/step - loss: 2145.9382 - mae: 2145.9382\n",
            "Epoch 25/100\n",
            "2/2 [==============================] - 0s 4ms/step - loss: 2116.5327 - mae: 2116.5327\n",
            "Epoch 26/100\n",
            "2/2 [==============================] - 0s 3ms/step - loss: 2087.5454 - mae: 2087.5454\n",
            "Epoch 27/100\n",
            "2/2 [==============================] - 0s 7ms/step - loss: 2059.1863 - mae: 2059.1863\n",
            "Epoch 28/100\n",
            "2/2 [==============================] - 0s 11ms/step - loss: 2030.8861 - mae: 2030.8860\n",
            "Epoch 29/100\n",
            "2/2 [==============================] - 0s 4ms/step - loss: 2003.1849 - mae: 2003.1849\n",
            "Epoch 30/100\n",
            "2/2 [==============================] - 0s 9ms/step - loss: 1975.9537 - mae: 1975.9537\n",
            "Epoch 31/100\n",
            "2/2 [==============================] - 0s 13ms/step - loss: 1949.4010 - mae: 1949.4010\n",
            "Epoch 32/100\n",
            "2/2 [==============================] - 0s 8ms/step - loss: 1922.9138 - mae: 1922.9138\n",
            "Epoch 33/100\n",
            "2/2 [==============================] - 0s 8ms/step - loss: 1897.4698 - mae: 1897.4698\n",
            "Epoch 34/100\n",
            "2/2 [==============================] - 0s 9ms/step - loss: 1871.8628 - mae: 1871.8628\n",
            "Epoch 35/100\n",
            "2/2 [==============================] - 0s 8ms/step - loss: 1847.6287 - mae: 1847.6287\n",
            "Epoch 36/100\n",
            "2/2 [==============================] - 0s 12ms/step - loss: 1822.8396 - mae: 1822.8396\n",
            "Epoch 37/100\n",
            "2/2 [==============================] - 0s 4ms/step - loss: 1798.2422 - mae: 1798.2422\n",
            "Epoch 38/100\n",
            "2/2 [==============================] - 0s 4ms/step - loss: 1774.3831 - mae: 1774.3831\n",
            "Epoch 39/100\n",
            "2/2 [==============================] - 0s 6ms/step - loss: 1751.6130 - mae: 1751.6130\n",
            "Epoch 40/100\n",
            "2/2 [==============================] - 0s 7ms/step - loss: 1728.6285 - mae: 1728.6285\n",
            "Epoch 41/100\n",
            "2/2 [==============================] - 0s 7ms/step - loss: 1706.2344 - mae: 1706.2344\n",
            "Epoch 42/100\n",
            "2/2 [==============================] - 0s 4ms/step - loss: 1684.4589 - mae: 1684.4589\n",
            "Epoch 43/100\n",
            "2/2 [==============================] - 0s 5ms/step - loss: 1662.7753 - mae: 1662.7753\n",
            "Epoch 44/100\n",
            "2/2 [==============================] - 0s 4ms/step - loss: 1642.4379 - mae: 1642.4379\n",
            "Epoch 45/100\n",
            "2/2 [==============================] - 0s 9ms/step - loss: 1622.0533 - mae: 1622.0533\n",
            "Epoch 46/100\n",
            "2/2 [==============================] - 0s 4ms/step - loss: 1601.5978 - mae: 1601.5978\n",
            "Epoch 47/100\n",
            "2/2 [==============================] - 0s 4ms/step - loss: 1581.8433 - mae: 1581.8433\n",
            "Epoch 48/100\n",
            "2/2 [==============================] - 0s 7ms/step - loss: 1563.2417 - mae: 1563.2417\n",
            "Epoch 49/100\n",
            "2/2 [==============================] - 0s 6ms/step - loss: 1544.5625 - mae: 1544.5625\n",
            "Epoch 50/100\n",
            "2/2 [==============================] - 0s 5ms/step - loss: 1526.0813 - mae: 1526.0813\n",
            "Epoch 51/100\n",
            "2/2 [==============================] - 0s 6ms/step - loss: 1508.1691 - mae: 1508.1691\n",
            "Epoch 52/100\n",
            "2/2 [==============================] - 0s 4ms/step - loss: 1490.6482 - mae: 1490.6482\n",
            "Epoch 53/100\n",
            "2/2 [==============================] - 0s 5ms/step - loss: 1473.2566 - mae: 1473.2566\n",
            "Epoch 54/100\n",
            "2/2 [==============================] - 0s 8ms/step - loss: 1456.8636 - mae: 1456.8636\n",
            "Epoch 55/100\n",
            "2/2 [==============================] - 0s 5ms/step - loss: 1440.5945 - mae: 1440.5945\n",
            "Epoch 56/100\n",
            "2/2 [==============================] - 0s 5ms/step - loss: 1424.9661 - mae: 1424.9661\n",
            "Epoch 57/100\n",
            "2/2 [==============================] - 0s 7ms/step - loss: 1408.6510 - mae: 1408.6510\n",
            "Epoch 58/100\n",
            "2/2 [==============================] - 0s 6ms/step - loss: 1393.8834 - mae: 1393.8834\n",
            "Epoch 59/100\n",
            "2/2 [==============================] - 0s 6ms/step - loss: 1379.1742 - mae: 1379.1742\n",
            "Epoch 60/100\n",
            "2/2 [==============================] - 0s 16ms/step - loss: 1364.7932 - mae: 1364.7932\n",
            "Epoch 61/100\n",
            "2/2 [==============================] - 0s 4ms/step - loss: 1352.1388 - mae: 1352.1388\n",
            "Epoch 62/100\n",
            "2/2 [==============================] - 0s 4ms/step - loss: 1338.8560 - mae: 1338.8560\n",
            "Epoch 63/100\n",
            "2/2 [==============================] - 0s 5ms/step - loss: 1325.9662 - mae: 1325.9662\n",
            "Epoch 64/100\n",
            "2/2 [==============================] - 0s 4ms/step - loss: 1312.4407 - mae: 1312.4407\n",
            "Epoch 65/100\n",
            "2/2 [==============================] - 0s 4ms/step - loss: 1300.6888 - mae: 1300.6888\n",
            "Epoch 66/100\n",
            "2/2 [==============================] - 0s 6ms/step - loss: 1288.6512 - mae: 1288.6512\n",
            "Epoch 67/100\n",
            "2/2 [==============================] - 0s 4ms/step - loss: 1277.3112 - mae: 1277.3112\n",
            "Epoch 68/100\n",
            "2/2 [==============================] - 0s 3ms/step - loss: 1265.6193 - mae: 1265.6193\n",
            "Epoch 69/100\n",
            "2/2 [==============================] - 0s 12ms/step - loss: 1254.6394 - mae: 1254.6394\n",
            "Epoch 70/100\n",
            "2/2 [==============================] - 0s 6ms/step - loss: 1244.1951 - mae: 1244.1951\n",
            "Epoch 71/100\n",
            "2/2 [==============================] - 0s 5ms/step - loss: 1233.8573 - mae: 1233.8573\n",
            "Epoch 72/100\n",
            "2/2 [==============================] - 0s 4ms/step - loss: 1223.6151 - mae: 1223.6151\n",
            "Epoch 73/100\n",
            "2/2 [==============================] - 0s 5ms/step - loss: 1213.8815 - mae: 1213.8815\n",
            "Epoch 74/100\n",
            "2/2 [==============================] - 0s 6ms/step - loss: 1205.1925 - mae: 1205.1925\n",
            "Epoch 75/100\n",
            "2/2 [==============================] - 0s 7ms/step - loss: 1196.3856 - mae: 1196.3856\n",
            "Epoch 76/100\n",
            "2/2 [==============================] - 0s 4ms/step - loss: 1187.9021 - mae: 1187.9021\n",
            "Epoch 77/100\n",
            "2/2 [==============================] - 0s 7ms/step - loss: 1179.6573 - mae: 1179.6573\n",
            "Epoch 78/100\n",
            "2/2 [==============================] - 0s 9ms/step - loss: 1171.0482 - mae: 1171.0482\n",
            "Epoch 79/100\n",
            "2/2 [==============================] - 0s 7ms/step - loss: 1163.5632 - mae: 1163.5632\n",
            "Epoch 80/100\n",
            "2/2 [==============================] - 0s 5ms/step - loss: 1156.2662 - mae: 1156.2662\n",
            "Epoch 81/100\n",
            "2/2 [==============================] - 0s 5ms/step - loss: 1148.8190 - mae: 1148.8190\n",
            "Epoch 82/100\n",
            "2/2 [==============================] - 0s 6ms/step - loss: 1141.3958 - mae: 1141.3958\n",
            "Epoch 83/100\n",
            "2/2 [==============================] - 0s 5ms/step - loss: 1134.5251 - mae: 1134.5251\n",
            "Epoch 84/100\n",
            "2/2 [==============================] - 0s 5ms/step - loss: 1128.4310 - mae: 1128.4310\n",
            "Epoch 85/100\n",
            "2/2 [==============================] - 0s 5ms/step - loss: 1122.4037 - mae: 1122.4037\n",
            "Epoch 86/100\n",
            "2/2 [==============================] - 0s 3ms/step - loss: 1116.1864 - mae: 1116.1864\n",
            "Epoch 87/100\n",
            "2/2 [==============================] - 0s 7ms/step - loss: 1110.6206 - mae: 1110.6206\n",
            "Epoch 88/100\n",
            "2/2 [==============================] - 0s 4ms/step - loss: 1103.6071 - mae: 1103.6071\n",
            "Epoch 89/100\n",
            "2/2 [==============================] - 0s 4ms/step - loss: 1097.9316 - mae: 1097.9316\n",
            "Epoch 90/100\n",
            "2/2 [==============================] - 0s 5ms/step - loss: 1093.1808 - mae: 1093.1808\n",
            "Epoch 91/100\n",
            "2/2 [==============================] - 0s 4ms/step - loss: 1087.7526 - mae: 1087.7526\n",
            "Epoch 92/100\n",
            "2/2 [==============================] - 0s 3ms/step - loss: 1082.8453 - mae: 1082.8453\n",
            "Epoch 93/100\n",
            "2/2 [==============================] - 0s 7ms/step - loss: 1077.8113 - mae: 1077.8113\n",
            "Epoch 94/100\n",
            "2/2 [==============================] - 0s 8ms/step - loss: 1072.5082 - mae: 1072.5082\n",
            "Epoch 95/100\n",
            "2/2 [==============================] - 0s 7ms/step - loss: 1068.8833 - mae: 1068.8833\n",
            "Epoch 96/100\n",
            "2/2 [==============================] - 0s 6ms/step - loss: 1063.8234 - mae: 1063.8234\n",
            "Epoch 97/100\n",
            "2/2 [==============================] - 0s 6ms/step - loss: 1060.1340 - mae: 1060.1340\n",
            "Epoch 98/100\n",
            "2/2 [==============================] - 0s 5ms/step - loss: 1056.3698 - mae: 1056.3698\n",
            "Epoch 99/100\n",
            "2/2 [==============================] - 0s 6ms/step - loss: 1052.6136 - mae: 1052.6136\n",
            "Epoch 100/100\n",
            "2/2 [==============================] - 0s 8ms/step - loss: 1048.3636 - mae: 1048.3636\n"
          ],
          "name": "stdout"
        },
        {
          "output_type": "execute_result",
          "data": {
            "text/plain": [
              "<tensorflow.python.keras.callbacks.History at 0x7ff11ad62290>"
            ]
          },
          "metadata": {
            "tags": []
          },
          "execution_count": 127
        }
      ]
    },
    {
      "cell_type": "code",
      "metadata": {
        "colab": {
          "base_uri": "https://localhost:8080/"
        },
        "id": "VS-Dlg2stukT",
        "outputId": "c04d3d43-e73f-42ba-f527-40bab3e6f06f"
      },
      "source": [
        "Y_pred_1 = model.predict(X_test)\n",
        "Y_pred_1"
      ],
      "execution_count": 133,
      "outputs": [
        {
          "output_type": "execute_result",
          "data": {
            "text/plain": [
              "array([[-1157.5778],\n",
              "       [-1273.427 ],\n",
              "       [-1389.2764],\n",
              "       [-1505.1256],\n",
              "       [-1620.9749],\n",
              "       [-1736.8242],\n",
              "       [-1852.6735],\n",
              "       [-1968.5227],\n",
              "       [-2084.372 ],\n",
              "       [-2200.2212],\n",
              "       [-2316.0706],\n",
              "       [-2431.92  ],\n",
              "       [-2547.769 ],\n",
              "       [-2663.6184],\n",
              "       [-2779.4678],\n",
              "       [-2895.317 ],\n",
              "       [-3011.1663],\n",
              "       [-3127.0156],\n",
              "       [-3242.8647],\n",
              "       [-3358.714 ],\n",
              "       [-3474.5635],\n",
              "       [-3590.4126],\n",
              "       [-3706.262 ],\n",
              "       [-3822.1113],\n",
              "       [-3937.9604],\n",
              "       [-4053.8098],\n",
              "       [-4169.659 ],\n",
              "       [-4285.5083],\n",
              "       [-4401.3574],\n",
              "       [-4517.207 ],\n",
              "       [-4633.056 ],\n",
              "       [-4748.9053],\n",
              "       [-4864.755 ],\n",
              "       [-4980.604 ],\n",
              "       [-5096.453 ],\n",
              "       [-5212.3027],\n",
              "       [-5328.152 ],\n",
              "       [-5444.001 ],\n",
              "       [-5559.8506],\n",
              "       [-5675.6997]], dtype=float32)"
            ]
          },
          "metadata": {
            "tags": []
          },
          "execution_count": 133
        }
      ]
    },
    {
      "cell_type": "code",
      "metadata": {
        "colab": {
          "base_uri": "https://localhost:8080/"
        },
        "id": "TVOXV5Z-uckM",
        "outputId": "93519984-79ef-4f70-8cb7-8bf00421bb00"
      },
      "source": [
        "# calculate mean absolute error\n",
        "\n",
        "# first check the shape of Y_test and Y_pred\n",
        "tf.shape(Y_test), tf.shape(Y_pred_1)"
      ],
      "execution_count": 134,
      "outputs": [
        {
          "output_type": "execute_result",
          "data": {
            "text/plain": [
              "(<tf.Tensor: shape=(1,), dtype=int32, numpy=array([40], dtype=int32)>,\n",
              " <tf.Tensor: shape=(2,), dtype=int32, numpy=array([40,  1], dtype=int32)>)"
            ]
          },
          "metadata": {
            "tags": []
          },
          "execution_count": 134
        }
      ]
    },
    {
      "cell_type": "code",
      "metadata": {
        "colab": {
          "base_uri": "https://localhost:8080/"
        },
        "id": "6Kdywzktu1zl",
        "outputId": "06fe08cd-cab2-4b1c-fa92-931248a07c8b"
      },
      "source": [
        "# shape of Y_pred_1 is more hence squeeze it\n",
        "Y_pred_1 = tf.squeeze(Y_pred_1)\n",
        "tf.shape(Y_pred_1)"
      ],
      "execution_count": 135,
      "outputs": [
        {
          "output_type": "execute_result",
          "data": {
            "text/plain": [
              "<tf.Tensor: shape=(1,), dtype=int32, numpy=array([40], dtype=int32)>"
            ]
          },
          "metadata": {
            "tags": []
          },
          "execution_count": 135
        }
      ]
    },
    {
      "cell_type": "code",
      "metadata": {
        "colab": {
          "base_uri": "https://localhost:8080/"
        },
        "id": "Wrji4HqRvJCE",
        "outputId": "1fecee7f-7c82-400e-fd8f-1f7bc48ff252"
      },
      "source": [
        "# calculate mean absolute error\n",
        "tf.metrics.mean_absolute_error(y_true= Y_test, y_pred= Y_pred_1)"
      ],
      "execution_count": 136,
      "outputs": [
        {
          "output_type": "execute_result",
          "data": {
            "text/plain": [
              "<tf.Tensor: shape=(), dtype=float32, numpy=7435.639>"
            ]
          },
          "metadata": {
            "tags": []
          },
          "execution_count": 136
        }
      ]
    },
    {
      "cell_type": "code",
      "metadata": {
        "colab": {
          "base_uri": "https://localhost:8080/",
          "height": 446
        },
        "id": "SmZOeUsdvZ_-",
        "outputId": "d4a17f0a-23de-46aa-8a94-2eec8caa4f84"
      },
      "source": [
        "# visualize the actual and predicted value\n",
        "plt.figure(figsize = (10,7))\n",
        "\n",
        "plt.scatter(X_test,Y_test, c=\"b\",label = \"actual\")\n",
        "\n",
        "plt.scatter(X_test,Y_pred_1, c=\"r\", label = \"predicted\")\n",
        "\n",
        "plt.legend()"
      ],
      "execution_count": 141,
      "outputs": [
        {
          "output_type": "execute_result",
          "data": {
            "text/plain": [
              "<matplotlib.legend.Legend at 0x7ff11afdb750>"
            ]
          },
          "metadata": {
            "tags": []
          },
          "execution_count": 141
        },
        {
          "output_type": "display_data",
          "data": {
            "image/png": "[encoded data removed]",
            "text/plain": [
              "<Figure size 720x504 with 1 Axes>"
            ]
          },
          "metadata": {
            "tags": [],
            "needs_background": "light"
          }
        }
      ]
    },
    {
      "cell_type": "markdown",
      "metadata": {
        "id": "DeKr89QrwDS7"
      },
      "source": [
        "**lets improve the model-1**\n",
        "- add one more layer"
      ]
    },
    {
      "cell_type": "code",
      "metadata": {
        "colab": {
          "base_uri": "https://localhost:8080/"
        },
        "id": "8HiPx9iNwlnr",
        "outputId": "a04e1641-47a2-47a2-bb3a-a0ee84275979"
      },
      "source": [
        "# create model2 \n",
        "model2 = tf.keras.Sequential([\n",
        "                              tf.keras.layers.Dense(100, activation=\"relu\"),\n",
        "                              tf.keras.layers.Dense(1)\n",
        "])\n",
        "\n",
        "# compile the model\n",
        "model2.compile(\n",
        "    optimizer= tf.keras.optimizers.SGD(),\n",
        "    loss = \"mae\",\n",
        "    metrics = [\"mae\"]\n",
        ")\n",
        "\n",
        "# fit the training data\n",
        "model2.fit(\n",
        "    X_train,\n",
        "    Y_train,\n",
        "    epochs = 100\n",
        ")"
      ],
      "execution_count": 144,
      "outputs": [
        {
          "output_type": "stream",
          "text": [
            "Epoch 1/100\n",
            "2/2 [==============================] - 0s 8ms/step - loss: 2874.2356 - mae: 2874.2356\n",
            "Epoch 2/100\n",
            "2/2 [==============================] - 0s 3ms/step - loss: 2786.9155 - mae: 2786.9155\n",
            "Epoch 3/100\n",
            "2/2 [==============================] - 0s 10ms/step - loss: 2470.9053 - mae: 2470.9053\n",
            "Epoch 4/100\n",
            "2/2 [==============================] - 0s 4ms/step - loss: 1552.9221 - mae: 1552.9221\n",
            "Epoch 5/100\n",
            "2/2 [==============================] - 0s 5ms/step - loss: 868.2754 - mae: 868.2754\n",
            "Epoch 6/100\n",
            "2/2 [==============================] - 0s 8ms/step - loss: 985.1189 - mae: 985.1189\n",
            "Epoch 7/100\n",
            "2/2 [==============================] - 0s 10ms/step - loss: 1201.3328 - mae: 1201.3328\n",
            "Epoch 8/100\n",
            "2/2 [==============================] - 0s 10ms/step - loss: 827.5725 - mae: 827.5725\n",
            "Epoch 9/100\n",
            "2/2 [==============================] - 0s 7ms/step - loss: 924.5979 - mae: 924.5979\n",
            "Epoch 10/100\n",
            "2/2 [==============================] - 0s 7ms/step - loss: 919.7422 - mae: 919.7422\n",
            "Epoch 11/100\n",
            "2/2 [==============================] - 0s 6ms/step - loss: 849.2043 - mae: 849.2043\n",
            "Epoch 12/100\n",
            "2/2 [==============================] - 0s 7ms/step - loss: 862.9562 - mae: 862.9562\n",
            "Epoch 13/100\n",
            "2/2 [==============================] - 0s 6ms/step - loss: 1214.4127 - mae: 1214.4127\n",
            "Epoch 14/100\n",
            "2/2 [==============================] - 0s 13ms/step - loss: 854.6791 - mae: 854.6791\n",
            "Epoch 15/100\n",
            "2/2 [==============================] - 0s 8ms/step - loss: 857.1904 - mae: 857.1904\n",
            "Epoch 16/100\n",
            "2/2 [==============================] - 0s 6ms/step - loss: 849.2892 - mae: 849.2892\n",
            "Epoch 17/100\n",
            "2/2 [==============================] - 0s 12ms/step - loss: 854.3904 - mae: 854.3904\n",
            "Epoch 18/100\n",
            "2/2 [==============================] - 0s 5ms/step - loss: 859.4453 - mae: 859.4453\n",
            "Epoch 19/100\n",
            "2/2 [==============================] - 0s 6ms/step - loss: 871.2808 - mae: 871.2808\n",
            "Epoch 20/100\n",
            "2/2 [==============================] - 0s 7ms/step - loss: 959.5400 - mae: 959.5400\n",
            "Epoch 21/100\n",
            "2/2 [==============================] - 0s 3ms/step - loss: 867.2369 - mae: 867.2369\n",
            "Epoch 22/100\n",
            "2/2 [==============================] - 0s 7ms/step - loss: 977.1464 - mae: 977.1464\n",
            "Epoch 23/100\n",
            "2/2 [==============================] - 0s 7ms/step - loss: 1146.8208 - mae: 1146.8208\n",
            "Epoch 24/100\n",
            "2/2 [==============================] - 0s 10ms/step - loss: 875.9622 - mae: 875.9622\n",
            "Epoch 25/100\n",
            "2/2 [==============================] - 0s 3ms/step - loss: 883.5776 - mae: 883.5776\n",
            "Epoch 26/100\n",
            "2/2 [==============================] - 0s 5ms/step - loss: 865.0023 - mae: 865.0023\n",
            "Epoch 27/100\n",
            "2/2 [==============================] - 0s 5ms/step - loss: 843.2128 - mae: 843.2127\n",
            "Epoch 28/100\n",
            "2/2 [==============================] - 0s 6ms/step - loss: 867.2333 - mae: 867.2333\n",
            "Epoch 29/100\n",
            "2/2 [==============================] - 0s 4ms/step - loss: 1220.1058 - mae: 1220.1058\n",
            "Epoch 30/100\n",
            "2/2 [==============================] - 0s 4ms/step - loss: 891.6398 - mae: 891.6398\n",
            "Epoch 31/100\n",
            "2/2 [==============================] - 0s 6ms/step - loss: 930.3900 - mae: 930.3900\n",
            "Epoch 32/100\n",
            "2/2 [==============================] - 0s 4ms/step - loss: 963.1240 - mae: 963.1240\n",
            "Epoch 33/100\n",
            "2/2 [==============================] - 0s 4ms/step - loss: 845.0602 - mae: 845.0602\n",
            "Epoch 34/100\n",
            "2/2 [==============================] - 0s 6ms/step - loss: 841.9516 - mae: 841.9516\n",
            "Epoch 35/100\n",
            "2/2 [==============================] - 0s 5ms/step - loss: 981.1233 - mae: 981.1233\n",
            "Epoch 36/100\n",
            "2/2 [==============================] - 0s 5ms/step - loss: 990.7678 - mae: 990.7678\n",
            "Epoch 37/100\n",
            "2/2 [==============================] - 0s 7ms/step - loss: 834.9151 - mae: 834.9151\n",
            "Epoch 38/100\n",
            "2/2 [==============================] - 0s 6ms/step - loss: 1110.1099 - mae: 1110.1099\n",
            "Epoch 39/100\n",
            "2/2 [==============================] - 0s 9ms/step - loss: 981.2001 - mae: 981.2001\n",
            "Epoch 40/100\n",
            "2/2 [==============================] - 0s 7ms/step - loss: 1061.4420 - mae: 1061.4420\n",
            "Epoch 41/100\n",
            "2/2 [==============================] - 0s 14ms/step - loss: 946.3658 - mae: 946.3658\n",
            "Epoch 42/100\n",
            "2/2 [==============================] - 0s 15ms/step - loss: 892.7523 - mae: 892.7523\n",
            "Epoch 43/100\n",
            "2/2 [==============================] - 0s 16ms/step - loss: 890.4322 - mae: 890.4322\n",
            "Epoch 44/100\n",
            "2/2 [==============================] - 0s 7ms/step - loss: 870.2076 - mae: 870.2076\n",
            "Epoch 45/100\n",
            "2/2 [==============================] - 0s 7ms/step - loss: 938.0335 - mae: 938.0335\n",
            "Epoch 46/100\n",
            "2/2 [==============================] - 0s 3ms/step - loss: 928.8459 - mae: 928.8459\n",
            "Epoch 47/100\n",
            "2/2 [==============================] - 0s 5ms/step - loss: 1096.8341 - mae: 1096.8341\n",
            "Epoch 48/100\n",
            "2/2 [==============================] - 0s 5ms/step - loss: 872.9715 - mae: 872.9715\n",
            "Epoch 49/100\n",
            "2/2 [==============================] - 0s 3ms/step - loss: 881.7338 - mae: 881.7338\n",
            "Epoch 50/100\n",
            "2/2 [==============================] - 0s 3ms/step - loss: 962.2975 - mae: 962.2975\n",
            "Epoch 51/100\n",
            "2/2 [==============================] - 0s 4ms/step - loss: 859.7217 - mae: 859.7217\n",
            "Epoch 52/100\n",
            "2/2 [==============================] - 0s 6ms/step - loss: 835.6019 - mae: 835.6019\n",
            "Epoch 53/100\n",
            "2/2 [==============================] - 0s 4ms/step - loss: 1518.5883 - mae: 1518.5883\n",
            "Epoch 54/100\n",
            "2/2 [==============================] - 0s 9ms/step - loss: 1209.4779 - mae: 1209.4779\n",
            "Epoch 55/100\n",
            "2/2 [==============================] - 0s 4ms/step - loss: 1094.2360 - mae: 1094.2360\n",
            "Epoch 56/100\n",
            "2/2 [==============================] - 0s 3ms/step - loss: 940.3102 - mae: 940.3102\n",
            "Epoch 57/100\n",
            "2/2 [==============================] - 0s 5ms/step - loss: 1267.0427 - mae: 1267.0427\n",
            "Epoch 58/100\n",
            "2/2 [==============================] - 0s 6ms/step - loss: 851.8294 - mae: 851.8294\n",
            "Epoch 59/100\n",
            "2/2 [==============================] - 0s 6ms/step - loss: 845.9970 - mae: 845.9970\n",
            "Epoch 60/100\n",
            "2/2 [==============================] - 0s 3ms/step - loss: 842.6248 - mae: 842.6248\n",
            "Epoch 61/100\n",
            "2/2 [==============================] - 0s 6ms/step - loss: 834.2469 - mae: 834.2469\n",
            "Epoch 62/100\n",
            "2/2 [==============================] - 0s 4ms/step - loss: 869.2646 - mae: 869.2646\n",
            "Epoch 63/100\n",
            "2/2 [==============================] - 0s 5ms/step - loss: 838.2028 - mae: 838.2028\n",
            "Epoch 64/100\n",
            "2/2 [==============================] - 0s 4ms/step - loss: 866.0174 - mae: 866.0174\n",
            "Epoch 65/100\n",
            "2/2 [==============================] - 0s 6ms/step - loss: 1042.0620 - mae: 1042.0620\n",
            "Epoch 66/100\n",
            "2/2 [==============================] - 0s 5ms/step - loss: 894.6628 - mae: 894.6628\n",
            "Epoch 67/100\n",
            "2/2 [==============================] - 0s 8ms/step - loss: 923.7159 - mae: 923.7159\n",
            "Epoch 68/100\n",
            "2/2 [==============================] - 0s 4ms/step - loss: 902.4684 - mae: 902.4684\n",
            "Epoch 69/100\n",
            "2/2 [==============================] - 0s 6ms/step - loss: 1093.7833 - mae: 1093.7833\n",
            "Epoch 70/100\n",
            "2/2 [==============================] - 0s 7ms/step - loss: 1128.5209 - mae: 1128.5209\n",
            "Epoch 71/100\n",
            "2/2 [==============================] - 0s 6ms/step - loss: 1023.5272 - mae: 1023.5272\n",
            "Epoch 72/100\n",
            "2/2 [==============================] - 0s 6ms/step - loss: 919.9448 - mae: 919.9448\n",
            "Epoch 73/100\n",
            "2/2 [==============================] - 0s 8ms/step - loss: 1015.7083 - mae: 1015.7083\n",
            "Epoch 74/100\n",
            "2/2 [==============================] - 0s 4ms/step - loss: 820.2358 - mae: 820.2358\n",
            "Epoch 75/100\n",
            "2/2 [==============================] - 0s 4ms/step - loss: 846.4746 - mae: 846.4746\n",
            "Epoch 76/100\n",
            "2/2 [==============================] - 0s 3ms/step - loss: 829.6912 - mae: 829.6912\n",
            "Epoch 77/100\n",
            "2/2 [==============================] - 0s 4ms/step - loss: 1148.3256 - mae: 1148.3256\n",
            "Epoch 78/100\n",
            "2/2 [==============================] - 0s 4ms/step - loss: 1030.4672 - mae: 1030.4672\n",
            "Epoch 79/100\n",
            "2/2 [==============================] - 0s 8ms/step - loss: 880.6676 - mae: 880.6676\n",
            "Epoch 80/100\n",
            "2/2 [==============================] - 0s 6ms/step - loss: 1009.7463 - mae: 1009.7463\n",
            "Epoch 81/100\n",
            "2/2 [==============================] - 0s 7ms/step - loss: 997.7021 - mae: 997.7021\n",
            "Epoch 82/100\n",
            "2/2 [==============================] - 0s 7ms/step - loss: 946.1739 - mae: 946.1739\n",
            "Epoch 83/100\n",
            "2/2 [==============================] - 0s 6ms/step - loss: 887.9581 - mae: 887.9581\n",
            "Epoch 84/100\n",
            "2/2 [==============================] - 0s 6ms/step - loss: 908.7331 - mae: 908.7331\n",
            "Epoch 85/100\n",
            "2/2 [==============================] - 0s 5ms/step - loss: 1082.7671 - mae: 1082.7671\n",
            "Epoch 86/100\n",
            "2/2 [==============================] - 0s 6ms/step - loss: 918.6915 - mae: 918.6915\n",
            "Epoch 87/100\n",
            "2/2 [==============================] - 0s 6ms/step - loss: 870.3909 - mae: 870.3909\n",
            "Epoch 88/100\n",
            "2/2 [==============================] - 0s 5ms/step - loss: 1030.1843 - mae: 1030.1843\n",
            "Epoch 89/100\n",
            "2/2 [==============================] - 0s 4ms/step - loss: 900.3734 - mae: 900.3734\n",
            "Epoch 90/100\n",
            "2/2 [==============================] - 0s 7ms/step - loss: 934.5622 - mae: 934.5622\n",
            "Epoch 91/100\n",
            "2/2 [==============================] - 0s 11ms/step - loss: 910.2910 - mae: 910.2910\n",
            "Epoch 92/100\n",
            "2/2 [==============================] - 0s 4ms/step - loss: 1031.4808 - mae: 1031.4808\n",
            "Epoch 93/100\n",
            "2/2 [==============================] - 0s 5ms/step - loss: 920.5782 - mae: 920.5782\n",
            "Epoch 94/100\n",
            "2/2 [==============================] - 0s 6ms/step - loss: 1092.5721 - mae: 1092.5723\n",
            "Epoch 95/100\n",
            "2/2 [==============================] - 0s 4ms/step - loss: 1123.9830 - mae: 1123.9830\n",
            "Epoch 96/100\n",
            "2/2 [==============================] - 0s 5ms/step - loss: 1451.5065 - mae: 1451.5065\n",
            "Epoch 97/100\n",
            "2/2 [==============================] - 0s 6ms/step - loss: 851.4610 - mae: 851.4609\n",
            "Epoch 98/100\n",
            "2/2 [==============================] - 0s 5ms/step - loss: 893.3788 - mae: 893.3788\n",
            "Epoch 99/100\n",
            "2/2 [==============================] - 0s 6ms/step - loss: 904.2985 - mae: 904.2985\n",
            "Epoch 100/100\n",
            "2/2 [==============================] - 0s 5ms/step - loss: 1053.3016 - mae: 1053.3016\n"
          ],
          "name": "stdout"
        },
        {
          "output_type": "execute_result",
          "data": {
            "text/plain": [
              "<tensorflow.python.keras.callbacks.History at 0x7ff11e400c50>"
            ]
          },
          "metadata": {
            "tags": []
          },
          "execution_count": 144
        }
      ]
    },
    {
      "cell_type": "code",
      "metadata": {
        "id": "Ex_HIxaY8A-E"
      },
      "source": [
        "Y_pred_2 = model2.predict(X_test)"
      ],
      "execution_count": 209,
      "outputs": []
    },
    {
      "cell_type": "markdown",
      "metadata": {
        "id": "0uCfW5w22tlk"
      },
      "source": [
        "**Add Adam optimzer in place of SGD**"
      ]
    },
    {
      "cell_type": "code",
      "metadata": {
        "colab": {
          "base_uri": "https://localhost:8080/"
        },
        "id": "dCZwQdCM0Yli",
        "outputId": "17c65123-356b-400d-cc0c-4312f0efb35c"
      },
      "source": [
        "\n",
        "model3 = tf.keras.Sequential([\n",
        "                              tf.keras.layers.Dense(100, activation = \"relu\"),\n",
        "                              tf.keras.layers.Dense(1)\n",
        "])\n",
        "\n",
        "# compile model\n",
        "model3.compile(\n",
        "    optimizer = tf.keras.optimizers.Adam(learning_rate=.1),\n",
        "    loss=\"mae\",\n",
        "    metrics = [\"mae\"]\n",
        ")\n",
        "\n",
        "# fit data\n",
        "model3.fit(\n",
        "    X_train,\n",
        "    Y_train,\n",
        "    epochs = 500\n",
        ")"
      ],
      "execution_count": 148,
      "outputs": [
        {
          "output_type": "stream",
          "text": [
            "Epoch 1/500\n",
            "2/2 [==============================] - 0s 6ms/step - loss: 2869.0667 - mae: 2869.0667\n",
            "Epoch 2/500\n",
            "2/2 [==============================] - 0s 4ms/step - loss: 2754.8433 - mae: 2754.8433\n",
            "Epoch 3/500\n",
            "2/2 [==============================] - 0s 6ms/step - loss: 2570.5068 - mae: 2570.5068\n",
            "Epoch 4/500\n",
            "2/2 [==============================] - 0s 6ms/step - loss: 2302.6011 - mae: 2302.6011\n",
            "Epoch 5/500\n",
            "2/2 [==============================] - 0s 4ms/step - loss: 1899.5558 - mae: 1899.5558\n",
            "Epoch 6/500\n",
            "2/2 [==============================] - 0s 8ms/step - loss: 1423.5100 - mae: 1423.5100\n",
            "Epoch 7/500\n",
            "2/2 [==============================] - 0s 7ms/step - loss: 1022.2862 - mae: 1022.2862\n",
            "Epoch 8/500\n",
            "2/2 [==============================] - 0s 7ms/step - loss: 931.0431 - mae: 931.0431\n",
            "Epoch 9/500\n",
            "2/2 [==============================] - 0s 6ms/step - loss: 1149.1029 - mae: 1149.1029\n",
            "Epoch 10/500\n",
            "2/2 [==============================] - 0s 6ms/step - loss: 1258.3198 - mae: 1258.3198\n",
            "Epoch 11/500\n",
            "2/2 [==============================] - 0s 6ms/step - loss: 1079.5320 - mae: 1079.5320\n",
            "Epoch 12/500\n",
            "2/2 [==============================] - 0s 7ms/step - loss: 923.1927 - mae: 923.1927\n",
            "Epoch 13/500\n",
            "2/2 [==============================] - 0s 11ms/step - loss: 852.1932 - mae: 852.1932\n",
            "Epoch 14/500\n",
            "2/2 [==============================] - 0s 6ms/step - loss: 885.2221 - mae: 885.2221\n",
            "Epoch 15/500\n",
            "2/2 [==============================] - 0s 5ms/step - loss: 912.6118 - mae: 912.6118\n",
            "Epoch 16/500\n",
            "2/2 [==============================] - 0s 11ms/step - loss: 917.4940 - mae: 917.4940\n",
            "Epoch 17/500\n",
            "2/2 [==============================] - 0s 7ms/step - loss: 891.8488 - mae: 891.8488\n",
            "Epoch 18/500\n",
            "2/2 [==============================] - 0s 14ms/step - loss: 863.9678 - mae: 863.9678\n",
            "Epoch 19/500\n",
            "2/2 [==============================] - 0s 5ms/step - loss: 842.0839 - mae: 842.0839\n",
            "Epoch 20/500\n",
            "2/2 [==============================] - 0s 6ms/step - loss: 838.1624 - mae: 838.1624\n",
            "Epoch 21/500\n",
            "2/2 [==============================] - 0s 5ms/step - loss: 844.7336 - mae: 844.7336\n",
            "Epoch 22/500\n",
            "2/2 [==============================] - 0s 6ms/step - loss: 843.1530 - mae: 843.1530\n",
            "Epoch 23/500\n",
            "2/2 [==============================] - 0s 5ms/step - loss: 836.1598 - mae: 836.1598\n",
            "Epoch 24/500\n",
            "2/2 [==============================] - 0s 5ms/step - loss: 820.5405 - mae: 820.5405\n",
            "Epoch 25/500\n",
            "2/2 [==============================] - 0s 5ms/step - loss: 816.5022 - mae: 816.5022\n",
            "Epoch 26/500\n",
            "2/2 [==============================] - 0s 5ms/step - loss: 819.2916 - mae: 819.2916\n",
            "Epoch 27/500\n",
            "2/2 [==============================] - 0s 5ms/step - loss: 817.9052 - mae: 817.9052\n",
            "Epoch 28/500\n",
            "2/2 [==============================] - 0s 5ms/step - loss: 814.6866 - mae: 814.6866\n",
            "Epoch 29/500\n",
            "2/2 [==============================] - 0s 4ms/step - loss: 809.9117 - mae: 809.9117\n",
            "Epoch 30/500\n",
            "2/2 [==============================] - 0s 5ms/step - loss: 807.7156 - mae: 807.7156\n",
            "Epoch 31/500\n",
            "2/2 [==============================] - 0s 5ms/step - loss: 797.9807 - mae: 797.9807\n",
            "Epoch 32/500\n",
            "2/2 [==============================] - 0s 5ms/step - loss: 800.4825 - mae: 800.4825\n",
            "Epoch 33/500\n",
            "2/2 [==============================] - 0s 6ms/step - loss: 797.5834 - mae: 797.5834\n",
            "Epoch 34/500\n",
            "2/2 [==============================] - 0s 6ms/step - loss: 795.8814 - mae: 795.8814\n",
            "Epoch 35/500\n",
            "2/2 [==============================] - 0s 6ms/step - loss: 787.8976 - mae: 787.8976\n",
            "Epoch 36/500\n",
            "2/2 [==============================] - 0s 6ms/step - loss: 782.5379 - mae: 782.5379\n",
            "Epoch 37/500\n",
            "2/2 [==============================] - 0s 5ms/step - loss: 779.7566 - mae: 779.7566\n",
            "Epoch 38/500\n",
            "2/2 [==============================] - 0s 6ms/step - loss: 778.6227 - mae: 778.6227\n",
            "Epoch 39/500\n",
            "2/2 [==============================] - 0s 7ms/step - loss: 772.9766 - mae: 772.9766\n",
            "Epoch 40/500\n",
            "2/2 [==============================] - 0s 6ms/step - loss: 770.7889 - mae: 770.7889\n",
            "Epoch 41/500\n",
            "2/2 [==============================] - 0s 6ms/step - loss: 766.1789 - mae: 766.1789\n",
            "Epoch 42/500\n",
            "2/2 [==============================] - 0s 5ms/step - loss: 761.1664 - mae: 761.1664\n",
            "Epoch 43/500\n",
            "2/2 [==============================] - 0s 6ms/step - loss: 760.6505 - mae: 760.6505\n",
            "Epoch 44/500\n",
            "2/2 [==============================] - 0s 6ms/step - loss: 755.7493 - mae: 755.7493\n",
            "Epoch 45/500\n",
            "2/2 [==============================] - 0s 5ms/step - loss: 751.8467 - mae: 751.8467\n",
            "Epoch 46/500\n",
            "2/2 [==============================] - 0s 7ms/step - loss: 747.7839 - mae: 747.7839\n",
            "Epoch 47/500\n",
            "2/2 [==============================] - 0s 8ms/step - loss: 748.7963 - mae: 748.7963\n",
            "Epoch 48/500\n",
            "2/2 [==============================] - 0s 5ms/step - loss: 738.7196 - mae: 738.7196\n",
            "Epoch 49/500\n",
            "2/2 [==============================] - 0s 5ms/step - loss: 738.4949 - mae: 738.4949\n",
            "Epoch 50/500\n",
            "2/2 [==============================] - 0s 5ms/step - loss: 730.5818 - mae: 730.5818\n",
            "Epoch 51/500\n",
            "2/2 [==============================] - 0s 8ms/step - loss: 726.5955 - mae: 726.5955\n",
            "Epoch 52/500\n",
            "2/2 [==============================] - 0s 8ms/step - loss: 739.5490 - mae: 739.5490\n",
            "Epoch 53/500\n",
            "2/2 [==============================] - 0s 4ms/step - loss: 728.9594 - mae: 728.9594\n",
            "Epoch 54/500\n",
            "2/2 [==============================] - 0s 6ms/step - loss: 722.4323 - mae: 722.4323\n",
            "Epoch 55/500\n",
            "2/2 [==============================] - 0s 6ms/step - loss: 712.8410 - mae: 712.8410\n",
            "Epoch 56/500\n",
            "2/2 [==============================] - 0s 6ms/step - loss: 709.5312 - mae: 709.5312\n",
            "Epoch 57/500\n",
            "2/2 [==============================] - 0s 6ms/step - loss: 706.0396 - mae: 706.0396\n",
            "Epoch 58/500\n",
            "2/2 [==============================] - 0s 8ms/step - loss: 696.2016 - mae: 696.2016\n",
            "Epoch 59/500\n",
            "2/2 [==============================] - 0s 4ms/step - loss: 691.1144 - mae: 691.1144\n",
            "Epoch 60/500\n",
            "2/2 [==============================] - 0s 4ms/step - loss: 685.9792 - mae: 685.9792\n",
            "Epoch 61/500\n",
            "2/2 [==============================] - 0s 4ms/step - loss: 679.1586 - mae: 679.1586\n",
            "Epoch 62/500\n",
            "2/2 [==============================] - 0s 5ms/step - loss: 676.5763 - mae: 676.5763\n",
            "Epoch 63/500\n",
            "2/2 [==============================] - 0s 5ms/step - loss: 670.2355 - mae: 670.2355\n",
            "Epoch 64/500\n",
            "2/2 [==============================] - 0s 5ms/step - loss: 661.2488 - mae: 661.2488\n",
            "Epoch 65/500\n",
            "2/2 [==============================] - 0s 6ms/step - loss: 666.4781 - mae: 666.4781\n",
            "Epoch 66/500\n",
            "2/2 [==============================] - 0s 5ms/step - loss: 650.8398 - mae: 650.8398\n",
            "Epoch 67/500\n",
            "2/2 [==============================] - 0s 8ms/step - loss: 644.8496 - mae: 644.8496\n",
            "Epoch 68/500\n",
            "2/2 [==============================] - 0s 4ms/step - loss: 640.7029 - mae: 640.7029\n",
            "Epoch 69/500\n",
            "2/2 [==============================] - 0s 4ms/step - loss: 635.8969 - mae: 635.8969\n",
            "Epoch 70/500\n",
            "2/2 [==============================] - 0s 5ms/step - loss: 631.4963 - mae: 631.4963\n",
            "Epoch 71/500\n",
            "2/2 [==============================] - 0s 6ms/step - loss: 619.1036 - mae: 619.1036\n",
            "Epoch 72/500\n",
            "2/2 [==============================] - 0s 5ms/step - loss: 612.7256 - mae: 612.7256\n",
            "Epoch 73/500\n",
            "2/2 [==============================] - 0s 9ms/step - loss: 605.4804 - mae: 605.4804\n",
            "Epoch 74/500\n",
            "2/2 [==============================] - 0s 5ms/step - loss: 609.3248 - mae: 609.3248\n",
            "Epoch 75/500\n",
            "2/2 [==============================] - 0s 9ms/step - loss: 595.5618 - mae: 595.5618\n",
            "Epoch 76/500\n",
            "2/2 [==============================] - 0s 4ms/step - loss: 589.3892 - mae: 589.3892\n",
            "Epoch 77/500\n",
            "2/2 [==============================] - 0s 5ms/step - loss: 575.5654 - mae: 575.5654\n",
            "Epoch 78/500\n",
            "2/2 [==============================] - 0s 17ms/step - loss: 567.2414 - mae: 567.2414\n",
            "Epoch 79/500\n",
            "2/2 [==============================] - 0s 7ms/step - loss: 561.7523 - mae: 561.7523\n",
            "Epoch 80/500\n",
            "2/2 [==============================] - 0s 8ms/step - loss: 556.8301 - mae: 556.8301\n",
            "Epoch 81/500\n",
            "2/2 [==============================] - 0s 7ms/step - loss: 543.8560 - mae: 543.8560\n",
            "Epoch 82/500\n",
            "2/2 [==============================] - 0s 6ms/step - loss: 535.3904 - mae: 535.3904\n",
            "Epoch 83/500\n",
            "2/2 [==============================] - 0s 6ms/step - loss: 527.6205 - mae: 527.6205\n",
            "Epoch 84/500\n",
            "2/2 [==============================] - 0s 7ms/step - loss: 517.3331 - mae: 517.3331\n",
            "Epoch 85/500\n",
            "2/2 [==============================] - 0s 8ms/step - loss: 513.1967 - mae: 513.1967\n",
            "Epoch 86/500\n",
            "2/2 [==============================] - 0s 15ms/step - loss: 500.8587 - mae: 500.8587\n",
            "Epoch 87/500\n",
            "2/2 [==============================] - 0s 7ms/step - loss: 503.1275 - mae: 503.1275\n",
            "Epoch 88/500\n",
            "2/2 [==============================] - 0s 7ms/step - loss: 483.9789 - mae: 483.9789\n",
            "Epoch 89/500\n",
            "2/2 [==============================] - 0s 5ms/step - loss: 472.8275 - mae: 472.8275\n",
            "Epoch 90/500\n",
            "2/2 [==============================] - 0s 4ms/step - loss: 470.6613 - mae: 470.6613\n",
            "Epoch 91/500\n",
            "2/2 [==============================] - 0s 6ms/step - loss: 487.9096 - mae: 487.9096\n",
            "Epoch 92/500\n",
            "2/2 [==============================] - 0s 6ms/step - loss: 454.9745 - mae: 454.9745\n",
            "Epoch 93/500\n",
            "2/2 [==============================] - 0s 5ms/step - loss: 447.0506 - mae: 447.0506\n",
            "Epoch 94/500\n",
            "2/2 [==============================] - 0s 5ms/step - loss: 426.9037 - mae: 426.9037\n",
            "Epoch 95/500\n",
            "2/2 [==============================] - 0s 5ms/step - loss: 420.3523 - mae: 420.3523\n",
            "Epoch 96/500\n",
            "2/2 [==============================] - 0s 5ms/step - loss: 418.1542 - mae: 418.1542\n",
            "Epoch 97/500\n",
            "2/2 [==============================] - 0s 6ms/step - loss: 421.1413 - mae: 421.1413\n",
            "Epoch 98/500\n",
            "2/2 [==============================] - 0s 5ms/step - loss: 405.2074 - mae: 405.2074\n",
            "Epoch 99/500\n",
            "2/2 [==============================] - 0s 5ms/step - loss: 386.5788 - mae: 386.5788\n",
            "Epoch 100/500\n",
            "2/2 [==============================] - 0s 6ms/step - loss: 376.8545 - mae: 376.8545\n",
            "Epoch 101/500\n",
            "2/2 [==============================] - 0s 5ms/step - loss: 372.9376 - mae: 372.9376\n",
            "Epoch 102/500\n",
            "2/2 [==============================] - 0s 5ms/step - loss: 360.8312 - mae: 360.8312\n",
            "Epoch 103/500\n",
            "2/2 [==============================] - 0s 5ms/step - loss: 351.8570 - mae: 351.8570\n",
            "Epoch 104/500\n",
            "2/2 [==============================] - 0s 9ms/step - loss: 344.8412 - mae: 344.8412\n",
            "Epoch 105/500\n",
            "2/2 [==============================] - 0s 6ms/step - loss: 336.6883 - mae: 336.6883\n",
            "Epoch 106/500\n",
            "2/2 [==============================] - 0s 5ms/step - loss: 326.9040 - mae: 326.9040\n",
            "Epoch 107/500\n",
            "2/2 [==============================] - 0s 5ms/step - loss: 336.7607 - mae: 336.7607\n",
            "Epoch 108/500\n",
            "2/2 [==============================] - 0s 11ms/step - loss: 320.8297 - mae: 320.8297\n",
            "Epoch 109/500\n",
            "2/2 [==============================] - 0s 6ms/step - loss: 350.9857 - mae: 350.9857\n",
            "Epoch 110/500\n",
            "2/2 [==============================] - 0s 7ms/step - loss: 323.6435 - mae: 323.6435\n",
            "Epoch 111/500\n",
            "2/2 [==============================] - 0s 5ms/step - loss: 302.7685 - mae: 302.7685\n",
            "Epoch 112/500\n",
            "2/2 [==============================] - 0s 5ms/step - loss: 301.7868 - mae: 301.7868\n",
            "Epoch 113/500\n",
            "2/2 [==============================] - 0s 6ms/step - loss: 275.2383 - mae: 275.2383\n",
            "Epoch 114/500\n",
            "2/2 [==============================] - 0s 5ms/step - loss: 274.1284 - mae: 274.1284\n",
            "Epoch 115/500\n",
            "2/2 [==============================] - 0s 9ms/step - loss: 259.3996 - mae: 259.3996\n",
            "Epoch 116/500\n",
            "2/2 [==============================] - 0s 5ms/step - loss: 262.3575 - mae: 262.3575\n",
            "Epoch 117/500\n",
            "2/2 [==============================] - 0s 6ms/step - loss: 255.9235 - mae: 255.9235\n",
            "Epoch 118/500\n",
            "2/2 [==============================] - 0s 6ms/step - loss: 242.8765 - mae: 242.8765\n",
            "Epoch 119/500\n",
            "2/2 [==============================] - 0s 6ms/step - loss: 239.1875 - mae: 239.1875\n",
            "Epoch 120/500\n",
            "2/2 [==============================] - 0s 6ms/step - loss: 228.5479 - mae: 228.5479\n",
            "Epoch 121/500\n",
            "2/2 [==============================] - 0s 5ms/step - loss: 248.3904 - mae: 248.3904\n",
            "Epoch 122/500\n",
            "2/2 [==============================] - 0s 5ms/step - loss: 270.7193 - mae: 270.7193\n",
            "Epoch 123/500\n",
            "2/2 [==============================] - 0s 6ms/step - loss: 244.4328 - mae: 244.4328\n",
            "Epoch 124/500\n",
            "2/2 [==============================] - 0s 5ms/step - loss: 248.7200 - mae: 248.7200\n",
            "Epoch 125/500\n",
            "2/2 [==============================] - 0s 5ms/step - loss: 244.3494 - mae: 244.3494\n",
            "Epoch 126/500\n",
            "2/2 [==============================] - 0s 8ms/step - loss: 234.5605 - mae: 234.5605\n",
            "Epoch 127/500\n",
            "2/2 [==============================] - 0s 5ms/step - loss: 204.1539 - mae: 204.1539\n",
            "Epoch 128/500\n",
            "2/2 [==============================] - 0s 6ms/step - loss: 265.0132 - mae: 265.0132\n",
            "Epoch 129/500\n",
            "2/2 [==============================] - 0s 5ms/step - loss: 267.1902 - mae: 267.1902\n",
            "Epoch 130/500\n",
            "2/2 [==============================] - 0s 6ms/step - loss: 248.1494 - mae: 248.1494\n",
            "Epoch 131/500\n",
            "2/2 [==============================] - 0s 8ms/step - loss: 224.3880 - mae: 224.3880\n",
            "Epoch 132/500\n",
            "2/2 [==============================] - 0s 5ms/step - loss: 193.8351 - mae: 193.8351\n",
            "Epoch 133/500\n",
            "2/2 [==============================] - 0s 5ms/step - loss: 202.8745 - mae: 202.8745\n",
            "Epoch 134/500\n",
            "2/2 [==============================] - 0s 15ms/step - loss: 188.0368 - mae: 188.0368\n",
            "Epoch 135/500\n",
            "2/2 [==============================] - 0s 16ms/step - loss: 190.3024 - mae: 190.3024\n",
            "Epoch 136/500\n",
            "2/2 [==============================] - 0s 7ms/step - loss: 251.9718 - mae: 251.9718\n",
            "Epoch 137/500\n",
            "2/2 [==============================] - 0s 7ms/step - loss: 162.7893 - mae: 162.7893\n",
            "Epoch 138/500\n",
            "2/2 [==============================] - 0s 9ms/step - loss: 207.8650 - mae: 207.8650\n",
            "Epoch 139/500\n",
            "2/2 [==============================] - 0s 10ms/step - loss: 168.6777 - mae: 168.6777\n",
            "Epoch 140/500\n",
            "2/2 [==============================] - 0s 15ms/step - loss: 171.8003 - mae: 171.8003\n",
            "Epoch 141/500\n",
            "2/2 [==============================] - 0s 4ms/step - loss: 159.4474 - mae: 159.4474\n",
            "Epoch 142/500\n",
            "2/2 [==============================] - 0s 4ms/step - loss: 158.4796 - mae: 158.4796\n",
            "Epoch 143/500\n",
            "2/2 [==============================] - 0s 5ms/step - loss: 154.5269 - mae: 154.5269\n",
            "Epoch 144/500\n",
            "2/2 [==============================] - 0s 5ms/step - loss: 156.1700 - mae: 156.1700\n",
            "Epoch 145/500\n",
            "2/2 [==============================] - 0s 8ms/step - loss: 169.7428 - mae: 169.7428\n",
            "Epoch 146/500\n",
            "2/2 [==============================] - 0s 4ms/step - loss: 155.6483 - mae: 155.6483\n",
            "Epoch 147/500\n",
            "2/2 [==============================] - 0s 5ms/step - loss: 167.1759 - mae: 167.1759\n",
            "Epoch 148/500\n",
            "2/2 [==============================] - 0s 5ms/step - loss: 154.7686 - mae: 154.7686\n",
            "Epoch 149/500\n",
            "2/2 [==============================] - 0s 5ms/step - loss: 209.8683 - mae: 209.8683\n",
            "Epoch 150/500\n",
            "2/2 [==============================] - 0s 5ms/step - loss: 180.5675 - mae: 180.5675\n",
            "Epoch 151/500\n",
            "2/2 [==============================] - 0s 10ms/step - loss: 176.2407 - mae: 176.2407\n",
            "Epoch 152/500\n",
            "2/2 [==============================] - 0s 5ms/step - loss: 171.3468 - mae: 171.3468\n",
            "Epoch 153/500\n",
            "2/2 [==============================] - 0s 5ms/step - loss: 153.1401 - mae: 153.1401\n",
            "Epoch 154/500\n",
            "2/2 [==============================] - 0s 5ms/step - loss: 171.2661 - mae: 171.2661\n",
            "Epoch 155/500\n",
            "2/2 [==============================] - 0s 5ms/step - loss: 170.5587 - mae: 170.5587\n",
            "Epoch 156/500\n",
            "2/2 [==============================] - 0s 4ms/step - loss: 136.2315 - mae: 136.2316\n",
            "Epoch 157/500\n",
            "2/2 [==============================] - 0s 6ms/step - loss: 131.7789 - mae: 131.7789\n",
            "Epoch 158/500\n",
            "2/2 [==============================] - 0s 5ms/step - loss: 137.3134 - mae: 137.3134\n",
            "Epoch 159/500\n",
            "2/2 [==============================] - 0s 6ms/step - loss: 128.4213 - mae: 128.4213\n",
            "Epoch 160/500\n",
            "2/2 [==============================] - 0s 5ms/step - loss: 118.6775 - mae: 118.6775\n",
            "Epoch 161/500\n",
            "2/2 [==============================] - 0s 5ms/step - loss: 115.3601 - mae: 115.3601\n",
            "Epoch 162/500\n",
            "2/2 [==============================] - 0s 4ms/step - loss: 113.3232 - mae: 113.3232\n",
            "Epoch 163/500\n",
            "2/2 [==============================] - 0s 5ms/step - loss: 118.2807 - mae: 118.2807\n",
            "Epoch 164/500\n",
            "2/2 [==============================] - 0s 6ms/step - loss: 123.8500 - mae: 123.8500\n",
            "Epoch 165/500\n",
            "2/2 [==============================] - 0s 9ms/step - loss: 187.0632 - mae: 187.0632\n",
            "Epoch 166/500\n",
            "2/2 [==============================] - 0s 5ms/step - loss: 152.6051 - mae: 152.6051\n",
            "Epoch 167/500\n",
            "2/2 [==============================] - 0s 5ms/step - loss: 164.9515 - mae: 164.9515\n",
            "Epoch 168/500\n",
            "2/2 [==============================] - 0s 5ms/step - loss: 244.0617 - mae: 244.0617\n",
            "Epoch 169/500\n",
            "2/2 [==============================] - 0s 7ms/step - loss: 211.6750 - mae: 211.6750\n",
            "Epoch 170/500\n",
            "2/2 [==============================] - 0s 7ms/step - loss: 159.7665 - mae: 159.7665\n",
            "Epoch 171/500\n",
            "2/2 [==============================] - 0s 4ms/step - loss: 192.6194 - mae: 192.6194\n",
            "Epoch 172/500\n",
            "2/2 [==============================] - 0s 5ms/step - loss: 246.1316 - mae: 246.1316\n",
            "Epoch 173/500\n",
            "2/2 [==============================] - 0s 5ms/step - loss: 178.5765 - mae: 178.5765\n",
            "Epoch 174/500\n",
            "2/2 [==============================] - 0s 5ms/step - loss: 320.5448 - mae: 320.5448\n",
            "Epoch 175/500\n",
            "2/2 [==============================] - 0s 4ms/step - loss: 173.8469 - mae: 173.8469\n",
            "Epoch 176/500\n",
            "2/2 [==============================] - 0s 7ms/step - loss: 205.4677 - mae: 205.4677\n",
            "Epoch 177/500\n",
            "2/2 [==============================] - 0s 5ms/step - loss: 186.5396 - mae: 186.5396\n",
            "Epoch 178/500\n",
            "2/2 [==============================] - 0s 4ms/step - loss: 158.2028 - mae: 158.2028\n",
            "Epoch 179/500\n",
            "2/2 [==============================] - 0s 4ms/step - loss: 162.2337 - mae: 162.2337\n",
            "Epoch 180/500\n",
            "2/2 [==============================] - 0s 5ms/step - loss: 196.3799 - mae: 196.3799\n",
            "Epoch 181/500\n",
            "2/2 [==============================] - 0s 5ms/step - loss: 158.0113 - mae: 158.0113\n",
            "Epoch 182/500\n",
            "2/2 [==============================] - 0s 5ms/step - loss: 120.7859 - mae: 120.7859\n",
            "Epoch 183/500\n",
            "2/2 [==============================] - 0s 6ms/step - loss: 122.4481 - mae: 122.4481\n",
            "Epoch 184/500\n",
            "2/2 [==============================] - 0s 5ms/step - loss: 123.5699 - mae: 123.5699\n",
            "Epoch 185/500\n",
            "2/2 [==============================] - 0s 5ms/step - loss: 96.2318 - mae: 96.2318\n",
            "Epoch 186/500\n",
            "2/2 [==============================] - 0s 4ms/step - loss: 132.9727 - mae: 132.9727\n",
            "Epoch 187/500\n",
            "2/2 [==============================] - 0s 19ms/step - loss: 173.3971 - mae: 173.3971\n",
            "Epoch 188/500\n",
            "2/2 [==============================] - 0s 10ms/step - loss: 168.9093 - mae: 168.9093\n",
            "Epoch 189/500\n",
            "2/2 [==============================] - 0s 11ms/step - loss: 145.7573 - mae: 145.7573\n",
            "Epoch 190/500\n",
            "2/2 [==============================] - 0s 9ms/step - loss: 212.5633 - mae: 212.5633\n",
            "Epoch 191/500\n",
            "2/2 [==============================] - 0s 4ms/step - loss: 159.4124 - mae: 159.4124\n",
            "Epoch 192/500\n",
            "2/2 [==============================] - 0s 7ms/step - loss: 134.9456 - mae: 134.9456\n",
            "Epoch 193/500\n",
            "2/2 [==============================] - 0s 9ms/step - loss: 175.4070 - mae: 175.4070\n",
            "Epoch 194/500\n",
            "2/2 [==============================] - 0s 7ms/step - loss: 155.5277 - mae: 155.5277\n",
            "Epoch 195/500\n",
            "2/2 [==============================] - 0s 6ms/step - loss: 203.1921 - mae: 203.1921\n",
            "Epoch 196/500\n",
            "2/2 [==============================] - 0s 7ms/step - loss: 211.3938 - mae: 211.3938\n",
            "Epoch 197/500\n",
            "2/2 [==============================] - 0s 4ms/step - loss: 209.2597 - mae: 209.2597\n",
            "Epoch 198/500\n",
            "2/2 [==============================] - 0s 4ms/step - loss: 155.0151 - mae: 155.0151\n",
            "Epoch 199/500\n",
            "2/2 [==============================] - 0s 7ms/step - loss: 103.9256 - mae: 103.9256\n",
            "Epoch 200/500\n",
            "2/2 [==============================] - 0s 5ms/step - loss: 98.1286 - mae: 98.1286\n",
            "Epoch 201/500\n",
            "2/2 [==============================] - 0s 6ms/step - loss: 90.3781 - mae: 90.3781\n",
            "Epoch 202/500\n",
            "2/2 [==============================] - 0s 5ms/step - loss: 147.4686 - mae: 147.4686\n",
            "Epoch 203/500\n",
            "2/2 [==============================] - 0s 4ms/step - loss: 131.1004 - mae: 131.1004\n",
            "Epoch 204/500\n",
            "2/2 [==============================] - 0s 8ms/step - loss: 84.4795 - mae: 84.4795\n",
            "Epoch 205/500\n",
            "2/2 [==============================] - 0s 6ms/step - loss: 94.2044 - mae: 94.2044\n",
            "Epoch 206/500\n",
            "2/2 [==============================] - 0s 19ms/step - loss: 91.4932 - mae: 91.4932\n",
            "Epoch 207/500\n",
            "2/2 [==============================] - 0s 8ms/step - loss: 86.3141 - mae: 86.3141\n",
            "Epoch 208/500\n",
            "2/2 [==============================] - 0s 17ms/step - loss: 88.7799 - mae: 88.7799\n",
            "Epoch 209/500\n",
            "2/2 [==============================] - 0s 19ms/step - loss: 76.9838 - mae: 76.9838\n",
            "Epoch 210/500\n",
            "2/2 [==============================] - 0s 4ms/step - loss: 77.2847 - mae: 77.2847\n",
            "Epoch 211/500\n",
            "2/2 [==============================] - 0s 4ms/step - loss: 75.2211 - mae: 75.2211\n",
            "Epoch 212/500\n",
            "2/2 [==============================] - 0s 4ms/step - loss: 77.6153 - mae: 77.6153\n",
            "Epoch 213/500\n",
            "2/2 [==============================] - 0s 5ms/step - loss: 94.3079 - mae: 94.3079\n",
            "Epoch 214/500\n",
            "2/2 [==============================] - 0s 4ms/step - loss: 75.9567 - mae: 75.9567\n",
            "Epoch 215/500\n",
            "2/2 [==============================] - 0s 4ms/step - loss: 72.9685 - mae: 72.9685\n",
            "Epoch 216/500\n",
            "2/2 [==============================] - 0s 5ms/step - loss: 78.8831 - mae: 78.8831\n",
            "Epoch 217/500\n",
            "2/2 [==============================] - 0s 5ms/step - loss: 91.7477 - mae: 91.7477\n",
            "Epoch 218/500\n",
            "2/2 [==============================] - 0s 4ms/step - loss: 82.9478 - mae: 82.9478\n",
            "Epoch 219/500\n",
            "2/2 [==============================] - 0s 4ms/step - loss: 78.2861 - mae: 78.2861\n",
            "Epoch 220/500\n",
            "2/2 [==============================] - 0s 7ms/step - loss: 81.7294 - mae: 81.7294\n",
            "Epoch 221/500\n",
            "2/2 [==============================] - 0s 7ms/step - loss: 121.2186 - mae: 121.2186\n",
            "Epoch 222/500\n",
            "2/2 [==============================] - 0s 5ms/step - loss: 127.9024 - mae: 127.9024\n",
            "Epoch 223/500\n",
            "2/2 [==============================] - 0s 4ms/step - loss: 119.8951 - mae: 119.8951\n",
            "Epoch 224/500\n",
            "2/2 [==============================] - 0s 4ms/step - loss: 135.4045 - mae: 135.4045\n",
            "Epoch 225/500\n",
            "2/2 [==============================] - 0s 14ms/step - loss: 137.4535 - mae: 137.4535\n",
            "Epoch 226/500\n",
            "2/2 [==============================] - 0s 5ms/step - loss: 105.5875 - mae: 105.5875\n",
            "Epoch 227/500\n",
            "2/2 [==============================] - 0s 12ms/step - loss: 86.4650 - mae: 86.4650\n",
            "Epoch 228/500\n",
            "2/2 [==============================] - 0s 7ms/step - loss: 85.2395 - mae: 85.2395\n",
            "Epoch 229/500\n",
            "2/2 [==============================] - 0s 12ms/step - loss: 81.5686 - mae: 81.5686\n",
            "Epoch 230/500\n",
            "2/2 [==============================] - 0s 9ms/step - loss: 82.8202 - mae: 82.8202\n",
            "Epoch 231/500\n",
            "2/2 [==============================] - 0s 13ms/step - loss: 64.1579 - mae: 64.1579\n",
            "Epoch 232/500\n",
            "2/2 [==============================] - 0s 14ms/step - loss: 68.4355 - mae: 68.4355\n",
            "Epoch 233/500\n",
            "2/2 [==============================] - 0s 14ms/step - loss: 64.9461 - mae: 64.9461\n",
            "Epoch 234/500\n",
            "2/2 [==============================] - 0s 14ms/step - loss: 60.9604 - mae: 60.9604\n",
            "Epoch 235/500\n",
            "2/2 [==============================] - 0s 7ms/step - loss: 111.4674 - mae: 111.4674\n",
            "Epoch 236/500\n",
            "2/2 [==============================] - 0s 12ms/step - loss: 121.4703 - mae: 121.4703\n",
            "Epoch 237/500\n",
            "2/2 [==============================] - 0s 20ms/step - loss: 86.3758 - mae: 86.3758\n",
            "Epoch 238/500\n",
            "2/2 [==============================] - 0s 5ms/step - loss: 62.2349 - mae: 62.2349\n",
            "Epoch 239/500\n",
            "2/2 [==============================] - 0s 5ms/step - loss: 66.1995 - mae: 66.1995\n",
            "Epoch 240/500\n",
            "2/2 [==============================] - 0s 8ms/step - loss: 67.0199 - mae: 67.0199\n",
            "Epoch 241/500\n",
            "2/2 [==============================] - 0s 7ms/step - loss: 84.8750 - mae: 84.8750\n",
            "Epoch 242/500\n",
            "2/2 [==============================] - 0s 4ms/step - loss: 60.9133 - mae: 60.9133\n",
            "Epoch 243/500\n",
            "2/2 [==============================] - 0s 5ms/step - loss: 73.4708 - mae: 73.4708\n",
            "Epoch 244/500\n",
            "2/2 [==============================] - 0s 5ms/step - loss: 58.5996 - mae: 58.5996\n",
            "Epoch 245/500\n",
            "2/2 [==============================] - 0s 6ms/step - loss: 69.9336 - mae: 69.9336\n",
            "Epoch 246/500\n",
            "2/2 [==============================] - 0s 7ms/step - loss: 70.5342 - mae: 70.5342\n",
            "Epoch 247/500\n",
            "2/2 [==============================] - 0s 5ms/step - loss: 69.8757 - mae: 69.8757\n",
            "Epoch 248/500\n",
            "2/2 [==============================] - 0s 5ms/step - loss: 96.7226 - mae: 96.7226\n",
            "Epoch 249/500\n",
            "2/2 [==============================] - 0s 14ms/step - loss: 93.2325 - mae: 93.2325\n",
            "Epoch 250/500\n",
            "2/2 [==============================] - 0s 5ms/step - loss: 101.0865 - mae: 101.0865\n",
            "Epoch 251/500\n",
            "2/2 [==============================] - 0s 5ms/step - loss: 94.1461 - mae: 94.1461\n",
            "Epoch 252/500\n",
            "2/2 [==============================] - 0s 6ms/step - loss: 113.4303 - mae: 113.4303\n",
            "Epoch 253/500\n",
            "2/2 [==============================] - 0s 9ms/step - loss: 76.7459 - mae: 76.7459\n",
            "Epoch 254/500\n",
            "2/2 [==============================] - 0s 6ms/step - loss: 59.1953 - mae: 59.1953\n",
            "Epoch 255/500\n",
            "2/2 [==============================] - 0s 9ms/step - loss: 61.2014 - mae: 61.2014\n",
            "Epoch 256/500\n",
            "2/2 [==============================] - 0s 6ms/step - loss: 58.3117 - mae: 58.3117\n",
            "Epoch 257/500\n",
            "2/2 [==============================] - 0s 11ms/step - loss: 57.5680 - mae: 57.5680\n",
            "Epoch 258/500\n",
            "2/2 [==============================] - 0s 4ms/step - loss: 86.6068 - mae: 86.6068\n",
            "Epoch 259/500\n",
            "2/2 [==============================] - 0s 5ms/step - loss: 89.8556 - mae: 89.8556\n",
            "Epoch 260/500\n",
            "2/2 [==============================] - 0s 7ms/step - loss: 102.9171 - mae: 102.9171\n",
            "Epoch 261/500\n",
            "2/2 [==============================] - 0s 6ms/step - loss: 135.8808 - mae: 135.8808\n",
            "Epoch 262/500\n",
            "2/2 [==============================] - 0s 6ms/step - loss: 121.6175 - mae: 121.6175\n",
            "Epoch 263/500\n",
            "2/2 [==============================] - 0s 6ms/step - loss: 171.6753 - mae: 171.6753\n",
            "Epoch 264/500\n",
            "2/2 [==============================] - 0s 8ms/step - loss: 185.9676 - mae: 185.9676\n",
            "Epoch 265/500\n",
            "2/2 [==============================] - 0s 5ms/step - loss: 136.0262 - mae: 136.0262\n",
            "Epoch 266/500\n",
            "2/2 [==============================] - 0s 5ms/step - loss: 91.9023 - mae: 91.9023\n",
            "Epoch 267/500\n",
            "2/2 [==============================] - 0s 5ms/step - loss: 163.8019 - mae: 163.8019\n",
            "Epoch 268/500\n",
            "2/2 [==============================] - 0s 8ms/step - loss: 92.4723 - mae: 92.4723\n",
            "Epoch 269/500\n",
            "2/2 [==============================] - 0s 6ms/step - loss: 116.4679 - mae: 116.4679\n",
            "Epoch 270/500\n",
            "2/2 [==============================] - 0s 7ms/step - loss: 77.5238 - mae: 77.5238\n",
            "Epoch 271/500\n",
            "2/2 [==============================] - 0s 4ms/step - loss: 87.7637 - mae: 87.7637\n",
            "Epoch 272/500\n",
            "2/2 [==============================] - 0s 5ms/step - loss: 189.2534 - mae: 189.2534\n",
            "Epoch 273/500\n",
            "2/2 [==============================] - 0s 13ms/step - loss: 127.6816 - mae: 127.6816\n",
            "Epoch 274/500\n",
            "2/2 [==============================] - 0s 9ms/step - loss: 203.2537 - mae: 203.2537\n",
            "Epoch 275/500\n",
            "2/2 [==============================] - 0s 9ms/step - loss: 91.0182 - mae: 91.0182\n",
            "Epoch 276/500\n",
            "2/2 [==============================] - 0s 5ms/step - loss: 84.1428 - mae: 84.1428\n",
            "Epoch 277/500\n",
            "2/2 [==============================] - 0s 5ms/step - loss: 78.4198 - mae: 78.4198\n",
            "Epoch 278/500\n",
            "2/2 [==============================] - 0s 6ms/step - loss: 100.7997 - mae: 100.7997\n",
            "Epoch 279/500\n",
            "2/2 [==============================] - 0s 11ms/step - loss: 82.6212 - mae: 82.6212\n",
            "Epoch 280/500\n",
            "2/2 [==============================] - 0s 5ms/step - loss: 94.3801 - mae: 94.3801\n",
            "Epoch 281/500\n",
            "2/2 [==============================] - 0s 6ms/step - loss: 54.7405 - mae: 54.7405\n",
            "Epoch 282/500\n",
            "2/2 [==============================] - 0s 12ms/step - loss: 57.0755 - mae: 57.0755\n",
            "Epoch 283/500\n",
            "2/2 [==============================] - 0s 5ms/step - loss: 59.0010 - mae: 59.0010\n",
            "Epoch 284/500\n",
            "2/2 [==============================] - 0s 8ms/step - loss: 63.8782 - mae: 63.8782\n",
            "Epoch 285/500\n",
            "2/2 [==============================] - 0s 5ms/step - loss: 73.1989 - mae: 73.1989\n",
            "Epoch 286/500\n",
            "2/2 [==============================] - 0s 6ms/step - loss: 65.6483 - mae: 65.6483\n",
            "Epoch 287/500\n",
            "2/2 [==============================] - 0s 15ms/step - loss: 51.2308 - mae: 51.2308\n",
            "Epoch 288/500\n",
            "2/2 [==============================] - 0s 5ms/step - loss: 95.3966 - mae: 95.3966\n",
            "Epoch 289/500\n",
            "2/2 [==============================] - 0s 11ms/step - loss: 138.0038 - mae: 138.0038\n",
            "Epoch 290/500\n",
            "2/2 [==============================] - 0s 5ms/step - loss: 85.0047 - mae: 85.0047\n",
            "Epoch 291/500\n",
            "2/2 [==============================] - 0s 7ms/step - loss: 78.9924 - mae: 78.9924\n",
            "Epoch 292/500\n",
            "2/2 [==============================] - 0s 6ms/step - loss: 70.5607 - mae: 70.5607\n",
            "Epoch 293/500\n",
            "2/2 [==============================] - 0s 7ms/step - loss: 94.8097 - mae: 94.8097\n",
            "Epoch 294/500\n",
            "2/2 [==============================] - 0s 5ms/step - loss: 65.3554 - mae: 65.3554\n",
            "Epoch 295/500\n",
            "2/2 [==============================] - 0s 6ms/step - loss: 96.6677 - mae: 96.6677\n",
            "Epoch 296/500\n",
            "2/2 [==============================] - 0s 11ms/step - loss: 87.8865 - mae: 87.8865\n",
            "Epoch 297/500\n",
            "2/2 [==============================] - 0s 7ms/step - loss: 133.1192 - mae: 133.1192\n",
            "Epoch 298/500\n",
            "2/2 [==============================] - 0s 9ms/step - loss: 127.6561 - mae: 127.6561\n",
            "Epoch 299/500\n",
            "2/2 [==============================] - 0s 8ms/step - loss: 109.0508 - mae: 109.0508\n",
            "Epoch 300/500\n",
            "2/2 [==============================] - 0s 8ms/step - loss: 165.9257 - mae: 165.9257\n",
            "Epoch 301/500\n",
            "2/2 [==============================] - 0s 13ms/step - loss: 94.1101 - mae: 94.1101\n",
            "Epoch 302/500\n",
            "2/2 [==============================] - 0s 11ms/step - loss: 106.2611 - mae: 106.2611\n",
            "Epoch 303/500\n",
            "2/2 [==============================] - 0s 20ms/step - loss: 160.8387 - mae: 160.8387\n",
            "Epoch 304/500\n",
            "2/2 [==============================] - 0s 11ms/step - loss: 103.1362 - mae: 103.1362\n",
            "Epoch 305/500\n",
            "2/2 [==============================] - 0s 4ms/step - loss: 119.7202 - mae: 119.7202\n",
            "Epoch 306/500\n",
            "2/2 [==============================] - 0s 4ms/step - loss: 217.3060 - mae: 217.3060\n",
            "Epoch 307/500\n",
            "2/2 [==============================] - 0s 7ms/step - loss: 98.7680 - mae: 98.7680\n",
            "Epoch 308/500\n",
            "2/2 [==============================] - 0s 6ms/step - loss: 129.3723 - mae: 129.3723\n",
            "Epoch 309/500\n",
            "2/2 [==============================] - 0s 9ms/step - loss: 73.3729 - mae: 73.3729\n",
            "Epoch 310/500\n",
            "2/2 [==============================] - 0s 6ms/step - loss: 104.8357 - mae: 104.8357\n",
            "Epoch 311/500\n",
            "2/2 [==============================] - 0s 4ms/step - loss: 112.8081 - mae: 112.8081\n",
            "Epoch 312/500\n",
            "2/2 [==============================] - 0s 6ms/step - loss: 93.4659 - mae: 93.4659\n",
            "Epoch 313/500\n",
            "2/2 [==============================] - 0s 6ms/step - loss: 90.4664 - mae: 90.4664\n",
            "Epoch 314/500\n",
            "2/2 [==============================] - 0s 7ms/step - loss: 63.6529 - mae: 63.6529\n",
            "Epoch 315/500\n",
            "2/2 [==============================] - 0s 4ms/step - loss: 62.0163 - mae: 62.0163\n",
            "Epoch 316/500\n",
            "2/2 [==============================] - 0s 5ms/step - loss: 52.6560 - mae: 52.6560\n",
            "Epoch 317/500\n",
            "2/2 [==============================] - 0s 4ms/step - loss: 49.7339 - mae: 49.7339\n",
            "Epoch 318/500\n",
            "2/2 [==============================] - 0s 5ms/step - loss: 62.7981 - mae: 62.7981\n",
            "Epoch 319/500\n",
            "2/2 [==============================] - 0s 14ms/step - loss: 54.4203 - mae: 54.4203\n",
            "Epoch 320/500\n",
            "2/2 [==============================] - 0s 10ms/step - loss: 59.9830 - mae: 59.9830\n",
            "Epoch 321/500\n",
            "2/2 [==============================] - 0s 6ms/step - loss: 83.5404 - mae: 83.5404\n",
            "Epoch 322/500\n",
            "2/2 [==============================] - 0s 6ms/step - loss: 88.9232 - mae: 88.9232\n",
            "Epoch 323/500\n",
            "2/2 [==============================] - 0s 11ms/step - loss: 112.3845 - mae: 112.3845\n",
            "Epoch 324/500\n",
            "2/2 [==============================] - 0s 4ms/step - loss: 92.9452 - mae: 92.9452\n",
            "Epoch 325/500\n",
            "2/2 [==============================] - 0s 6ms/step - loss: 80.4886 - mae: 80.4886\n",
            "Epoch 326/500\n",
            "2/2 [==============================] - 0s 5ms/step - loss: 125.0864 - mae: 125.0864\n",
            "Epoch 327/500\n",
            "2/2 [==============================] - 0s 5ms/step - loss: 100.3971 - mae: 100.3971\n",
            "Epoch 328/500\n",
            "2/2 [==============================] - 0s 10ms/step - loss: 80.2500 - mae: 80.2500\n",
            "Epoch 329/500\n",
            "2/2 [==============================] - 0s 9ms/step - loss: 73.4951 - mae: 73.4951\n",
            "Epoch 330/500\n",
            "2/2 [==============================] - 0s 5ms/step - loss: 41.9105 - mae: 41.9105\n",
            "Epoch 331/500\n",
            "2/2 [==============================] - 0s 5ms/step - loss: 45.7276 - mae: 45.7276\n",
            "Epoch 332/500\n",
            "2/2 [==============================] - 0s 16ms/step - loss: 53.0575 - mae: 53.0575\n",
            "Epoch 333/500\n",
            "2/2 [==============================] - 0s 13ms/step - loss: 44.3514 - mae: 44.3514\n",
            "Epoch 334/500\n",
            "2/2 [==============================] - 0s 7ms/step - loss: 61.5101 - mae: 61.5101\n",
            "Epoch 335/500\n",
            "2/2 [==============================] - 0s 5ms/step - loss: 70.0284 - mae: 70.0284\n",
            "Epoch 336/500\n",
            "2/2 [==============================] - 0s 12ms/step - loss: 74.9839 - mae: 74.9839\n",
            "Epoch 337/500\n",
            "2/2 [==============================] - 0s 8ms/step - loss: 80.0939 - mae: 80.0939\n",
            "Epoch 338/500\n",
            "2/2 [==============================] - 0s 14ms/step - loss: 76.6815 - mae: 76.6815\n",
            "Epoch 339/500\n",
            "2/2 [==============================] - 0s 9ms/step - loss: 93.6325 - mae: 93.6325\n",
            "Epoch 340/500\n",
            "2/2 [==============================] - 0s 7ms/step - loss: 68.7990 - mae: 68.7990\n",
            "Epoch 341/500\n",
            "2/2 [==============================] - 0s 5ms/step - loss: 56.5232 - mae: 56.5232\n",
            "Epoch 342/500\n",
            "2/2 [==============================] - 0s 4ms/step - loss: 39.9169 - mae: 39.9169\n",
            "Epoch 343/500\n",
            "2/2 [==============================] - 0s 6ms/step - loss: 39.9853 - mae: 39.9853\n",
            "Epoch 344/500\n",
            "2/2 [==============================] - 0s 4ms/step - loss: 80.4715 - mae: 80.4715\n",
            "Epoch 345/500\n",
            "2/2 [==============================] - 0s 5ms/step - loss: 105.1281 - mae: 105.1281\n",
            "Epoch 346/500\n",
            "2/2 [==============================] - 0s 6ms/step - loss: 53.5385 - mae: 53.5385\n",
            "Epoch 347/500\n",
            "2/2 [==============================] - 0s 5ms/step - loss: 44.0802 - mae: 44.0802\n",
            "Epoch 348/500\n",
            "2/2 [==============================] - 0s 5ms/step - loss: 52.8106 - mae: 52.8106\n",
            "Epoch 349/500\n",
            "2/2 [==============================] - 0s 5ms/step - loss: 57.1367 - mae: 57.1367\n",
            "Epoch 350/500\n",
            "2/2 [==============================] - 0s 7ms/step - loss: 87.0813 - mae: 87.0813\n",
            "Epoch 351/500\n",
            "2/2 [==============================] - 0s 10ms/step - loss: 65.6568 - mae: 65.6568\n",
            "Epoch 352/500\n",
            "2/2 [==============================] - 0s 9ms/step - loss: 70.7102 - mae: 70.7102\n",
            "Epoch 353/500\n",
            "2/2 [==============================] - 0s 4ms/step - loss: 107.2801 - mae: 107.2801\n",
            "Epoch 354/500\n",
            "2/2 [==============================] - 0s 9ms/step - loss: 109.0728 - mae: 109.0728\n",
            "Epoch 355/500\n",
            "2/2 [==============================] - 0s 15ms/step - loss: 85.6755 - mae: 85.6755\n",
            "Epoch 356/500\n",
            "2/2 [==============================] - 0s 9ms/step - loss: 129.0588 - mae: 129.0588\n",
            "Epoch 357/500\n",
            "2/2 [==============================] - 0s 5ms/step - loss: 91.6816 - mae: 91.6816\n",
            "Epoch 358/500\n",
            "2/2 [==============================] - 0s 6ms/step - loss: 76.1872 - mae: 76.1872\n",
            "Epoch 359/500\n",
            "2/2 [==============================] - 0s 9ms/step - loss: 81.6900 - mae: 81.6900\n",
            "Epoch 360/500\n",
            "2/2 [==============================] - 0s 12ms/step - loss: 69.4174 - mae: 69.4174\n",
            "Epoch 361/500\n",
            "2/2 [==============================] - 0s 11ms/step - loss: 87.7472 - mae: 87.7472\n",
            "Epoch 362/500\n",
            "2/2 [==============================] - 0s 4ms/step - loss: 65.0442 - mae: 65.0442\n",
            "Epoch 363/500\n",
            "2/2 [==============================] - 0s 5ms/step - loss: 49.3553 - mae: 49.3553\n",
            "Epoch 364/500\n",
            "2/2 [==============================] - 0s 5ms/step - loss: 54.3632 - mae: 54.3632\n",
            "Epoch 365/500\n",
            "2/2 [==============================] - 0s 10ms/step - loss: 44.1698 - mae: 44.1698\n",
            "Epoch 366/500\n",
            "2/2 [==============================] - 0s 5ms/step - loss: 57.3898 - mae: 57.3898\n",
            "Epoch 367/500\n",
            "2/2 [==============================] - 0s 7ms/step - loss: 48.9623 - mae: 48.9623\n",
            "Epoch 368/500\n",
            "2/2 [==============================] - 0s 6ms/step - loss: 53.9689 - mae: 53.9689\n",
            "Epoch 369/500\n",
            "2/2 [==============================] - 0s 8ms/step - loss: 61.9090 - mae: 61.9090\n",
            "Epoch 370/500\n",
            "2/2 [==============================] - 0s 13ms/step - loss: 48.2423 - mae: 48.2423\n",
            "Epoch 371/500\n",
            "2/2 [==============================] - 0s 7ms/step - loss: 76.0890 - mae: 76.0890\n",
            "Epoch 372/500\n",
            "2/2 [==============================] - 0s 10ms/step - loss: 51.4832 - mae: 51.4832\n",
            "Epoch 373/500\n",
            "2/2 [==============================] - 0s 10ms/step - loss: 46.9462 - mae: 46.9462\n",
            "Epoch 374/500\n",
            "2/2 [==============================] - 0s 9ms/step - loss: 42.7781 - mae: 42.7781\n",
            "Epoch 375/500\n",
            "2/2 [==============================] - 0s 4ms/step - loss: 45.1229 - mae: 45.1229\n",
            "Epoch 376/500\n",
            "2/2 [==============================] - 0s 8ms/step - loss: 28.2085 - mae: 28.2085\n",
            "Epoch 377/500\n",
            "2/2 [==============================] - 0s 9ms/step - loss: 43.1935 - mae: 43.1935\n",
            "Epoch 378/500\n",
            "2/2 [==============================] - 0s 4ms/step - loss: 36.4040 - mae: 36.4040\n",
            "Epoch 379/500\n",
            "2/2 [==============================] - 0s 7ms/step - loss: 49.2335 - mae: 49.2335\n",
            "Epoch 380/500\n",
            "2/2 [==============================] - 0s 5ms/step - loss: 43.3559 - mae: 43.3559\n",
            "Epoch 381/500\n",
            "2/2 [==============================] - 0s 6ms/step - loss: 38.0056 - mae: 38.0056\n",
            "Epoch 382/500\n",
            "2/2 [==============================] - 0s 6ms/step - loss: 48.3659 - mae: 48.3659\n",
            "Epoch 383/500\n",
            "2/2 [==============================] - 0s 9ms/step - loss: 46.6103 - mae: 46.6103\n",
            "Epoch 384/500\n",
            "2/2 [==============================] - 0s 16ms/step - loss: 42.9738 - mae: 42.9738\n",
            "Epoch 385/500\n",
            "2/2 [==============================] - 0s 7ms/step - loss: 39.5898 - mae: 39.5898\n",
            "Epoch 386/500\n",
            "2/2 [==============================] - 0s 7ms/step - loss: 28.7913 - mae: 28.7913\n",
            "Epoch 387/500\n",
            "2/2 [==============================] - 0s 6ms/step - loss: 48.4114 - mae: 48.4114\n",
            "Epoch 388/500\n",
            "2/2 [==============================] - 0s 15ms/step - loss: 35.8376 - mae: 35.8376\n",
            "Epoch 389/500\n",
            "2/2 [==============================] - 0s 6ms/step - loss: 55.4389 - mae: 55.4389\n",
            "Epoch 390/500\n",
            "2/2 [==============================] - 0s 6ms/step - loss: 44.7329 - mae: 44.7329\n",
            "Epoch 391/500\n",
            "2/2 [==============================] - 0s 5ms/step - loss: 39.3544 - mae: 39.3544\n",
            "Epoch 392/500\n",
            "2/2 [==============================] - 0s 15ms/step - loss: 46.2719 - mae: 46.2719\n",
            "Epoch 393/500\n",
            "2/2 [==============================] - 0s 15ms/step - loss: 84.8150 - mae: 84.8150\n",
            "Epoch 394/500\n",
            "2/2 [==============================] - 0s 5ms/step - loss: 81.7678 - mae: 81.7678\n",
            "Epoch 395/500\n",
            "2/2 [==============================] - 0s 9ms/step - loss: 87.0016 - mae: 87.0016\n",
            "Epoch 396/500\n",
            "2/2 [==============================] - 0s 8ms/step - loss: 114.6815 - mae: 114.6815\n",
            "Epoch 397/500\n",
            "2/2 [==============================] - 0s 12ms/step - loss: 73.2830 - mae: 73.2830\n",
            "Epoch 398/500\n",
            "2/2 [==============================] - 0s 4ms/step - loss: 86.4125 - mae: 86.4125\n",
            "Epoch 399/500\n",
            "2/2 [==============================] - 0s 6ms/step - loss: 87.2002 - mae: 87.2002\n",
            "Epoch 400/500\n",
            "2/2 [==============================] - 0s 10ms/step - loss: 133.8695 - mae: 133.8695\n",
            "Epoch 401/500\n",
            "2/2 [==============================] - 0s 6ms/step - loss: 98.9164 - mae: 98.9164\n",
            "Epoch 402/500\n",
            "2/2 [==============================] - 0s 8ms/step - loss: 87.0817 - mae: 87.0817\n",
            "Epoch 403/500\n",
            "2/2 [==============================] - 0s 7ms/step - loss: 63.1945 - mae: 63.1945\n",
            "Epoch 404/500\n",
            "2/2 [==============================] - 0s 7ms/step - loss: 51.2907 - mae: 51.2907\n",
            "Epoch 405/500\n",
            "2/2 [==============================] - 0s 26ms/step - loss: 55.7058 - mae: 55.7058\n",
            "Epoch 406/500\n",
            "2/2 [==============================] - 0s 7ms/step - loss: 123.2232 - mae: 123.2232\n",
            "Epoch 407/500\n",
            "2/2 [==============================] - 0s 5ms/step - loss: 71.8672 - mae: 71.8672\n",
            "Epoch 408/500\n",
            "2/2 [==============================] - 0s 7ms/step - loss: 63.8403 - mae: 63.8403\n",
            "Epoch 409/500\n",
            "2/2 [==============================] - 0s 9ms/step - loss: 78.8733 - mae: 78.8733\n",
            "Epoch 410/500\n",
            "2/2 [==============================] - 0s 5ms/step - loss: 74.6979 - mae: 74.6979\n",
            "Epoch 411/500\n",
            "2/2 [==============================] - 0s 7ms/step - loss: 95.7504 - mae: 95.7504\n",
            "Epoch 412/500\n",
            "2/2 [==============================] - 0s 4ms/step - loss: 125.7284 - mae: 125.7284\n",
            "Epoch 413/500\n",
            "2/2 [==============================] - 0s 6ms/step - loss: 67.4852 - mae: 67.4852\n",
            "Epoch 414/500\n",
            "2/2 [==============================] - 0s 18ms/step - loss: 85.2466 - mae: 85.2466\n",
            "Epoch 415/500\n",
            "2/2 [==============================] - 0s 5ms/step - loss: 68.1248 - mae: 68.1248\n",
            "Epoch 416/500\n",
            "2/2 [==============================] - 0s 4ms/step - loss: 159.8703 - mae: 159.8703\n",
            "Epoch 417/500\n",
            "2/2 [==============================] - 0s 12ms/step - loss: 98.4542 - mae: 98.4542\n",
            "Epoch 418/500\n",
            "2/2 [==============================] - 0s 15ms/step - loss: 135.1143 - mae: 135.1143\n",
            "Epoch 419/500\n",
            "2/2 [==============================] - 0s 15ms/step - loss: 148.9621 - mae: 148.9621\n",
            "Epoch 420/500\n",
            "2/2 [==============================] - 0s 11ms/step - loss: 99.6342 - mae: 99.6342\n",
            "Epoch 421/500\n",
            "2/2 [==============================] - 0s 8ms/step - loss: 81.5352 - mae: 81.5352\n",
            "Epoch 422/500\n",
            "2/2 [==============================] - 0s 9ms/step - loss: 55.8000 - mae: 55.8000\n",
            "Epoch 423/500\n",
            "2/2 [==============================] - 0s 6ms/step - loss: 77.7960 - mae: 77.7960\n",
            "Epoch 424/500\n",
            "2/2 [==============================] - 0s 13ms/step - loss: 58.9733 - mae: 58.9733\n",
            "Epoch 425/500\n",
            "2/2 [==============================] - 0s 23ms/step - loss: 53.5200 - mae: 53.5200\n",
            "Epoch 426/500\n",
            "2/2 [==============================] - 0s 4ms/step - loss: 38.8055 - mae: 38.8055\n",
            "Epoch 427/500\n",
            "2/2 [==============================] - 0s 5ms/step - loss: 56.7383 - mae: 56.7383\n",
            "Epoch 428/500\n",
            "2/2 [==============================] - 0s 7ms/step - loss: 74.0299 - mae: 74.0299\n",
            "Epoch 429/500\n",
            "2/2 [==============================] - 0s 9ms/step - loss: 86.0578 - mae: 86.0578\n",
            "Epoch 430/500\n",
            "2/2 [==============================] - 0s 7ms/step - loss: 103.4824 - mae: 103.4824\n",
            "Epoch 431/500\n",
            "2/2 [==============================] - 0s 9ms/step - loss: 61.0952 - mae: 61.0952\n",
            "Epoch 432/500\n",
            "2/2 [==============================] - 0s 5ms/step - loss: 57.6926 - mae: 57.6926\n",
            "Epoch 433/500\n",
            "2/2 [==============================] - 0s 4ms/step - loss: 38.5251 - mae: 38.5251\n",
            "Epoch 434/500\n",
            "2/2 [==============================] - 0s 5ms/step - loss: 49.5240 - mae: 49.5240\n",
            "Epoch 435/500\n",
            "2/2 [==============================] - 0s 7ms/step - loss: 51.4108 - mae: 51.4108\n",
            "Epoch 436/500\n",
            "2/2 [==============================] - 0s 5ms/step - loss: 56.0412 - mae: 56.0412\n",
            "Epoch 437/500\n",
            "2/2 [==============================] - 0s 6ms/step - loss: 65.9247 - mae: 65.9247\n",
            "Epoch 438/500\n",
            "2/2 [==============================] - 0s 7ms/step - loss: 78.5334 - mae: 78.5334\n",
            "Epoch 439/500\n",
            "2/2 [==============================] - 0s 5ms/step - loss: 66.0124 - mae: 66.0124\n",
            "Epoch 440/500\n",
            "2/2 [==============================] - 0s 5ms/step - loss: 61.7078 - mae: 61.7078\n",
            "Epoch 441/500\n",
            "2/2 [==============================] - 0s 6ms/step - loss: 45.9661 - mae: 45.9661\n",
            "Epoch 442/500\n",
            "2/2 [==============================] - 0s 5ms/step - loss: 37.5360 - mae: 37.5360\n",
            "Epoch 443/500\n",
            "2/2 [==============================] - 0s 9ms/step - loss: 80.4136 - mae: 80.4136\n",
            "Epoch 444/500\n",
            "2/2 [==============================] - 0s 4ms/step - loss: 76.3608 - mae: 76.3608\n",
            "Epoch 445/500\n",
            "2/2 [==============================] - 0s 7ms/step - loss: 46.2077 - mae: 46.2077\n",
            "Epoch 446/500\n",
            "2/2 [==============================] - 0s 7ms/step - loss: 38.0775 - mae: 38.0775\n",
            "Epoch 447/500\n",
            "2/2 [==============================] - 0s 14ms/step - loss: 84.9602 - mae: 84.9602\n",
            "Epoch 448/500\n",
            "2/2 [==============================] - 0s 7ms/step - loss: 57.1539 - mae: 57.1539\n",
            "Epoch 449/500\n",
            "2/2 [==============================] - 0s 11ms/step - loss: 74.9395 - mae: 74.9395\n",
            "Epoch 450/500\n",
            "2/2 [==============================] - 0s 14ms/step - loss: 87.5049 - mae: 87.5049\n",
            "Epoch 451/500\n",
            "2/2 [==============================] - 0s 9ms/step - loss: 51.3846 - mae: 51.3846\n",
            "Epoch 452/500\n",
            "2/2 [==============================] - 0s 5ms/step - loss: 42.6436 - mae: 42.6436\n",
            "Epoch 453/500\n",
            "2/2 [==============================] - 0s 8ms/step - loss: 114.2047 - mae: 114.2047\n",
            "Epoch 454/500\n",
            "2/2 [==============================] - 0s 7ms/step - loss: 70.7600 - mae: 70.7600\n",
            "Epoch 455/500\n",
            "2/2 [==============================] - 0s 4ms/step - loss: 68.9207 - mae: 68.9207\n",
            "Epoch 456/500\n",
            "2/2 [==============================] - 0s 10ms/step - loss: 47.6084 - mae: 47.6084\n",
            "Epoch 457/500\n",
            "2/2 [==============================] - 0s 12ms/step - loss: 59.9187 - mae: 59.9187\n",
            "Epoch 458/500\n",
            "2/2 [==============================] - 0s 12ms/step - loss: 41.7546 - mae: 41.7546\n",
            "Epoch 459/500\n",
            "2/2 [==============================] - 0s 12ms/step - loss: 79.7635 - mae: 79.7635\n",
            "Epoch 460/500\n",
            "2/2 [==============================] - 0s 14ms/step - loss: 121.3198 - mae: 121.3198\n",
            "Epoch 461/500\n",
            "2/2 [==============================] - 0s 6ms/step - loss: 120.5202 - mae: 120.5202\n",
            "Epoch 462/500\n",
            "2/2 [==============================] - 0s 8ms/step - loss: 162.5878 - mae: 162.5878\n",
            "Epoch 463/500\n",
            "2/2 [==============================] - 0s 19ms/step - loss: 112.2409 - mae: 112.2409\n",
            "Epoch 464/500\n",
            "2/2 [==============================] - 0s 4ms/step - loss: 106.5263 - mae: 106.5263\n",
            "Epoch 465/500\n",
            "2/2 [==============================] - 0s 5ms/step - loss: 182.6546 - mae: 182.6546\n",
            "Epoch 466/500\n",
            "2/2 [==============================] - 0s 7ms/step - loss: 66.1747 - mae: 66.1747\n",
            "Epoch 467/500\n",
            "2/2 [==============================] - 0s 7ms/step - loss: 85.1542 - mae: 85.1542\n",
            "Epoch 468/500\n",
            "2/2 [==============================] - 0s 6ms/step - loss: 133.5052 - mae: 133.5052\n",
            "Epoch 469/500\n",
            "2/2 [==============================] - 0s 15ms/step - loss: 92.6981 - mae: 92.6981\n",
            "Epoch 470/500\n",
            "2/2 [==============================] - 0s 8ms/step - loss: 262.8945 - mae: 262.8945\n",
            "Epoch 471/500\n",
            "2/2 [==============================] - 0s 14ms/step - loss: 126.7477 - mae: 126.7477\n",
            "Epoch 472/500\n",
            "2/2 [==============================] - 0s 8ms/step - loss: 263.2217 - mae: 263.2217\n",
            "Epoch 473/500\n",
            "2/2 [==============================] - 0s 7ms/step - loss: 101.3692 - mae: 101.3692\n",
            "Epoch 474/500\n",
            "2/2 [==============================] - 0s 13ms/step - loss: 121.8571 - mae: 121.8571\n",
            "Epoch 475/500\n",
            "2/2 [==============================] - 0s 11ms/step - loss: 127.2375 - mae: 127.2375\n",
            "Epoch 476/500\n",
            "2/2 [==============================] - 0s 14ms/step - loss: 88.9600 - mae: 88.9600\n",
            "Epoch 477/500\n",
            "2/2 [==============================] - 0s 9ms/step - loss: 149.3492 - mae: 149.3492\n",
            "Epoch 478/500\n",
            "2/2 [==============================] - 0s 4ms/step - loss: 67.5066 - mae: 67.5066\n",
            "Epoch 479/500\n",
            "2/2 [==============================] - 0s 15ms/step - loss: 52.1996 - mae: 52.1996\n",
            "Epoch 480/500\n",
            "2/2 [==============================] - 0s 6ms/step - loss: 84.7199 - mae: 84.7199\n",
            "Epoch 481/500\n",
            "2/2 [==============================] - 0s 7ms/step - loss: 58.8569 - mae: 58.8569\n",
            "Epoch 482/500\n",
            "2/2 [==============================] - 0s 6ms/step - loss: 33.4747 - mae: 33.4747\n",
            "Epoch 483/500\n",
            "2/2 [==============================] - 0s 18ms/step - loss: 60.3312 - mae: 60.3312\n",
            "Epoch 484/500\n",
            "2/2 [==============================] - 0s 5ms/step - loss: 87.4612 - mae: 87.4612\n",
            "Epoch 485/500\n",
            "2/2 [==============================] - 0s 12ms/step - loss: 51.1814 - mae: 51.1814\n",
            "Epoch 486/500\n",
            "2/2 [==============================] - 0s 6ms/step - loss: 55.1599 - mae: 55.1599\n",
            "Epoch 487/500\n",
            "2/2 [==============================] - 0s 8ms/step - loss: 59.8330 - mae: 59.8330\n",
            "Epoch 488/500\n",
            "2/2 [==============================] - 0s 12ms/step - loss: 50.2356 - mae: 50.2356\n",
            "Epoch 489/500\n",
            "2/2 [==============================] - 0s 9ms/step - loss: 45.6386 - mae: 45.6386\n",
            "Epoch 490/500\n",
            "2/2 [==============================] - 0s 10ms/step - loss: 40.9624 - mae: 40.9624\n",
            "Epoch 491/500\n",
            "2/2 [==============================] - 0s 10ms/step - loss: 30.7439 - mae: 30.7439\n",
            "Epoch 492/500\n",
            "2/2 [==============================] - 0s 12ms/step - loss: 45.4015 - mae: 45.4015\n",
            "Epoch 493/500\n",
            "2/2 [==============================] - 0s 6ms/step - loss: 43.3139 - mae: 43.3139\n",
            "Epoch 494/500\n",
            "2/2 [==============================] - 0s 10ms/step - loss: 41.8735 - mae: 41.8735\n",
            "Epoch 495/500\n",
            "2/2 [==============================] - 0s 10ms/step - loss: 38.2682 - mae: 38.2682\n",
            "Epoch 496/500\n",
            "2/2 [==============================] - 0s 8ms/step - loss: 61.5516 - mae: 61.5516\n",
            "Epoch 497/500\n",
            "2/2 [==============================] - 0s 7ms/step - loss: 78.9911 - mae: 78.9911\n",
            "Epoch 498/500\n",
            "2/2 [==============================] - 0s 7ms/step - loss: 76.3728 - mae: 76.3728\n",
            "Epoch 499/500\n",
            "2/2 [==============================] - 0s 6ms/step - loss: 146.2791 - mae: 146.2791\n",
            "Epoch 500/500\n",
            "2/2 [==============================] - 0s 6ms/step - loss: 86.9493 - mae: 86.9493\n"
          ],
          "name": "stdout"
        },
        {
          "output_type": "execute_result",
          "data": {
            "text/plain": [
              "<tensorflow.python.keras.callbacks.History at 0x7ff1171ef210>"
            ]
          },
          "metadata": {
            "tags": []
          },
          "execution_count": 148
        }
      ]
    },
    {
      "cell_type": "code",
      "metadata": {
        "colab": {
          "base_uri": "https://localhost:8080/"
        },
        "id": "hoIYJ_Ew1y8r",
        "outputId": "ba06064b-be5f-4622-8d7e-870159b15273"
      },
      "source": [
        "# predict\n",
        "Y_pred_3 = model3.predict(X_test)\n",
        "Y_pred_3"
      ],
      "execution_count": 150,
      "outputs": [
        {
          "output_type": "execute_result",
          "data": {
            "text/plain": [
              "array([[ 379.27078],\n",
              "       [ 440.64597],\n",
              "       [ 502.88025],\n",
              "       [ 565.1353 ],\n",
              "       [ 628.0985 ],\n",
              "       [ 692.1071 ],\n",
              "       [ 756.1157 ],\n",
              "       [ 820.1244 ],\n",
              "       [ 884.13293],\n",
              "       [ 948.1475 ],\n",
              "       [1012.251  ],\n",
              "       [1076.4109 ],\n",
              "       [1140.5708 ],\n",
              "       [1204.7307 ],\n",
              "       [1268.8906 ],\n",
              "       [1333.0505 ],\n",
              "       [1397.2104 ],\n",
              "       [1461.3705 ],\n",
              "       [1525.5688 ],\n",
              "       [1589.7773 ],\n",
              "       [1653.986  ],\n",
              "       [1718.1945 ],\n",
              "       [1782.4032 ],\n",
              "       [1846.6117 ],\n",
              "       [1910.8202 ],\n",
              "       [1975.0288 ],\n",
              "       [2039.2373 ],\n",
              "       [2103.446  ],\n",
              "       [2167.6545 ],\n",
              "       [2231.8628 ],\n",
              "       [2296.0715 ],\n",
              "       [2360.2803 ],\n",
              "       [2424.4888 ],\n",
              "       [2488.6975 ],\n",
              "       [2552.906  ],\n",
              "       [2617.1143 ],\n",
              "       [2681.323  ],\n",
              "       [2745.5315 ],\n",
              "       [2809.74   ],\n",
              "       [2873.9487 ]], dtype=float32)"
            ]
          },
          "metadata": {
            "tags": []
          },
          "execution_count": 150
        }
      ]
    },
    {
      "cell_type": "code",
      "metadata": {
        "colab": {
          "base_uri": "https://localhost:8080/",
          "height": 448
        },
        "id": "pTPpGo-S1OqQ",
        "outputId": "7dcee5d7-faf1-4860-b4ef-8c8dc0a44d99"
      },
      "source": [
        "\n",
        "# visulaize the predicted and actual again\n",
        "plt.figure(figsize=(10,7))\n",
        "\n",
        "plt.scatter(X_test,Y_test, c=\"b\", label = \"actual\")\n",
        "\n",
        "plt.scatter(X_test,Y_pred_3, c=\"r\", label=\"prdicted\")\n",
        "\n",
        "plt.legend()"
      ],
      "execution_count": 153,
      "outputs": [
        {
          "output_type": "execute_result",
          "data": {
            "text/plain": [
              "<matplotlib.legend.Legend at 0x7ff11601e2d0>"
            ]
          },
          "metadata": {
            "tags": []
          },
          "execution_count": 153
        },
        {
          "output_type": "display_data",
          "data": {
            "image/png": "[encoded data removed]",
            "text/plain": [
              "<Figure size 720x504 with 1 Axes>"
            ]
          },
          "metadata": {
            "tags": [],
            "needs_background": "light"
          }
        }
      ]
    },
    {
      "cell_type": "markdown",
      "metadata": {
        "id": "Dt2hqK7y2dqy"
      },
      "source": [
        "**Add one more layer to the model**"
      ]
    },
    {
      "cell_type": "code",
      "metadata": {
        "colab": {
          "base_uri": "https://localhost:8080/"
        },
        "id": "jk45GDS32_aW",
        "outputId": "742cd28f-0153-46fa-f83a-4756b4a81015"
      },
      "source": [
        "tf.random.set_seed(42)\n",
        "# add one more / 3 layers\n",
        "model4 = tf.keras.Sequential([\n",
        "                              tf.keras.layers.Dense(100, activation=\"relu\"),\n",
        "                              tf.keras.layers.Dense(200, activation=\"relu\"),\n",
        "                              tf.keras.layers.Dense(1)\n",
        "]) \n",
        "\n",
        "model4.compile(\n",
        "    optimizer = tf.keras.optimizers.Adam(learning_rate= .1),\n",
        "    loss = \"mae\",\n",
        "    metrics = [\"mae\"]\n",
        ")\n",
        "\n",
        "model4.fit(X_train, Y_train, epochs = 500)"
      ],
      "execution_count": 170,
      "outputs": [
        {
          "output_type": "stream",
          "text": [
            "Epoch 1/500\n",
            "2/2 [==============================] - 0s 6ms/step - loss: 2728.5276 - mae: 2728.5276\n",
            "Epoch 2/500\n",
            "2/2 [==============================] - 0s 4ms/step - loss: 1260.2661 - mae: 1260.2661\n",
            "Epoch 3/500\n",
            "2/2 [==============================] - 0s 4ms/step - loss: 890.7589 - mae: 890.7589\n",
            "Epoch 4/500\n",
            "2/2 [==============================] - 0s 6ms/step - loss: 981.0529 - mae: 981.0529\n",
            "Epoch 5/500\n",
            "2/2 [==============================] - 0s 5ms/step - loss: 888.1806 - mae: 888.1806\n",
            "Epoch 6/500\n",
            "2/2 [==============================] - 0s 4ms/step - loss: 841.8541 - mae: 841.8541\n",
            "Epoch 7/500\n",
            "2/2 [==============================] - 0s 6ms/step - loss: 876.8209 - mae: 876.8209\n",
            "Epoch 8/500\n",
            "2/2 [==============================] - 0s 12ms/step - loss: 757.0850 - mae: 757.0850\n",
            "Epoch 9/500\n",
            "2/2 [==============================] - 0s 7ms/step - loss: 955.6445 - mae: 955.6445\n",
            "Epoch 10/500\n",
            "2/2 [==============================] - 0s 3ms/step - loss: 810.3853 - mae: 810.3853\n",
            "Epoch 11/500\n",
            "2/2 [==============================] - 0s 7ms/step - loss: 851.6733 - mae: 851.6733\n",
            "Epoch 12/500\n",
            "2/2 [==============================] - 0s 6ms/step - loss: 855.1921 - mae: 855.1921\n",
            "Epoch 13/500\n",
            "2/2 [==============================] - 0s 7ms/step - loss: 820.6237 - mae: 820.6237\n",
            "Epoch 14/500\n",
            "2/2 [==============================] - 0s 8ms/step - loss: 697.9620 - mae: 697.9620\n",
            "Epoch 15/500\n",
            "2/2 [==============================] - 0s 9ms/step - loss: 691.4792 - mae: 691.4792\n",
            "Epoch 16/500\n",
            "2/2 [==============================] - 0s 6ms/step - loss: 648.8358 - mae: 648.8358\n",
            "Epoch 17/500\n",
            "2/2 [==============================] - 0s 8ms/step - loss: 629.8844 - mae: 629.8843\n",
            "Epoch 18/500\n",
            "2/2 [==============================] - 0s 9ms/step - loss: 574.3917 - mae: 574.3917\n",
            "Epoch 19/500\n",
            "2/2 [==============================] - 0s 6ms/step - loss: 537.8875 - mae: 537.8875\n",
            "Epoch 20/500\n",
            "2/2 [==============================] - 0s 4ms/step - loss: 476.7466 - mae: 476.7466\n",
            "Epoch 21/500\n",
            "2/2 [==============================] - 0s 5ms/step - loss: 428.0900 - mae: 428.0900\n",
            "Epoch 22/500\n",
            "2/2 [==============================] - 0s 6ms/step - loss: 393.0575 - mae: 393.0575\n",
            "Epoch 23/500\n",
            "2/2 [==============================] - 0s 6ms/step - loss: 373.1205 - mae: 373.1205\n",
            "Epoch 24/500\n",
            "2/2 [==============================] - 0s 6ms/step - loss: 463.4482 - mae: 463.4482\n",
            "Epoch 25/500\n",
            "2/2 [==============================] - 0s 5ms/step - loss: 278.8776 - mae: 278.8776\n",
            "Epoch 26/500\n",
            "2/2 [==============================] - 0s 7ms/step - loss: 235.3302 - mae: 235.3302\n",
            "Epoch 27/500\n",
            "2/2 [==============================] - 0s 7ms/step - loss: 603.6670 - mae: 603.6670\n",
            "Epoch 28/500\n",
            "2/2 [==============================] - 0s 11ms/step - loss: 249.1615 - mae: 249.1615\n",
            "Epoch 29/500\n",
            "2/2 [==============================] - 0s 9ms/step - loss: 962.4900 - mae: 962.4900\n",
            "Epoch 30/500\n",
            "2/2 [==============================] - 0s 6ms/step - loss: 770.0450 - mae: 770.0450\n",
            "Epoch 31/500\n",
            "2/2 [==============================] - 0s 12ms/step - loss: 460.7941 - mae: 460.7941\n",
            "Epoch 32/500\n",
            "2/2 [==============================] - 0s 12ms/step - loss: 785.5751 - mae: 785.5751\n",
            "Epoch 33/500\n",
            "2/2 [==============================] - 0s 11ms/step - loss: 601.6065 - mae: 601.6065\n",
            "Epoch 34/500\n",
            "2/2 [==============================] - 0s 11ms/step - loss: 754.5364 - mae: 754.5364\n",
            "Epoch 35/500\n",
            "2/2 [==============================] - 0s 6ms/step - loss: 603.6888 - mae: 603.6888\n",
            "Epoch 36/500\n",
            "2/2 [==============================] - 0s 7ms/step - loss: 750.6824 - mae: 750.6824\n",
            "Epoch 37/500\n",
            "2/2 [==============================] - 0s 7ms/step - loss: 534.5366 - mae: 534.5366\n",
            "Epoch 38/500\n",
            "2/2 [==============================] - 0s 6ms/step - loss: 585.8434 - mae: 585.8434\n",
            "Epoch 39/500\n",
            "2/2 [==============================] - 0s 8ms/step - loss: 472.3089 - mae: 472.3089\n",
            "Epoch 40/500\n",
            "2/2 [==============================] - 0s 10ms/step - loss: 424.1071 - mae: 424.1071\n",
            "Epoch 41/500\n",
            "2/2 [==============================] - 0s 6ms/step - loss: 447.9958 - mae: 447.9958\n",
            "Epoch 42/500\n",
            "2/2 [==============================] - 0s 8ms/step - loss: 384.0682 - mae: 384.0682\n",
            "Epoch 43/500\n",
            "2/2 [==============================] - 0s 9ms/step - loss: 378.1527 - mae: 378.1527\n",
            "Epoch 44/500\n",
            "2/2 [==============================] - 0s 8ms/step - loss: 348.5762 - mae: 348.5762\n",
            "Epoch 45/500\n",
            "2/2 [==============================] - 0s 5ms/step - loss: 317.8053 - mae: 317.8053\n",
            "Epoch 46/500\n",
            "2/2 [==============================] - 0s 11ms/step - loss: 324.6958 - mae: 324.6958\n",
            "Epoch 47/500\n",
            "2/2 [==============================] - 0s 8ms/step - loss: 312.2596 - mae: 312.2596\n",
            "Epoch 48/500\n",
            "2/2 [==============================] - 0s 10ms/step - loss: 233.2844 - mae: 233.2844\n",
            "Epoch 49/500\n",
            "2/2 [==============================] - 0s 6ms/step - loss: 242.9317 - mae: 242.9317\n",
            "Epoch 50/500\n",
            "2/2 [==============================] - 0s 7ms/step - loss: 203.2434 - mae: 203.2434\n",
            "Epoch 51/500\n",
            "2/2 [==============================] - 0s 6ms/step - loss: 270.7810 - mae: 270.7810\n",
            "Epoch 52/500\n",
            "2/2 [==============================] - 0s 6ms/step - loss: 413.4280 - mae: 413.4280\n",
            "Epoch 53/500\n",
            "2/2 [==============================] - 0s 5ms/step - loss: 586.4551 - mae: 586.4551\n",
            "Epoch 54/500\n",
            "2/2 [==============================] - 0s 8ms/step - loss: 716.5284 - mae: 716.5284\n",
            "Epoch 55/500\n",
            "2/2 [==============================] - 0s 7ms/step - loss: 1640.4208 - mae: 1640.4208\n",
            "Epoch 56/500\n",
            "2/2 [==============================] - 0s 8ms/step - loss: 585.9675 - mae: 585.9675\n",
            "Epoch 57/500\n",
            "2/2 [==============================] - 0s 16ms/step - loss: 403.1028 - mae: 403.1028\n",
            "Epoch 58/500\n",
            "2/2 [==============================] - 0s 5ms/step - loss: 287.3742 - mae: 287.3742\n",
            "Epoch 59/500\n",
            "2/2 [==============================] - 0s 13ms/step - loss: 407.6814 - mae: 407.6814\n",
            "Epoch 60/500\n",
            "2/2 [==============================] - 0s 10ms/step - loss: 318.8770 - mae: 318.8770\n",
            "Epoch 61/500\n",
            "2/2 [==============================] - 0s 8ms/step - loss: 379.5899 - mae: 379.5899\n",
            "Epoch 62/500\n",
            "2/2 [==============================] - 0s 6ms/step - loss: 496.1779 - mae: 496.1779\n",
            "Epoch 63/500\n",
            "2/2 [==============================] - 0s 3ms/step - loss: 432.3623 - mae: 432.3623\n",
            "Epoch 64/500\n",
            "2/2 [==============================] - 0s 8ms/step - loss: 264.1669 - mae: 264.1669\n",
            "Epoch 65/500\n",
            "2/2 [==============================] - 0s 9ms/step - loss: 437.7814 - mae: 437.7814\n",
            "Epoch 66/500\n",
            "2/2 [==============================] - 0s 10ms/step - loss: 430.8302 - mae: 430.8302\n",
            "Epoch 67/500\n",
            "2/2 [==============================] - 0s 6ms/step - loss: 334.8976 - mae: 334.8976\n",
            "Epoch 68/500\n",
            "2/2 [==============================] - 0s 8ms/step - loss: 419.3105 - mae: 419.3105\n",
            "Epoch 69/500\n",
            "2/2 [==============================] - 0s 8ms/step - loss: 331.6614 - mae: 331.6614\n",
            "Epoch 70/500\n",
            "2/2 [==============================] - 0s 7ms/step - loss: 324.5789 - mae: 324.5789\n",
            "Epoch 71/500\n",
            "2/2 [==============================] - 0s 6ms/step - loss: 293.9704 - mae: 293.9704\n",
            "Epoch 72/500\n",
            "2/2 [==============================] - 0s 8ms/step - loss: 354.2677 - mae: 354.2677\n",
            "Epoch 73/500\n",
            "2/2 [==============================] - 0s 9ms/step - loss: 277.6874 - mae: 277.6874\n",
            "Epoch 74/500\n",
            "2/2 [==============================] - 0s 7ms/step - loss: 298.6436 - mae: 298.6436\n",
            "Epoch 75/500\n",
            "2/2 [==============================] - 0s 6ms/step - loss: 301.0413 - mae: 301.0413\n",
            "Epoch 76/500\n",
            "2/2 [==============================] - 0s 5ms/step - loss: 203.0073 - mae: 203.0073\n",
            "Epoch 77/500\n",
            "2/2 [==============================] - 0s 5ms/step - loss: 176.2554 - mae: 176.2554\n",
            "Epoch 78/500\n",
            "2/2 [==============================] - 0s 5ms/step - loss: 169.2523 - mae: 169.2523\n",
            "Epoch 79/500\n",
            "2/2 [==============================] - 0s 6ms/step - loss: 188.1402 - mae: 188.1402\n",
            "Epoch 80/500\n",
            "2/2 [==============================] - 0s 12ms/step - loss: 145.2560 - mae: 145.2560\n",
            "Epoch 81/500\n",
            "2/2 [==============================] - 0s 9ms/step - loss: 180.8130 - mae: 180.8130\n",
            "Epoch 82/500\n",
            "2/2 [==============================] - 0s 7ms/step - loss: 297.8951 - mae: 297.8951\n",
            "Epoch 83/500\n",
            "2/2 [==============================] - 0s 7ms/step - loss: 363.7278 - mae: 363.7278\n",
            "Epoch 84/500\n",
            "2/2 [==============================] - 0s 6ms/step - loss: 361.8653 - mae: 361.8653\n",
            "Epoch 85/500\n",
            "2/2 [==============================] - 0s 11ms/step - loss: 261.2380 - mae: 261.2380\n",
            "Epoch 86/500\n",
            "2/2 [==============================] - 0s 7ms/step - loss: 248.3164 - mae: 248.3164\n",
            "Epoch 87/500\n",
            "2/2 [==============================] - 0s 12ms/step - loss: 252.4028 - mae: 252.4028\n",
            "Epoch 88/500\n",
            "2/2 [==============================] - 0s 10ms/step - loss: 158.4158 - mae: 158.4158\n",
            "Epoch 89/500\n",
            "2/2 [==============================] - 0s 12ms/step - loss: 135.1527 - mae: 135.1527\n",
            "Epoch 90/500\n",
            "2/2 [==============================] - 0s 6ms/step - loss: 190.0427 - mae: 190.0427\n",
            "Epoch 91/500\n",
            "2/2 [==============================] - 0s 6ms/step - loss: 577.2686 - mae: 577.2686\n",
            "Epoch 92/500\n",
            "2/2 [==============================] - 0s 10ms/step - loss: 266.4403 - mae: 266.4403\n",
            "Epoch 93/500\n",
            "2/2 [==============================] - 0s 6ms/step - loss: 249.9665 - mae: 249.9665\n",
            "Epoch 94/500\n",
            "2/2 [==============================] - 0s 5ms/step - loss: 263.5009 - mae: 263.5009\n",
            "Epoch 95/500\n",
            "2/2 [==============================] - 0s 7ms/step - loss: 132.7921 - mae: 132.7921\n",
            "Epoch 96/500\n",
            "2/2 [==============================] - 0s 6ms/step - loss: 141.4583 - mae: 141.4583\n",
            "Epoch 97/500\n",
            "2/2 [==============================] - 0s 6ms/step - loss: 167.4730 - mae: 167.4730\n",
            "Epoch 98/500\n",
            "2/2 [==============================] - 0s 4ms/step - loss: 142.1267 - mae: 142.1267\n",
            "Epoch 99/500\n",
            "2/2 [==============================] - 0s 7ms/step - loss: 133.6796 - mae: 133.6796\n",
            "Epoch 100/500\n",
            "2/2 [==============================] - 0s 7ms/step - loss: 116.4199 - mae: 116.4199\n",
            "Epoch 101/500\n",
            "2/2 [==============================] - 0s 4ms/step - loss: 198.3026 - mae: 198.3026\n",
            "Epoch 102/500\n",
            "2/2 [==============================] - 0s 6ms/step - loss: 94.5603 - mae: 94.5603\n",
            "Epoch 103/500\n",
            "2/2 [==============================] - 0s 6ms/step - loss: 113.2679 - mae: 113.2679\n",
            "Epoch 104/500\n",
            "2/2 [==============================] - 0s 7ms/step - loss: 234.1431 - mae: 234.1431\n",
            "Epoch 105/500\n",
            "2/2 [==============================] - 0s 7ms/step - loss: 691.0200 - mae: 691.0200\n",
            "Epoch 106/500\n",
            "2/2 [==============================] - 0s 8ms/step - loss: 416.4940 - mae: 416.4940\n",
            "Epoch 107/500\n",
            "2/2 [==============================] - 0s 10ms/step - loss: 948.1819 - mae: 948.1818\n",
            "Epoch 108/500\n",
            "2/2 [==============================] - 0s 10ms/step - loss: 609.2084 - mae: 609.2084\n",
            "Epoch 109/500\n",
            "2/2 [==============================] - 0s 7ms/step - loss: 737.6187 - mae: 737.6187\n",
            "Epoch 110/500\n",
            "2/2 [==============================] - 0s 6ms/step - loss: 544.3372 - mae: 544.3372\n",
            "Epoch 111/500\n",
            "2/2 [==============================] - 0s 7ms/step - loss: 419.4400 - mae: 419.4400\n",
            "Epoch 112/500\n",
            "2/2 [==============================] - 0s 7ms/step - loss: 396.3572 - mae: 396.3572\n",
            "Epoch 113/500\n",
            "2/2 [==============================] - 0s 6ms/step - loss: 315.4621 - mae: 315.4621\n",
            "Epoch 114/500\n",
            "2/2 [==============================] - 0s 12ms/step - loss: 364.8129 - mae: 364.8129\n",
            "Epoch 115/500\n",
            "2/2 [==============================] - 0s 9ms/step - loss: 303.4391 - mae: 303.4391\n",
            "Epoch 116/500\n",
            "2/2 [==============================] - 0s 5ms/step - loss: 263.5392 - mae: 263.5392\n",
            "Epoch 117/500\n",
            "2/2 [==============================] - 0s 8ms/step - loss: 222.1103 - mae: 222.1103\n",
            "Epoch 118/500\n",
            "2/2 [==============================] - 0s 6ms/step - loss: 199.3563 - mae: 199.3563\n",
            "Epoch 119/500\n",
            "2/2 [==============================] - 0s 5ms/step - loss: 280.2228 - mae: 280.2228\n",
            "Epoch 120/500\n",
            "2/2 [==============================] - 0s 18ms/step - loss: 241.9070 - mae: 241.9070\n",
            "Epoch 121/500\n",
            "2/2 [==============================] - 0s 13ms/step - loss: 266.8192 - mae: 266.8192\n",
            "Epoch 122/500\n",
            "2/2 [==============================] - 0s 13ms/step - loss: 272.2832 - mae: 272.2832\n",
            "Epoch 123/500\n",
            "2/2 [==============================] - 0s 8ms/step - loss: 296.8325 - mae: 296.8325\n",
            "Epoch 124/500\n",
            "2/2 [==============================] - 0s 8ms/step - loss: 240.3572 - mae: 240.3572\n",
            "Epoch 125/500\n",
            "2/2 [==============================] - 0s 7ms/step - loss: 119.7737 - mae: 119.7737\n",
            "Epoch 126/500\n",
            "2/2 [==============================] - 0s 6ms/step - loss: 168.5661 - mae: 168.5661\n",
            "Epoch 127/500\n",
            "2/2 [==============================] - 0s 7ms/step - loss: 619.3132 - mae: 619.3132\n",
            "Epoch 128/500\n",
            "2/2 [==============================] - 0s 8ms/step - loss: 499.8969 - mae: 499.8969\n",
            "Epoch 129/500\n",
            "2/2 [==============================] - 0s 9ms/step - loss: 429.4636 - mae: 429.4636\n",
            "Epoch 130/500\n",
            "2/2 [==============================] - 0s 7ms/step - loss: 814.6199 - mae: 814.6198\n",
            "Epoch 131/500\n",
            "2/2 [==============================] - 0s 5ms/step - loss: 476.2863 - mae: 476.2863\n",
            "Epoch 132/500\n",
            "2/2 [==============================] - 0s 9ms/step - loss: 638.4961 - mae: 638.4961\n",
            "Epoch 133/500\n",
            "2/2 [==============================] - 0s 8ms/step - loss: 420.2558 - mae: 420.2558\n",
            "Epoch 134/500\n",
            "2/2 [==============================] - 0s 7ms/step - loss: 496.3073 - mae: 496.3073\n",
            "Epoch 135/500\n",
            "2/2 [==============================] - 0s 13ms/step - loss: 359.1352 - mae: 359.1352\n",
            "Epoch 136/500\n",
            "2/2 [==============================] - 0s 7ms/step - loss: 482.1947 - mae: 482.1947\n",
            "Epoch 137/500\n",
            "2/2 [==============================] - 0s 14ms/step - loss: 416.7113 - mae: 416.7113\n",
            "Epoch 138/500\n",
            "2/2 [==============================] - 0s 10ms/step - loss: 357.0513 - mae: 357.0513\n",
            "Epoch 139/500\n",
            "2/2 [==============================] - 0s 7ms/step - loss: 462.9755 - mae: 462.9755\n",
            "Epoch 140/500\n",
            "2/2 [==============================] - 0s 6ms/step - loss: 279.3568 - mae: 279.3568\n",
            "Epoch 141/500\n",
            "2/2 [==============================] - 0s 6ms/step - loss: 322.4839 - mae: 322.4839\n",
            "Epoch 142/500\n",
            "2/2 [==============================] - 0s 12ms/step - loss: 292.8782 - mae: 292.8782\n",
            "Epoch 143/500\n",
            "2/2 [==============================] - 0s 6ms/step - loss: 251.2427 - mae: 251.2427\n",
            "Epoch 144/500\n",
            "2/2 [==============================] - 0s 7ms/step - loss: 264.0970 - mae: 264.0970\n",
            "Epoch 145/500\n",
            "2/2 [==============================] - 0s 9ms/step - loss: 243.4456 - mae: 243.4456\n",
            "Epoch 146/500\n",
            "2/2 [==============================] - 0s 8ms/step - loss: 194.7813 - mae: 194.7813\n",
            "Epoch 147/500\n",
            "2/2 [==============================] - 0s 8ms/step - loss: 193.4410 - mae: 193.4410\n",
            "Epoch 148/500\n",
            "2/2 [==============================] - 0s 10ms/step - loss: 227.8427 - mae: 227.8427\n",
            "Epoch 149/500\n",
            "2/2 [==============================] - 0s 6ms/step - loss: 146.2179 - mae: 146.2179\n",
            "Epoch 150/500\n",
            "2/2 [==============================] - 0s 12ms/step - loss: 150.3484 - mae: 150.3484\n",
            "Epoch 151/500\n",
            "2/2 [==============================] - 0s 6ms/step - loss: 226.8934 - mae: 226.8934\n",
            "Epoch 152/500\n",
            "2/2 [==============================] - 0s 8ms/step - loss: 303.2289 - mae: 303.2289\n",
            "Epoch 153/500\n",
            "2/2 [==============================] - 0s 6ms/step - loss: 433.8665 - mae: 433.8665\n",
            "Epoch 154/500\n",
            "2/2 [==============================] - 0s 8ms/step - loss: 795.4075 - mae: 795.4075\n",
            "Epoch 155/500\n",
            "2/2 [==============================] - 0s 6ms/step - loss: 486.7408 - mae: 486.7408\n",
            "Epoch 156/500\n",
            "2/2 [==============================] - 0s 5ms/step - loss: 981.6362 - mae: 981.6362\n",
            "Epoch 157/500\n",
            "2/2 [==============================] - 0s 7ms/step - loss: 581.9501 - mae: 581.9501\n",
            "Epoch 158/500\n",
            "2/2 [==============================] - 0s 10ms/step - loss: 552.7916 - mae: 552.7916\n",
            "Epoch 159/500\n",
            "2/2 [==============================] - 0s 9ms/step - loss: 543.0822 - mae: 543.0822\n",
            "Epoch 160/500\n",
            "2/2 [==============================] - 0s 5ms/step - loss: 462.3643 - mae: 462.3643\n",
            "Epoch 161/500\n",
            "2/2 [==============================] - 0s 10ms/step - loss: 524.9058 - mae: 524.9058\n",
            "Epoch 162/500\n",
            "2/2 [==============================] - 0s 8ms/step - loss: 348.8729 - mae: 348.8729\n",
            "Epoch 163/500\n",
            "2/2 [==============================] - 0s 17ms/step - loss: 315.6327 - mae: 315.6327\n",
            "Epoch 164/500\n",
            "2/2 [==============================] - 0s 4ms/step - loss: 369.5300 - mae: 369.5300\n",
            "Epoch 165/500\n",
            "2/2 [==============================] - 0s 10ms/step - loss: 346.3323 - mae: 346.3323\n",
            "Epoch 166/500\n",
            "2/2 [==============================] - 0s 6ms/step - loss: 295.4828 - mae: 295.4828\n",
            "Epoch 167/500\n",
            "2/2 [==============================] - 0s 9ms/step - loss: 308.5560 - mae: 308.5560\n",
            "Epoch 168/500\n",
            "2/2 [==============================] - 0s 10ms/step - loss: 304.6957 - mae: 304.6957\n",
            "Epoch 169/500\n",
            "2/2 [==============================] - 0s 7ms/step - loss: 240.9676 - mae: 240.9676\n",
            "Epoch 170/500\n",
            "2/2 [==============================] - 0s 7ms/step - loss: 232.6196 - mae: 232.6196\n",
            "Epoch 171/500\n",
            "2/2 [==============================] - 0s 9ms/step - loss: 211.2315 - mae: 211.2315\n",
            "Epoch 172/500\n",
            "2/2 [==============================] - 0s 6ms/step - loss: 197.2103 - mae: 197.2103\n",
            "Epoch 173/500\n",
            "2/2 [==============================] - 0s 11ms/step - loss: 190.1296 - mae: 190.1296\n",
            "Epoch 174/500\n",
            "2/2 [==============================] - 0s 10ms/step - loss: 171.5187 - mae: 171.5187\n",
            "Epoch 175/500\n",
            "2/2 [==============================] - 0s 5ms/step - loss: 223.0882 - mae: 223.0882\n",
            "Epoch 176/500\n",
            "2/2 [==============================] - 0s 6ms/step - loss: 209.2350 - mae: 209.2350\n",
            "Epoch 177/500\n",
            "2/2 [==============================] - 0s 5ms/step - loss: 221.9596 - mae: 221.9596\n",
            "Epoch 178/500\n",
            "2/2 [==============================] - 0s 5ms/step - loss: 146.1416 - mae: 146.1416\n",
            "Epoch 179/500\n",
            "2/2 [==============================] - 0s 6ms/step - loss: 253.8151 - mae: 253.8151\n",
            "Epoch 180/500\n",
            "2/2 [==============================] - 0s 7ms/step - loss: 265.1212 - mae: 265.1212\n",
            "Epoch 181/500\n",
            "2/2 [==============================] - 0s 5ms/step - loss: 316.1997 - mae: 316.1997\n",
            "Epoch 182/500\n",
            "2/2 [==============================] - 0s 6ms/step - loss: 390.5068 - mae: 390.5068\n",
            "Epoch 183/500\n",
            "2/2 [==============================] - 0s 10ms/step - loss: 850.7762 - mae: 850.7762\n",
            "Epoch 184/500\n",
            "2/2 [==============================] - 0s 11ms/step - loss: 770.0417 - mae: 770.0417\n",
            "Epoch 185/500\n",
            "2/2 [==============================] - 0s 4ms/step - loss: 494.1649 - mae: 494.1649\n",
            "Epoch 186/500\n",
            "2/2 [==============================] - 0s 9ms/step - loss: 435.7168 - mae: 435.7168\n",
            "Epoch 187/500\n",
            "2/2 [==============================] - 0s 5ms/step - loss: 560.4407 - mae: 560.4407\n",
            "Epoch 188/500\n",
            "2/2 [==============================] - 0s 7ms/step - loss: 606.3669 - mae: 606.3669\n",
            "Epoch 189/500\n",
            "2/2 [==============================] - 0s 7ms/step - loss: 363.7077 - mae: 363.7077\n",
            "Epoch 190/500\n",
            "2/2 [==============================] - 0s 5ms/step - loss: 380.0180 - mae: 380.0180\n",
            "Epoch 191/500\n",
            "2/2 [==============================] - 0s 9ms/step - loss: 439.0658 - mae: 439.0658\n",
            "Epoch 192/500\n",
            "2/2 [==============================] - 0s 12ms/step - loss: 408.1284 - mae: 408.1284\n",
            "Epoch 193/500\n",
            "2/2 [==============================] - 0s 9ms/step - loss: 366.1827 - mae: 366.1827\n",
            "Epoch 194/500\n",
            "2/2 [==============================] - 0s 14ms/step - loss: 353.4167 - mae: 353.4167\n",
            "Epoch 195/500\n",
            "2/2 [==============================] - 0s 9ms/step - loss: 302.6804 - mae: 302.6804\n",
            "Epoch 196/500\n",
            "2/2 [==============================] - 0s 10ms/step - loss: 249.5103 - mae: 249.5103\n",
            "Epoch 197/500\n",
            "2/2 [==============================] - 0s 4ms/step - loss: 278.8061 - mae: 278.8061\n",
            "Epoch 198/500\n",
            "2/2 [==============================] - 0s 20ms/step - loss: 272.8575 - mae: 272.8575\n",
            "Epoch 199/500\n",
            "2/2 [==============================] - 0s 9ms/step - loss: 182.1999 - mae: 182.1999\n",
            "Epoch 200/500\n",
            "2/2 [==============================] - 0s 7ms/step - loss: 283.9341 - mae: 283.9341\n",
            "Epoch 201/500\n",
            "2/2 [==============================] - 0s 5ms/step - loss: 283.8383 - mae: 283.8383\n",
            "Epoch 202/500\n",
            "2/2 [==============================] - 0s 5ms/step - loss: 306.4245 - mae: 306.4245\n",
            "Epoch 203/500\n",
            "2/2 [==============================] - 0s 8ms/step - loss: 226.6772 - mae: 226.6772\n",
            "Epoch 204/500\n",
            "2/2 [==============================] - 0s 5ms/step - loss: 215.9996 - mae: 215.9996\n",
            "Epoch 205/500\n",
            "2/2 [==============================] - 0s 9ms/step - loss: 193.9515 - mae: 193.9515\n",
            "Epoch 206/500\n",
            "2/2 [==============================] - 0s 8ms/step - loss: 176.8170 - mae: 176.8170\n",
            "Epoch 207/500\n",
            "2/2 [==============================] - 0s 14ms/step - loss: 195.3576 - mae: 195.3576\n",
            "Epoch 208/500\n",
            "2/2 [==============================] - 0s 9ms/step - loss: 194.8294 - mae: 194.8294\n",
            "Epoch 209/500\n",
            "2/2 [==============================] - 0s 8ms/step - loss: 167.3925 - mae: 167.3925\n",
            "Epoch 210/500\n",
            "2/2 [==============================] - 0s 11ms/step - loss: 143.7883 - mae: 143.7883\n",
            "Epoch 211/500\n",
            "2/2 [==============================] - 0s 5ms/step - loss: 112.4894 - mae: 112.4894\n",
            "Epoch 212/500\n",
            "2/2 [==============================] - 0s 10ms/step - loss: 110.1478 - mae: 110.1478\n",
            "Epoch 213/500\n",
            "2/2 [==============================] - 0s 9ms/step - loss: 92.2994 - mae: 92.2994\n",
            "Epoch 214/500\n",
            "2/2 [==============================] - 0s 6ms/step - loss: 168.3780 - mae: 168.3780\n",
            "Epoch 215/500\n",
            "2/2 [==============================] - 0s 5ms/step - loss: 221.3761 - mae: 221.3761\n",
            "Epoch 216/500\n",
            "2/2 [==============================] - 0s 12ms/step - loss: 204.2984 - mae: 204.2984\n",
            "Epoch 217/500\n",
            "2/2 [==============================] - 0s 12ms/step - loss: 155.2112 - mae: 155.2112\n",
            "Epoch 218/500\n",
            "2/2 [==============================] - 0s 16ms/step - loss: 144.9207 - mae: 144.9207\n",
            "Epoch 219/500\n",
            "2/2 [==============================] - 0s 6ms/step - loss: 175.7571 - mae: 175.7571\n",
            "Epoch 220/500\n",
            "2/2 [==============================] - 0s 5ms/step - loss: 290.7667 - mae: 290.7667\n",
            "Epoch 221/500\n",
            "2/2 [==============================] - 0s 6ms/step - loss: 345.7685 - mae: 345.7685\n",
            "Epoch 222/500\n",
            "2/2 [==============================] - 0s 7ms/step - loss: 212.6613 - mae: 212.6613\n",
            "Epoch 223/500\n",
            "2/2 [==============================] - 0s 6ms/step - loss: 515.0398 - mae: 515.0398\n",
            "Epoch 224/500\n",
            "2/2 [==============================] - 0s 9ms/step - loss: 253.0080 - mae: 253.0080\n",
            "Epoch 225/500\n",
            "2/2 [==============================] - 0s 8ms/step - loss: 456.7333 - mae: 456.7333\n",
            "Epoch 226/500\n",
            "2/2 [==============================] - 0s 8ms/step - loss: 260.6617 - mae: 260.6617\n",
            "Epoch 227/500\n",
            "2/2 [==============================] - 0s 9ms/step - loss: 255.1515 - mae: 255.1515\n",
            "Epoch 228/500\n",
            "2/2 [==============================] - 0s 8ms/step - loss: 445.7863 - mae: 445.7863\n",
            "Epoch 229/500\n",
            "2/2 [==============================] - 0s 6ms/step - loss: 254.6702 - mae: 254.6702\n",
            "Epoch 230/500\n",
            "2/2 [==============================] - 0s 12ms/step - loss: 340.5977 - mae: 340.5977\n",
            "Epoch 231/500\n",
            "2/2 [==============================] - 0s 12ms/step - loss: 251.8456 - mae: 251.8456\n",
            "Epoch 232/500\n",
            "2/2 [==============================] - 0s 6ms/step - loss: 195.7615 - mae: 195.7615\n",
            "Epoch 233/500\n",
            "2/2 [==============================] - 0s 5ms/step - loss: 279.4820 - mae: 279.4820\n",
            "Epoch 234/500\n",
            "2/2 [==============================] - 0s 12ms/step - loss: 398.0404 - mae: 398.0404\n",
            "Epoch 235/500\n",
            "2/2 [==============================] - 0s 7ms/step - loss: 271.1327 - mae: 271.1327\n",
            "Epoch 236/500\n",
            "2/2 [==============================] - 0s 9ms/step - loss: 330.4537 - mae: 330.4537\n",
            "Epoch 237/500\n",
            "2/2 [==============================] - 0s 14ms/step - loss: 279.0484 - mae: 279.0484\n",
            "Epoch 238/500\n",
            "2/2 [==============================] - 0s 8ms/step - loss: 233.8278 - mae: 233.8278\n",
            "Epoch 239/500\n",
            "2/2 [==============================] - 0s 8ms/step - loss: 409.5831 - mae: 409.5831\n",
            "Epoch 240/500\n",
            "2/2 [==============================] - 0s 7ms/step - loss: 251.2720 - mae: 251.2720\n",
            "Epoch 241/500\n",
            "2/2 [==============================] - 0s 6ms/step - loss: 306.4423 - mae: 306.4423\n",
            "Epoch 242/500\n",
            "2/2 [==============================] - 0s 5ms/step - loss: 363.4756 - mae: 363.4756\n",
            "Epoch 243/500\n",
            "2/2 [==============================] - 0s 6ms/step - loss: 204.8290 - mae: 204.8290\n",
            "Epoch 244/500\n",
            "2/2 [==============================] - 0s 7ms/step - loss: 339.3351 - mae: 339.3351\n",
            "Epoch 245/500\n",
            "2/2 [==============================] - 0s 6ms/step - loss: 215.9244 - mae: 215.9244\n",
            "Epoch 246/500\n",
            "2/2 [==============================] - 0s 6ms/step - loss: 277.5733 - mae: 277.5733\n",
            "Epoch 247/500\n",
            "2/2 [==============================] - 0s 6ms/step - loss: 228.2694 - mae: 228.2694\n",
            "Epoch 248/500\n",
            "2/2 [==============================] - 0s 7ms/step - loss: 158.0695 - mae: 158.0695\n",
            "Epoch 249/500\n",
            "2/2 [==============================] - 0s 6ms/step - loss: 230.5700 - mae: 230.5700\n",
            "Epoch 250/500\n",
            "2/2 [==============================] - 0s 6ms/step - loss: 215.1829 - mae: 215.1829\n",
            "Epoch 251/500\n",
            "2/2 [==============================] - 0s 14ms/step - loss: 208.5080 - mae: 208.5080\n",
            "Epoch 252/500\n",
            "2/2 [==============================] - 0s 6ms/step - loss: 298.7208 - mae: 298.7208\n",
            "Epoch 253/500\n",
            "2/2 [==============================] - 0s 7ms/step - loss: 192.7848 - mae: 192.7848\n",
            "Epoch 254/500\n",
            "2/2 [==============================] - 0s 9ms/step - loss: 193.3845 - mae: 193.3845\n",
            "Epoch 255/500\n",
            "2/2 [==============================] - 0s 6ms/step - loss: 201.9053 - mae: 201.9053\n",
            "Epoch 256/500\n",
            "2/2 [==============================] - 0s 17ms/step - loss: 226.1091 - mae: 226.1091\n",
            "Epoch 257/500\n",
            "2/2 [==============================] - 0s 6ms/step - loss: 175.9504 - mae: 175.9504\n",
            "Epoch 258/500\n",
            "2/2 [==============================] - 0s 24ms/step - loss: 162.3569 - mae: 162.3569\n",
            "Epoch 259/500\n",
            "2/2 [==============================] - 0s 7ms/step - loss: 130.5439 - mae: 130.5439\n",
            "Epoch 260/500\n",
            "2/2 [==============================] - 0s 7ms/step - loss: 149.3486 - mae: 149.3486\n",
            "Epoch 261/500\n",
            "2/2 [==============================] - 0s 4ms/step - loss: 126.1414 - mae: 126.1414\n",
            "Epoch 262/500\n",
            "2/2 [==============================] - 0s 4ms/step - loss: 164.1040 - mae: 164.1040\n",
            "Epoch 263/500\n",
            "2/2 [==============================] - 0s 12ms/step - loss: 106.0924 - mae: 106.0924\n",
            "Epoch 264/500\n",
            "2/2 [==============================] - 0s 6ms/step - loss: 106.6570 - mae: 106.6570\n",
            "Epoch 265/500\n",
            "2/2 [==============================] - 0s 5ms/step - loss: 142.2878 - mae: 142.2878\n",
            "Epoch 266/500\n",
            "2/2 [==============================] - 0s 8ms/step - loss: 117.2666 - mae: 117.2666\n",
            "Epoch 267/500\n",
            "2/2 [==============================] - 0s 4ms/step - loss: 119.4586 - mae: 119.4586\n",
            "Epoch 268/500\n",
            "2/2 [==============================] - 0s 6ms/step - loss: 111.0921 - mae: 111.0921\n",
            "Epoch 269/500\n",
            "2/2 [==============================] - 0s 13ms/step - loss: 123.3983 - mae: 123.3983\n",
            "Epoch 270/500\n",
            "2/2 [==============================] - 0s 11ms/step - loss: 84.6083 - mae: 84.6083\n",
            "Epoch 271/500\n",
            "2/2 [==============================] - 0s 9ms/step - loss: 115.8367 - mae: 115.8367\n",
            "Epoch 272/500\n",
            "2/2 [==============================] - 0s 18ms/step - loss: 338.8526 - mae: 338.8526\n",
            "Epoch 273/500\n",
            "2/2 [==============================] - 0s 8ms/step - loss: 204.8288 - mae: 204.8288\n",
            "Epoch 274/500\n",
            "2/2 [==============================] - 0s 5ms/step - loss: 288.8986 - mae: 288.8986\n",
            "Epoch 275/500\n",
            "2/2 [==============================] - 0s 5ms/step - loss: 302.3033 - mae: 302.3033\n",
            "Epoch 276/500\n",
            "2/2 [==============================] - 0s 6ms/step - loss: 204.6328 - mae: 204.6328\n",
            "Epoch 277/500\n",
            "2/2 [==============================] - 0s 5ms/step - loss: 164.9863 - mae: 164.9863\n",
            "Epoch 278/500\n",
            "2/2 [==============================] - 0s 7ms/step - loss: 120.2520 - mae: 120.2520\n",
            "Epoch 279/500\n",
            "2/2 [==============================] - 0s 5ms/step - loss: 149.9046 - mae: 149.9046\n",
            "Epoch 280/500\n",
            "2/2 [==============================] - 0s 6ms/step - loss: 176.4070 - mae: 176.4070\n",
            "Epoch 281/500\n",
            "2/2 [==============================] - 0s 6ms/step - loss: 226.5247 - mae: 226.5247\n",
            "Epoch 282/500\n",
            "2/2 [==============================] - 0s 7ms/step - loss: 303.5399 - mae: 303.5399\n",
            "Epoch 283/500\n",
            "2/2 [==============================] - 0s 6ms/step - loss: 175.3501 - mae: 175.3501\n",
            "Epoch 284/500\n",
            "2/2 [==============================] - 0s 5ms/step - loss: 155.1432 - mae: 155.1432\n",
            "Epoch 285/500\n",
            "2/2 [==============================] - 0s 5ms/step - loss: 301.9543 - mae: 301.9543\n",
            "Epoch 286/500\n",
            "2/2 [==============================] - 0s 6ms/step - loss: 248.1652 - mae: 248.1652\n",
            "Epoch 287/500\n",
            "2/2 [==============================] - 0s 12ms/step - loss: 167.0905 - mae: 167.0905\n",
            "Epoch 288/500\n",
            "2/2 [==============================] - 0s 6ms/step - loss: 166.6003 - mae: 166.6003\n",
            "Epoch 289/500\n",
            "2/2 [==============================] - 0s 6ms/step - loss: 157.4131 - mae: 157.4131\n",
            "Epoch 290/500\n",
            "2/2 [==============================] - 0s 6ms/step - loss: 244.5002 - mae: 244.5002\n",
            "Epoch 291/500\n",
            "2/2 [==============================] - 0s 6ms/step - loss: 181.8360 - mae: 181.8360\n",
            "Epoch 292/500\n",
            "2/2 [==============================] - 0s 5ms/step - loss: 182.8788 - mae: 182.8788\n",
            "Epoch 293/500\n",
            "2/2 [==============================] - 0s 5ms/step - loss: 187.7834 - mae: 187.7834\n",
            "Epoch 294/500\n",
            "2/2 [==============================] - 0s 6ms/step - loss: 135.7414 - mae: 135.7414\n",
            "Epoch 295/500\n",
            "2/2 [==============================] - 0s 9ms/step - loss: 177.3214 - mae: 177.3214\n",
            "Epoch 296/500\n",
            "2/2 [==============================] - 0s 14ms/step - loss: 199.3740 - mae: 199.3740\n",
            "Epoch 297/500\n",
            "2/2 [==============================] - 0s 4ms/step - loss: 244.7657 - mae: 244.7657\n",
            "Epoch 298/500\n",
            "2/2 [==============================] - 0s 6ms/step - loss: 191.3476 - mae: 191.3476\n",
            "Epoch 299/500\n",
            "2/2 [==============================] - 0s 11ms/step - loss: 141.9747 - mae: 141.9747\n",
            "Epoch 300/500\n",
            "2/2 [==============================] - 0s 15ms/step - loss: 110.4595 - mae: 110.4595\n",
            "Epoch 301/500\n",
            "2/2 [==============================] - 0s 5ms/step - loss: 162.7819 - mae: 162.7819\n",
            "Epoch 302/500\n",
            "2/2 [==============================] - 0s 11ms/step - loss: 91.7799 - mae: 91.7799\n",
            "Epoch 303/500\n",
            "2/2 [==============================] - 0s 9ms/step - loss: 123.6826 - mae: 123.6826\n",
            "Epoch 304/500\n",
            "2/2 [==============================] - 0s 11ms/step - loss: 111.4803 - mae: 111.4803\n",
            "Epoch 305/500\n",
            "2/2 [==============================] - 0s 8ms/step - loss: 101.8723 - mae: 101.8723\n",
            "Epoch 306/500\n",
            "2/2 [==============================] - 0s 5ms/step - loss: 71.2250 - mae: 71.2250\n",
            "Epoch 307/500\n",
            "2/2 [==============================] - 0s 7ms/step - loss: 80.2558 - mae: 80.2558\n",
            "Epoch 308/500\n",
            "2/2 [==============================] - 0s 5ms/step - loss: 146.3963 - mae: 146.3963\n",
            "Epoch 309/500\n",
            "2/2 [==============================] - 0s 6ms/step - loss: 124.8645 - mae: 124.8645\n",
            "Epoch 310/500\n",
            "2/2 [==============================] - 0s 5ms/step - loss: 71.9102 - mae: 71.9102\n",
            "Epoch 311/500\n",
            "2/2 [==============================] - 0s 5ms/step - loss: 98.0961 - mae: 98.0961\n",
            "Epoch 312/500\n",
            "2/2 [==============================] - 0s 6ms/step - loss: 108.5603 - mae: 108.5603\n",
            "Epoch 313/500\n",
            "2/2 [==============================] - 0s 5ms/step - loss: 87.8199 - mae: 87.8199\n",
            "Epoch 314/500\n",
            "2/2 [==============================] - 0s 10ms/step - loss: 149.3707 - mae: 149.3707\n",
            "Epoch 315/500\n",
            "2/2 [==============================] - 0s 7ms/step - loss: 156.3755 - mae: 156.3755\n",
            "Epoch 316/500\n",
            "2/2 [==============================] - 0s 7ms/step - loss: 150.0993 - mae: 150.0993\n",
            "Epoch 317/500\n",
            "2/2 [==============================] - 0s 5ms/step - loss: 355.4331 - mae: 355.4331\n",
            "Epoch 318/500\n",
            "2/2 [==============================] - 0s 5ms/step - loss: 306.2288 - mae: 306.2287\n",
            "Epoch 319/500\n",
            "2/2 [==============================] - 0s 5ms/step - loss: 594.7416 - mae: 594.7416\n",
            "Epoch 320/500\n",
            "2/2 [==============================] - 0s 5ms/step - loss: 252.3860 - mae: 252.3860\n",
            "Epoch 321/500\n",
            "2/2 [==============================] - 0s 9ms/step - loss: 325.1796 - mae: 325.1796\n",
            "Epoch 322/500\n",
            "2/2 [==============================] - 0s 10ms/step - loss: 220.6859 - mae: 220.6859\n",
            "Epoch 323/500\n",
            "2/2 [==============================] - 0s 6ms/step - loss: 123.2374 - mae: 123.2374\n",
            "Epoch 324/500\n",
            "2/2 [==============================] - 0s 5ms/step - loss: 89.1496 - mae: 89.1496\n",
            "Epoch 325/500\n",
            "2/2 [==============================] - 0s 7ms/step - loss: 137.0302 - mae: 137.0302\n",
            "Epoch 326/500\n",
            "2/2 [==============================] - 0s 5ms/step - loss: 89.9382 - mae: 89.9382\n",
            "Epoch 327/500\n",
            "2/2 [==============================] - 0s 8ms/step - loss: 84.9466 - mae: 84.9466\n",
            "Epoch 328/500\n",
            "2/2 [==============================] - 0s 8ms/step - loss: 63.0423 - mae: 63.0423\n",
            "Epoch 329/500\n",
            "2/2 [==============================] - 0s 13ms/step - loss: 107.2480 - mae: 107.2480\n",
            "Epoch 330/500\n",
            "2/2 [==============================] - 0s 7ms/step - loss: 156.6913 - mae: 156.6913\n",
            "Epoch 331/500\n",
            "2/2 [==============================] - 0s 6ms/step - loss: 145.7122 - mae: 145.7122\n",
            "Epoch 332/500\n",
            "2/2 [==============================] - 0s 5ms/step - loss: 76.9346 - mae: 76.9346\n",
            "Epoch 333/500\n",
            "2/2 [==============================] - 0s 5ms/step - loss: 59.0980 - mae: 59.0980\n",
            "Epoch 334/500\n",
            "2/2 [==============================] - 0s 6ms/step - loss: 95.6538 - mae: 95.6538\n",
            "Epoch 335/500\n",
            "2/2 [==============================] - 0s 6ms/step - loss: 78.9582 - mae: 78.9582\n",
            "Epoch 336/500\n",
            "2/2 [==============================] - 0s 7ms/step - loss: 62.7654 - mae: 62.7654\n",
            "Epoch 337/500\n",
            "2/2 [==============================] - 0s 6ms/step - loss: 173.2838 - mae: 173.2838\n",
            "Epoch 338/500\n",
            "2/2 [==============================] - 0s 14ms/step - loss: 232.0688 - mae: 232.0688\n",
            "Epoch 339/500\n",
            "2/2 [==============================] - 0s 6ms/step - loss: 95.2510 - mae: 95.2510\n",
            "Epoch 340/500\n",
            "2/2 [==============================] - 0s 11ms/step - loss: 145.9031 - mae: 145.9031\n",
            "Epoch 341/500\n",
            "2/2 [==============================] - 0s 13ms/step - loss: 296.4092 - mae: 296.4092\n",
            "Epoch 342/500\n",
            "2/2 [==============================] - 0s 9ms/step - loss: 96.6582 - mae: 96.6582\n",
            "Epoch 343/500\n",
            "2/2 [==============================] - 0s 5ms/step - loss: 95.9070 - mae: 95.9070\n",
            "Epoch 344/500\n",
            "2/2 [==============================] - 0s 19ms/step - loss: 284.0880 - mae: 284.0879\n",
            "Epoch 345/500\n",
            "2/2 [==============================] - 0s 5ms/step - loss: 110.6628 - mae: 110.6628\n",
            "Epoch 346/500\n",
            "2/2 [==============================] - 0s 5ms/step - loss: 124.2024 - mae: 124.2024\n",
            "Epoch 347/500\n",
            "2/2 [==============================] - 0s 16ms/step - loss: 173.2956 - mae: 173.2956\n",
            "Epoch 348/500\n",
            "2/2 [==============================] - 0s 6ms/step - loss: 255.9501 - mae: 255.9501\n",
            "Epoch 349/500\n",
            "2/2 [==============================] - 0s 6ms/step - loss: 150.2560 - mae: 150.2560\n",
            "Epoch 350/500\n",
            "2/2 [==============================] - 0s 5ms/step - loss: 148.7113 - mae: 148.7113\n",
            "Epoch 351/500\n",
            "2/2 [==============================] - 0s 6ms/step - loss: 165.0853 - mae: 165.0853\n",
            "Epoch 352/500\n",
            "2/2 [==============================] - 0s 11ms/step - loss: 234.9857 - mae: 234.9857\n",
            "Epoch 353/500\n",
            "2/2 [==============================] - 0s 9ms/step - loss: 163.7766 - mae: 163.7766\n",
            "Epoch 354/500\n",
            "2/2 [==============================] - 0s 5ms/step - loss: 109.5450 - mae: 109.5450\n",
            "Epoch 355/500\n",
            "2/2 [==============================] - 0s 6ms/step - loss: 175.8029 - mae: 175.8029\n",
            "Epoch 356/500\n",
            "2/2 [==============================] - 0s 5ms/step - loss: 170.8061 - mae: 170.8061\n",
            "Epoch 357/500\n",
            "2/2 [==============================] - 0s 13ms/step - loss: 132.7835 - mae: 132.7835\n",
            "Epoch 358/500\n",
            "2/2 [==============================] - 0s 5ms/step - loss: 133.3075 - mae: 133.3075\n",
            "Epoch 359/500\n",
            "2/2 [==============================] - 0s 6ms/step - loss: 119.0235 - mae: 119.0235\n",
            "Epoch 360/500\n",
            "2/2 [==============================] - 0s 5ms/step - loss: 109.6282 - mae: 109.6282\n",
            "Epoch 361/500\n",
            "2/2 [==============================] - 0s 6ms/step - loss: 177.8690 - mae: 177.8690\n",
            "Epoch 362/500\n",
            "2/2 [==============================] - 0s 8ms/step - loss: 331.0216 - mae: 331.0216\n",
            "Epoch 363/500\n",
            "2/2 [==============================] - 0s 14ms/step - loss: 260.3586 - mae: 260.3586\n",
            "Epoch 364/500\n",
            "2/2 [==============================] - 0s 6ms/step - loss: 162.3003 - mae: 162.3003\n",
            "Epoch 365/500\n",
            "2/2 [==============================] - 0s 6ms/step - loss: 160.7663 - mae: 160.7663\n",
            "Epoch 366/500\n",
            "2/2 [==============================] - 0s 5ms/step - loss: 200.0095 - mae: 200.0095\n",
            "Epoch 367/500\n",
            "2/2 [==============================] - 0s 5ms/step - loss: 179.3898 - mae: 179.3898\n",
            "Epoch 368/500\n",
            "2/2 [==============================] - 0s 6ms/step - loss: 159.4050 - mae: 159.4050\n",
            "Epoch 369/500\n",
            "2/2 [==============================] - 0s 5ms/step - loss: 176.6044 - mae: 176.6044\n",
            "Epoch 370/500\n",
            "2/2 [==============================] - 0s 7ms/step - loss: 164.0678 - mae: 164.0678\n",
            "Epoch 371/500\n",
            "2/2 [==============================] - 0s 6ms/step - loss: 224.0349 - mae: 224.0349\n",
            "Epoch 372/500\n",
            "2/2 [==============================] - 0s 5ms/step - loss: 146.4320 - mae: 146.4320\n",
            "Epoch 373/500\n",
            "2/2 [==============================] - 0s 13ms/step - loss: 134.8398 - mae: 134.8398\n",
            "Epoch 374/500\n",
            "2/2 [==============================] - 0s 30ms/step - loss: 130.9205 - mae: 130.9205\n",
            "Epoch 375/500\n",
            "2/2 [==============================] - 0s 7ms/step - loss: 119.3506 - mae: 119.3506\n",
            "Epoch 376/500\n",
            "2/2 [==============================] - 0s 9ms/step - loss: 175.2121 - mae: 175.2121\n",
            "Epoch 377/500\n",
            "2/2 [==============================] - 0s 11ms/step - loss: 195.4114 - mae: 195.4114\n",
            "Epoch 378/500\n",
            "2/2 [==============================] - 0s 25ms/step - loss: 136.7854 - mae: 136.7854\n",
            "Epoch 379/500\n",
            "2/2 [==============================] - 0s 11ms/step - loss: 109.5111 - mae: 109.5111\n",
            "Epoch 380/500\n",
            "2/2 [==============================] - 0s 12ms/step - loss: 94.9910 - mae: 94.9910\n",
            "Epoch 381/500\n",
            "2/2 [==============================] - 0s 5ms/step - loss: 124.0584 - mae: 124.0584\n",
            "Epoch 382/500\n",
            "2/2 [==============================] - 0s 8ms/step - loss: 129.2753 - mae: 129.2753\n",
            "Epoch 383/500\n",
            "2/2 [==============================] - 0s 12ms/step - loss: 133.4519 - mae: 133.4519\n",
            "Epoch 384/500\n",
            "2/2 [==============================] - 0s 5ms/step - loss: 77.2751 - mae: 77.2751\n",
            "Epoch 385/500\n",
            "2/2 [==============================] - 0s 6ms/step - loss: 113.0049 - mae: 113.0049\n",
            "Epoch 386/500\n",
            "2/2 [==============================] - 0s 5ms/step - loss: 88.4071 - mae: 88.4071\n",
            "Epoch 387/500\n",
            "2/2 [==============================] - 0s 6ms/step - loss: 120.3745 - mae: 120.3745\n",
            "Epoch 388/500\n",
            "2/2 [==============================] - 0s 10ms/step - loss: 83.3947 - mae: 83.3947\n",
            "Epoch 389/500\n",
            "2/2 [==============================] - 0s 6ms/step - loss: 104.5647 - mae: 104.5647\n",
            "Epoch 390/500\n",
            "2/2 [==============================] - 0s 5ms/step - loss: 78.9671 - mae: 78.9671\n",
            "Epoch 391/500\n",
            "2/2 [==============================] - 0s 4ms/step - loss: 88.2343 - mae: 88.2343\n",
            "Epoch 392/500\n",
            "2/2 [==============================] - 0s 8ms/step - loss: 56.8219 - mae: 56.8219\n",
            "Epoch 393/500\n",
            "2/2 [==============================] - 0s 19ms/step - loss: 59.8180 - mae: 59.8180\n",
            "Epoch 394/500\n",
            "2/2 [==============================] - 0s 7ms/step - loss: 84.5509 - mae: 84.5509\n",
            "Epoch 395/500\n",
            "2/2 [==============================] - 0s 6ms/step - loss: 46.5120 - mae: 46.5120\n",
            "Epoch 396/500\n",
            "2/2 [==============================] - 0s 6ms/step - loss: 102.4563 - mae: 102.4563\n",
            "Epoch 397/500\n",
            "2/2 [==============================] - 0s 8ms/step - loss: 95.7602 - mae: 95.7602\n",
            "Epoch 398/500\n",
            "2/2 [==============================] - 0s 6ms/step - loss: 151.0735 - mae: 151.0735\n",
            "Epoch 399/500\n",
            "2/2 [==============================] - 0s 8ms/step - loss: 259.4807 - mae: 259.4807\n",
            "Epoch 400/500\n",
            "2/2 [==============================] - 0s 9ms/step - loss: 425.5352 - mae: 425.5352\n",
            "Epoch 401/500\n",
            "2/2 [==============================] - 0s 7ms/step - loss: 228.0417 - mae: 228.0417\n",
            "Epoch 402/500\n",
            "2/2 [==============================] - 0s 21ms/step - loss: 224.2685 - mae: 224.2685\n",
            "Epoch 403/500\n",
            "2/2 [==============================] - 0s 10ms/step - loss: 237.7073 - mae: 237.7073\n",
            "Epoch 404/500\n",
            "2/2 [==============================] - 0s 9ms/step - loss: 180.1551 - mae: 180.1551\n",
            "Epoch 405/500\n",
            "2/2 [==============================] - 0s 9ms/step - loss: 208.1914 - mae: 208.1914\n",
            "Epoch 406/500\n",
            "2/2 [==============================] - 0s 8ms/step - loss: 279.1412 - mae: 279.1412\n",
            "Epoch 407/500\n",
            "2/2 [==============================] - 0s 7ms/step - loss: 128.4859 - mae: 128.4859\n",
            "Epoch 408/500\n",
            "2/2 [==============================] - 0s 7ms/step - loss: 180.1099 - mae: 180.1099\n",
            "Epoch 409/500\n",
            "2/2 [==============================] - 0s 9ms/step - loss: 198.3021 - mae: 198.3021\n",
            "Epoch 410/500\n",
            "2/2 [==============================] - 0s 7ms/step - loss: 138.4040 - mae: 138.4040\n",
            "Epoch 411/500\n",
            "2/2 [==============================] - 0s 5ms/step - loss: 135.7816 - mae: 135.7816\n",
            "Epoch 412/500\n",
            "2/2 [==============================] - 0s 14ms/step - loss: 138.5785 - mae: 138.5785\n",
            "Epoch 413/500\n",
            "2/2 [==============================] - 0s 13ms/step - loss: 129.8152 - mae: 129.8152\n",
            "Epoch 414/500\n",
            "2/2 [==============================] - 0s 20ms/step - loss: 121.3834 - mae: 121.3834\n",
            "Epoch 415/500\n",
            "2/2 [==============================] - 0s 8ms/step - loss: 133.1810 - mae: 133.1810\n",
            "Epoch 416/500\n",
            "2/2 [==============================] - 0s 8ms/step - loss: 114.2605 - mae: 114.2605\n",
            "Epoch 417/500\n",
            "2/2 [==============================] - 0s 8ms/step - loss: 126.1457 - mae: 126.1457\n",
            "Epoch 418/500\n",
            "2/2 [==============================] - 0s 9ms/step - loss: 111.2542 - mae: 111.2542\n",
            "Epoch 419/500\n",
            "2/2 [==============================] - 0s 10ms/step - loss: 97.8074 - mae: 97.8074\n",
            "Epoch 420/500\n",
            "2/2 [==============================] - 0s 6ms/step - loss: 57.9607 - mae: 57.9607\n",
            "Epoch 421/500\n",
            "2/2 [==============================] - 0s 7ms/step - loss: 97.3344 - mae: 97.3344\n",
            "Epoch 422/500\n",
            "2/2 [==============================] - 0s 10ms/step - loss: 110.8442 - mae: 110.8442\n",
            "Epoch 423/500\n",
            "2/2 [==============================] - 0s 15ms/step - loss: 199.4857 - mae: 199.4857\n",
            "Epoch 424/500\n",
            "2/2 [==============================] - 0s 24ms/step - loss: 124.9264 - mae: 124.9264\n",
            "Epoch 425/500\n",
            "2/2 [==============================] - 0s 11ms/step - loss: 93.1783 - mae: 93.1783\n",
            "Epoch 426/500\n",
            "2/2 [==============================] - 0s 11ms/step - loss: 54.7244 - mae: 54.7244\n",
            "Epoch 427/500\n",
            "2/2 [==============================] - 0s 6ms/step - loss: 59.4295 - mae: 59.4295\n",
            "Epoch 428/500\n",
            "2/2 [==============================] - 0s 8ms/step - loss: 96.8612 - mae: 96.8612\n",
            "Epoch 429/500\n",
            "2/2 [==============================] - 0s 11ms/step - loss: 126.6567 - mae: 126.6567\n",
            "Epoch 430/500\n",
            "2/2 [==============================] - 0s 7ms/step - loss: 113.4316 - mae: 113.4316\n",
            "Epoch 431/500\n",
            "2/2 [==============================] - 0s 10ms/step - loss: 288.9756 - mae: 288.9756\n",
            "Epoch 432/500\n",
            "2/2 [==============================] - 0s 5ms/step - loss: 143.5596 - mae: 143.5596\n",
            "Epoch 433/500\n",
            "2/2 [==============================] - 0s 13ms/step - loss: 154.2917 - mae: 154.2917\n",
            "Epoch 434/500\n",
            "2/2 [==============================] - 0s 6ms/step - loss: 189.3296 - mae: 189.3296\n",
            "Epoch 435/500\n",
            "2/2 [==============================] - 0s 5ms/step - loss: 308.3431 - mae: 308.3431\n",
            "Epoch 436/500\n",
            "2/2 [==============================] - 0s 5ms/step - loss: 218.3351 - mae: 218.3351\n",
            "Epoch 437/500\n",
            "2/2 [==============================] - 0s 10ms/step - loss: 252.5819 - mae: 252.5819\n",
            "Epoch 438/500\n",
            "2/2 [==============================] - 0s 27ms/step - loss: 363.0270 - mae: 363.0270\n",
            "Epoch 439/500\n",
            "2/2 [==============================] - 0s 18ms/step - loss: 222.4314 - mae: 222.4314\n",
            "Epoch 440/500\n",
            "2/2 [==============================] - 0s 26ms/step - loss: 261.0125 - mae: 261.0125\n",
            "Epoch 441/500\n",
            "2/2 [==============================] - 0s 8ms/step - loss: 187.4276 - mae: 187.4276\n",
            "Epoch 442/500\n",
            "2/2 [==============================] - 0s 16ms/step - loss: 187.5407 - mae: 187.5407\n",
            "Epoch 443/500\n",
            "2/2 [==============================] - 0s 10ms/step - loss: 220.5386 - mae: 220.5386\n",
            "Epoch 444/500\n",
            "2/2 [==============================] - 0s 7ms/step - loss: 362.5188 - mae: 362.5188\n",
            "Epoch 445/500\n",
            "2/2 [==============================] - 0s 13ms/step - loss: 226.3943 - mae: 226.3943\n",
            "Epoch 446/500\n",
            "2/2 [==============================] - 0s 9ms/step - loss: 185.5155 - mae: 185.5155\n",
            "Epoch 447/500\n",
            "2/2 [==============================] - 0s 8ms/step - loss: 243.3691 - mae: 243.3691\n",
            "Epoch 448/500\n",
            "2/2 [==============================] - 0s 6ms/step - loss: 195.9008 - mae: 195.9008\n",
            "Epoch 449/500\n",
            "2/2 [==============================] - 0s 5ms/step - loss: 301.4911 - mae: 301.4911\n",
            "Epoch 450/500\n",
            "2/2 [==============================] - 0s 9ms/step - loss: 151.2062 - mae: 151.2062\n",
            "Epoch 451/500\n",
            "2/2 [==============================] - 0s 10ms/step - loss: 160.8614 - mae: 160.8614\n",
            "Epoch 452/500\n",
            "2/2 [==============================] - 0s 8ms/step - loss: 148.4246 - mae: 148.4246\n",
            "Epoch 453/500\n",
            "2/2 [==============================] - 0s 7ms/step - loss: 140.4606 - mae: 140.4606\n",
            "Epoch 454/500\n",
            "2/2 [==============================] - 0s 7ms/step - loss: 180.5222 - mae: 180.5222\n",
            "Epoch 455/500\n",
            "2/2 [==============================] - 0s 11ms/step - loss: 214.1327 - mae: 214.1327\n",
            "Epoch 456/500\n",
            "2/2 [==============================] - 0s 5ms/step - loss: 284.7095 - mae: 284.7095\n",
            "Epoch 457/500\n",
            "2/2 [==============================] - 0s 7ms/step - loss: 199.6622 - mae: 199.6622\n",
            "Epoch 458/500\n",
            "2/2 [==============================] - 0s 9ms/step - loss: 273.4567 - mae: 273.4567\n",
            "Epoch 459/500\n",
            "2/2 [==============================] - 0s 8ms/step - loss: 135.9846 - mae: 135.9846\n",
            "Epoch 460/500\n",
            "2/2 [==============================] - 0s 8ms/step - loss: 129.3109 - mae: 129.3109\n",
            "Epoch 461/500\n",
            "2/2 [==============================] - 0s 8ms/step - loss: 76.0197 - mae: 76.0197\n",
            "Epoch 462/500\n",
            "2/2 [==============================] - 0s 5ms/step - loss: 107.7876 - mae: 107.7876\n",
            "Epoch 463/500\n",
            "2/2 [==============================] - 0s 8ms/step - loss: 112.2386 - mae: 112.2386\n",
            "Epoch 464/500\n",
            "2/2 [==============================] - 0s 6ms/step - loss: 109.9871 - mae: 109.9871\n",
            "Epoch 465/500\n",
            "2/2 [==============================] - 0s 8ms/step - loss: 98.6072 - mae: 98.6072\n",
            "Epoch 466/500\n",
            "2/2 [==============================] - 0s 5ms/step - loss: 96.3713 - mae: 96.3713\n",
            "Epoch 467/500\n",
            "2/2 [==============================] - 0s 8ms/step - loss: 101.2398 - mae: 101.2398\n",
            "Epoch 468/500\n",
            "2/2 [==============================] - 0s 6ms/step - loss: 109.9528 - mae: 109.9528\n",
            "Epoch 469/500\n",
            "2/2 [==============================] - 0s 6ms/step - loss: 80.0509 - mae: 80.0509\n",
            "Epoch 470/500\n",
            "2/2 [==============================] - 0s 9ms/step - loss: 98.5626 - mae: 98.5626\n",
            "Epoch 471/500\n",
            "2/2 [==============================] - 0s 7ms/step - loss: 87.6645 - mae: 87.6645\n",
            "Epoch 472/500\n",
            "2/2 [==============================] - 0s 5ms/step - loss: 97.4784 - mae: 97.4784\n",
            "Epoch 473/500\n",
            "2/2 [==============================] - 0s 5ms/step - loss: 105.0032 - mae: 105.0032\n",
            "Epoch 474/500\n",
            "2/2 [==============================] - 0s 18ms/step - loss: 75.8687 - mae: 75.8687\n",
            "Epoch 475/500\n",
            "2/2 [==============================] - 0s 7ms/step - loss: 153.1082 - mae: 153.1082\n",
            "Epoch 476/500\n",
            "2/2 [==============================] - 0s 6ms/step - loss: 221.0213 - mae: 221.0213\n",
            "Epoch 477/500\n",
            "2/2 [==============================] - 0s 6ms/step - loss: 255.5092 - mae: 255.5092\n",
            "Epoch 478/500\n",
            "2/2 [==============================] - 0s 14ms/step - loss: 148.9468 - mae: 148.9468\n",
            "Epoch 479/500\n",
            "2/2 [==============================] - 0s 20ms/step - loss: 190.5054 - mae: 190.5054\n",
            "Epoch 480/500\n",
            "2/2 [==============================] - 0s 6ms/step - loss: 393.2382 - mae: 393.2382\n",
            "Epoch 481/500\n",
            "2/2 [==============================] - 0s 6ms/step - loss: 321.2052 - mae: 321.2052\n",
            "Epoch 482/500\n",
            "2/2 [==============================] - 0s 5ms/step - loss: 335.0945 - mae: 335.0945\n",
            "Epoch 483/500\n",
            "2/2 [==============================] - 0s 5ms/step - loss: 220.8366 - mae: 220.8366\n",
            "Epoch 484/500\n",
            "2/2 [==============================] - 0s 8ms/step - loss: 256.1659 - mae: 256.1659\n",
            "Epoch 485/500\n",
            "2/2 [==============================] - 0s 6ms/step - loss: 150.2576 - mae: 150.2576\n",
            "Epoch 486/500\n",
            "2/2 [==============================] - 0s 18ms/step - loss: 108.3010 - mae: 108.3010\n",
            "Epoch 487/500\n",
            "2/2 [==============================] - 0s 8ms/step - loss: 106.9667 - mae: 106.9667\n",
            "Epoch 488/500\n",
            "2/2 [==============================] - 0s 6ms/step - loss: 100.5713 - mae: 100.5713\n",
            "Epoch 489/500\n",
            "2/2 [==============================] - 0s 7ms/step - loss: 161.8193 - mae: 161.8193\n",
            "Epoch 490/500\n",
            "2/2 [==============================] - 0s 7ms/step - loss: 112.8498 - mae: 112.8498\n",
            "Epoch 491/500\n",
            "2/2 [==============================] - 0s 7ms/step - loss: 197.7815 - mae: 197.7815\n",
            "Epoch 492/500\n",
            "2/2 [==============================] - 0s 10ms/step - loss: 113.2752 - mae: 113.2752\n",
            "Epoch 493/500\n",
            "2/2 [==============================] - 0s 8ms/step - loss: 91.6438 - mae: 91.6438\n",
            "Epoch 494/500\n",
            "2/2 [==============================] - 0s 9ms/step - loss: 162.5348 - mae: 162.5348\n",
            "Epoch 495/500\n",
            "2/2 [==============================] - 0s 5ms/step - loss: 137.4623 - mae: 137.4623\n",
            "Epoch 496/500\n",
            "2/2 [==============================] - 0s 8ms/step - loss: 187.0684 - mae: 187.0684\n",
            "Epoch 497/500\n",
            "2/2 [==============================] - 0s 8ms/step - loss: 122.7185 - mae: 122.7185\n",
            "Epoch 498/500\n",
            "2/2 [==============================] - 0s 5ms/step - loss: 99.6683 - mae: 99.6683\n",
            "Epoch 499/500\n",
            "2/2 [==============================] - 0s 5ms/step - loss: 185.0725 - mae: 185.0725\n",
            "Epoch 500/500\n",
            "2/2 [==============================] - 0s 5ms/step - loss: 94.4354 - mae: 94.4354\n"
          ],
          "name": "stdout"
        },
        {
          "output_type": "execute_result",
          "data": {
            "text/plain": [
              "<tensorflow.python.keras.callbacks.History at 0x7ff17d6d4e10>"
            ]
          },
          "metadata": {
            "tags": []
          },
          "execution_count": 170
        }
      ]
    },
    {
      "cell_type": "code",
      "metadata": {
        "id": "chqAEd8z3vBR"
      },
      "source": [
        "# Y predicted\n",
        "Y_pred_4 = model4.predict(X_test) "
      ],
      "execution_count": 171,
      "outputs": []
    },
    {
      "cell_type": "code",
      "metadata": {
        "colab": {
          "base_uri": "https://localhost:8080/",
          "height": 448
        },
        "id": "grUo_W9L4lqU",
        "outputId": "261548bc-7b8d-4d01-cc1f-4d114925701a"
      },
      "source": [
        "# visualize the data\n",
        "\n",
        "# visulaize the predicted and actual again\n",
        "plt.figure(figsize=(10,7))\n",
        "\n",
        "plt.scatter(X_test,Y_test, c=\"b\", label = \"actual\")\n",
        "\n",
        "plt.scatter(X_test,Y_pred_4, c=\"r\", label=\"prdicted\")\n",
        "\n",
        "plt.legend()"
      ],
      "execution_count": 172,
      "outputs": [
        {
          "output_type": "execute_result",
          "data": {
            "text/plain": [
              "<matplotlib.legend.Legend at 0x7ff17d52a3d0>"
            ]
          },
          "metadata": {
            "tags": []
          },
          "execution_count": 172
        },
        {
          "output_type": "display_data",
          "data": {
            "image/png": "[encoded data removed]",
            "text/plain": [
              "<Figure size 720x504 with 1 Axes>"
            ]
          },
          "metadata": {
            "tags": [],
            "needs_background": "light"
          }
        }
      ]
    },
    {
      "cell_type": "markdown",
      "metadata": {
        "id": "H9ioXoa84v28"
      },
      "source": [
        "**One more experiment**I"
      ]
    },
    {
      "cell_type": "code",
      "metadata": {
        "colab": {
          "base_uri": "https://localhost:8080/",
          "height": 446
        },
        "id": "_VGbs3f059bO",
        "outputId": "b554325e-4e94-4615-f915-cc39ba33f271"
      },
      "source": [
        "# visualize the data\n",
        "\n",
        "# visulaize the predicted and actual again\n",
        "plt.figure(figsize=(10,7))\n",
        "\n",
        "plt.scatter(X_test,Y_test, c=\"b\", label = \"actual\")\n",
        "\n",
        "plt.scatter(X_test,Y_pred_1, color = '#88c999', label=\"prdicted-1\")\n",
        "plt.scatter(X_test,Y_pred_2, c=\"y\", label=\"prdicted-2\")\n",
        "\n",
        "\n",
        "plt.scatter(X_test,Y_pred_3, c=\"g\", label=\"prdicted-3\")\n",
        "plt.scatter(X_test,Y_pred_4, c=\"r\", label=\"prdicted-4\")\n",
        "\n",
        "plt.legend()"
      ],
      "execution_count": 215,
      "outputs": [
        {
          "output_type": "execute_result",
          "data": {
            "text/plain": [
              "<matplotlib.legend.Legend at 0x7ff1323170d0>"
            ]
          },
          "metadata": {
            "tags": []
          },
          "execution_count": 215
        },
        {
          "output_type": "display_data",
          "data": {
            "image/png": "[encoded data removed]",
            "text/plain": [
              "<Figure size 720x504 with 1 Axes>"
            ]
          },
          "metadata": {
            "tags": [],
            "needs_background": "light"
          }
        }
      ]
    },
    {
      "cell_type": "code",
      "metadata": {
        "id": "HlF4t5OF6DkL"
      },
      "source": [
        ""
      ],
      "execution_count": null,
      "outputs": []
    }
  ]
}