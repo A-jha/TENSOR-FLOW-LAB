{
  "nbformat": 4,
  "nbformat_minor": 0,
  "metadata": {
    "colab": {
      "name": "01_Neural_Network_Regration_Wth_TensoFlow.ipynb",
      "provenance": [],
      "collapsed_sections": [],
      "authorship_tag": "ABX9TyN+7MaeZhl1q0uuO8Cjdga7",
      "include_colab_link": true
    },
    "kernelspec": {
      "name": "python3",
      "display_name": "Python 3"
    },
    "language_info": {
      "name": "python"
    }
  },
  "cells": [
    {
      "cell_type": "markdown",
      "metadata": {
        "id": "view-in-github",
        "colab_type": "text"
      },
      "source": [
        "<a href=\"https://colab.research.google.com/github/A-jha/TENSOR-FLOW-LAB/blob/master/01_Neural_Network_Regration_Wth_TensoFlow.ipynb\" target=\"_parent\"><img src=\"https://colab.research.google.com/assets/colab-badge.svg\" alt=\"Open In Colab\"/></a>"
      ]
    },
    {
      "cell_type": "markdown",
      "metadata": {
        "id": "-mK9BzRbcP4Z"
      },
      "source": [
        "# Neural Network regression wiyh Tensorflow"
      ]
    },
    {
      "cell_type": "markdown",
      "metadata": {
        "id": "C9zrOAZBczEm"
      },
      "source": [
        "## What is Regression ?\n",
        "Predicting a numerical a varible based on some other combination of variables, even shorter... predicting a number.\n",
        "\n",
        "In Statistical modeling, regression analysis is a set of Statistical processes for estimating the relationship between dependent (output varible) and one or more independent variable.\n",
        "\n",
        "Example : You are a small Restaurant owner . Tip are the best way to keep happy the waiters.\n",
        "- Tip value depends on total bill.\n",
        "- Now You would like to develop a model that will allow you to predics amount of bill.\n",
        "\n",
        "**Residual :** The distance from best fit line to actual value is called residual / error.\n",
        "  - Residual  always sumups to 0 .\n",
        "  - A good reggression model minimizes the SSE (Sum of Squared error).\n",
        "\n",
        "**Note :** The best bit regression line must pass through centroid.\n",
        "\n"
      ]
    },
    {
      "cell_type": "code",
      "metadata": {
        "id": "sXfdIDhNc3co",
        "colab": {
          "base_uri": "https://localhost:8080/"
        },
        "outputId": "bb57c688-0b0c-4994-d2ba-5b719a3beb7d"
      },
      "source": [
        "# import tensorflow\n",
        "import tensorflow as tf\n",
        "print(tf.__version__)"
      ],
      "execution_count": 1,
      "outputs": [
        {
          "output_type": "stream",
          "text": [
            "2.5.0\n"
          ],
          "name": "stdout"
        }
      ]
    },
    {
      "cell_type": "code",
      "metadata": {
        "colab": {
          "base_uri": "https://localhost:8080/",
          "height": 287
        },
        "id": "i8S8vlo7_B-o",
        "outputId": "014c1506-8fc4-45a1-b84b-8c95469a7233"
      },
      "source": [
        "## Create some data \n",
        "import numpy as np\n",
        "import matplotlib.pyplot as plt\n",
        "\n",
        "# Create Features\n",
        "X = np.array([-7.0, -4.0, -1.0, 2.0, 5.0, 8.0, 11.0, 14.0])\n",
        "\n",
        "# Create a label\n",
        "Y = np.array([3.0, 6.0, 9.0, 12.0, 15.0, 18.0, 21.0, 24.0])\n",
        "\n",
        "# visualize it\n",
        "plt.scatter(X,Y)"
      ],
      "execution_count": 2,
      "outputs": [
        {
          "output_type": "execute_result",
          "data": {
            "text/plain": [
              "<matplotlib.collections.PathCollection at 0x7fc9b7b90bd0>"
            ]
          },
          "metadata": {
            "tags": []
          },
          "execution_count": 2
        },
        {
          "output_type": "display_data",
          "data": {
            "image/png": "[encoded data removed]",
            "text/plain": [
              "<Figure size 432x288 with 1 Axes>"
            ]
          },
          "metadata": {
            "tags": [],
            "needs_background": "light"
          }
        }
      ]
    },
    {
      "cell_type": "code",
      "metadata": {
        "colab": {
          "base_uri": "https://localhost:8080/"
        },
        "id": "WDKjqWzmAEzd",
        "outputId": "78be73cf-7d54-430a-e058-801f80b4d301"
      },
      "source": [
        "# Relation between X and Y\n",
        "Y == X + 10"
      ],
      "execution_count": 3,
      "outputs": [
        {
          "output_type": "execute_result",
          "data": {
            "text/plain": [
              "array([ True,  True,  True,  True,  True,  True,  True,  True])"
            ]
          },
          "metadata": {
            "tags": []
          },
          "execution_count": 3
        }
      ]
    },
    {
      "cell_type": "markdown",
      "metadata": {
        "id": "cVXtexEuAcH_"
      },
      "source": [
        "### Input and Output Shapes"
      ]
    },
    {
      "cell_type": "code",
      "metadata": {
        "colab": {
          "base_uri": "https://localhost:8080/"
        },
        "id": "Oc_57I2pAsDl",
        "outputId": "f637d7b6-c428-42b1-9fed-7bb8723b9f18"
      },
      "source": [
        "# create a dummy data for housing price prediction\n",
        "house_info = tf.constant([\"beedroom\", \"bathroom\", \"garage\"])\n",
        "house_price = tf.constant([934500]) \n",
        "house_info, house_price"
      ],
      "execution_count": 4,
      "outputs": [
        {
          "output_type": "execute_result",
          "data": {
            "text/plain": [
              "(<tf.Tensor: shape=(3,), dtype=string, numpy=array([b'beedroom', b'bathroom', b'garage'], dtype=object)>,\n",
              " <tf.Tensor: shape=(1,), dtype=int32, numpy=array([934500], dtype=int32)>)"
            ]
          },
          "metadata": {
            "tags": []
          },
          "execution_count": 4
        }
      ]
    },
    {
      "cell_type": "code",
      "metadata": {
        "colab": {
          "base_uri": "https://localhost:8080/"
        },
        "id": "FtjPxB8WBNbi",
        "outputId": "1c0b7d5e-2def-4e1e-95b0-abbec064ebd9"
      },
      "source": [
        "# Turn Numpy array into tensors\n",
        "X = tf.constant(X)\n",
        "Y = tf.constant(Y)\n",
        "X,Y\n",
        "tf.cast(X,dtype=tf.float32)\n",
        "tf.cast(Y,dtype=tf.float32)"
      ],
      "execution_count": 5,
      "outputs": [
        {
          "output_type": "execute_result",
          "data": {
            "text/plain": [
              "<tf.Tensor: shape=(8,), dtype=float32, numpy=array([ 3.,  6.,  9., 12., 15., 18., 21., 24.], dtype=float32)>"
            ]
          },
          "metadata": {
            "tags": []
          },
          "execution_count": 5
        }
      ]
    },
    {
      "cell_type": "code",
      "metadata": {
        "colab": {
          "base_uri": "https://localhost:8080/"
        },
        "id": "Yr50vgzfCf3V",
        "outputId": "92aaba92-7458-44a3-9523-eca7fbeeb2f8"
      },
      "source": [
        "#Here we have input as scaler and output as Scaler\n",
        "input_shape = X[0].shape\n",
        "output_shape = Y[0].shape \n",
        "input_shape, output_shape"
      ],
      "execution_count": 6,
      "outputs": [
        {
          "output_type": "execute_result",
          "data": {
            "text/plain": [
              "(TensorShape([]), TensorShape([]))"
            ]
          },
          "metadata": {
            "tags": []
          },
          "execution_count": 6
        }
      ]
    },
    {
      "cell_type": "markdown",
      "metadata": {
        "id": "ZGu2qf6rCvSr"
      },
      "source": [
        "## Steps in Modeling with Tensorflow\n",
        "1. Creating a model - define the input and output layers, as well as the hidden layers of a deep learning model.\n",
        "\n",
        "2. Compiling a model - \n",
        "  - define loss function (in other words, the function which tells our model how wrong it is)\n",
        "  - The optimzer (tells our model how to improve the patterns its learning)\n",
        "  - evaluation matrix (what we can use to interpret the performance of our model)\n",
        "3. Fitting a model- letting the model to fins pattern between X and Y(features and labels)\n",
        "  - epochs - How many time our mpdel will go through all the training example.\n",
        "\n",
        "**mae :**- mean absolute error"
      ]
    },
    {
      "cell_type": "code",
      "metadata": {
        "id": "Ur4-jWzwHEJo",
        "colab": {
          "base_uri": "https://localhost:8080/"
        },
        "outputId": "c82ecb23-b176-48df-e217-5a45485f59b3"
      },
      "source": [
        "# Set random seed\n",
        "tf.random.set_seed(42)\n",
        "\n",
        "# 1. Create a model using sequential API\n",
        "model = tf.keras.Sequential([\n",
        "  tf.keras.layers.Dense(1)\n",
        "])\n",
        "\n",
        "#2. compile the model\n",
        "model.compile(loss= tf.keras.losses.mae, # mae - mean absolute error\n",
        "              optimizer = tf.keras.optimizers.SGD(), # sgd - stochasitc gradient descent\n",
        "              metrics = [\"mae\"]             \n",
        ")\n",
        "\n",
        "# fit the model\n",
        "model.fit(X,Y,epochs = 5)"
      ],
      "execution_count": 7,
      "outputs": [
        {
          "output_type": "stream",
          "text": [
            "Epoch 1/5\n",
            "1/1 [==============================] - 0s 282ms/step - loss: 11.5048 - mae: 11.5048\n",
            "Epoch 2/5\n",
            "1/1 [==============================] - 0s 4ms/step - loss: 11.3723 - mae: 11.3723\n",
            "Epoch 3/5\n",
            "1/1 [==============================] - 0s 4ms/step - loss: 11.2398 - mae: 11.2398\n",
            "Epoch 4/5\n",
            "1/1 [==============================] - 0s 4ms/step - loss: 11.1073 - mae: 11.1073\n",
            "Epoch 5/5\n",
            "1/1 [==============================] - 0s 5ms/step - loss: 10.9748 - mae: 10.9748\n"
          ],
          "name": "stdout"
        },
        {
          "output_type": "execute_result",
          "data": {
            "text/plain": [
              "<tensorflow.python.keras.callbacks.History at 0x7fc9b7651f50>"
            ]
          },
          "metadata": {
            "tags": []
          },
          "execution_count": 7
        }
      ]
    },
    {
      "cell_type": "code",
      "metadata": {
        "colab": {
          "base_uri": "https://localhost:8080/"
        },
        "id": "GyBxsB5nQvXU",
        "outputId": "ae62e346-1922-49b8-8487-ed400f97915c"
      },
      "source": [
        "# Check X and Y\n",
        "X,Y"
      ],
      "execution_count": 8,
      "outputs": [
        {
          "output_type": "execute_result",
          "data": {
            "text/plain": [
              "(<tf.Tensor: shape=(8,), dtype=float64, numpy=array([-7., -4., -1.,  2.,  5.,  8., 11., 14.])>,\n",
              " <tf.Tensor: shape=(8,), dtype=float64, numpy=array([ 3.,  6.,  9., 12., 15., 18., 21., 24.])>)"
            ]
          },
          "metadata": {
            "tags": []
          },
          "execution_count": 8
        }
      ]
    },
    {
      "cell_type": "code",
      "metadata": {
        "colab": {
          "base_uri": "https://localhost:8080/"
        },
        "id": "iFHJB-M0Rc9u",
        "outputId": "6b3432af-1ca0-4340-c78e-8ade5c0f63df"
      },
      "source": [
        "# Try to make prediction using model\n",
        "model.predict([17.0])"
      ],
      "execution_count": 9,
      "outputs": [
        {
          "output_type": "execute_result",
          "data": {
            "text/plain": [
              "array([[12.716021]], dtype=float32)"
            ]
          },
          "metadata": {
            "tags": []
          },
          "execution_count": 9
        }
      ]
    },
    {
      "cell_type": "markdown",
      "metadata": {
        "id": "FlNg3YYiRl7i"
      },
      "source": [
        "## Improving Model\n",
        "We can improve our model, by altering the steps we took to create a model.\n",
        "1. **Creating a model** - here we might add more layers, increase the number of hidden units (all called neurons) within each of the hidden layers, change the activation function of each layer.\n",
        "\n",
        "2. **Compiling a model** - Here we might the optimization  function or learning rate of the optimization function.\n",
        "\n",
        "3. **Fitting a model** - Here we might fit a model for more epochs(leave it training for long) or add more data to learn from."
      ]
    },
    {
      "cell_type": "code",
      "metadata": {
        "colab": {
          "base_uri": "https://localhost:8080/"
        },
        "id": "qEwO30hVUokd",
        "outputId": "1cca773e-bea7-4a3b-8cd6-b40e62926499"
      },
      "source": [
        "# Let's rebuild our model\n",
        "#1. Create the model\n",
        "model = tf.keras.Sequential([\n",
        "                             tf.keras.layers.Dense(1)\n",
        "])\n",
        "\n",
        "# 2. compile the model\n",
        "model.compile(optimizer=tf.keras.optimizers.SGD(),\n",
        "              loss = \"mae\",\n",
        "              metrics =[ \"mae\"])\n",
        "\n",
        "# fit the model\n",
        "model.fit(X,Y,epochs = 200)"
      ],
      "execution_count": 10,
      "outputs": [
        {
          "output_type": "stream",
          "text": [
            "Epoch 1/200\n",
            "1/1 [==============================] - 0s 238ms/step - loss: 11.2219 - mae: 11.2219\n",
            "Epoch 2/200\n",
            "1/1 [==============================] - 0s 4ms/step - loss: 11.0894 - mae: 11.0894\n",
            "Epoch 3/200\n",
            "1/1 [==============================] - 0s 4ms/step - loss: 10.9569 - mae: 10.9569\n",
            "Epoch 4/200\n",
            "1/1 [==============================] - 0s 3ms/step - loss: 10.8244 - mae: 10.8244\n",
            "Epoch 5/200\n",
            "1/1 [==============================] - 0s 3ms/step - loss: 10.6919 - mae: 10.6919\n",
            "Epoch 6/200\n",
            "1/1 [==============================] - 0s 7ms/step - loss: 10.5594 - mae: 10.5594\n",
            "Epoch 7/200\n",
            "1/1 [==============================] - 0s 3ms/step - loss: 10.4269 - mae: 10.4269\n",
            "Epoch 8/200\n",
            "1/1 [==============================] - 0s 7ms/step - loss: 10.2944 - mae: 10.2944\n",
            "Epoch 9/200\n",
            "1/1 [==============================] - 0s 6ms/step - loss: 10.1619 - mae: 10.1619\n",
            "Epoch 10/200\n",
            "1/1 [==============================] - 0s 6ms/step - loss: 10.0294 - mae: 10.0294\n",
            "Epoch 11/200\n",
            "1/1 [==============================] - 0s 6ms/step - loss: 9.8969 - mae: 9.8969\n",
            "Epoch 12/200\n",
            "1/1 [==============================] - 0s 6ms/step - loss: 9.7644 - mae: 9.7644\n",
            "Epoch 13/200\n",
            "1/1 [==============================] - 0s 6ms/step - loss: 9.6319 - mae: 9.6319\n",
            "Epoch 14/200\n",
            "1/1 [==============================] - 0s 7ms/step - loss: 9.4994 - mae: 9.4994\n",
            "Epoch 15/200\n",
            "1/1 [==============================] - 0s 4ms/step - loss: 9.3669 - mae: 9.3669\n",
            "Epoch 16/200\n",
            "1/1 [==============================] - 0s 5ms/step - loss: 9.2344 - mae: 9.2344\n",
            "Epoch 17/200\n",
            "1/1 [==============================] - 0s 3ms/step - loss: 9.1019 - mae: 9.1019\n",
            "Epoch 18/200\n",
            "1/1 [==============================] - 0s 4ms/step - loss: 8.9694 - mae: 8.9694\n",
            "Epoch 19/200\n",
            "1/1 [==============================] - 0s 4ms/step - loss: 8.8369 - mae: 8.8369\n",
            "Epoch 20/200\n",
            "1/1 [==============================] - 0s 4ms/step - loss: 8.7044 - mae: 8.7044\n",
            "Epoch 21/200\n",
            "1/1 [==============================] - 0s 3ms/step - loss: 8.5719 - mae: 8.5719\n",
            "Epoch 22/200\n",
            "1/1 [==============================] - 0s 3ms/step - loss: 8.4394 - mae: 8.4394\n",
            "Epoch 23/200\n",
            "1/1 [==============================] - 0s 3ms/step - loss: 8.3069 - mae: 8.3069\n",
            "Epoch 24/200\n",
            "1/1 [==============================] - 0s 4ms/step - loss: 8.1744 - mae: 8.1744\n",
            "Epoch 25/200\n",
            "1/1 [==============================] - 0s 8ms/step - loss: 8.0419 - mae: 8.0419\n",
            "Epoch 26/200\n",
            "1/1 [==============================] - 0s 3ms/step - loss: 7.9094 - mae: 7.9094\n",
            "Epoch 27/200\n",
            "1/1 [==============================] - 0s 3ms/step - loss: 7.7769 - mae: 7.7769\n",
            "Epoch 28/200\n",
            "1/1 [==============================] - 0s 3ms/step - loss: 7.6444 - mae: 7.6444\n",
            "Epoch 29/200\n",
            "1/1 [==============================] - 0s 4ms/step - loss: 7.5119 - mae: 7.5119\n",
            "Epoch 30/200\n",
            "1/1 [==============================] - 0s 3ms/step - loss: 7.3794 - mae: 7.3794\n",
            "Epoch 31/200\n",
            "1/1 [==============================] - 0s 3ms/step - loss: 7.2750 - mae: 7.2750\n",
            "Epoch 32/200\n",
            "1/1 [==============================] - 0s 3ms/step - loss: 7.2694 - mae: 7.2694\n",
            "Epoch 33/200\n",
            "1/1 [==============================] - 0s 5ms/step - loss: 7.2638 - mae: 7.2638\n",
            "Epoch 34/200\n",
            "1/1 [==============================] - 0s 3ms/step - loss: 7.2581 - mae: 7.2581\n",
            "Epoch 35/200\n",
            "1/1 [==============================] - 0s 3ms/step - loss: 7.2525 - mae: 7.2525\n",
            "Epoch 36/200\n",
            "1/1 [==============================] - 0s 3ms/step - loss: 7.2469 - mae: 7.2469\n",
            "Epoch 37/200\n",
            "1/1 [==============================] - 0s 5ms/step - loss: 7.2412 - mae: 7.2412\n",
            "Epoch 38/200\n",
            "1/1 [==============================] - 0s 3ms/step - loss: 7.2356 - mae: 7.2356\n",
            "Epoch 39/200\n",
            "1/1 [==============================] - 0s 3ms/step - loss: 7.2300 - mae: 7.2300\n",
            "Epoch 40/200\n",
            "1/1 [==============================] - 0s 6ms/step - loss: 7.2244 - mae: 7.2244\n",
            "Epoch 41/200\n",
            "1/1 [==============================] - 0s 5ms/step - loss: 7.2188 - mae: 7.2188\n",
            "Epoch 42/200\n",
            "1/1 [==============================] - 0s 3ms/step - loss: 7.2131 - mae: 7.2131\n",
            "Epoch 43/200\n",
            "1/1 [==============================] - 0s 3ms/step - loss: 7.2075 - mae: 7.2075\n",
            "Epoch 44/200\n",
            "1/1 [==============================] - 0s 4ms/step - loss: 7.2019 - mae: 7.2019\n",
            "Epoch 45/200\n",
            "1/1 [==============================] - 0s 3ms/step - loss: 7.1962 - mae: 7.1962\n",
            "Epoch 46/200\n",
            "1/1 [==============================] - 0s 5ms/step - loss: 7.1906 - mae: 7.1906\n",
            "Epoch 47/200\n",
            "1/1 [==============================] - 0s 3ms/step - loss: 7.1850 - mae: 7.1850\n",
            "Epoch 48/200\n",
            "1/1 [==============================] - 0s 5ms/step - loss: 7.1794 - mae: 7.1794\n",
            "Epoch 49/200\n",
            "1/1 [==============================] - 0s 3ms/step - loss: 7.1737 - mae: 7.1737\n",
            "Epoch 50/200\n",
            "1/1 [==============================] - 0s 3ms/step - loss: 7.1681 - mae: 7.1681\n",
            "Epoch 51/200\n",
            "1/1 [==============================] - 0s 3ms/step - loss: 7.1625 - mae: 7.1625\n",
            "Epoch 52/200\n",
            "1/1 [==============================] - 0s 5ms/step - loss: 7.1569 - mae: 7.1569\n",
            "Epoch 53/200\n",
            "1/1 [==============================] - 0s 4ms/step - loss: 7.1512 - mae: 7.1512\n",
            "Epoch 54/200\n",
            "1/1 [==============================] - 0s 3ms/step - loss: 7.1456 - mae: 7.1456\n",
            "Epoch 55/200\n",
            "1/1 [==============================] - 0s 5ms/step - loss: 7.1400 - mae: 7.1400\n",
            "Epoch 56/200\n",
            "1/1 [==============================] - 0s 3ms/step - loss: 7.1344 - mae: 7.1344\n",
            "Epoch 57/200\n",
            "1/1 [==============================] - 0s 3ms/step - loss: 7.1287 - mae: 7.1287\n",
            "Epoch 58/200\n",
            "1/1 [==============================] - 0s 5ms/step - loss: 7.1231 - mae: 7.1231\n",
            "Epoch 59/200\n",
            "1/1 [==============================] - 0s 3ms/step - loss: 7.1175 - mae: 7.1175\n",
            "Epoch 60/200\n",
            "1/1 [==============================] - 0s 4ms/step - loss: 7.1119 - mae: 7.1119\n",
            "Epoch 61/200\n",
            "1/1 [==============================] - 0s 4ms/step - loss: 7.1062 - mae: 7.1062\n",
            "Epoch 62/200\n",
            "1/1 [==============================] - 0s 5ms/step - loss: 7.1006 - mae: 7.1006\n",
            "Epoch 63/200\n",
            "1/1 [==============================] - 0s 4ms/step - loss: 7.0950 - mae: 7.0950\n",
            "Epoch 64/200\n",
            "1/1 [==============================] - 0s 5ms/step - loss: 7.0894 - mae: 7.0894\n",
            "Epoch 65/200\n",
            "1/1 [==============================] - 0s 4ms/step - loss: 7.0838 - mae: 7.0838\n",
            "Epoch 66/200\n",
            "1/1 [==============================] - 0s 7ms/step - loss: 7.0781 - mae: 7.0781\n",
            "Epoch 67/200\n",
            "1/1 [==============================] - 0s 6ms/step - loss: 7.0725 - mae: 7.0725\n",
            "Epoch 68/200\n",
            "1/1 [==============================] - 0s 4ms/step - loss: 7.0669 - mae: 7.0669\n",
            "Epoch 69/200\n",
            "1/1 [==============================] - 0s 4ms/step - loss: 7.0613 - mae: 7.0613\n",
            "Epoch 70/200\n",
            "1/1 [==============================] - 0s 6ms/step - loss: 7.0556 - mae: 7.0556\n",
            "Epoch 71/200\n",
            "1/1 [==============================] - 0s 4ms/step - loss: 7.0500 - mae: 7.0500\n",
            "Epoch 72/200\n",
            "1/1 [==============================] - 0s 6ms/step - loss: 7.0444 - mae: 7.0444\n",
            "Epoch 73/200\n",
            "1/1 [==============================] - 0s 3ms/step - loss: 7.0388 - mae: 7.0388\n",
            "Epoch 74/200\n",
            "1/1 [==============================] - 0s 3ms/step - loss: 7.0331 - mae: 7.0331\n",
            "Epoch 75/200\n",
            "1/1 [==============================] - 0s 5ms/step - loss: 7.0275 - mae: 7.0275\n",
            "Epoch 76/200\n",
            "1/1 [==============================] - 0s 3ms/step - loss: 7.0219 - mae: 7.0219\n",
            "Epoch 77/200\n",
            "1/1 [==============================] - 0s 3ms/step - loss: 7.0163 - mae: 7.0163\n",
            "Epoch 78/200\n",
            "1/1 [==============================] - 0s 7ms/step - loss: 7.0106 - mae: 7.0106\n",
            "Epoch 79/200\n",
            "1/1 [==============================] - 0s 3ms/step - loss: 7.0050 - mae: 7.0050\n",
            "Epoch 80/200\n",
            "1/1 [==============================] - 0s 3ms/step - loss: 6.9994 - mae: 6.9994\n",
            "Epoch 81/200\n",
            "1/1 [==============================] - 0s 3ms/step - loss: 6.9938 - mae: 6.9938\n",
            "Epoch 82/200\n",
            "1/1 [==============================] - 0s 3ms/step - loss: 6.9881 - mae: 6.9881\n",
            "Epoch 83/200\n",
            "1/1 [==============================] - 0s 5ms/step - loss: 6.9825 - mae: 6.9825\n",
            "Epoch 84/200\n",
            "1/1 [==============================] - 0s 3ms/step - loss: 6.9769 - mae: 6.9769\n",
            "Epoch 85/200\n",
            "1/1 [==============================] - 0s 4ms/step - loss: 6.9713 - mae: 6.9713\n",
            "Epoch 86/200\n",
            "1/1 [==============================] - 0s 3ms/step - loss: 6.9656 - mae: 6.9656\n",
            "Epoch 87/200\n",
            "1/1 [==============================] - 0s 3ms/step - loss: 6.9600 - mae: 6.9600\n",
            "Epoch 88/200\n",
            "1/1 [==============================] - 0s 5ms/step - loss: 6.9544 - mae: 6.9544\n",
            "Epoch 89/200\n",
            "1/1 [==============================] - 0s 3ms/step - loss: 6.9488 - mae: 6.9488\n",
            "Epoch 90/200\n",
            "1/1 [==============================] - 0s 3ms/step - loss: 6.9431 - mae: 6.9431\n",
            "Epoch 91/200\n",
            "1/1 [==============================] - 0s 3ms/step - loss: 6.9375 - mae: 6.9375\n",
            "Epoch 92/200\n",
            "1/1 [==============================] - 0s 5ms/step - loss: 6.9319 - mae: 6.9319\n",
            "Epoch 93/200\n",
            "1/1 [==============================] - 0s 3ms/step - loss: 6.9263 - mae: 6.9263\n",
            "Epoch 94/200\n",
            "1/1 [==============================] - 0s 3ms/step - loss: 6.9206 - mae: 6.9206\n",
            "Epoch 95/200\n",
            "1/1 [==============================] - 0s 5ms/step - loss: 6.9150 - mae: 6.9150\n",
            "Epoch 96/200\n",
            "1/1 [==============================] - 0s 3ms/step - loss: 6.9094 - mae: 6.9094\n",
            "Epoch 97/200\n",
            "1/1 [==============================] - 0s 3ms/step - loss: 6.9038 - mae: 6.9038\n",
            "Epoch 98/200\n",
            "1/1 [==============================] - 0s 3ms/step - loss: 6.8981 - mae: 6.8981\n",
            "Epoch 99/200\n",
            "1/1 [==============================] - 0s 5ms/step - loss: 6.8925 - mae: 6.8925\n",
            "Epoch 100/200\n",
            "1/1 [==============================] - 0s 4ms/step - loss: 6.8869 - mae: 6.8869\n",
            "Epoch 101/200\n",
            "1/1 [==============================] - 0s 3ms/step - loss: 6.8813 - mae: 6.8813\n",
            "Epoch 102/200\n",
            "1/1 [==============================] - 0s 5ms/step - loss: 6.8756 - mae: 6.8756\n",
            "Epoch 103/200\n",
            "1/1 [==============================] - 0s 3ms/step - loss: 6.8700 - mae: 6.8700\n",
            "Epoch 104/200\n",
            "1/1 [==============================] - 0s 3ms/step - loss: 6.8644 - mae: 6.8644\n",
            "Epoch 105/200\n",
            "1/1 [==============================] - 0s 5ms/step - loss: 6.8588 - mae: 6.8588\n",
            "Epoch 106/200\n",
            "1/1 [==============================] - 0s 59ms/step - loss: 6.8531 - mae: 6.8531\n",
            "Epoch 107/200\n",
            "1/1 [==============================] - 0s 4ms/step - loss: 6.8475 - mae: 6.8475\n",
            "Epoch 108/200\n",
            "1/1 [==============================] - 0s 3ms/step - loss: 6.8419 - mae: 6.8419\n",
            "Epoch 109/200\n",
            "1/1 [==============================] - 0s 3ms/step - loss: 6.8363 - mae: 6.8363\n",
            "Epoch 110/200\n",
            "1/1 [==============================] - 0s 4ms/step - loss: 6.8306 - mae: 6.8306\n",
            "Epoch 111/200\n",
            "1/1 [==============================] - 0s 3ms/step - loss: 6.8250 - mae: 6.8250\n",
            "Epoch 112/200\n",
            "1/1 [==============================] - 0s 3ms/step - loss: 6.8194 - mae: 6.8194\n",
            "Epoch 113/200\n",
            "1/1 [==============================] - 0s 5ms/step - loss: 6.8138 - mae: 6.8138\n",
            "Epoch 114/200\n",
            "1/1 [==============================] - 0s 3ms/step - loss: 6.8081 - mae: 6.8081\n",
            "Epoch 115/200\n",
            "1/1 [==============================] - 0s 3ms/step - loss: 6.8025 - mae: 6.8025\n",
            "Epoch 116/200\n",
            "1/1 [==============================] - 0s 5ms/step - loss: 6.7969 - mae: 6.7969\n",
            "Epoch 117/200\n",
            "1/1 [==============================] - 0s 3ms/step - loss: 6.7913 - mae: 6.7913\n",
            "Epoch 118/200\n",
            "1/1 [==============================] - 0s 38ms/step - loss: 6.7856 - mae: 6.7856\n",
            "Epoch 119/200\n",
            "1/1 [==============================] - 0s 6ms/step - loss: 6.7800 - mae: 6.7800\n",
            "Epoch 120/200\n",
            "1/1 [==============================] - 0s 12ms/step - loss: 6.7744 - mae: 6.7744\n",
            "Epoch 121/200\n",
            "1/1 [==============================] - 0s 5ms/step - loss: 6.7688 - mae: 6.7688\n",
            "Epoch 122/200\n",
            "1/1 [==============================] - 0s 3ms/step - loss: 6.7631 - mae: 6.7631\n",
            "Epoch 123/200\n",
            "1/1 [==============================] - 0s 3ms/step - loss: 6.7575 - mae: 6.7575\n",
            "Epoch 124/200\n",
            "1/1 [==============================] - 0s 3ms/step - loss: 6.7519 - mae: 6.7519\n",
            "Epoch 125/200\n",
            "1/1 [==============================] - 0s 3ms/step - loss: 6.7463 - mae: 6.7463\n",
            "Epoch 126/200\n",
            "1/1 [==============================] - 0s 4ms/step - loss: 6.7406 - mae: 6.7406\n",
            "Epoch 127/200\n",
            "1/1 [==============================] - 0s 3ms/step - loss: 6.7350 - mae: 6.7350\n",
            "Epoch 128/200\n",
            "1/1 [==============================] - 0s 3ms/step - loss: 6.7294 - mae: 6.7294\n",
            "Epoch 129/200\n",
            "1/1 [==============================] - 0s 6ms/step - loss: 6.7238 - mae: 6.7238\n",
            "Epoch 130/200\n",
            "1/1 [==============================] - 0s 6ms/step - loss: 6.7181 - mae: 6.7181\n",
            "Epoch 131/200\n",
            "1/1 [==============================] - 0s 10ms/step - loss: 6.7125 - mae: 6.7125\n",
            "Epoch 132/200\n",
            "1/1 [==============================] - 0s 15ms/step - loss: 6.7069 - mae: 6.7069\n",
            "Epoch 133/200\n",
            "1/1 [==============================] - 0s 26ms/step - loss: 6.7013 - mae: 6.7013\n",
            "Epoch 134/200\n",
            "1/1 [==============================] - 0s 7ms/step - loss: 6.6956 - mae: 6.6956\n",
            "Epoch 135/200\n",
            "1/1 [==============================] - 0s 5ms/step - loss: 6.6900 - mae: 6.6900\n",
            "Epoch 136/200\n",
            "1/1 [==============================] - 0s 3ms/step - loss: 6.6844 - mae: 6.6844\n",
            "Epoch 137/200\n",
            "1/1 [==============================] - 0s 4ms/step - loss: 6.6787 - mae: 6.6787\n",
            "Epoch 138/200\n",
            "1/1 [==============================] - 0s 4ms/step - loss: 6.6731 - mae: 6.6731\n",
            "Epoch 139/200\n",
            "1/1 [==============================] - 0s 4ms/step - loss: 6.6675 - mae: 6.6675\n",
            "Epoch 140/200\n",
            "1/1 [==============================] - 0s 6ms/step - loss: 6.6619 - mae: 6.6619\n",
            "Epoch 141/200\n",
            "1/1 [==============================] - 0s 5ms/step - loss: 6.6562 - mae: 6.6562\n",
            "Epoch 142/200\n",
            "1/1 [==============================] - 0s 4ms/step - loss: 6.6506 - mae: 6.6506\n",
            "Epoch 143/200\n",
            "1/1 [==============================] - 0s 7ms/step - loss: 6.6450 - mae: 6.6450\n",
            "Epoch 144/200\n",
            "1/1 [==============================] - 0s 6ms/step - loss: 6.6394 - mae: 6.6394\n",
            "Epoch 145/200\n",
            "1/1 [==============================] - 0s 4ms/step - loss: 6.6337 - mae: 6.6337\n",
            "Epoch 146/200\n",
            "1/1 [==============================] - 0s 4ms/step - loss: 6.6281 - mae: 6.6281\n",
            "Epoch 147/200\n",
            "1/1 [==============================] - 0s 11ms/step - loss: 6.6225 - mae: 6.6225\n",
            "Epoch 148/200\n",
            "1/1 [==============================] - 0s 6ms/step - loss: 6.6169 - mae: 6.6169\n",
            "Epoch 149/200\n",
            "1/1 [==============================] - 0s 5ms/step - loss: 6.6112 - mae: 6.6112\n",
            "Epoch 150/200\n",
            "1/1 [==============================] - 0s 4ms/step - loss: 6.6056 - mae: 6.6056\n",
            "Epoch 151/200\n",
            "1/1 [==============================] - 0s 3ms/step - loss: 6.6000 - mae: 6.6000\n",
            "Epoch 152/200\n",
            "1/1 [==============================] - 0s 3ms/step - loss: 6.5944 - mae: 6.5944\n",
            "Epoch 153/200\n",
            "1/1 [==============================] - 0s 5ms/step - loss: 6.5887 - mae: 6.5887\n",
            "Epoch 154/200\n",
            "1/1 [==============================] - 0s 3ms/step - loss: 6.5831 - mae: 6.5831\n",
            "Epoch 155/200\n",
            "1/1 [==============================] - 0s 4ms/step - loss: 6.5775 - mae: 6.5775\n",
            "Epoch 156/200\n",
            "1/1 [==============================] - 0s 4ms/step - loss: 6.5719 - mae: 6.5719\n",
            "Epoch 157/200\n",
            "1/1 [==============================] - 0s 7ms/step - loss: 6.5662 - mae: 6.5662\n",
            "Epoch 158/200\n",
            "1/1 [==============================] - 0s 3ms/step - loss: 6.5606 - mae: 6.5606\n",
            "Epoch 159/200\n",
            "1/1 [==============================] - 0s 3ms/step - loss: 6.5550 - mae: 6.5550\n",
            "Epoch 160/200\n",
            "1/1 [==============================] - 0s 3ms/step - loss: 6.5494 - mae: 6.5494\n",
            "Epoch 161/200\n",
            "1/1 [==============================] - 0s 3ms/step - loss: 6.5437 - mae: 6.5437\n",
            "Epoch 162/200\n",
            "1/1 [==============================] - 0s 3ms/step - loss: 6.5381 - mae: 6.5381\n",
            "Epoch 163/200\n",
            "1/1 [==============================] - 0s 5ms/step - loss: 6.5325 - mae: 6.5325\n",
            "Epoch 164/200\n",
            "1/1 [==============================] - 0s 3ms/step - loss: 6.5269 - mae: 6.5269\n",
            "Epoch 165/200\n",
            "1/1 [==============================] - 0s 3ms/step - loss: 6.5212 - mae: 6.5212\n",
            "Epoch 166/200\n",
            "1/1 [==============================] - 0s 3ms/step - loss: 6.5156 - mae: 6.5156\n",
            "Epoch 167/200\n",
            "1/1 [==============================] - 0s 31ms/step - loss: 6.5100 - mae: 6.5100\n",
            "Epoch 168/200\n",
            "1/1 [==============================] - 0s 263ms/step - loss: 6.5044 - mae: 6.5044\n",
            "Epoch 169/200\n",
            "1/1 [==============================] - 0s 4ms/step - loss: 6.4987 - mae: 6.4987\n",
            "Epoch 170/200\n",
            "1/1 [==============================] - 0s 7ms/step - loss: 6.4931 - mae: 6.4931\n",
            "Epoch 171/200\n",
            "1/1 [==============================] - 0s 3ms/step - loss: 6.4875 - mae: 6.4875\n",
            "Epoch 172/200\n",
            "1/1 [==============================] - 0s 4ms/step - loss: 6.4819 - mae: 6.4819\n",
            "Epoch 173/200\n",
            "1/1 [==============================] - 0s 5ms/step - loss: 6.4762 - mae: 6.4762\n",
            "Epoch 174/200\n",
            "1/1 [==============================] - 0s 5ms/step - loss: 6.4706 - mae: 6.4706\n",
            "Epoch 175/200\n",
            "1/1 [==============================] - 0s 8ms/step - loss: 6.4650 - mae: 6.4650\n",
            "Epoch 176/200\n",
            "1/1 [==============================] - 0s 6ms/step - loss: 6.4594 - mae: 6.4594\n",
            "Epoch 177/200\n",
            "1/1 [==============================] - 0s 7ms/step - loss: 6.4537 - mae: 6.4537\n",
            "Epoch 178/200\n",
            "1/1 [==============================] - 0s 8ms/step - loss: 6.4481 - mae: 6.4481\n",
            "Epoch 179/200\n",
            "1/1 [==============================] - 0s 5ms/step - loss: 6.4425 - mae: 6.4425\n",
            "Epoch 180/200\n",
            "1/1 [==============================] - 0s 4ms/step - loss: 6.4369 - mae: 6.4369\n",
            "Epoch 181/200\n",
            "1/1 [==============================] - 0s 4ms/step - loss: 6.4312 - mae: 6.4312\n",
            "Epoch 182/200\n",
            "1/1 [==============================] - 0s 14ms/step - loss: 6.4256 - mae: 6.4256\n",
            "Epoch 183/200\n",
            "1/1 [==============================] - 0s 4ms/step - loss: 6.4200 - mae: 6.4200\n",
            "Epoch 184/200\n",
            "1/1 [==============================] - 0s 7ms/step - loss: 6.4144 - mae: 6.4144\n",
            "Epoch 185/200\n",
            "1/1 [==============================] - 0s 3ms/step - loss: 6.4087 - mae: 6.4087\n",
            "Epoch 186/200\n",
            "1/1 [==============================] - 0s 5ms/step - loss: 6.4031 - mae: 6.4031\n",
            "Epoch 187/200\n",
            "1/1 [==============================] - 0s 5ms/step - loss: 6.3975 - mae: 6.3975\n",
            "Epoch 188/200\n",
            "1/1 [==============================] - 0s 4ms/step - loss: 6.3919 - mae: 6.3919\n",
            "Epoch 189/200\n",
            "1/1 [==============================] - 0s 5ms/step - loss: 6.3862 - mae: 6.3862\n",
            "Epoch 190/200\n",
            "1/1 [==============================] - 0s 8ms/step - loss: 6.3806 - mae: 6.3806\n",
            "Epoch 191/200\n",
            "1/1 [==============================] - 0s 3ms/step - loss: 6.3750 - mae: 6.3750\n",
            "Epoch 192/200\n",
            "1/1 [==============================] - 0s 4ms/step - loss: 6.3694 - mae: 6.3694\n",
            "Epoch 193/200\n",
            "1/1 [==============================] - 0s 4ms/step - loss: 6.3637 - mae: 6.3637\n",
            "Epoch 194/200\n",
            "1/1 [==============================] - 0s 7ms/step - loss: 6.3581 - mae: 6.3581\n",
            "Epoch 195/200\n",
            "1/1 [==============================] - 0s 4ms/step - loss: 6.3525 - mae: 6.3525\n",
            "Epoch 196/200\n",
            "1/1 [==============================] - 0s 20ms/step - loss: 6.3469 - mae: 6.3469\n",
            "Epoch 197/200\n",
            "1/1 [==============================] - 0s 7ms/step - loss: 6.3412 - mae: 6.3412\n",
            "Epoch 198/200\n",
            "1/1 [==============================] - 0s 6ms/step - loss: 6.3356 - mae: 6.3356\n",
            "Epoch 199/200\n",
            "1/1 [==============================] - 0s 5ms/step - loss: 6.3300 - mae: 6.3300\n",
            "Epoch 200/200\n",
            "1/1 [==============================] - 0s 4ms/step - loss: 6.3244 - mae: 6.3244\n"
          ],
          "name": "stdout"
        },
        {
          "output_type": "execute_result",
          "data": {
            "text/plain": [
              "<tensorflow.python.keras.callbacks.History at 0x7fc9b3569e10>"
            ]
          },
          "metadata": {
            "tags": []
          },
          "execution_count": 10
        }
      ]
    },
    {
      "cell_type": "code",
      "metadata": {
        "colab": {
          "base_uri": "https://localhost:8080/"
        },
        "id": "ywSrg1_JVgFA",
        "outputId": "56c72e95-5bae-416a-90c8-9596a2696a9a"
      },
      "source": [
        "# Our Data\n",
        "X,Y"
      ],
      "execution_count": 11,
      "outputs": [
        {
          "output_type": "execute_result",
          "data": {
            "text/plain": [
              "(<tf.Tensor: shape=(8,), dtype=float64, numpy=array([-7., -4., -1.,  2.,  5.,  8., 11., 14.])>,\n",
              " <tf.Tensor: shape=(8,), dtype=float64, numpy=array([ 3.,  6.,  9., 12., 15., 18., 21., 24.])>)"
            ]
          },
          "metadata": {
            "tags": []
          },
          "execution_count": 11
        }
      ]
    },
    {
      "cell_type": "code",
      "metadata": {
        "colab": {
          "base_uri": "https://localhost:8080/"
        },
        "id": "PJ5yIClxWQ_O",
        "outputId": "e840b123-520c-4342-cd34-d87baaa6e23b"
      },
      "source": [
        "# lets predict with improved model\n",
        "model.predict([17.0])"
      ],
      "execution_count": 12,
      "outputs": [
        {
          "output_type": "execute_result",
          "data": {
            "text/plain": [
              "array([[30.489859]], dtype=float32)"
            ]
          },
          "metadata": {
            "tags": []
          },
          "execution_count": 12
        }
      ]
    },
    {
      "cell_type": "code",
      "metadata": {
        "colab": {
          "base_uri": "https://localhost:8080/"
        },
        "id": "nlnHhkfyWbaj",
        "outputId": "43c66697-5cb4-487c-d9a6-a5542193779c"
      },
      "source": [
        "# let's add  more layer to our model to improve it\n",
        "model = tf.keras.Sequential([\n",
        "                             tf.keras.layers.Dense(100,activation=\"relu\"),\n",
        "                             tf.keras.layers.Dense(100, activation=\"relu\"),\n",
        "                             tf.keras.layers.Dense(1)\n",
        "])\n",
        "\n",
        "model.compile(optimizer= tf.keras.optimizers.SGD(),\n",
        "              loss = \"mae\",\n",
        "              metrics = [\"mae\"])\n",
        "\n",
        "model.fit(X,Y,epochs = 100)"
      ],
      "execution_count": 13,
      "outputs": [
        {
          "output_type": "stream",
          "text": [
            "Epoch 1/100\n",
            "1/1 [==============================] - 0s 395ms/step - loss: 14.1593 - mae: 14.1593\n",
            "Epoch 2/100\n",
            "1/1 [==============================] - 0s 4ms/step - loss: 13.5106 - mae: 13.5106\n",
            "Epoch 3/100\n",
            "1/1 [==============================] - 0s 6ms/step - loss: 12.8859 - mae: 12.8859\n",
            "Epoch 4/100\n",
            "1/1 [==============================] - 0s 5ms/step - loss: 12.3149 - mae: 12.3149\n",
            "Epoch 5/100\n",
            "1/1 [==============================] - 0s 4ms/step - loss: 11.7463 - mae: 11.7463\n",
            "Epoch 6/100\n",
            "1/1 [==============================] - 0s 7ms/step - loss: 11.1240 - mae: 11.1240\n",
            "Epoch 7/100\n",
            "1/1 [==============================] - 0s 5ms/step - loss: 10.4452 - mae: 10.4452\n",
            "Epoch 8/100\n",
            "1/1 [==============================] - 0s 5ms/step - loss: 9.6973 - mae: 9.6973\n",
            "Epoch 9/100\n",
            "1/1 [==============================] - 0s 7ms/step - loss: 8.8439 - mae: 8.8439\n",
            "Epoch 10/100\n",
            "1/1 [==============================] - 0s 7ms/step - loss: 7.8758 - mae: 7.8758\n",
            "Epoch 11/100\n",
            "1/1 [==============================] - 0s 7ms/step - loss: 6.8512 - mae: 6.8512\n",
            "Epoch 12/100\n",
            "1/1 [==============================] - 0s 4ms/step - loss: 5.6212 - mae: 5.6212\n",
            "Epoch 13/100\n",
            "1/1 [==============================] - 0s 6ms/step - loss: 4.1683 - mae: 4.1683\n",
            "Epoch 14/100\n",
            "1/1 [==============================] - 0s 4ms/step - loss: 3.9993 - mae: 3.9993\n",
            "Epoch 15/100\n",
            "1/1 [==============================] - 0s 4ms/step - loss: 3.9496 - mae: 3.9496\n",
            "Epoch 16/100\n",
            "1/1 [==============================] - 0s 5ms/step - loss: 3.9630 - mae: 3.9630\n",
            "Epoch 17/100\n",
            "1/1 [==============================] - 0s 4ms/step - loss: 3.9589 - mae: 3.9589\n",
            "Epoch 18/100\n",
            "1/1 [==============================] - 0s 8ms/step - loss: 3.9243 - mae: 3.9243\n",
            "Epoch 19/100\n",
            "1/1 [==============================] - 0s 5ms/step - loss: 3.9698 - mae: 3.9698\n",
            "Epoch 20/100\n",
            "1/1 [==============================] - 0s 4ms/step - loss: 3.8867 - mae: 3.8867\n",
            "Epoch 21/100\n",
            "1/1 [==============================] - 0s 16ms/step - loss: 3.9797 - mae: 3.9797\n",
            "Epoch 22/100\n",
            "1/1 [==============================] - 0s 6ms/step - loss: 3.8471 - mae: 3.8471\n",
            "Epoch 23/100\n",
            "1/1 [==============================] - 0s 10ms/step - loss: 3.9911 - mae: 3.9911\n",
            "Epoch 24/100\n",
            "1/1 [==============================] - 0s 6ms/step - loss: 3.8564 - mae: 3.8564\n",
            "Epoch 25/100\n",
            "1/1 [==============================] - 0s 4ms/step - loss: 3.9589 - mae: 3.9589\n",
            "Epoch 26/100\n",
            "1/1 [==============================] - 0s 5ms/step - loss: 3.8890 - mae: 3.8890\n",
            "Epoch 27/100\n",
            "1/1 [==============================] - 0s 7ms/step - loss: 3.9046 - mae: 3.9046\n",
            "Epoch 28/100\n",
            "1/1 [==============================] - 0s 6ms/step - loss: 3.9013 - mae: 3.9013\n",
            "Epoch 29/100\n",
            "1/1 [==============================] - 0s 4ms/step - loss: 3.8634 - mae: 3.8634\n",
            "Epoch 30/100\n",
            "1/1 [==============================] - 0s 4ms/step - loss: 3.9141 - mae: 3.9141\n",
            "Epoch 31/100\n",
            "1/1 [==============================] - 0s 4ms/step - loss: 3.8215 - mae: 3.8215\n",
            "Epoch 32/100\n",
            "1/1 [==============================] - 0s 4ms/step - loss: 3.9272 - mae: 3.9272\n",
            "Epoch 33/100\n",
            "1/1 [==============================] - 0s 5ms/step - loss: 3.7959 - mae: 3.7959\n",
            "Epoch 34/100\n",
            "1/1 [==============================] - 0s 5ms/step - loss: 3.9324 - mae: 3.9324\n",
            "Epoch 35/100\n",
            "1/1 [==============================] - 0s 5ms/step - loss: 3.8295 - mae: 3.8295\n",
            "Epoch 36/100\n",
            "1/1 [==============================] - 0s 6ms/step - loss: 3.8737 - mae: 3.8737\n",
            "Epoch 37/100\n",
            "1/1 [==============================] - 0s 4ms/step - loss: 3.8426 - mae: 3.8426\n",
            "Epoch 38/100\n",
            "1/1 [==============================] - 0s 5ms/step - loss: 3.8305 - mae: 3.8305\n",
            "Epoch 39/100\n",
            "1/1 [==============================] - 0s 5ms/step - loss: 3.8563 - mae: 3.8563\n",
            "Epoch 40/100\n",
            "1/1 [==============================] - 0s 5ms/step - loss: 3.7867 - mae: 3.7867\n",
            "Epoch 41/100\n",
            "1/1 [==============================] - 0s 4ms/step - loss: 3.8707 - mae: 3.8707\n",
            "Epoch 42/100\n",
            "1/1 [==============================] - 0s 6ms/step - loss: 3.7427 - mae: 3.7427\n",
            "Epoch 43/100\n",
            "1/1 [==============================] - 0s 9ms/step - loss: 3.8853 - mae: 3.8853\n",
            "Epoch 44/100\n",
            "1/1 [==============================] - 0s 4ms/step - loss: 3.7667 - mae: 3.7667\n",
            "Epoch 45/100\n",
            "1/1 [==============================] - 0s 5ms/step - loss: 3.8335 - mae: 3.8335\n",
            "Epoch 46/100\n",
            "1/1 [==============================] - 0s 6ms/step - loss: 3.7874 - mae: 3.7874\n",
            "Epoch 47/100\n",
            "1/1 [==============================] - 0s 5ms/step - loss: 3.7870 - mae: 3.7870\n",
            "Epoch 48/100\n",
            "1/1 [==============================] - 0s 7ms/step - loss: 3.8021 - mae: 3.8021\n",
            "Epoch 49/100\n",
            "1/1 [==============================] - 0s 4ms/step - loss: 3.7414 - mae: 3.7414\n",
            "Epoch 50/100\n",
            "1/1 [==============================] - 0s 7ms/step - loss: 3.8169 - mae: 3.8169\n",
            "Epoch 51/100\n",
            "1/1 [==============================] - 0s 7ms/step - loss: 3.6953 - mae: 3.6953\n",
            "Epoch 52/100\n",
            "1/1 [==============================] - 0s 4ms/step - loss: 3.8327 - mae: 3.8327\n",
            "Epoch 53/100\n",
            "1/1 [==============================] - 0s 5ms/step - loss: 3.7146 - mae: 3.7146\n",
            "Epoch 54/100\n",
            "1/1 [==============================] - 0s 8ms/step - loss: 3.7852 - mae: 3.7852\n",
            "Epoch 55/100\n",
            "1/1 [==============================] - 0s 12ms/step - loss: 3.7403 - mae: 3.7403\n",
            "Epoch 56/100\n",
            "1/1 [==============================] - 0s 5ms/step - loss: 3.7376 - mae: 3.7376\n",
            "Epoch 57/100\n",
            "1/1 [==============================] - 0s 9ms/step - loss: 3.7557 - mae: 3.7557\n",
            "Epoch 58/100\n",
            "1/1 [==============================] - 0s 4ms/step - loss: 3.6893 - mae: 3.6893\n",
            "Epoch 59/100\n",
            "1/1 [==============================] - 0s 6ms/step - loss: 3.7722 - mae: 3.7722\n",
            "Epoch 60/100\n",
            "1/1 [==============================] - 0s 4ms/step - loss: 3.6465 - mae: 3.6465\n",
            "Epoch 61/100\n",
            "1/1 [==============================] - 0s 5ms/step - loss: 3.7931 - mae: 3.7931\n",
            "Epoch 62/100\n",
            "1/1 [==============================] - 0s 5ms/step - loss: 3.6840 - mae: 3.6840\n",
            "Epoch 63/100\n",
            "1/1 [==============================] - 0s 6ms/step - loss: 3.7285 - mae: 3.7285\n",
            "Epoch 64/100\n",
            "1/1 [==============================] - 0s 4ms/step - loss: 3.6998 - mae: 3.6998\n",
            "Epoch 65/100\n",
            "1/1 [==============================] - 0s 6ms/step - loss: 3.6789 - mae: 3.6789\n",
            "Epoch 66/100\n",
            "1/1 [==============================] - 0s 5ms/step - loss: 3.7165 - mae: 3.7165\n",
            "Epoch 67/100\n",
            "1/1 [==============================] - 0s 6ms/step - loss: 3.6295 - mae: 3.6295\n",
            "Epoch 68/100\n",
            "1/1 [==============================] - 0s 4ms/step - loss: 3.7331 - mae: 3.7331\n",
            "Epoch 69/100\n",
            "1/1 [==============================] - 0s 6ms/step - loss: 3.6074 - mae: 3.6074\n",
            "Epoch 70/100\n",
            "1/1 [==============================] - 0s 3ms/step - loss: 3.7315 - mae: 3.7315\n",
            "Epoch 71/100\n",
            "1/1 [==============================] - 0s 5ms/step - loss: 3.6447 - mae: 3.6447\n",
            "Epoch 72/100\n",
            "1/1 [==============================] - 0s 3ms/step - loss: 3.6632 - mae: 3.6632\n",
            "Epoch 73/100\n",
            "1/1 [==============================] - 0s 6ms/step - loss: 3.6618 - mae: 3.6618\n",
            "Epoch 74/100\n",
            "1/1 [==============================] - 0s 3ms/step - loss: 3.6115 - mae: 3.6115\n",
            "Epoch 75/100\n",
            "1/1 [==============================] - 0s 3ms/step - loss: 3.6796 - mae: 3.6796\n",
            "Epoch 76/100\n",
            "1/1 [==============================] - 0s 7ms/step - loss: 3.5596 - mae: 3.5596\n",
            "Epoch 77/100\n",
            "1/1 [==============================] - 0s 4ms/step - loss: 3.6983 - mae: 3.6983\n",
            "Epoch 78/100\n",
            "1/1 [==============================] - 0s 3ms/step - loss: 3.5736 - mae: 3.5736\n",
            "Epoch 79/100\n",
            "1/1 [==============================] - 0s 3ms/step - loss: 3.6580 - mae: 3.6580\n",
            "Epoch 80/100\n",
            "1/1 [==============================] - 0s 6ms/step - loss: 3.6140 - mae: 3.6140\n",
            "Epoch 81/100\n",
            "1/1 [==============================] - 0s 3ms/step - loss: 3.5917 - mae: 3.5917\n",
            "Epoch 82/100\n",
            "1/1 [==============================] - 0s 4ms/step - loss: 3.6320 - mae: 3.6320\n",
            "Epoch 83/100\n",
            "1/1 [==============================] - 0s 6ms/step - loss: 3.5375 - mae: 3.5375\n",
            "Epoch 84/100\n",
            "1/1 [==============================] - 0s 3ms/step - loss: 3.6508 - mae: 3.6508\n",
            "Epoch 85/100\n",
            "1/1 [==============================] - 0s 4ms/step - loss: 3.5279 - mae: 3.5279\n",
            "Epoch 86/100\n",
            "1/1 [==============================] - 0s 5ms/step - loss: 3.6200 - mae: 3.6200\n",
            "Epoch 87/100\n",
            "1/1 [==============================] - 0s 4ms/step - loss: 3.5462 - mae: 3.5462\n",
            "Epoch 88/100\n",
            "1/1 [==============================] - 0s 5ms/step - loss: 3.5776 - mae: 3.5776\n",
            "Epoch 89/100\n",
            "1/1 [==============================] - 0s 4ms/step - loss: 3.5868 - mae: 3.5868\n",
            "Epoch 90/100\n",
            "1/1 [==============================] - 0s 5ms/step - loss: 3.5082 - mae: 3.5082\n",
            "Epoch 91/100\n",
            "1/1 [==============================] - 0s 4ms/step - loss: 3.6059 - mae: 3.6059\n",
            "Epoch 92/100\n",
            "1/1 [==============================] - 0s 11ms/step - loss: 3.4842 - mae: 3.4842\n",
            "Epoch 93/100\n",
            "1/1 [==============================] - 0s 4ms/step - loss: 3.5879 - mae: 3.5879\n",
            "Epoch 94/100\n",
            "1/1 [==============================] - 0s 4ms/step - loss: 3.5033 - mae: 3.5033\n",
            "Epoch 95/100\n",
            "1/1 [==============================] - 0s 4ms/step - loss: 3.5314 - mae: 3.5314\n",
            "Epoch 96/100\n",
            "1/1 [==============================] - 0s 5ms/step - loss: 3.5222 - mae: 3.5222\n",
            "Epoch 97/100\n",
            "1/1 [==============================] - 0s 14ms/step - loss: 3.4820 - mae: 3.4820\n",
            "Epoch 98/100\n",
            "1/1 [==============================] - 0s 5ms/step - loss: 3.5647 - mae: 3.5647\n",
            "Epoch 99/100\n",
            "1/1 [==============================] - 0s 6ms/step - loss: 3.4452 - mae: 3.4452\n",
            "Epoch 100/100\n",
            "1/1 [==============================] - 0s 5ms/step - loss: 3.5508 - mae: 3.5508\n"
          ],
          "name": "stdout"
        },
        {
          "output_type": "execute_result",
          "data": {
            "text/plain": [
              "<tensorflow.python.keras.callbacks.History at 0x7fc9b02b00d0>"
            ]
          },
          "metadata": {
            "tags": []
          },
          "execution_count": 13
        }
      ]
    },
    {
      "cell_type": "code",
      "metadata": {
        "colab": {
          "base_uri": "https://localhost:8080/"
        },
        "id": "IjeTmPADXn5o",
        "outputId": "50fdafb5-459a-4b90-99a7-2de07ca380b9"
      },
      "source": [
        " # lets predict\n",
        " model.predict([17.0])"
      ],
      "execution_count": 14,
      "outputs": [
        {
          "output_type": "execute_result",
          "data": {
            "text/plain": [
              "array([[32.2589]], dtype=float32)"
            ]
          },
          "metadata": {
            "tags": []
          },
          "execution_count": 14
        }
      ]
    },
    {
      "cell_type": "code",
      "metadata": {
        "colab": {
          "base_uri": "https://localhost:8080/"
        },
        "id": "IJzAVfT1ZQB9",
        "outputId": "9a7b25f9-3c3d-4e06-81b5-eeb84da8e04b"
      },
      "source": [
        "# Change the optimizer to improve our model\n",
        "model = tf.keras.Sequential([\n",
        "                             tf.keras.layers.Dense(100,activation=\"relu\"),\n",
        "                             tf.keras.layers.Dense(100, activation = \"relu\"),\n",
        "                             tf.keras.layers.Dense(1)\n",
        "])\n",
        "\n",
        "model.compile(\n",
        "    optimizer = tf.keras.optimizers.Adam(learning_rate=0.01),\n",
        "    loss = \"mae\",\n",
        "    metrics = [\"mae\"]\n",
        ")\n",
        "\n",
        "model.fit(X,Y,epochs =100)"
      ],
      "execution_count": 24,
      "outputs": [
        {
          "output_type": "stream",
          "text": [
            "Epoch 1/100\n",
            "1/1 [==============================] - 0s 360ms/step - loss: 12.4591 - mae: 12.4591\n",
            "Epoch 2/100\n",
            "1/1 [==============================] - 0s 5ms/step - loss: 9.5328 - mae: 9.5328\n",
            "Epoch 3/100\n",
            "1/1 [==============================] - 0s 7ms/step - loss: 7.2988 - mae: 7.2988\n",
            "Epoch 4/100\n",
            "1/1 [==============================] - 0s 7ms/step - loss: 4.6909 - mae: 4.6909\n",
            "Epoch 5/100\n",
            "1/1 [==============================] - 0s 4ms/step - loss: 4.3264 - mae: 4.3264\n",
            "Epoch 6/100\n",
            "1/1 [==============================] - 0s 7ms/step - loss: 5.3973 - mae: 5.3973\n",
            "Epoch 7/100\n",
            "1/1 [==============================] - 0s 4ms/step - loss: 5.7247 - mae: 5.7247\n",
            "Epoch 8/100\n",
            "1/1 [==============================] - 0s 6ms/step - loss: 5.4511 - mae: 5.4511\n",
            "Epoch 9/100\n",
            "1/1 [==============================] - 0s 5ms/step - loss: 4.8016 - mae: 4.8016\n",
            "Epoch 10/100\n",
            "1/1 [==============================] - 0s 8ms/step - loss: 3.9976 - mae: 3.9976\n",
            "Epoch 11/100\n",
            "1/1 [==============================] - 0s 6ms/step - loss: 3.6491 - mae: 3.6491\n",
            "Epoch 12/100\n",
            "1/1 [==============================] - 0s 11ms/step - loss: 4.0571 - mae: 4.0571\n",
            "Epoch 13/100\n",
            "1/1 [==============================] - 0s 4ms/step - loss: 4.2109 - mae: 4.2109\n",
            "Epoch 14/100\n",
            "1/1 [==============================] - 0s 5ms/step - loss: 3.7554 - mae: 3.7554\n",
            "Epoch 15/100\n",
            "1/1 [==============================] - 0s 5ms/step - loss: 3.3703 - mae: 3.3703\n",
            "Epoch 16/100\n",
            "1/1 [==============================] - 0s 6ms/step - loss: 3.4646 - mae: 3.4646\n",
            "Epoch 17/100\n",
            "1/1 [==============================] - 0s 4ms/step - loss: 3.5096 - mae: 3.5096\n",
            "Epoch 18/100\n",
            "1/1 [==============================] - 0s 6ms/step - loss: 3.4213 - mae: 3.4213\n",
            "Epoch 19/100\n",
            "1/1 [==============================] - 0s 6ms/step - loss: 3.1966 - mae: 3.1966\n",
            "Epoch 20/100\n",
            "1/1 [==============================] - 0s 5ms/step - loss: 2.9908 - mae: 2.9908\n",
            "Epoch 21/100\n",
            "1/1 [==============================] - 0s 8ms/step - loss: 2.7909 - mae: 2.7909\n",
            "Epoch 22/100\n",
            "1/1 [==============================] - 0s 6ms/step - loss: 2.8285 - mae: 2.8285\n",
            "Epoch 23/100\n",
            "1/1 [==============================] - 0s 7ms/step - loss: 2.6872 - mae: 2.6872\n",
            "Epoch 24/100\n",
            "1/1 [==============================] - 0s 5ms/step - loss: 2.3880 - mae: 2.3880\n",
            "Epoch 25/100\n",
            "1/1 [==============================] - 0s 4ms/step - loss: 2.1293 - mae: 2.1293\n",
            "Epoch 26/100\n",
            "1/1 [==============================] - 0s 4ms/step - loss: 1.9731 - mae: 1.9731\n",
            "Epoch 27/100\n",
            "1/1 [==============================] - 0s 5ms/step - loss: 1.6487 - mae: 1.6487\n",
            "Epoch 28/100\n",
            "1/1 [==============================] - 0s 6ms/step - loss: 1.2666 - mae: 1.2666\n",
            "Epoch 29/100\n",
            "1/1 [==============================] - 0s 7ms/step - loss: 0.9454 - mae: 0.9454\n",
            "Epoch 30/100\n",
            "1/1 [==============================] - 0s 5ms/step - loss: 0.4459 - mae: 0.4459\n",
            "Epoch 31/100\n",
            "1/1 [==============================] - 0s 5ms/step - loss: 1.0056 - mae: 1.0056\n",
            "Epoch 32/100\n",
            "1/1 [==============================] - 0s 10ms/step - loss: 0.3327 - mae: 0.3327\n",
            "Epoch 33/100\n",
            "1/1 [==============================] - 0s 5ms/step - loss: 1.9223 - mae: 1.9223\n",
            "Epoch 34/100\n",
            "1/1 [==============================] - 0s 5ms/step - loss: 2.2598 - mae: 2.2598\n",
            "Epoch 35/100\n",
            "1/1 [==============================] - 0s 5ms/step - loss: 1.9101 - mae: 1.9101\n",
            "Epoch 36/100\n",
            "1/1 [==============================] - 0s 8ms/step - loss: 0.9941 - mae: 0.9941\n",
            "Epoch 37/100\n",
            "1/1 [==============================] - 0s 5ms/step - loss: 1.7206 - mae: 1.7206\n",
            "Epoch 38/100\n",
            "1/1 [==============================] - 0s 5ms/step - loss: 2.1896 - mae: 2.1896\n",
            "Epoch 39/100\n",
            "1/1 [==============================] - 0s 5ms/step - loss: 1.5872 - mae: 1.5872\n",
            "Epoch 40/100\n",
            "1/1 [==============================] - 0s 10ms/step - loss: 0.5303 - mae: 0.5303\n",
            "Epoch 41/100\n",
            "1/1 [==============================] - 0s 6ms/step - loss: 0.8758 - mae: 0.8758\n",
            "Epoch 42/100\n",
            "1/1 [==============================] - 0s 8ms/step - loss: 0.7814 - mae: 0.7814\n",
            "Epoch 43/100\n",
            "1/1 [==============================] - 0s 6ms/step - loss: 0.6372 - mae: 0.6372\n",
            "Epoch 44/100\n",
            "1/1 [==============================] - 0s 6ms/step - loss: 0.6079 - mae: 0.6079\n",
            "Epoch 45/100\n",
            "1/1 [==============================] - 0s 6ms/step - loss: 0.2492 - mae: 0.2492\n",
            "Epoch 46/100\n",
            "1/1 [==============================] - 0s 6ms/step - loss: 0.5698 - mae: 0.5698\n",
            "Epoch 47/100\n",
            "1/1 [==============================] - 0s 8ms/step - loss: 0.3784 - mae: 0.3784\n",
            "Epoch 48/100\n",
            "1/1 [==============================] - 0s 5ms/step - loss: 0.4910 - mae: 0.4910\n",
            "Epoch 49/100\n",
            "1/1 [==============================] - 0s 12ms/step - loss: 0.2882 - mae: 0.2882\n",
            "Epoch 50/100\n",
            "1/1 [==============================] - 0s 7ms/step - loss: 0.4275 - mae: 0.4275\n",
            "Epoch 51/100\n",
            "1/1 [==============================] - 0s 7ms/step - loss: 0.3057 - mae: 0.3057\n",
            "Epoch 52/100\n",
            "1/1 [==============================] - 0s 7ms/step - loss: 0.3191 - mae: 0.3191\n",
            "Epoch 53/100\n",
            "1/1 [==============================] - 0s 6ms/step - loss: 0.3441 - mae: 0.3441\n",
            "Epoch 54/100\n",
            "1/1 [==============================] - 0s 7ms/step - loss: 0.2204 - mae: 0.2204\n",
            "Epoch 55/100\n",
            "1/1 [==============================] - 0s 3ms/step - loss: 0.6489 - mae: 0.6489\n",
            "Epoch 56/100\n",
            "1/1 [==============================] - 0s 7ms/step - loss: 0.5783 - mae: 0.5783\n",
            "Epoch 57/100\n",
            "1/1 [==============================] - 0s 4ms/step - loss: 0.3264 - mae: 0.3264\n",
            "Epoch 58/100\n",
            "1/1 [==============================] - 0s 4ms/step - loss: 0.4702 - mae: 0.4702\n",
            "Epoch 59/100\n",
            "1/1 [==============================] - 0s 5ms/step - loss: 0.2232 - mae: 0.2232\n",
            "Epoch 60/100\n",
            "1/1 [==============================] - 0s 6ms/step - loss: 0.2671 - mae: 0.2671\n",
            "Epoch 61/100\n",
            "1/1 [==============================] - 0s 4ms/step - loss: 0.1477 - mae: 0.1477\n",
            "Epoch 62/100\n",
            "1/1 [==============================] - 0s 6ms/step - loss: 0.4524 - mae: 0.4524\n",
            "Epoch 63/100\n",
            "1/1 [==============================] - 0s 5ms/step - loss: 0.2052 - mae: 0.2052\n",
            "Epoch 64/100\n",
            "1/1 [==============================] - 0s 5ms/step - loss: 0.6653 - mae: 0.6653\n",
            "Epoch 65/100\n",
            "1/1 [==============================] - 0s 6ms/step - loss: 0.7991 - mae: 0.7991\n",
            "Epoch 66/100\n",
            "1/1 [==============================] - 0s 6ms/step - loss: 0.3536 - mae: 0.3536\n",
            "Epoch 67/100\n",
            "1/1 [==============================] - 0s 5ms/step - loss: 0.7824 - mae: 0.7824\n",
            "Epoch 68/100\n",
            "1/1 [==============================] - 0s 5ms/step - loss: 1.0036 - mae: 1.0036\n",
            "Epoch 69/100\n",
            "1/1 [==============================] - 0s 7ms/step - loss: 0.6740 - mae: 0.6740\n",
            "Epoch 70/100\n",
            "1/1 [==============================] - 0s 5ms/step - loss: 0.4681 - mae: 0.4681\n",
            "Epoch 71/100\n",
            "1/1 [==============================] - 0s 10ms/step - loss: 0.6140 - mae: 0.6140\n",
            "Epoch 72/100\n",
            "1/1 [==============================] - 0s 8ms/step - loss: 0.2463 - mae: 0.2463\n",
            "Epoch 73/100\n",
            "1/1 [==============================] - 0s 8ms/step - loss: 0.6911 - mae: 0.6911\n",
            "Epoch 74/100\n",
            "1/1 [==============================] - 0s 5ms/step - loss: 0.7928 - mae: 0.7928\n",
            "Epoch 75/100\n",
            "1/1 [==============================] - 0s 5ms/step - loss: 0.3734 - mae: 0.3734\n",
            "Epoch 76/100\n",
            "1/1 [==============================] - 0s 5ms/step - loss: 0.6182 - mae: 0.6182\n",
            "Epoch 77/100\n",
            "1/1 [==============================] - 0s 5ms/step - loss: 0.9082 - mae: 0.9082\n",
            "Epoch 78/100\n",
            "1/1 [==============================] - 0s 7ms/step - loss: 0.5590 - mae: 0.5590\n",
            "Epoch 79/100\n",
            "1/1 [==============================] - 0s 9ms/step - loss: 0.3933 - mae: 0.3933\n",
            "Epoch 80/100\n",
            "1/1 [==============================] - 0s 7ms/step - loss: 0.6173 - mae: 0.6173\n",
            "Epoch 81/100\n",
            "1/1 [==============================] - 0s 5ms/step - loss: 0.3693 - mae: 0.3693\n",
            "Epoch 82/100\n",
            "1/1 [==============================] - 0s 4ms/step - loss: 0.4383 - mae: 0.4383\n",
            "Epoch 83/100\n",
            "1/1 [==============================] - 0s 7ms/step - loss: 0.5387 - mae: 0.5387\n",
            "Epoch 84/100\n",
            "1/1 [==============================] - 0s 6ms/step - loss: 0.1385 - mae: 0.1385\n",
            "Epoch 85/100\n",
            "1/1 [==============================] - 0s 6ms/step - loss: 0.4995 - mae: 0.4995\n",
            "Epoch 86/100\n",
            "1/1 [==============================] - 0s 7ms/step - loss: 0.4626 - mae: 0.4626\n",
            "Epoch 87/100\n",
            "1/1 [==============================] - 0s 9ms/step - loss: 0.3471 - mae: 0.3471\n",
            "Epoch 88/100\n",
            "1/1 [==============================] - 0s 4ms/step - loss: 0.2448 - mae: 0.2448\n",
            "Epoch 89/100\n",
            "1/1 [==============================] - 0s 7ms/step - loss: 0.3843 - mae: 0.3843\n",
            "Epoch 90/100\n",
            "1/1 [==============================] - 0s 5ms/step - loss: 0.3731 - mae: 0.3731\n",
            "Epoch 91/100\n",
            "1/1 [==============================] - 0s 5ms/step - loss: 0.3295 - mae: 0.3295\n",
            "Epoch 92/100\n",
            "1/1 [==============================] - 0s 6ms/step - loss: 0.3284 - mae: 0.3284\n",
            "Epoch 93/100\n",
            "1/1 [==============================] - 0s 9ms/step - loss: 0.3175 - mae: 0.3175\n",
            "Epoch 94/100\n",
            "1/1 [==============================] - 0s 12ms/step - loss: 0.2599 - mae: 0.2599\n",
            "Epoch 95/100\n",
            "1/1 [==============================] - 0s 6ms/step - loss: 0.3709 - mae: 0.3709\n",
            "Epoch 96/100\n",
            "1/1 [==============================] - 0s 8ms/step - loss: 0.3895 - mae: 0.3895\n",
            "Epoch 97/100\n",
            "1/1 [==============================] - 0s 6ms/step - loss: 0.2130 - mae: 0.2130\n",
            "Epoch 98/100\n",
            "1/1 [==============================] - 0s 16ms/step - loss: 0.1139 - mae: 0.1139\n",
            "Epoch 99/100\n",
            "1/1 [==============================] - 0s 7ms/step - loss: 0.5360 - mae: 0.5360\n",
            "Epoch 100/100\n",
            "1/1 [==============================] - 0s 9ms/step - loss: 0.5188 - mae: 0.5188\n"
          ],
          "name": "stdout"
        },
        {
          "output_type": "execute_result",
          "data": {
            "text/plain": [
              "<tensorflow.python.keras.callbacks.History at 0x7fc9a7c1a550>"
            ]
          },
          "metadata": {
            "tags": []
          },
          "execution_count": 24
        }
      ]
    },
    {
      "cell_type": "code",
      "metadata": {
        "colab": {
          "base_uri": "https://localhost:8080/"
        },
        "id": "EHK_YdK2ebzZ",
        "outputId": "f8d8342b-b854-4f68-e639-205a9dfcd7b7"
      },
      "source": [
        "# predict again\n",
        "model.predict([17.0])"
      ],
      "execution_count": 26,
      "outputs": [
        {
          "output_type": "execute_result",
          "data": {
            "text/plain": [
              "array([[27.094313]], dtype=float32)"
            ]
          },
          "metadata": {
            "tags": []
          },
          "execution_count": 26
        }
      ]
    },
    {
      "cell_type": "markdown",
      "metadata": {
        "id": "2zFvgWLleje6"
      },
      "source": [
        "### Evaluate the model\n",
        "When it comes to evaluation ... there are three words to say:\n",
        "> \"Visualize , visualize, visualize \"\n",
        "\n",
        "It's good idea to visualize:\n",
        "- The data - what data are we working with ? what does it look like ?\n",
        "- The model itself - what does our model look like ?\n",
        "- The training of a model - how does a model performs while it learns ?\n",
        "- The prediction of the model - how do the prediction of model lineup agains thew ground truth ?\n",
        " "
      ]
    },
    {
      "cell_type": "code",
      "metadata": {
        "colab": {
          "base_uri": "https://localhost:8080/"
        },
        "id": "La64Y0UYh7Qx",
        "outputId": "c8b6bd48-df6d-41a4-e58c-ce77a0618054"
      },
      "source": [
        "# make a bigger dataset\n",
        "X = tf.range(-100,100,4)\n",
        "X"
      ],
      "execution_count": 27,
      "outputs": [
        {
          "output_type": "execute_result",
          "data": {
            "text/plain": [
              "<tf.Tensor: shape=(50,), dtype=int32, numpy=\n",
              "array([-100,  -96,  -92,  -88,  -84,  -80,  -76,  -72,  -68,  -64,  -60,\n",
              "        -56,  -52,  -48,  -44,  -40,  -36,  -32,  -28,  -24,  -20,  -16,\n",
              "        -12,   -8,   -4,    0,    4,    8,   12,   16,   20,   24,   28,\n",
              "         32,   36,   40,   44,   48,   52,   56,   60,   64,   68,   72,\n",
              "         76,   80,   84,   88,   92,   96], dtype=int32)>"
            ]
          },
          "metadata": {
            "tags": []
          },
          "execution_count": 27
        }
      ]
    },
    {
      "cell_type": "code",
      "metadata": {
        "colab": {
          "base_uri": "https://localhost:8080/"
        },
        "id": "G6CDMN07jGx1",
        "outputId": "342d55ac-a067-4cad-8008-0619f065bdc7"
      },
      "source": [
        "# Make labels for the dataset\n",
        "Y = X + 10\n",
        "Y"
      ],
      "execution_count": 31,
      "outputs": [
        {
          "output_type": "execute_result",
          "data": {
            "text/plain": [
              "<tf.Tensor: shape=(50,), dtype=int32, numpy=\n",
              "array([-90, -86, -82, -78, -74, -70, -66, -62, -58, -54, -50, -46, -42,\n",
              "       -38, -34, -30, -26, -22, -18, -14, -10,  -6,  -2,   2,   6,  10,\n",
              "        14,  18,  22,  26,  30,  34,  38,  42,  46,  50,  54,  58,  62,\n",
              "        66,  70,  74,  78,  82,  86,  90,  94,  98, 102, 106], dtype=int32)>"
            ]
          },
          "metadata": {
            "tags": []
          },
          "execution_count": 31
        }
      ]
    },
    {
      "cell_type": "code",
      "metadata": {
        "colab": {
          "base_uri": "https://localhost:8080/",
          "height": 283
        },
        "id": "37Md94vujPt9",
        "outputId": "54f4ae45-2e09-4a6a-a5be-60e2e6b977fc"
      },
      "source": [
        "# visualize the data\n",
        "plt.plot(X,Y)"
      ],
      "execution_count": 32,
      "outputs": [
        {
          "output_type": "execute_result",
          "data": {
            "text/plain": [
              "[<matplotlib.lines.Line2D at 0x7fc9a573dbd0>]"
            ]
          },
          "metadata": {
            "tags": []
          },
          "execution_count": 32
        },
        {
          "output_type": "display_data",
          "data": {
            "image/png": "[encoded data removed]",
            "text/plain": [
              "<Figure size 432x288 with 1 Axes>"
            ]
          },
          "metadata": {
            "tags": [],
            "needs_background": "light"
          }
        }
      ]
    },
    {
      "cell_type": "code",
      "metadata": {
        "colab": {
          "base_uri": "https://localhost:8080/",
          "height": 283
        },
        "id": "3KfQs4uIjg2F",
        "outputId": "7d530605-cc16-4e10-917e-555c6113c384"
      },
      "source": [
        "# scatter plot\n",
        "plt.scatter(X,Y)"
      ],
      "execution_count": 33,
      "outputs": [
        {
          "output_type": "execute_result",
          "data": {
            "text/plain": [
              "<matplotlib.collections.PathCollection at 0x7fc9a56c6c90>"
            ]
          },
          "metadata": {
            "tags": []
          },
          "execution_count": 33
        },
        {
          "output_type": "display_data",
          "data": {
            "image/png": "[encoded data removed]",
            "text/plain": [
              "<Figure size 432x288 with 1 Axes>"
            ]
          },
          "metadata": {
            "tags": [],
            "needs_background": "light"
          }
        }
      ]
    },
    {
      "cell_type": "markdown",
      "metadata": {
        "id": "8QFYnSH7jpHW"
      },
      "source": [
        "### The 3 sets . . \n",
        "- Training Sets - the models learn from this data (70-80 %)\n",
        "- Validation set - The model gets tuned on this data, which is 10 to 15 %\n",
        "- Test Set - The model gets evaluated on this data to test what it has learned 10 to 15 %"
      ]
    },
    {
      "cell_type": "code",
      "metadata": {
        "colab": {
          "base_uri": "https://localhost:8080/"
        },
        "id": "JgG-EXgqkfSU",
        "outputId": "9603d014-bd99-4569-d3b3-252dc840a709"
      },
      "source": [
        "# check the length of sample\n",
        "len(X)"
      ],
      "execution_count": 34,
      "outputs": [
        {
          "output_type": "execute_result",
          "data": {
            "text/plain": [
              "50"
            ]
          },
          "metadata": {
            "tags": []
          },
          "execution_count": 34
        }
      ]
    },
    {
      "cell_type": "code",
      "metadata": {
        "colab": {
          "base_uri": "https://localhost:8080/"
        },
        "id": "CnFaOAbwkzVx",
        "outputId": "c7a4d685-f5de-4a62-d622-915cc5f384b1"
      },
      "source": [
        "# Split data into training and testing dataset\n",
        "X_train = X[:40]\n",
        "X_test = X[40:]\n",
        "\n",
        "Y_train = Y[:40]\n",
        "Y_test = Y[40:]\n",
        "\n",
        "len(X_train) , len(X_test)"
      ],
      "execution_count": 35,
      "outputs": [
        {
          "output_type": "execute_result",
          "data": {
            "text/plain": [
              "(40, 10)"
            ]
          },
          "metadata": {
            "tags": []
          },
          "execution_count": 35
        }
      ]
    },
    {
      "cell_type": "markdown",
      "metadata": {
        "id": "U857Q2lglpFg"
      },
      "source": [
        "# Visualizing the data\n",
        "Now we've got our data in training and test sets... let's visualize it"
      ]
    },
    {
      "cell_type": "code",
      "metadata": {
        "colab": {
          "base_uri": "https://localhost:8080/",
          "height": 428
        },
        "id": "Upk3Vg7nmKB2",
        "outputId": "7c0ccc39-f9bb-497e-ed7a-163683d6eb10"
      },
      "source": [
        "plt.figure(figsize=(10,7))\n",
        "\n",
        "# plot training data in blue\n",
        "plt.scatter(X_train, Y_train, c=\"b\", label = \"Training data\")\n",
        "\n",
        "# plot test data in green\n",
        "plt.scatter(X_test,Y_test,c=\"r\",label =\"Testing data\" )\n",
        "\n",
        "# show a legend\n",
        "plt.legend();"
      ],
      "execution_count": 38,
      "outputs": [
        {
          "output_type": "display_data",
          "data": {
            "image/png": "[encoded data removed]",
            "text/plain": [
              "<Figure size 720x504 with 1 Axes>"
            ]
          },
          "metadata": {
            "tags": [],
            "needs_background": "light"
          }
        }
      ]
    },
    {
      "cell_type": "code",
      "metadata": {
        "colab": {
          "base_uri": "https://localhost:8080/"
        },
        "id": "tCjcVJjvmx2U",
        "outputId": "44c24df2-d910-40c9-c9fc-c995895122e0"
      },
      "source": [
        "# let's build a neural network for our data\n",
        "\n",
        "# 1. Create a model with one layer of neurons\n",
        "model = tf.keras.Sequential([\n",
        "    tf.keras.layers.Dense(1)\n",
        "])\n",
        "\n",
        "# 2. Compile the model with SGD Optimizer first\n",
        "model.compile(\n",
        "               optimizer = tf.keras.optimizers.SGD(),\n",
        "               loss = \"mae\",\n",
        "               metrics = [\"mae\"]\n",
        ")\n",
        "\n",
        "# 3. fit the data into model\n",
        "model.fit(X_train,Y_train,epochs=100)"
      ],
      "execution_count": 41,
      "outputs": [
        {
          "output_type": "stream",
          "text": [
            "Epoch 1/100\n",
            "2/2 [==============================] - 0s 6ms/step - loss: 15.3597 - mae: 15.3597\n",
            "Epoch 2/100\n",
            "2/2 [==============================] - 0s 3ms/step - loss: 13.3422 - mae: 13.3422\n",
            "Epoch 3/100\n",
            "2/2 [==============================] - 0s 4ms/step - loss: 12.0305 - mae: 12.0305\n",
            "Epoch 4/100\n",
            "2/2 [==============================] - 0s 7ms/step - loss: 8.7565 - mae: 8.7565\n",
            "Epoch 5/100\n",
            "2/2 [==============================] - 0s 7ms/step - loss: 10.9771 - mae: 10.9771\n",
            "Epoch 6/100\n",
            "2/2 [==============================] - 0s 10ms/step - loss: 10.1417 - mae: 10.1417\n",
            "Epoch 7/100\n",
            "2/2 [==============================] - 0s 3ms/step - loss: 9.1643 - mae: 9.1643\n",
            "Epoch 8/100\n",
            "2/2 [==============================] - 0s 5ms/step - loss: 9.1135 - mae: 9.1135\n",
            "Epoch 9/100\n",
            "2/2 [==============================] - 0s 6ms/step - loss: 15.1949 - mae: 15.1949\n",
            "Epoch 10/100\n",
            "2/2 [==============================] - 0s 6ms/step - loss: 7.8238 - mae: 7.8238\n",
            "Epoch 11/100\n",
            "2/2 [==============================] - 0s 5ms/step - loss: 10.4085 - mae: 10.4085\n",
            "Epoch 12/100\n",
            "2/2 [==============================] - 0s 4ms/step - loss: 18.3862 - mae: 18.3862\n",
            "Epoch 13/100\n",
            "2/2 [==============================] - 0s 3ms/step - loss: 9.7475 - mae: 9.7475\n",
            "Epoch 14/100\n",
            "2/2 [==============================] - 0s 6ms/step - loss: 15.7300 - mae: 15.7300\n",
            "Epoch 15/100\n",
            "2/2 [==============================] - 0s 5ms/step - loss: 11.6220 - mae: 11.6220\n",
            "Epoch 16/100\n",
            "2/2 [==============================] - 0s 5ms/step - loss: 8.4707 - mae: 8.4707\n",
            "Epoch 17/100\n",
            "2/2 [==============================] - 0s 9ms/step - loss: 13.4804 - mae: 13.4804\n",
            "Epoch 18/100\n",
            "2/2 [==============================] - 0s 7ms/step - loss: 11.2710 - mae: 11.2710\n",
            "Epoch 19/100\n",
            "2/2 [==============================] - 0s 7ms/step - loss: 18.2336 - mae: 18.2336\n",
            "Epoch 20/100\n",
            "2/2 [==============================] - 0s 8ms/step - loss: 14.9420 - mae: 14.9420\n",
            "Epoch 21/100\n",
            "2/2 [==============================] - 0s 8ms/step - loss: 10.8265 - mae: 10.8265\n",
            "Epoch 22/100\n",
            "2/2 [==============================] - 0s 4ms/step - loss: 8.5754 - mae: 8.5754\n",
            "Epoch 23/100\n",
            "2/2 [==============================] - 0s 4ms/step - loss: 9.7187 - mae: 9.7187\n",
            "Epoch 24/100\n",
            "2/2 [==============================] - 0s 4ms/step - loss: 10.9376 - mae: 10.9376\n",
            "Epoch 25/100\n",
            "2/2 [==============================] - 0s 6ms/step - loss: 9.1494 - mae: 9.1494\n",
            "Epoch 26/100\n",
            "2/2 [==============================] - 0s 3ms/step - loss: 13.1745 - mae: 13.1745\n",
            "Epoch 27/100\n",
            "2/2 [==============================] - 0s 3ms/step - loss: 10.6501 - mae: 10.6501\n",
            "Epoch 28/100\n",
            "2/2 [==============================] - 0s 3ms/step - loss: 12.8648 - mae: 12.8648\n",
            "Epoch 29/100\n",
            "2/2 [==============================] - 0s 6ms/step - loss: 9.5014 - mae: 9.5014\n",
            "Epoch 30/100\n",
            "2/2 [==============================] - 0s 3ms/step - loss: 16.3812 - mae: 16.3812\n",
            "Epoch 31/100\n",
            "2/2 [==============================] - 0s 3ms/step - loss: 23.6023 - mae: 23.6023\n",
            "Epoch 32/100\n",
            "2/2 [==============================] - 0s 7ms/step - loss: 7.6081 - mae: 7.6081\n",
            "Epoch 33/100\n",
            "2/2 [==============================] - 0s 5ms/step - loss: 9.3067 - mae: 9.3067\n",
            "Epoch 34/100\n",
            "2/2 [==============================] - 0s 4ms/step - loss: 13.6959 - mae: 13.6959\n",
            "Epoch 35/100\n",
            "2/2 [==============================] - 0s 4ms/step - loss: 11.1385 - mae: 11.1385\n",
            "Epoch 36/100\n",
            "2/2 [==============================] - 0s 4ms/step - loss: 13.3517 - mae: 13.3517\n",
            "Epoch 37/100\n",
            "2/2 [==============================] - 0s 6ms/step - loss: 9.4561 - mae: 9.4561\n",
            "Epoch 38/100\n",
            "2/2 [==============================] - 0s 6ms/step - loss: 10.1118 - mae: 10.1118\n",
            "Epoch 39/100\n",
            "2/2 [==============================] - 0s 6ms/step - loss: 10.1904 - mae: 10.1904\n",
            "Epoch 40/100\n",
            "2/2 [==============================] - 0s 4ms/step - loss: 10.9319 - mae: 10.9319\n",
            "Epoch 41/100\n",
            "2/2 [==============================] - 0s 5ms/step - loss: 7.9186 - mae: 7.9186\n",
            "Epoch 42/100\n",
            "2/2 [==============================] - 0s 6ms/step - loss: 10.0682 - mae: 10.0682\n",
            "Epoch 43/100\n",
            "2/2 [==============================] - 0s 5ms/step - loss: 8.6870 - mae: 8.6870\n",
            "Epoch 44/100\n",
            "2/2 [==============================] - 0s 7ms/step - loss: 12.1691 - mae: 12.1691\n",
            "Epoch 45/100\n",
            "2/2 [==============================] - 0s 6ms/step - loss: 13.8210 - mae: 13.8210\n",
            "Epoch 46/100\n",
            "2/2 [==============================] - 0s 7ms/step - loss: 8.4819 - mae: 8.4819\n",
            "Epoch 47/100\n",
            "2/2 [==============================] - 0s 3ms/step - loss: 9.1125 - mae: 9.1125\n",
            "Epoch 48/100\n",
            "2/2 [==============================] - 0s 4ms/step - loss: 10.5914 - mae: 10.5914\n",
            "Epoch 49/100\n",
            "2/2 [==============================] - 0s 5ms/step - loss: 7.7318 - mae: 7.7318\n",
            "Epoch 50/100\n",
            "2/2 [==============================] - 0s 4ms/step - loss: 9.5152 - mae: 9.5152\n",
            "Epoch 51/100\n",
            "2/2 [==============================] - 0s 5ms/step - loss: 9.1474 - mae: 9.1474\n",
            "Epoch 52/100\n",
            "2/2 [==============================] - 0s 4ms/step - loss: 16.3203 - mae: 16.3203\n",
            "Epoch 53/100\n",
            "2/2 [==============================] - 0s 6ms/step - loss: 14.1425 - mae: 14.1425\n",
            "Epoch 54/100\n",
            "2/2 [==============================] - 0s 4ms/step - loss: 21.1662 - mae: 21.1662\n",
            "Epoch 55/100\n",
            "2/2 [==============================] - 0s 6ms/step - loss: 16.3558 - mae: 16.3558\n",
            "Epoch 56/100\n",
            "2/2 [==============================] - 0s 5ms/step - loss: 10.0041 - mae: 10.0041\n",
            "Epoch 57/100\n",
            "2/2 [==============================] - 0s 6ms/step - loss: 9.9367 - mae: 9.9367\n",
            "Epoch 58/100\n",
            "2/2 [==============================] - 0s 4ms/step - loss: 9.1991 - mae: 9.1991\n",
            "Epoch 59/100\n",
            "2/2 [==============================] - 0s 6ms/step - loss: 8.4031 - mae: 8.4031\n",
            "Epoch 60/100\n",
            "2/2 [==============================] - 0s 6ms/step - loss: 9.4685 - mae: 9.4685\n",
            "Epoch 61/100\n",
            "2/2 [==============================] - 0s 5ms/step - loss: 11.4041 - mae: 11.4041\n",
            "Epoch 62/100\n",
            "2/2 [==============================] - 0s 5ms/step - loss: 11.7113 - mae: 11.7113\n",
            "Epoch 63/100\n",
            "2/2 [==============================] - 0s 3ms/step - loss: 7.0679 - mae: 7.0679\n",
            "Epoch 64/100\n",
            "2/2 [==============================] - 0s 5ms/step - loss: 16.9930 - mae: 16.9930\n",
            "Epoch 65/100\n",
            "2/2 [==============================] - 0s 5ms/step - loss: 12.4764 - mae: 12.4764\n",
            "Epoch 66/100\n",
            "2/2 [==============================] - 0s 6ms/step - loss: 13.0421 - mae: 13.0421\n",
            "Epoch 67/100\n",
            "2/2 [==============================] - 0s 5ms/step - loss: 8.0641 - mae: 8.0641\n",
            "Epoch 68/100\n",
            "2/2 [==============================] - 0s 3ms/step - loss: 10.2006 - mae: 10.2006\n",
            "Epoch 69/100\n",
            "2/2 [==============================] - 0s 5ms/step - loss: 12.3888 - mae: 12.3888\n",
            "Epoch 70/100\n",
            "2/2 [==============================] - 0s 6ms/step - loss: 9.0302 - mae: 9.0302\n",
            "Epoch 71/100\n",
            "2/2 [==============================] - 0s 5ms/step - loss: 10.0148 - mae: 10.0148\n",
            "Epoch 72/100\n",
            "2/2 [==============================] - 0s 3ms/step - loss: 10.0326 - mae: 10.0326\n",
            "Epoch 73/100\n",
            "2/2 [==============================] - 0s 5ms/step - loss: 12.5817 - mae: 12.5817\n",
            "Epoch 74/100\n",
            "2/2 [==============================] - 0s 3ms/step - loss: 10.4063 - mae: 10.4063\n",
            "Epoch 75/100\n",
            "2/2 [==============================] - 0s 4ms/step - loss: 9.7022 - mae: 9.7022\n",
            "Epoch 76/100\n",
            "2/2 [==============================] - 0s 6ms/step - loss: 11.1984 - mae: 11.1984\n",
            "Epoch 77/100\n",
            "2/2 [==============================] - 0s 4ms/step - loss: 8.3449 - mae: 8.3449\n",
            "Epoch 78/100\n",
            "2/2 [==============================] - 0s 4ms/step - loss: 9.0961 - mae: 9.0961\n",
            "Epoch 79/100\n",
            "2/2 [==============================] - 0s 3ms/step - loss: 19.5430 - mae: 19.5430\n",
            "Epoch 80/100\n",
            "2/2 [==============================] - 0s 7ms/step - loss: 14.8562 - mae: 14.8562\n",
            "Epoch 81/100\n",
            "2/2 [==============================] - 0s 5ms/step - loss: 9.0320 - mae: 9.0320\n",
            "Epoch 82/100\n",
            "2/2 [==============================] - 0s 6ms/step - loss: 12.9876 - mae: 12.9876\n",
            "Epoch 83/100\n",
            "2/2 [==============================] - 0s 4ms/step - loss: 7.9046 - mae: 7.9046\n",
            "Epoch 84/100\n",
            "2/2 [==============================] - 0s 3ms/step - loss: 7.6898 - mae: 7.6898\n",
            "Epoch 85/100\n",
            "2/2 [==============================] - 0s 3ms/step - loss: 10.0478 - mae: 10.0478\n",
            "Epoch 86/100\n",
            "2/2 [==============================] - 0s 7ms/step - loss: 9.2510 - mae: 9.2510\n",
            "Epoch 87/100\n",
            "2/2 [==============================] - 0s 3ms/step - loss: 12.0405 - mae: 12.0405\n",
            "Epoch 88/100\n",
            "2/2 [==============================] - 0s 5ms/step - loss: 10.6591 - mae: 10.6591\n",
            "Epoch 89/100\n",
            "2/2 [==============================] - 0s 4ms/step - loss: 7.2622 - mae: 7.2622\n",
            "Epoch 90/100\n",
            "2/2 [==============================] - 0s 5ms/step - loss: 12.8021 - mae: 12.8021\n",
            "Epoch 91/100\n",
            "2/2 [==============================] - 0s 7ms/step - loss: 7.4754 - mae: 7.4754\n",
            "Epoch 92/100\n",
            "2/2 [==============================] - 0s 3ms/step - loss: 6.7451 - mae: 6.7451\n",
            "Epoch 93/100\n",
            "2/2 [==============================] - 0s 5ms/step - loss: 11.9514 - mae: 11.9514\n",
            "Epoch 94/100\n",
            "2/2 [==============================] - 0s 4ms/step - loss: 8.8806 - mae: 8.8806\n",
            "Epoch 95/100\n",
            "2/2 [==============================] - 0s 6ms/step - loss: 7.7174 - mae: 7.7174\n",
            "Epoch 96/100\n",
            "2/2 [==============================] - 0s 7ms/step - loss: 6.7449 - mae: 6.7449\n",
            "Epoch 97/100\n",
            "2/2 [==============================] - 0s 4ms/step - loss: 8.6332 - mae: 8.6332\n",
            "Epoch 98/100\n",
            "2/2 [==============================] - 0s 6ms/step - loss: 9.3827 - mae: 9.3827\n",
            "Epoch 99/100\n",
            "2/2 [==============================] - 0s 3ms/step - loss: 9.1194 - mae: 9.1194\n",
            "Epoch 100/100\n",
            "2/2 [==============================] - 0s 6ms/step - loss: 10.4742 - mae: 10.4742\n"
          ],
          "name": "stdout"
        },
        {
          "output_type": "execute_result",
          "data": {
            "text/plain": [
              "<tensorflow.python.keras.callbacks.History at 0x7fc9a552ef50>"
            ]
          },
          "metadata": {
            "tags": []
          },
          "execution_count": 41
        }
      ]
    },
    {
      "cell_type": "code",
      "metadata": {
        "colab": {
          "base_uri": "https://localhost:8080/"
        },
        "id": "haxLBHNboZj4",
        "outputId": "1abcb5b5-2e26-4eb7-e1b3-6eb013bc67e9"
      },
      "source": [
        "# Improve our model by adding some layer with relu activation function\n",
        "# 1. Create model -  add more layesr to our model\n",
        "model = tf.keras.Sequential([\n",
        "                             tf.keras.layers.Dense(100, activation=\"relu\"),\n",
        "                             tf.keras.layers.Dense(100, activation=\"relu\"),\n",
        "                             tf.keras.layers.Dense(1)\n",
        "])\n",
        "\n",
        "# 2. compile the model\n",
        "model.compile(\n",
        "    loss = \"mae\",\n",
        "    optimizer = tf.keras.optimizers.SGD(),\n",
        "    metrics =[\"mae\"]\n",
        ")\n",
        "\n",
        "# 3. Fit the model\n",
        "model.fit(X_train, Y_train, epochs= 100)"
      ],
      "execution_count": 46,
      "outputs": [
        {
          "output_type": "stream",
          "text": [
            "Epoch 1/100\n",
            "2/2 [==============================] - 0s 6ms/step - loss: 38.8337 - mae: 38.8337\n",
            "Epoch 2/100\n",
            "2/2 [==============================] - 0s 3ms/step - loss: 17.8668 - mae: 17.8668\n",
            "Epoch 3/100\n",
            "2/2 [==============================] - 0s 4ms/step - loss: 14.4271 - mae: 14.4271\n",
            "Epoch 4/100\n",
            "2/2 [==============================] - 0s 9ms/step - loss: 17.3951 - mae: 17.3951\n",
            "Epoch 5/100\n",
            "2/2 [==============================] - 0s 3ms/step - loss: 12.2696 - mae: 12.2696\n",
            "Epoch 6/100\n",
            "2/2 [==============================] - 0s 5ms/step - loss: 19.0703 - mae: 19.0703\n",
            "Epoch 7/100\n",
            "2/2 [==============================] - 0s 4ms/step - loss: 13.8458 - mae: 13.8458\n",
            "Epoch 8/100\n",
            "2/2 [==============================] - 0s 4ms/step - loss: 10.6214 - mae: 10.6214\n",
            "Epoch 9/100\n",
            "2/2 [==============================] - 0s 3ms/step - loss: 25.9074 - mae: 25.9074\n",
            "Epoch 10/100\n",
            "2/2 [==============================] - 0s 4ms/step - loss: 24.6170 - mae: 24.6170\n",
            "Epoch 11/100\n",
            "2/2 [==============================] - 0s 6ms/step - loss: 14.4455 - mae: 14.4455\n",
            "Epoch 12/100\n",
            "2/2 [==============================] - 0s 5ms/step - loss: 29.7005 - mae: 29.7005\n",
            "Epoch 13/100\n",
            "2/2 [==============================] - 0s 4ms/step - loss: 7.0196 - mae: 7.0196\n",
            "Epoch 14/100\n",
            "2/2 [==============================] - 0s 5ms/step - loss: 25.4851 - mae: 25.4851\n",
            "Epoch 15/100\n",
            "2/2 [==============================] - 0s 3ms/step - loss: 17.0308 - mae: 17.0308\n",
            "Epoch 16/100\n",
            "2/2 [==============================] - 0s 4ms/step - loss: 21.4570 - mae: 21.4570\n",
            "Epoch 17/100\n",
            "2/2 [==============================] - 0s 4ms/step - loss: 9.7440 - mae: 9.7440\n",
            "Epoch 18/100\n",
            "2/2 [==============================] - 0s 7ms/step - loss: 9.8204 - mae: 9.8204\n",
            "Epoch 19/100\n",
            "2/2 [==============================] - 0s 15ms/step - loss: 24.2679 - mae: 24.2679\n",
            "Epoch 20/100\n",
            "2/2 [==============================] - 0s 4ms/step - loss: 14.3951 - mae: 14.3951\n",
            "Epoch 21/100\n",
            "2/2 [==============================] - 0s 5ms/step - loss: 21.0760 - mae: 21.0760\n",
            "Epoch 22/100\n",
            "2/2 [==============================] - 0s 9ms/step - loss: 10.3957 - mae: 10.3957\n",
            "Epoch 23/100\n",
            "2/2 [==============================] - 0s 3ms/step - loss: 14.2944 - mae: 14.2944\n",
            "Epoch 24/100\n",
            "2/2 [==============================] - 0s 4ms/step - loss: 17.5462 - mae: 17.5462\n",
            "Epoch 25/100\n",
            "2/2 [==============================] - 0s 4ms/step - loss: 13.8893 - mae: 13.8893\n",
            "Epoch 26/100\n",
            "2/2 [==============================] - 0s 4ms/step - loss: 7.1321 - mae: 7.1321\n",
            "Epoch 27/100\n",
            "2/2 [==============================] - 0s 4ms/step - loss: 11.8742 - mae: 11.8742\n",
            "Epoch 28/100\n",
            "2/2 [==============================] - 0s 9ms/step - loss: 7.6445 - mae: 7.6445\n",
            "Epoch 29/100\n",
            "2/2 [==============================] - 0s 4ms/step - loss: 15.9283 - mae: 15.9283\n",
            "Epoch 30/100\n",
            "2/2 [==============================] - 0s 9ms/step - loss: 26.2023 - mae: 26.2023\n",
            "Epoch 31/100\n",
            "2/2 [==============================] - 0s 4ms/step - loss: 49.9384 - mae: 49.9384\n",
            "Epoch 32/100\n",
            "2/2 [==============================] - 0s 3ms/step - loss: 9.9977 - mae: 9.9977\n",
            "Epoch 33/100\n",
            "2/2 [==============================] - 0s 7ms/step - loss: 20.1325 - mae: 20.1325\n",
            "Epoch 34/100\n",
            "2/2 [==============================] - 0s 8ms/step - loss: 6.8471 - mae: 6.8471\n",
            "Epoch 35/100\n",
            "2/2 [==============================] - 0s 8ms/step - loss: 10.6868 - mae: 10.6868\n",
            "Epoch 36/100\n",
            "2/2 [==============================] - 0s 8ms/step - loss: 26.4292 - mae: 26.4292\n",
            "Epoch 37/100\n",
            "2/2 [==============================] - 0s 4ms/step - loss: 17.2005 - mae: 17.2005\n",
            "Epoch 38/100\n",
            "2/2 [==============================] - 0s 6ms/step - loss: 16.8596 - mae: 16.8596\n",
            "Epoch 39/100\n",
            "2/2 [==============================] - 0s 7ms/step - loss: 9.4897 - mae: 9.4897\n",
            "Epoch 40/100\n",
            "2/2 [==============================] - 0s 7ms/step - loss: 19.2068 - mae: 19.2068\n",
            "Epoch 41/100\n",
            "2/2 [==============================] - 0s 10ms/step - loss: 4.2490 - mae: 4.2490\n",
            "Epoch 42/100\n",
            "2/2 [==============================] - 0s 6ms/step - loss: 19.1001 - mae: 19.1001\n",
            "Epoch 43/100\n",
            "2/2 [==============================] - 0s 8ms/step - loss: 9.4488 - mae: 9.4488\n",
            "Epoch 44/100\n",
            "2/2 [==============================] - 0s 5ms/step - loss: 17.3345 - mae: 17.3345\n",
            "Epoch 45/100\n",
            "2/2 [==============================] - 0s 8ms/step - loss: 9.4671 - mae: 9.4671\n",
            "Epoch 46/100\n",
            "2/2 [==============================] - 0s 6ms/step - loss: 18.8175 - mae: 18.8175\n",
            "Epoch 47/100\n",
            "2/2 [==============================] - 0s 8ms/step - loss: 7.4638 - mae: 7.4638\n",
            "Epoch 48/100\n",
            "2/2 [==============================] - 0s 6ms/step - loss: 13.9010 - mae: 13.9010\n",
            "Epoch 49/100\n",
            "2/2 [==============================] - 0s 6ms/step - loss: 13.4168 - mae: 13.4168\n",
            "Epoch 50/100\n",
            "2/2 [==============================] - 0s 9ms/step - loss: 18.7636 - mae: 18.7636\n",
            "Epoch 51/100\n",
            "2/2 [==============================] - 0s 4ms/step - loss: 7.7105 - mae: 7.7105\n",
            "Epoch 52/100\n",
            "2/2 [==============================] - 0s 3ms/step - loss: 26.4613 - mae: 26.4613\n",
            "Epoch 53/100\n",
            "2/2 [==============================] - 0s 9ms/step - loss: 8.5975 - mae: 8.5975\n",
            "Epoch 54/100\n",
            "2/2 [==============================] - 0s 9ms/step - loss: 19.5577 - mae: 19.5577\n",
            "Epoch 55/100\n",
            "2/2 [==============================] - 0s 4ms/step - loss: 17.4446 - mae: 17.4446\n",
            "Epoch 56/100\n",
            "2/2 [==============================] - 0s 7ms/step - loss: 11.1323 - mae: 11.1323\n",
            "Epoch 57/100\n",
            "2/2 [==============================] - 0s 4ms/step - loss: 17.5972 - mae: 17.5972\n",
            "Epoch 58/100\n",
            "2/2 [==============================] - 0s 4ms/step - loss: 8.6364 - mae: 8.6364\n",
            "Epoch 59/100\n",
            "2/2 [==============================] - 0s 4ms/step - loss: 14.1597 - mae: 14.1597\n",
            "Epoch 60/100\n",
            "2/2 [==============================] - 0s 4ms/step - loss: 12.1053 - mae: 12.1053\n",
            "Epoch 61/100\n",
            "2/2 [==============================] - 0s 4ms/step - loss: 12.7309 - mae: 12.7309\n",
            "Epoch 62/100\n",
            "2/2 [==============================] - 0s 4ms/step - loss: 14.2069 - mae: 14.2069\n",
            "Epoch 63/100\n",
            "2/2 [==============================] - 0s 5ms/step - loss: 16.7292 - mae: 16.7292\n",
            "Epoch 64/100\n",
            "2/2 [==============================] - 0s 4ms/step - loss: 24.2716 - mae: 24.2716\n",
            "Epoch 65/100\n",
            "2/2 [==============================] - 0s 5ms/step - loss: 10.2267 - mae: 10.2267\n",
            "Epoch 66/100\n",
            "2/2 [==============================] - 0s 4ms/step - loss: 21.3516 - mae: 21.3516\n",
            "Epoch 67/100\n",
            "2/2 [==============================] - 0s 4ms/step - loss: 13.2841 - mae: 13.2841\n",
            "Epoch 68/100\n",
            "2/2 [==============================] - 0s 4ms/step - loss: 17.9629 - mae: 17.9629\n",
            "Epoch 69/100\n",
            "2/2 [==============================] - 0s 4ms/step - loss: 13.7557 - mae: 13.7557\n",
            "Epoch 70/100\n",
            "2/2 [==============================] - 0s 4ms/step - loss: 11.8667 - mae: 11.8667\n",
            "Epoch 71/100\n",
            "2/2 [==============================] - 0s 3ms/step - loss: 16.8985 - mae: 16.8985\n",
            "Epoch 72/100\n",
            "2/2 [==============================] - 0s 4ms/step - loss: 14.3732 - mae: 14.3732\n",
            "Epoch 73/100\n",
            "2/2 [==============================] - 0s 4ms/step - loss: 11.0290 - mae: 11.0290\n",
            "Epoch 74/100\n",
            "2/2 [==============================] - 0s 4ms/step - loss: 24.6283 - mae: 24.6283\n",
            "Epoch 75/100\n",
            "2/2 [==============================] - 0s 6ms/step - loss: 10.6902 - mae: 10.6902\n",
            "Epoch 76/100\n",
            "2/2 [==============================] - 0s 6ms/step - loss: 18.2216 - mae: 18.2216\n",
            "Epoch 77/100\n",
            "2/2 [==============================] - 0s 5ms/step - loss: 22.0761 - mae: 22.0761\n",
            "Epoch 78/100\n",
            "2/2 [==============================] - 0s 7ms/step - loss: 9.4660 - mae: 9.4660\n",
            "Epoch 79/100\n",
            "2/2 [==============================] - 0s 4ms/step - loss: 25.9745 - mae: 25.9745\n",
            "Epoch 80/100\n",
            "2/2 [==============================] - 0s 5ms/step - loss: 17.8189 - mae: 17.8189\n",
            "Epoch 81/100\n",
            "2/2 [==============================] - 0s 4ms/step - loss: 9.9227 - mae: 9.9227\n",
            "Epoch 82/100\n",
            "2/2 [==============================] - 0s 5ms/step - loss: 21.0230 - mae: 21.0230\n",
            "Epoch 83/100\n",
            "2/2 [==============================] - 0s 5ms/step - loss: 13.9100 - mae: 13.9100\n",
            "Epoch 84/100\n",
            "2/2 [==============================] - 0s 4ms/step - loss: 10.5722 - mae: 10.5722\n",
            "Epoch 85/100\n",
            "2/2 [==============================] - 0s 5ms/step - loss: 23.6813 - mae: 23.6813\n",
            "Epoch 86/100\n",
            "2/2 [==============================] - 0s 3ms/step - loss: 10.5451 - mae: 10.5451\n",
            "Epoch 87/100\n",
            "2/2 [==============================] - 0s 4ms/step - loss: 22.6840 - mae: 22.6840\n",
            "Epoch 88/100\n",
            "2/2 [==============================] - 0s 3ms/step - loss: 10.9487 - mae: 10.9487\n",
            "Epoch 89/100\n",
            "2/2 [==============================] - 0s 3ms/step - loss: 15.6981 - mae: 15.6981\n",
            "Epoch 90/100\n",
            "2/2 [==============================] - 0s 4ms/step - loss: 21.8942 - mae: 21.8942\n",
            "Epoch 91/100\n",
            "2/2 [==============================] - 0s 3ms/step - loss: 10.2280 - mae: 10.2280\n",
            "Epoch 92/100\n",
            "2/2 [==============================] - 0s 4ms/step - loss: 22.1209 - mae: 22.1209\n",
            "Epoch 93/100\n",
            "2/2 [==============================] - 0s 3ms/step - loss: 14.7035 - mae: 14.7035\n",
            "Epoch 94/100\n",
            "2/2 [==============================] - 0s 3ms/step - loss: 10.6158 - mae: 10.6158\n",
            "Epoch 95/100\n",
            "2/2 [==============================] - 0s 5ms/step - loss: 20.9257 - mae: 20.9257\n",
            "Epoch 96/100\n",
            "2/2 [==============================] - 0s 4ms/step - loss: 4.9847 - mae: 4.9847\n",
            "Epoch 97/100\n",
            "2/2 [==============================] - 0s 3ms/step - loss: 35.1497 - mae: 35.1497\n",
            "Epoch 98/100\n",
            "2/2 [==============================] - 0s 7ms/step - loss: 12.4044 - mae: 12.4044\n",
            "Epoch 99/100\n",
            "2/2 [==============================] - 0s 11ms/step - loss: 14.4662 - mae: 14.4662\n",
            "Epoch 100/100\n",
            "2/2 [==============================] - 0s 5ms/step - loss: 29.1262 - mae: 29.1262\n"
          ],
          "name": "stdout"
        },
        {
          "output_type": "execute_result",
          "data": {
            "text/plain": [
              "<tensorflow.python.keras.callbacks.History at 0x7fc9a48eba90>"
            ]
          },
          "metadata": {
            "tags": []
          },
          "execution_count": 46
        }
      ]
    },
    {
      "cell_type": "code",
      "metadata": {
        "colab": {
          "base_uri": "https://localhost:8080/"
        },
        "id": "cbjdwpxkqEjt",
        "outputId": "1d904754-3b9a-4b30-aa90-d3a7e7be026f"
      },
      "source": [
        "# Improve our model by changing opimizer from SGD to Adam\n",
        "\n",
        "# 1. Create a model\n",
        "model = tf.keras.Sequential([\n",
        "                             tf.keras.layers.Dense(100, activation = \"relu\"),\n",
        "                              tf.keras.layers.Dense(100, activation = \"relu\"),\n",
        "                             tf.keras.layers.Dense(1)\n",
        "]) \n",
        "\n",
        "# 2. Compling a model\n",
        "model.compile(\n",
        "    optimizer = tf.keras.optimizers.Adam(learning_rate=.01),\n",
        "    loss = \"mae\",\n",
        "    metrics = [\"mae\"]\n",
        ")\n",
        "\n",
        "# 3. fit the model\n",
        "model.fit(X_train, Y_train, epochs=100)"
      ],
      "execution_count": 52,
      "outputs": [
        {
          "output_type": "stream",
          "text": [
            "Epoch 1/100\n",
            "2/2 [==============================] - 0s 7ms/step - loss: 36.5109 - mae: 36.5109\n",
            "Epoch 2/100\n",
            "2/2 [==============================] - 0s 6ms/step - loss: 13.4812 - mae: 13.4812\n",
            "Epoch 3/100\n",
            "2/2 [==============================] - 0s 6ms/step - loss: 12.7468 - mae: 12.7468\n",
            "Epoch 4/100\n",
            "2/2 [==============================] - 0s 6ms/step - loss: 7.7919 - mae: 7.7919\n",
            "Epoch 5/100\n",
            "2/2 [==============================] - 0s 7ms/step - loss: 9.4222 - mae: 9.4222\n",
            "Epoch 6/100\n",
            "2/2 [==============================] - 0s 5ms/step - loss: 8.2688 - mae: 8.2688\n",
            "Epoch 7/100\n",
            "2/2 [==============================] - 0s 5ms/step - loss: 6.3637 - mae: 6.3637\n",
            "Epoch 8/100\n",
            "2/2 [==============================] - 0s 5ms/step - loss: 7.4156 - mae: 7.4156\n",
            "Epoch 9/100\n",
            "2/2 [==============================] - 0s 5ms/step - loss: 4.3455 - mae: 4.3455\n",
            "Epoch 10/100\n",
            "2/2 [==============================] - 0s 6ms/step - loss: 5.7218 - mae: 5.7218\n",
            "Epoch 11/100\n",
            "2/2 [==============================] - 0s 5ms/step - loss: 5.4492 - mae: 5.4492\n",
            "Epoch 12/100\n",
            "2/2 [==============================] - 0s 5ms/step - loss: 4.1588 - mae: 4.1588\n",
            "Epoch 13/100\n",
            "2/2 [==============================] - 0s 4ms/step - loss: 4.2152 - mae: 4.2152\n",
            "Epoch 14/100\n",
            "2/2 [==============================] - 0s 6ms/step - loss: 3.9357 - mae: 3.9357\n",
            "Epoch 15/100\n",
            "2/2 [==============================] - 0s 7ms/step - loss: 3.9087 - mae: 3.9087\n",
            "Epoch 16/100\n",
            "2/2 [==============================] - 0s 7ms/step - loss: 4.2662 - mae: 4.2662\n",
            "Epoch 17/100\n",
            "2/2 [==============================] - 0s 8ms/step - loss: 4.0832 - mae: 4.0832\n",
            "Epoch 18/100\n",
            "2/2 [==============================] - 0s 6ms/step - loss: 4.4904 - mae: 4.4904\n",
            "Epoch 19/100\n",
            "2/2 [==============================] - 0s 7ms/step - loss: 3.6140 - mae: 3.6140\n",
            "Epoch 20/100\n",
            "2/2 [==============================] - 0s 6ms/step - loss: 5.2969 - mae: 5.2969\n",
            "Epoch 21/100\n",
            "2/2 [==============================] - 0s 7ms/step - loss: 3.9449 - mae: 3.9449\n",
            "Epoch 22/100\n",
            "2/2 [==============================] - 0s 7ms/step - loss: 4.5569 - mae: 4.5569\n",
            "Epoch 23/100\n",
            "2/2 [==============================] - 0s 10ms/step - loss: 4.5391 - mae: 4.5391\n",
            "Epoch 24/100\n",
            "2/2 [==============================] - 0s 6ms/step - loss: 3.3674 - mae: 3.3674\n",
            "Epoch 25/100\n",
            "2/2 [==============================] - 0s 6ms/step - loss: 4.5308 - mae: 4.5308\n",
            "Epoch 26/100\n",
            "2/2 [==============================] - 0s 5ms/step - loss: 3.6442 - mae: 3.6442\n",
            "Epoch 27/100\n",
            "2/2 [==============================] - 0s 10ms/step - loss: 3.9947 - mae: 3.9947\n",
            "Epoch 28/100\n",
            "2/2 [==============================] - 0s 6ms/step - loss: 3.5753 - mae: 3.5753\n",
            "Epoch 29/100\n",
            "2/2 [==============================] - 0s 4ms/step - loss: 4.2152 - mae: 4.2152\n",
            "Epoch 30/100\n",
            "2/2 [==============================] - 0s 6ms/step - loss: 4.6730 - mae: 4.6730\n",
            "Epoch 31/100\n",
            "2/2 [==============================] - 0s 6ms/step - loss: 5.1713 - mae: 5.1713\n",
            "Epoch 32/100\n",
            "2/2 [==============================] - 0s 6ms/step - loss: 3.1354 - mae: 3.1354\n",
            "Epoch 33/100\n",
            "2/2 [==============================] - 0s 4ms/step - loss: 4.1455 - mae: 4.1455\n",
            "Epoch 34/100\n",
            "2/2 [==============================] - 0s 5ms/step - loss: 2.6258 - mae: 2.6258\n",
            "Epoch 35/100\n",
            "2/2 [==============================] - 0s 7ms/step - loss: 3.9646 - mae: 3.9646\n",
            "Epoch 36/100\n",
            "2/2 [==============================] - 0s 6ms/step - loss: 2.9015 - mae: 2.9015\n",
            "Epoch 37/100\n",
            "2/2 [==============================] - 0s 7ms/step - loss: 3.2421 - mae: 3.2421\n",
            "Epoch 38/100\n",
            "2/2 [==============================] - 0s 6ms/step - loss: 2.9146 - mae: 2.9146\n",
            "Epoch 39/100\n",
            "2/2 [==============================] - 0s 8ms/step - loss: 3.8207 - mae: 3.8207\n",
            "Epoch 40/100\n",
            "2/2 [==============================] - 0s 7ms/step - loss: 2.5922 - mae: 2.5922\n",
            "Epoch 41/100\n",
            "2/2 [==============================] - 0s 6ms/step - loss: 1.9939 - mae: 1.9939\n",
            "Epoch 42/100\n",
            "2/2 [==============================] - 0s 8ms/step - loss: 2.3677 - mae: 2.3677\n",
            "Epoch 43/100\n",
            "2/2 [==============================] - 0s 9ms/step - loss: 2.7587 - mae: 2.7587\n",
            "Epoch 44/100\n",
            "2/2 [==============================] - 0s 13ms/step - loss: 1.8947 - mae: 1.8947\n",
            "Epoch 45/100\n",
            "2/2 [==============================] - 0s 5ms/step - loss: 3.3075 - mae: 3.3075\n",
            "Epoch 46/100\n",
            "2/2 [==============================] - 0s 4ms/step - loss: 1.8399 - mae: 1.8399\n",
            "Epoch 47/100\n",
            "2/2 [==============================] - 0s 6ms/step - loss: 2.8703 - mae: 2.8703\n",
            "Epoch 48/100\n",
            "2/2 [==============================] - 0s 8ms/step - loss: 2.7911 - mae: 2.7911\n",
            "Epoch 49/100\n",
            "2/2 [==============================] - 0s 5ms/step - loss: 1.5167 - mae: 1.5167\n",
            "Epoch 50/100\n",
            "2/2 [==============================] - 0s 5ms/step - loss: 3.2934 - mae: 3.2934\n",
            "Epoch 51/100\n",
            "2/2 [==============================] - 0s 5ms/step - loss: 1.7666 - mae: 1.7666\n",
            "Epoch 52/100\n",
            "2/2 [==============================] - 0s 4ms/step - loss: 2.9038 - mae: 2.9038\n",
            "Epoch 53/100\n",
            "2/2 [==============================] - 0s 5ms/step - loss: 4.5118 - mae: 4.5118\n",
            "Epoch 54/100\n",
            "2/2 [==============================] - 0s 10ms/step - loss: 3.8898 - mae: 3.8898\n",
            "Epoch 55/100\n",
            "2/2 [==============================] - 0s 8ms/step - loss: 5.1669 - mae: 5.1669\n",
            "Epoch 56/100\n",
            "2/2 [==============================] - 0s 6ms/step - loss: 8.5772 - mae: 8.5772\n",
            "Epoch 57/100\n",
            "2/2 [==============================] - 0s 11ms/step - loss: 6.8325 - mae: 6.8325\n",
            "Epoch 58/100\n",
            "2/2 [==============================] - 0s 5ms/step - loss: 2.0925 - mae: 2.0925\n",
            "Epoch 59/100\n",
            "2/2 [==============================] - 0s 7ms/step - loss: 6.3007 - mae: 6.3007\n",
            "Epoch 60/100\n",
            "2/2 [==============================] - 0s 6ms/step - loss: 3.9777 - mae: 3.9777\n",
            "Epoch 61/100\n",
            "2/2 [==============================] - 0s 7ms/step - loss: 3.7803 - mae: 3.7803\n",
            "Epoch 62/100\n",
            "2/2 [==============================] - 0s 8ms/step - loss: 5.1127 - mae: 5.1127\n",
            "Epoch 63/100\n",
            "2/2 [==============================] - 0s 7ms/step - loss: 1.9558 - mae: 1.9558\n",
            "Epoch 64/100\n",
            "2/2 [==============================] - 0s 5ms/step - loss: 1.8588 - mae: 1.8588\n",
            "Epoch 65/100\n",
            "2/2 [==============================] - 0s 7ms/step - loss: 1.4921 - mae: 1.4921\n",
            "Epoch 66/100\n",
            "2/2 [==============================] - 0s 13ms/step - loss: 1.2381 - mae: 1.2381\n",
            "Epoch 67/100\n",
            "2/2 [==============================] - 0s 8ms/step - loss: 1.2947 - mae: 1.2947\n",
            "Epoch 68/100\n",
            "2/2 [==============================] - 0s 14ms/step - loss: 0.7766 - mae: 0.7766\n",
            "Epoch 69/100\n",
            "2/2 [==============================] - 0s 8ms/step - loss: 1.6451 - mae: 1.6451\n",
            "Epoch 70/100\n",
            "2/2 [==============================] - 0s 5ms/step - loss: 0.7272 - mae: 0.7272\n",
            "Epoch 71/100\n",
            "2/2 [==============================] - 0s 6ms/step - loss: 1.5444 - mae: 1.5444\n",
            "Epoch 72/100\n",
            "2/2 [==============================] - 0s 9ms/step - loss: 1.4995 - mae: 1.4995\n",
            "Epoch 73/100\n",
            "2/2 [==============================] - 0s 5ms/step - loss: 0.8363 - mae: 0.8363\n",
            "Epoch 74/100\n",
            "2/2 [==============================] - 0s 5ms/step - loss: 0.6653 - mae: 0.6653\n",
            "Epoch 75/100\n",
            "2/2 [==============================] - 0s 6ms/step - loss: 1.7504 - mae: 1.7504\n",
            "Epoch 76/100\n",
            "2/2 [==============================] - 0s 7ms/step - loss: 2.4420 - mae: 2.4420\n",
            "Epoch 77/100\n",
            "2/2 [==============================] - 0s 6ms/step - loss: 2.1756 - mae: 2.1756\n",
            "Epoch 78/100\n",
            "2/2 [==============================] - 0s 6ms/step - loss: 1.5369 - mae: 1.5369\n",
            "Epoch 79/100\n",
            "2/2 [==============================] - 0s 12ms/step - loss: 3.1720 - mae: 3.1720\n",
            "Epoch 80/100\n",
            "2/2 [==============================] - 0s 14ms/step - loss: 1.8980 - mae: 1.8980\n",
            "Epoch 81/100\n",
            "2/2 [==============================] - 0s 13ms/step - loss: 3.3427 - mae: 3.3427\n",
            "Epoch 82/100\n",
            "2/2 [==============================] - 0s 9ms/step - loss: 2.5796 - mae: 2.5796\n",
            "Epoch 83/100\n",
            "2/2 [==============================] - 0s 9ms/step - loss: 2.9296 - mae: 2.9296\n",
            "Epoch 84/100\n",
            "2/2 [==============================] - 0s 10ms/step - loss: 2.6644 - mae: 2.6644\n",
            "Epoch 85/100\n",
            "2/2 [==============================] - 0s 8ms/step - loss: 4.0908 - mae: 4.0908\n",
            "Epoch 86/100\n",
            "2/2 [==============================] - 0s 6ms/step - loss: 2.9880 - mae: 2.9880\n",
            "Epoch 87/100\n",
            "2/2 [==============================] - 0s 10ms/step - loss: 3.5671 - mae: 3.5671\n",
            "Epoch 88/100\n",
            "2/2 [==============================] - 0s 8ms/step - loss: 4.9277 - mae: 4.9277\n",
            "Epoch 89/100\n",
            "2/2 [==============================] - 0s 6ms/step - loss: 1.6988 - mae: 1.6988\n",
            "Epoch 90/100\n",
            "2/2 [==============================] - 0s 5ms/step - loss: 2.6381 - mae: 2.6381\n",
            "Epoch 91/100\n",
            "2/2 [==============================] - 0s 9ms/step - loss: 1.5528 - mae: 1.5528\n",
            "Epoch 92/100\n",
            "2/2 [==============================] - 0s 6ms/step - loss: 1.3344 - mae: 1.3344\n",
            "Epoch 93/100\n",
            "2/2 [==============================] - 0s 6ms/step - loss: 1.5815 - mae: 1.5815\n",
            "Epoch 94/100\n",
            "2/2 [==============================] - 0s 6ms/step - loss: 1.0079 - mae: 1.0079\n",
            "Epoch 95/100\n",
            "2/2 [==============================] - 0s 8ms/step - loss: 1.6049 - mae: 1.6049\n",
            "Epoch 96/100\n",
            "2/2 [==============================] - 0s 5ms/step - loss: 0.6626 - mae: 0.6626\n",
            "Epoch 97/100\n",
            "2/2 [==============================] - 0s 11ms/step - loss: 0.9554 - mae: 0.9554\n",
            "Epoch 98/100\n",
            "2/2 [==============================] - 0s 13ms/step - loss: 1.6517 - mae: 1.6517\n",
            "Epoch 99/100\n",
            "2/2 [==============================] - 0s 9ms/step - loss: 1.4999 - mae: 1.4999\n",
            "Epoch 100/100\n",
            "2/2 [==============================] - 0s 6ms/step - loss: 0.5401 - mae: 0.5401\n"
          ],
          "name": "stdout"
        },
        {
          "output_type": "execute_result",
          "data": {
            "text/plain": [
              "<tensorflow.python.keras.callbacks.History at 0x7fc9a520bc50>"
            ]
          },
          "metadata": {
            "tags": []
          },
          "execution_count": 52
        }
      ]
    },
    {
      "cell_type": "code",
      "metadata": {
        "colab": {
          "base_uri": "https://localhost:8080/"
        },
        "id": "Mv_wxkyBrzjN",
        "outputId": "02f15f58-5879-4469-883b-58a52e468fa5"
      },
      "source": [
        "# Now we can see we have a good accuracy lets predict the value\n",
        "model.predict(X_test), Y_test"
      ],
      "execution_count": 53,
      "outputs": [
        {
          "output_type": "execute_result",
          "data": {
            "text/plain": [
              "(array([[ 67.17997 ],\n",
              "        [ 71.03828 ],\n",
              "        [ 74.896736],\n",
              "        [ 78.75458 ],\n",
              "        [ 82.612434],\n",
              "        [ 86.47028 ],\n",
              "        [ 90.32812 ],\n",
              "        [ 94.18597 ],\n",
              "        [ 98.043816],\n",
              "        [101.901665]], dtype=float32),\n",
              " <tf.Tensor: shape=(10,), dtype=int32, numpy=array([ 70,  74,  78,  82,  86,  90,  94,  98, 102, 106], dtype=int32)>)"
            ]
          },
          "metadata": {
            "tags": []
          },
          "execution_count": 53
        }
      ]
    },
    {
      "cell_type": "code",
      "metadata": {
        "id": "MeiV10xnsKsT"
      },
      "source": [
        ""
      ],
      "execution_count": null,
      "outputs": []
    }
  ]
}