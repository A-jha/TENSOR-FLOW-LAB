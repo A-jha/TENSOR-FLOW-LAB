{
  "nbformat": 4,
  "nbformat_minor": 0,
  "metadata": {
    "colab": {
      "name": "01_Neural_Network_Regration_Wth_TensoFlow.ipynb",
      "provenance": [],
      "collapsed_sections": [],
      "mount_file_id": "18n2whO37pvb28oWVvOcAgRM8-3rZ0wKj",
      "authorship_tag": "ABX9TyPpAgU5nF1zDnQAyarsJChO",
      "include_colab_link": true
    },
    "kernelspec": {
      "name": "python3",
      "display_name": "Python 3"
    },
    "language_info": {
      "name": "python"
    }
  },
  "cells": [
    {
      "cell_type": "markdown",
      "metadata": {
        "id": "view-in-github",
        "colab_type": "text"
      },
      "source": [
        "<a href=\"https://colab.research.google.com/github/A-jha/TENSOR-FLOW-LAB/blob/master/01_Neural_Network_Regration_Wth_TensoFlow.ipynb\" target=\"_parent\"><img src=\"https://colab.research.google.com/assets/colab-badge.svg\" alt=\"Open In Colab\"/></a>"
      ]
    },
    {
      "cell_type": "markdown",
      "metadata": {
        "id": "-mK9BzRbcP4Z"
      },
      "source": [
        "# Neural Network regression with Tensorflow"
      ]
    },
    {
      "cell_type": "markdown",
      "metadata": {
        "id": "C9zrOAZBczEm"
      },
      "source": [
        "## What is Regression ?\n",
        "Predicting a numerical a variable based on some other combination of variables, even shorter... predicting a number.\n",
        "\n",
        "In Statistical modeling, regression analysis is a set of Statistical processes for estimating the relationship between dependent (output varible) and one or more independent variable.\n",
        "\n",
        "Example : You are a small Restaurant owner . Tip are the best way to keep happy the waiters.\n",
        "- Tip value depends on total bill.\n",
        "- Now You would like to develop a model that will allow you to predics amount of bill.\n",
        "\n",
        "**Residual :** The distance from best fit line to actual value is called residual / error.\n",
        "  - Residual  always sumups to 0 .\n",
        "  - A good reggression model minimizes the SSE (Sum of Squared error).\n",
        "\n",
        "**Note :** The best bit regression line must pass through centroid.\n",
        "\n"
      ]
    },
    {
      "cell_type": "code",
      "metadata": {
        "id": "sXfdIDhNc3co",
        "colab": {
          "base_uri": "https://localhost:8080/"
        },
        "outputId": "ad5f1b8e-dc58-458e-84f2-63ce607e2eaf"
      },
      "source": [
        "# import tensorflow\n",
        "import tensorflow as tf\n",
        "print(tf.__version__)"
      ],
      "execution_count": 1,
      "outputs": [
        {
          "output_type": "stream",
          "text": [
            "2.5.0\n"
          ],
          "name": "stdout"
        }
      ]
    },
    {
      "cell_type": "code",
      "metadata": {
        "colab": {
          "base_uri": "https://localhost:8080/",
          "height": 287
        },
        "id": "i8S8vlo7_B-o",
        "outputId": "0a880cd2-d4e8-4256-e23a-932b94ecc51b"
      },
      "source": [
        "## Create some data \n",
        "import numpy as np\n",
        "import matplotlib.pyplot as plt\n",
        "\n",
        "# Create Features\n",
        "X = np.array([-7.0, -4.0, -1.0, 2.0, 5.0, 8.0, 11.0, 14.0])\n",
        "\n",
        "# Create a label\n",
        "Y = np.array([3.0, 6.0, 9.0, 12.0, 15.0, 18.0, 21.0, 24.0])\n",
        "\n",
        "# visualize it\n",
        "plt.scatter(X,Y)"
      ],
      "execution_count": 2,
      "outputs": [
        {
          "output_type": "execute_result",
          "data": {
            "text/plain": [
              "<matplotlib.collections.PathCollection at 0x7fc930538490>"
            ]
          },
          "metadata": {
            "tags": []
          },
          "execution_count": 2
        },
        {
          "output_type": "display_data",
          "data": {
            "image/png": "[encoded data removed]",
            "text/plain": [
              "<Figure size 432x288 with 1 Axes>"
            ]
          },
          "metadata": {
            "tags": [],
            "needs_background": "light"
          }
        }
      ]
    },
    {
      "cell_type": "code",
      "metadata": {
        "colab": {
          "base_uri": "https://localhost:8080/"
        },
        "id": "WDKjqWzmAEzd",
        "outputId": "37b2e75f-0bba-4746-f71b-4ac0f75e3a5b"
      },
      "source": [
        "# Relation between X and Y\n",
        "Y == X + 10"
      ],
      "execution_count": null,
      "outputs": [
        {
          "output_type": "execute_result",
          "data": {
            "text/plain": [
              "array([ True,  True,  True,  True,  True,  True,  True,  True])"
            ]
          },
          "metadata": {
            "tags": []
          },
          "execution_count": 3
        }
      ]
    },
    {
      "cell_type": "markdown",
      "metadata": {
        "id": "cVXtexEuAcH_"
      },
      "source": [
        "### Input and Output Shapes"
      ]
    },
    {
      "cell_type": "code",
      "metadata": {
        "colab": {
          "base_uri": "https://localhost:8080/"
        },
        "id": "Oc_57I2pAsDl",
        "outputId": "d2309a8f-4a45-4909-ef10-66a9d22038b6"
      },
      "source": [
        "# create a dummy data for housing price prediction\n",
        "house_info = tf.constant([\"beedroom\", \"bathroom\", \"garage\"])\n",
        "house_price = tf.constant([934500]) \n",
        "house_info, house_price"
      ],
      "execution_count": null,
      "outputs": [
        {
          "output_type": "execute_result",
          "data": {
            "text/plain": [
              "(<tf.Tensor: shape=(3,), dtype=string, numpy=array([b'beedroom', b'bathroom', b'garage'], dtype=object)>,\n",
              " <tf.Tensor: shape=(1,), dtype=int32, numpy=array([934500], dtype=int32)>)"
            ]
          },
          "metadata": {
            "tags": []
          },
          "execution_count": 4
        }
      ]
    },
    {
      "cell_type": "code",
      "metadata": {
        "colab": {
          "base_uri": "https://localhost:8080/"
        },
        "id": "FtjPxB8WBNbi",
        "outputId": "b4e10020-587f-41a2-e823-028de87de49c"
      },
      "source": [
        "# Turn Numpy array into tensors\n",
        "X = tf.constant(X)\n",
        "Y = tf.constant(Y)\n",
        "X,Y\n",
        "tf.cast(X,dtype=tf.float32)\n",
        "tf.cast(Y,dtype=tf.float32)"
      ],
      "execution_count": null,
      "outputs": [
        {
          "output_type": "execute_result",
          "data": {
            "text/plain": [
              "<tf.Tensor: shape=(8,), dtype=float32, numpy=array([ 3.,  6.,  9., 12., 15., 18., 21., 24.], dtype=float32)>"
            ]
          },
          "metadata": {
            "tags": []
          },
          "execution_count": 5
        }
      ]
    },
    {
      "cell_type": "code",
      "metadata": {
        "colab": {
          "base_uri": "https://localhost:8080/"
        },
        "id": "Yr50vgzfCf3V",
        "outputId": "39125d6e-8174-4b9d-f536-c5d38928efe3"
      },
      "source": [
        "#Here we have input as scaler and output as Scaler\n",
        "input_shape = X[0].shape\n",
        "output_shape = Y[0].shape \n",
        "input_shape, output_shape"
      ],
      "execution_count": null,
      "outputs": [
        {
          "output_type": "execute_result",
          "data": {
            "text/plain": [
              "(TensorShape([]), TensorShape([]))"
            ]
          },
          "metadata": {
            "tags": []
          },
          "execution_count": 6
        }
      ]
    },
    {
      "cell_type": "markdown",
      "metadata": {
        "id": "ZGu2qf6rCvSr"
      },
      "source": [
        "## Steps in Modeling with Tensorflow\n",
        "1. **Creating a model** - define the input and output layers, as well as the hidden layers of a deep learning model.\n",
        "\n",
        "2. **Compiling a model** - \n",
        "  - define loss function (in other words, the function which tells our model how wrong it is)\n",
        "  - The optimzer (tells our model how to improve the patterns its learning)\n",
        "  - evaluation matrix (what we can use to interpret the performance of our model)\n",
        "3. **Fitting a model**- letting the model to fins pattern between X and Y(features and labels)\n",
        "  - epochs - How many time our model will go through all the training example.\n",
        "\n",
        "**mae :**- mean absolute error"
      ]
    },
    {
      "cell_type": "code",
      "metadata": {
        "id": "Ur4-jWzwHEJo",
        "colab": {
          "base_uri": "https://localhost:8080/"
        },
        "outputId": "c4551e17-6325-460c-f32c-9982c902fcc4"
      },
      "source": [
        "# Set random seed\n",
        "tf.random.set_seed(42)\n",
        "\n",
        "# 1. Create a model using sequential API\n",
        "model = tf.keras.Sequential([\n",
        "  tf.keras.layers.Dense(1)\n",
        "])\n",
        "\n",
        "#2. compile the model\n",
        "model.compile(loss= tf.keras.losses.mae, # mae - mean absolute error\n",
        "              optimizer = tf.keras.optimizers.SGD(), # sgd - stochasitc gradient descent\n",
        "              metrics = [\"mae\"]             \n",
        ")\n",
        "\n",
        "# fit the model\n",
        "model.fit(X,Y,epochs = 5)"
      ],
      "execution_count": null,
      "outputs": [
        {
          "output_type": "stream",
          "text": [
            "Epoch 1/5\n",
            "1/1 [==============================] - 1s 619ms/step - loss: 11.5048 - mae: 11.5048\n",
            "Epoch 2/5\n",
            "1/1 [==============================] - 0s 7ms/step - loss: 11.3723 - mae: 11.3723\n",
            "Epoch 3/5\n",
            "1/1 [==============================] - 0s 7ms/step - loss: 11.2398 - mae: 11.2398\n",
            "Epoch 4/5\n",
            "1/1 [==============================] - 0s 7ms/step - loss: 11.1073 - mae: 11.1073\n",
            "Epoch 5/5\n",
            "1/1 [==============================] - 0s 4ms/step - loss: 10.9748 - mae: 10.9748\n"
          ],
          "name": "stdout"
        },
        {
          "output_type": "execute_result",
          "data": {
            "text/plain": [
              "<tensorflow.python.keras.callbacks.History at 0x7ff13360d710>"
            ]
          },
          "metadata": {
            "tags": []
          },
          "execution_count": 7
        }
      ]
    },
    {
      "cell_type": "code",
      "metadata": {
        "colab": {
          "base_uri": "https://localhost:8080/"
        },
        "id": "GyBxsB5nQvXU",
        "outputId": "d1ffe918-46c4-47a2-8e62-3faea5d437e3"
      },
      "source": [
        "# Check X and Y\n",
        "X,Y"
      ],
      "execution_count": null,
      "outputs": [
        {
          "output_type": "execute_result",
          "data": {
            "text/plain": [
              "(<tf.Tensor: shape=(8,), dtype=float64, numpy=array([-7., -4., -1.,  2.,  5.,  8., 11., 14.])>,\n",
              " <tf.Tensor: shape=(8,), dtype=float64, numpy=array([ 3.,  6.,  9., 12., 15., 18., 21., 24.])>)"
            ]
          },
          "metadata": {
            "tags": []
          },
          "execution_count": 8
        }
      ]
    },
    {
      "cell_type": "code",
      "metadata": {
        "colab": {
          "base_uri": "https://localhost:8080/"
        },
        "id": "iFHJB-M0Rc9u",
        "outputId": "56103d20-be11-40d9-c04a-cb419c7f2890"
      },
      "source": [
        "# Try to make prediction using model\n",
        "model.predict([17.0])"
      ],
      "execution_count": null,
      "outputs": [
        {
          "output_type": "execute_result",
          "data": {
            "text/plain": [
              "array([[12.716021]], dtype=float32)"
            ]
          },
          "metadata": {
            "tags": []
          },
          "execution_count": 9
        }
      ]
    },
    {
      "cell_type": "markdown",
      "metadata": {
        "id": "FlNg3YYiRl7i"
      },
      "source": [
        "## Improving Model\n",
        "We can improve our model, by altering the steps we took to create a model.\n",
        "1. **Creating a model** - here we might add more layers, increase the number of hidden units (all called neurons) within each of the hidden layers, change the activation function of each layer.\n",
        "\n",
        "2. **Compiling a model** - Here we might the optimization  function or learning rate of the optimization function.\n",
        "\n",
        "3. **Fitting a model** - Here we might fit a model for more epochs(leave it training for long) or add more data to learn from."
      ]
    },
    {
      "cell_type": "code",
      "metadata": {
        "colab": {
          "base_uri": "https://localhost:8080/"
        },
        "id": "qEwO30hVUokd",
        "outputId": "d7595241-9c82-4eff-b843-e05993fa0c14"
      },
      "source": [
        "# Let's rebuild our model\n",
        "#1. Create the model\n",
        "model = tf.keras.Sequential([\n",
        "                             tf.keras.layers.Dense(1)\n",
        "])\n",
        "\n",
        "# 2. compile the model\n",
        "model.compile(optimizer=tf.keras.optimizers.SGD(),\n",
        "              loss = \"mae\",\n",
        "              metrics =[ \"mae\"])\n",
        "\n",
        "# fit the model\n",
        "model.fit(X,Y,epochs = 200,verbose=0)"
      ],
      "execution_count": null,
      "outputs": [
        {
          "output_type": "execute_result",
          "data": {
            "text/plain": [
              "<tensorflow.python.keras.callbacks.History at 0x7ff132de7d10>"
            ]
          },
          "metadata": {
            "tags": []
          },
          "execution_count": 10
        }
      ]
    },
    {
      "cell_type": "code",
      "metadata": {
        "colab": {
          "base_uri": "https://localhost:8080/"
        },
        "id": "ywSrg1_JVgFA",
        "outputId": "20147222-4e04-47dc-87f7-ba165e12b3ac"
      },
      "source": [
        "# Our Data\n",
        "X,Y"
      ],
      "execution_count": null,
      "outputs": [
        {
          "output_type": "execute_result",
          "data": {
            "text/plain": [
              "(<tf.Tensor: shape=(8,), dtype=float64, numpy=array([-7., -4., -1.,  2.,  5.,  8., 11., 14.])>,\n",
              " <tf.Tensor: shape=(8,), dtype=float64, numpy=array([ 3.,  6.,  9., 12., 15., 18., 21., 24.])>)"
            ]
          },
          "metadata": {
            "tags": []
          },
          "execution_count": 11
        }
      ]
    },
    {
      "cell_type": "code",
      "metadata": {
        "colab": {
          "base_uri": "https://localhost:8080/"
        },
        "id": "PJ5yIClxWQ_O",
        "outputId": "b417eaed-3a33-4a59-8aca-3930a85f0efc"
      },
      "source": [
        "# lets predict with improved model\n",
        "model.predict([17.0])"
      ],
      "execution_count": null,
      "outputs": [
        {
          "output_type": "execute_result",
          "data": {
            "text/plain": [
              "array([[30.489859]], dtype=float32)"
            ]
          },
          "metadata": {
            "tags": []
          },
          "execution_count": 12
        }
      ]
    },
    {
      "cell_type": "code",
      "metadata": {
        "colab": {
          "base_uri": "https://localhost:8080/"
        },
        "id": "nlnHhkfyWbaj",
        "outputId": "06767b26-c0db-4c1d-ab2a-2135c181493e"
      },
      "source": [
        "# let's add  more layer to our model to improve it\n",
        "model = tf.keras.Sequential([\n",
        "                             tf.keras.layers.Dense(100,activation=\"relu\"),\n",
        "                             tf.keras.layers.Dense(100, activation=\"relu\"),\n",
        "                             tf.keras.layers.Dense(1)\n",
        "])\n",
        "\n",
        "model.compile(optimizer= tf.keras.optimizers.SGD(),\n",
        "              loss = \"mae\",\n",
        "              metrics = [\"mae\"])\n",
        "\n",
        "model.fit(X,Y,epochs = 100,verbose=0)"
      ],
      "execution_count": null,
      "outputs": [
        {
          "output_type": "execute_result",
          "data": {
            "text/plain": [
              "<tensorflow.python.keras.callbacks.History at 0x7ff130b4d850>"
            ]
          },
          "metadata": {
            "tags": []
          },
          "execution_count": 13
        }
      ]
    },
    {
      "cell_type": "code",
      "metadata": {
        "colab": {
          "base_uri": "https://localhost:8080/"
        },
        "id": "IjeTmPADXn5o",
        "outputId": "6d012711-3c70-4e03-8f25-31772ed96209"
      },
      "source": [
        " # lets predict\n",
        " model.predict([17.0])"
      ],
      "execution_count": null,
      "outputs": [
        {
          "output_type": "execute_result",
          "data": {
            "text/plain": [
              "array([[32.258904]], dtype=float32)"
            ]
          },
          "metadata": {
            "tags": []
          },
          "execution_count": 14
        }
      ]
    },
    {
      "cell_type": "code",
      "metadata": {
        "colab": {
          "base_uri": "https://localhost:8080/"
        },
        "id": "IJzAVfT1ZQB9",
        "outputId": "a0ef19ee-049a-4ee5-fb86-7a1e489e0096"
      },
      "source": [
        "# Change the optimizer to improve our model\n",
        "model = tf.keras.Sequential([\n",
        "                             tf.keras.layers.Dense(100,activation=\"relu\"),\n",
        "                             tf.keras.layers.Dense(100, activation = \"relu\"),\n",
        "                             tf.keras.layers.Dense(1)\n",
        "])\n",
        "\n",
        "model.compile(\n",
        "    optimizer = tf.keras.optimizers.Adam(learning_rate=0.01),\n",
        "    loss = \"mae\",\n",
        "    metrics = [\"mae\"]\n",
        ")\n",
        "\n",
        "model.fit(X,Y,epochs =100,verbose=0)"
      ],
      "execution_count": null,
      "outputs": [
        {
          "output_type": "execute_result",
          "data": {
            "text/plain": [
              "<tensorflow.python.keras.callbacks.History at 0x7ff12ece5b90>"
            ]
          },
          "metadata": {
            "tags": []
          },
          "execution_count": 15
        }
      ]
    },
    {
      "cell_type": "code",
      "metadata": {
        "colab": {
          "base_uri": "https://localhost:8080/"
        },
        "id": "EHK_YdK2ebzZ",
        "outputId": "894aff28-45f9-492c-900d-d2ce034b075e"
      },
      "source": [
        "# predict again\n",
        "model.predict([17.0])"
      ],
      "execution_count": null,
      "outputs": [
        {
          "output_type": "execute_result",
          "data": {
            "text/plain": [
              "array([[27.83362]], dtype=float32)"
            ]
          },
          "metadata": {
            "tags": []
          },
          "execution_count": 16
        }
      ]
    },
    {
      "cell_type": "markdown",
      "metadata": {
        "id": "2zFvgWLleje6"
      },
      "source": [
        "### Evaluate the model\n",
        "When it comes to evaluation ... there are three words to say:\n",
        "> \"Visualize , visualize, visualize \"\n",
        "\n",
        "It's good idea to visualize:\n",
        "- The data - what data are we working with ? what does it look like ?\n",
        "- The model itself - what does our model look like ?\n",
        "- The training of a model - how does a model performs while it learns ?\n",
        "- The prediction of the model - how do the prediction of model lineup agains thew ground truth ?\n",
        " "
      ]
    },
    {
      "cell_type": "code",
      "metadata": {
        "colab": {
          "base_uri": "https://localhost:8080/"
        },
        "id": "La64Y0UYh7Qx",
        "outputId": "301420b5-8af3-4060-89a8-7f3d722fc742"
      },
      "source": [
        "# make a bigger dataset\n",
        "X = tf.range(-100,100,4)\n",
        "X"
      ],
      "execution_count": null,
      "outputs": [
        {
          "output_type": "execute_result",
          "data": {
            "text/plain": [
              "<tf.Tensor: shape=(50,), dtype=int32, numpy=\n",
              "array([-100,  -96,  -92,  -88,  -84,  -80,  -76,  -72,  -68,  -64,  -60,\n",
              "        -56,  -52,  -48,  -44,  -40,  -36,  -32,  -28,  -24,  -20,  -16,\n",
              "        -12,   -8,   -4,    0,    4,    8,   12,   16,   20,   24,   28,\n",
              "         32,   36,   40,   44,   48,   52,   56,   60,   64,   68,   72,\n",
              "         76,   80,   84,   88,   92,   96], dtype=int32)>"
            ]
          },
          "metadata": {
            "tags": []
          },
          "execution_count": 34
        }
      ]
    },
    {
      "cell_type": "code",
      "metadata": {
        "colab": {
          "base_uri": "https://localhost:8080/"
        },
        "id": "G6CDMN07jGx1",
        "outputId": "cf08ad2a-7d0e-4969-c9a5-52a413e1c8f5"
      },
      "source": [
        "# Make labels for the dataset\n",
        "Y = X + 10\n",
        "Y"
      ],
      "execution_count": null,
      "outputs": [
        {
          "output_type": "execute_result",
          "data": {
            "text/plain": [
              "<tf.Tensor: shape=(50,), dtype=int32, numpy=\n",
              "array([-90, -86, -82, -78, -74, -70, -66, -62, -58, -54, -50, -46, -42,\n",
              "       -38, -34, -30, -26, -22, -18, -14, -10,  -6,  -2,   2,   6,  10,\n",
              "        14,  18,  22,  26,  30,  34,  38,  42,  46,  50,  54,  58,  62,\n",
              "        66,  70,  74,  78,  82,  86,  90,  94,  98, 102, 106], dtype=int32)>"
            ]
          },
          "metadata": {
            "tags": []
          },
          "execution_count": 35
        }
      ]
    },
    {
      "cell_type": "code",
      "metadata": {
        "colab": {
          "base_uri": "https://localhost:8080/",
          "height": 283
        },
        "id": "37Md94vujPt9",
        "outputId": "622b2293-cc7e-42f1-e453-61c61942f2dc"
      },
      "source": [
        "# visualize the data\n",
        "plt.plot(X,Y)"
      ],
      "execution_count": null,
      "outputs": [
        {
          "output_type": "execute_result",
          "data": {
            "text/plain": [
              "[<matplotlib.lines.Line2D at 0x7ff130b1ced0>]"
            ]
          },
          "metadata": {
            "tags": []
          },
          "execution_count": 36
        },
        {
          "output_type": "display_data",
          "data": {
            "image/png": "[encoded data removed]",
            "text/plain": [
              "<Figure size 432x288 with 1 Axes>"
            ]
          },
          "metadata": {
            "tags": [],
            "needs_background": "light"
          }
        }
      ]
    },
    {
      "cell_type": "code",
      "metadata": {
        "colab": {
          "base_uri": "https://localhost:8080/",
          "height": 283
        },
        "id": "3KfQs4uIjg2F",
        "outputId": "0756c040-cc1a-4f92-9ab3-a2de07d5b78d"
      },
      "source": [
        "# scatter plot\n",
        "plt.scatter(X,Y)"
      ],
      "execution_count": null,
      "outputs": [
        {
          "output_type": "execute_result",
          "data": {
            "text/plain": [
              "<matplotlib.collections.PathCollection at 0x7ff12bfa2c10>"
            ]
          },
          "metadata": {
            "tags": []
          },
          "execution_count": 37
        },
        {
          "output_type": "display_data",
          "data": {
            "image/png": "[encoded data removed]",
            "text/plain": [
              "<Figure size 432x288 with 1 Axes>"
            ]
          },
          "metadata": {
            "tags": [],
            "needs_background": "light"
          }
        }
      ]
    },
    {
      "cell_type": "markdown",
      "metadata": {
        "id": "8QFYnSH7jpHW"
      },
      "source": [
        "### The 3 sets . . \n",
        "- Training Sets - the models learn from this data (70-80 %)\n",
        "- Validation set - The model gets tuned on this data, which is 10 to 15 %\n",
        "- Test Set - The model gets evaluated on this data to test what it has learned 10 to 15 %"
      ]
    },
    {
      "cell_type": "code",
      "metadata": {
        "colab": {
          "base_uri": "https://localhost:8080/"
        },
        "id": "JgG-EXgqkfSU",
        "outputId": "4c02f9c4-d075-42de-c068-969dc8214089"
      },
      "source": [
        "# check the length of sample\n",
        "len(X)"
      ],
      "execution_count": null,
      "outputs": [
        {
          "output_type": "execute_result",
          "data": {
            "text/plain": [
              "50"
            ]
          },
          "metadata": {
            "tags": []
          },
          "execution_count": 38
        }
      ]
    },
    {
      "cell_type": "code",
      "metadata": {
        "colab": {
          "base_uri": "https://localhost:8080/"
        },
        "id": "CnFaOAbwkzVx",
        "outputId": "27ea1dbf-0ec7-4e6b-9398-993a612f8f42"
      },
      "source": [
        "# Split data into training and testing dataset\n",
        "X_train = X[:40]\n",
        "X_test = X[40:]\n",
        "\n",
        "Y_train = Y[:40]\n",
        "Y_test = Y[40:]\n",
        "\n",
        "len(X_train) , len(X_test)"
      ],
      "execution_count": null,
      "outputs": [
        {
          "output_type": "execute_result",
          "data": {
            "text/plain": [
              "(40, 10)"
            ]
          },
          "metadata": {
            "tags": []
          },
          "execution_count": 39
        }
      ]
    },
    {
      "cell_type": "markdown",
      "metadata": {
        "id": "U857Q2lglpFg"
      },
      "source": [
        "# Visualizing the data\n",
        "Now we've got our data in training and test sets... let's visualize it"
      ]
    },
    {
      "cell_type": "code",
      "metadata": {
        "colab": {
          "base_uri": "https://localhost:8080/",
          "height": 428
        },
        "id": "Upk3Vg7nmKB2",
        "outputId": "b0105bd2-d134-452b-f854-c770e202146b"
      },
      "source": [
        "plt.figure(figsize=(10,7))\n",
        "\n",
        "# plot training data in blue\n",
        "plt.scatter(X_train, Y_train, c=\"b\", label = \"Training data\")\n",
        "\n",
        "# plot test data in green\n",
        "plt.scatter(X_test,Y_test,c=\"r\",label =\"Testing data\" )\n",
        "\n",
        "# show a legend\n",
        "plt.legend();"
      ],
      "execution_count": null,
      "outputs": [
        {
          "output_type": "display_data",
          "data": {
            "image/png": "[encoded data removed]",
            "text/plain": [
              "<Figure size 720x504 with 1 Axes>"
            ]
          },
          "metadata": {
            "tags": [],
            "needs_background": "light"
          }
        }
      ]
    },
    {
      "cell_type": "code",
      "metadata": {
        "colab": {
          "base_uri": "https://localhost:8080/"
        },
        "id": "tCjcVJjvmx2U",
        "outputId": "f59da65c-e328-49fe-90c2-fc668e76265d"
      },
      "source": [
        "# let's build a neural network for our data\n",
        "\n",
        "# 1. Create a model with one layer of neurons\n",
        "model = tf.keras.Sequential([\n",
        "    tf.keras.layers.Dense(1)\n",
        "])\n",
        "\n",
        "# 2. Compile the model with SGD Optimizer first\n",
        "model.compile(\n",
        "               optimizer = tf.keras.optimizers.SGD(),\n",
        "               loss = \"mae\",\n",
        "               metrics = [\"mae\"]\n",
        ")\n",
        "\n",
        "# 3. fit the data into model\n",
        "model.fit(X_train,Y_train,epochs=100,verbose=0)"
      ],
      "execution_count": null,
      "outputs": [
        {
          "output_type": "execute_result",
          "data": {
            "text/plain": [
              "<tensorflow.python.keras.callbacks.History at 0x7ff12ac54290>"
            ]
          },
          "metadata": {
            "tags": []
          },
          "execution_count": 41
        }
      ]
    },
    {
      "cell_type": "code",
      "metadata": {
        "colab": {
          "base_uri": "https://localhost:8080/"
        },
        "id": "haxLBHNboZj4",
        "outputId": "13ef5d16-603a-452b-e2ba-226c60b8a513"
      },
      "source": [
        "# Improve our model by adding some layer with relu activation function\n",
        "# 1. Create model -  add more layer to our model\n",
        "model = tf.keras.Sequential([\n",
        "                             tf.keras.layers.Dense(100, activation=\"relu\"),\n",
        "                             tf.keras.layers.Dense(100, activation=\"relu\"),\n",
        "                             tf.keras.layers.Dense(1)\n",
        "])\n",
        "\n",
        "# 2. compile the model\n",
        "model.compile(\n",
        "    loss = \"mae\",\n",
        "    optimizer = tf.keras.optimizers.SGD(),\n",
        "    metrics =[\"mae\"]\n",
        ")\n",
        "\n",
        "# 3. Fit the model\n",
        "model.fit(X_train, Y_train, epochs= 100,verbose=0)"
      ],
      "execution_count": null,
      "outputs": [
        {
          "output_type": "execute_result",
          "data": {
            "text/plain": [
              "<tensorflow.python.keras.callbacks.History at 0x7ff12ab15ad0>"
            ]
          },
          "metadata": {
            "tags": []
          },
          "execution_count": 42
        }
      ]
    },
    {
      "cell_type": "code",
      "metadata": {
        "colab": {
          "base_uri": "https://localhost:8080/"
        },
        "id": "cbjdwpxkqEjt",
        "outputId": "a5de8683-8b9d-4ba3-a639-189bf18c92cd"
      },
      "source": [
        "# Improve our model by changing opimizer from SGD to Adam\n",
        "\n",
        "# 1. Create a model\n",
        "model = tf.keras.Sequential([\n",
        "                             tf.keras.layers.Dense(100, activation = \"relu\", name = \"Input_layer\"),\n",
        "                              tf.keras.layers.Dense(100, activation = \"relu\", name = \"Hidden_layer\"),\n",
        "                             tf.keras.layers.Dense(1, name=\"Output_layer\")\n",
        "])\n",
        "\n",
        "# 2. Compling a model\n",
        "model.compile(\n",
        "    optimizer = tf.keras.optimizers.Adam(learning_rate=.1),\n",
        "    loss = \"mae\",\n",
        "    \n",
        "    metrics = [\"mae\"]\n",
        ")\n",
        "\n",
        "# 3. fit the model\n",
        "model.fit(X_train, Y_train, epochs = 100, verbose = 0)"
      ],
      "execution_count": null,
      "outputs": [
        {
          "output_type": "execute_result",
          "data": {
            "text/plain": [
              "<tensorflow.python.keras.callbacks.History at 0x7ff1204be850>"
            ]
          },
          "metadata": {
            "tags": []
          },
          "execution_count": 82
        }
      ]
    },
    {
      "cell_type": "code",
      "metadata": {
        "colab": {
          "base_uri": "https://localhost:8080/"
        },
        "id": "Mv_wxkyBrzjN",
        "outputId": "56fbf96e-d054-4de1-b437-07b762345888"
      },
      "source": [
        "# Now we can see we have a good accuracy lets predict the value\n",
        "model.predict(X_test), Y_test"
      ],
      "execution_count": null,
      "outputs": [
        {
          "output_type": "execute_result",
          "data": {
            "text/plain": [
              "(array([[ 70.1254  ],\n",
              "        [ 74.13758 ],\n",
              "        [ 78.15126 ],\n",
              "        [ 82.166595],\n",
              "        [ 86.16821 ],\n",
              "        [ 90.15713 ],\n",
              "        [ 94.14589 ],\n",
              "        [ 98.13462 ],\n",
              "        [102.1237  ],\n",
              "        [106.11747 ]], dtype=float32),\n",
              " <tf.Tensor: shape=(10,), dtype=int32, numpy=array([ 70,  74,  78,  82,  86,  90,  94,  98, 102, 106], dtype=int32)>)"
            ]
          },
          "metadata": {
            "tags": []
          },
          "execution_count": 84
        }
      ]
    },
    {
      "cell_type": "code",
      "metadata": {
        "id": "MeiV10xnsKsT",
        "colab": {
          "base_uri": "https://localhost:8080/"
        },
        "outputId": "d877a275-28ae-437c-8194-64533886312f"
      },
      "source": [
        "model.summary()"
      ],
      "execution_count": null,
      "outputs": [
        {
          "output_type": "stream",
          "text": [
            "Model: \"sequential_18\"\n",
            "_________________________________________________________________\n",
            "Layer (type)                 Output Shape              Param #   \n",
            "=================================================================\n",
            "Input_layer (Dense)          (None, 100)               200       \n",
            "_________________________________________________________________\n",
            "Hidden_layer (Dense)         (None, 100)               10100     \n",
            "_________________________________________________________________\n",
            "Output_layer (Dense)         (None, 1)                 101       \n",
            "=================================================================\n",
            "Total params: 10,401\n",
            "Trainable params: 10,401\n",
            "Non-trainable params: 0\n",
            "_________________________________________________________________\n"
          ],
          "name": "stdout"
        }
      ]
    },
    {
      "cell_type": "markdown",
      "metadata": {
        "id": "Z0iRJ2fGDg90"
      },
      "source": [
        "- **Total Params** is the number of parameters in the model.\n",
        "- **Trainable Params** are the prameters (pattern) the model can update as it trains.\n",
        "- **Non-tainable Params** are not updated during training (thi id typical when you bring in already learn pattern or prameters from other models during transfer learning). "
      ]
    },
    {
      "cell_type": "code",
      "metadata": {
        "colab": {
          "base_uri": "https://localhost:8080/",
          "height": 422
        },
        "id": "W38uXW6hFRBY",
        "outputId": "ff7d583e-4402-4675-a0ad-234626f9115a"
      },
      "source": [
        "# Visualize the model\n",
        "from tensorflow.keras.utils import  plot_model\n",
        "\n",
        "plot_model(model = model, show_shapes=True)"
      ],
      "execution_count": null,
      "outputs": [
        {
          "output_type": "execute_result",
          "data": {
            "image/png": "[encoded data removed]",
            "text/plain": [
              "<IPython.core.display.Image object>"
            ]
          },
          "metadata": {
            "tags": []
          },
          "execution_count": 86
        }
      ]
    },
    {
      "cell_type": "markdown",
      "metadata": {
        "id": "v09rM3RWHSIN"
      },
      "source": [
        "### Visualizing our model's prediction\n",
        "- TO visualize prediction , it's a good idea to plot them against the ground truth labels."
      ]
    },
    {
      "cell_type": "code",
      "metadata": {
        "colab": {
          "base_uri": "https://localhost:8080/"
        },
        "id": "xDXbMKQRAKb1",
        "outputId": "f225eb3f-c495-4367-e955-40444d76eac0"
      },
      "source": [
        "Y_test"
      ],
      "execution_count": null,
      "outputs": [
        {
          "output_type": "execute_result",
          "data": {
            "text/plain": [
              "<tf.Tensor: shape=(10,), dtype=int32, numpy=array([ 70,  74,  78,  82,  86,  90,  94,  98, 102, 106], dtype=int32)>"
            ]
          },
          "metadata": {
            "tags": []
          },
          "execution_count": 87
        }
      ]
    },
    {
      "cell_type": "code",
      "metadata": {
        "colab": {
          "base_uri": "https://localhost:8080/"
        },
        "id": "WiOnfFYk_yGE",
        "outputId": "f6f8a4f4-32b3-4dd1-d930-9aeff97b9e7a"
      },
      "source": [
        "Y_pred = model.predict(X_test)\n",
        "Y_pred"
      ],
      "execution_count": null,
      "outputs": [
        {
          "output_type": "execute_result",
          "data": {
            "text/plain": [
              "array([[ 70.1254  ],\n",
              "       [ 74.13758 ],\n",
              "       [ 78.15126 ],\n",
              "       [ 82.166595],\n",
              "       [ 86.16821 ],\n",
              "       [ 90.15713 ],\n",
              "       [ 94.14589 ],\n",
              "       [ 98.13462 ],\n",
              "       [102.1237  ],\n",
              "       [106.11747 ]], dtype=float32)"
            ]
          },
          "metadata": {
            "tags": []
          },
          "execution_count": 88
        }
      ]
    },
    {
      "cell_type": "code",
      "metadata": {
        "id": "Ydz41HCx__Hs"
      },
      "source": [
        "# let's create a ploting function\n",
        "def plot_predictions(train_data = X_train,\n",
        "                     train_labels = Y_train,\n",
        "                     test_data = X_test,\n",
        "                     test_labels = Y_test,\n",
        "                     predictions = Y_pred):\n",
        "  \"\"\"\n",
        "  Plots training data and test data and compare prediction to ground truth labels.\n",
        "  \"\"\"\n",
        "  plt.figure(figsize=(10,7))\n",
        "\n",
        "  #plot training data in blue\n",
        "  plt.scatter(train_data, train_labels, c=\"b\", label = \"Training Data\")\n",
        "\n",
        "  # plot testing data in green \n",
        "  plt.scatter(test_data,test_labels, c= \"g\", label = \"Testing data\")\n",
        "\n",
        "  # plot prediction data bases on testing data\n",
        "  plt.scatter(test_data, predictions, c=\"r\", label=\"prediction\")\n",
        "\n",
        "  # Show the legends\n",
        "  plt.legend()"
      ],
      "execution_count": null,
      "outputs": []
    },
    {
      "cell_type": "code",
      "metadata": {
        "colab": {
          "base_uri": "https://localhost:8080/",
          "height": 428
        },
        "id": "sCm9MCBUCsaR",
        "outputId": "6adca8b0-6faa-441b-b278-42eb3957a76b"
      },
      "source": [
        "plot_predictions()"
      ],
      "execution_count": null,
      "outputs": [
        {
          "output_type": "display_data",
          "data": {
            "image/png": "[encoded data removed]",
            "text/plain": [
              "<Figure size 720x504 with 1 Axes>"
            ]
          },
          "metadata": {
            "tags": [],
            "needs_background": "light"
          }
        }
      ]
    },
    {
      "cell_type": "markdown",
      "metadata": {
        "id": "YpboIRZBC10P"
      },
      "source": [
        "### Evaluating model using Evaluation  matrics\n",
        "- Depending on which problem there may be different evaluation matrix to evaluate your model performance.\n",
        "\n",
        "Since we are working on aregression problem, two of the main matrics:\n",
        "- MAE - mean absolute error which tells on average , how wrong is each of my models prediction \n",
        "- MSE - Mean square error, \"square the average errors\"\n",
        "\n"
      ]
    },
    {
      "cell_type": "code",
      "metadata": {
        "colab": {
          "base_uri": "https://localhost:8080/"
        },
        "id": "qjpNu3-BGDym",
        "outputId": "ee4f14c4-0b26-48ee-e4d5-34aa57173263"
      },
      "source": [
        "# evaluating the model on test\n",
        "model.evaluate(X_test, Y_test)"
      ],
      "execution_count": null,
      "outputs": [
        {
          "output_type": "stream",
          "text": [
            "1/1 [==============================] - 0s 138ms/step - loss: 0.1428 - mae: 0.1428\n"
          ],
          "name": "stdout"
        },
        {
          "output_type": "execute_result",
          "data": {
            "text/plain": [
              "[0.14278563857078552, 0.14278563857078552]"
            ]
          },
          "metadata": {
            "tags": []
          },
          "execution_count": 91
        }
      ]
    },
    {
      "cell_type": "code",
      "metadata": {
        "colab": {
          "base_uri": "https://localhost:8080/"
        },
        "id": "vJqQQNuNcF3t",
        "outputId": "73607744-0c67-414f-93cf-291e563de796"
      },
      "source": [
        "# calculate mean absolute error\n",
        "\n",
        "# 1. make all of them in same shape first\n",
        "print(\"shape of Y_test is \",tf.shape(Y_test))\n",
        "print(\"Shape of Y_pred is \",tf.shape(Y_pred))\n",
        "\n",
        "# change the shape of Y_pred as Shape of Y_test\n",
        "Y_pred = tf.squeeze(Y_pred)\n",
        "\n",
        "print(\"shape of Y_test is \",tf.shape(Y_test))\n",
        "print(\"Shape of Y_pred is \",tf.shape(Y_pred))\n"
      ],
      "execution_count": null,
      "outputs": [
        {
          "output_type": "stream",
          "text": [
            "shape of Y_test is  tf.Tensor([10], shape=(1,), dtype=int32)\n",
            "Shape of Y_pred is  tf.Tensor([10], shape=(1,), dtype=int32)\n",
            "shape of Y_test is  tf.Tensor([10], shape=(1,), dtype=int32)\n",
            "Shape of Y_pred is  tf.Tensor([10], shape=(1,), dtype=int32)\n"
          ],
          "name": "stdout"
        }
      ]
    },
    {
      "cell_type": "code",
      "metadata": {
        "colab": {
          "base_uri": "https://localhost:8080/"
        },
        "id": "bs6NAvwwcjk-",
        "outputId": "dfbf49b0-7531-412e-e065-3e40e51184ed"
      },
      "source": [
        "# 2. Mean absolute error\n",
        "tf.metrics.mean_absolute_error(y_true=Y_test, y_pred= Y_pred)"
      ],
      "execution_count": null,
      "outputs": [
        {
          "output_type": "execute_result",
          "data": {
            "text/plain": [
              "<tf.Tensor: shape=(), dtype=float32, numpy=0.14278564>"
            ]
          },
          "metadata": {
            "tags": []
          },
          "execution_count": 103
        }
      ]
    },
    {
      "cell_type": "code",
      "metadata": {
        "colab": {
          "base_uri": "https://localhost:8080/"
        },
        "id": "3q15LFi9kv8_",
        "outputId": "44cdf70c-ba53-4176-b41a-a50ff853a53b"
      },
      "source": [
        "# mean square error\n",
        "tf.metrics.mean_squared_error(y_true=Y_test, y_pred= Y_pred)"
      ],
      "execution_count": null,
      "outputs": [
        {
          "output_type": "execute_result",
          "data": {
            "text/plain": [
              "<tf.Tensor: shape=(), dtype=float32, numpy=0.020677915>"
            ]
          },
          "metadata": {
            "tags": []
          },
          "execution_count": 108
        }
      ]
    },
    {
      "cell_type": "code",
      "metadata": {
        "id": "kD-o1a1slk4X"
      },
      "source": [
        "# function to reuse MAE and MSE\n",
        "\n",
        "def mae(y_true, y_pred):\n",
        "  return tf.metrics.mean_absolute_error(y_true = y_true, y_pred= tf.squeeze(y_prd))\n",
        "\n",
        "def mse(y_true, y_pred):\n",
        "  return tf.metrics.mean_squared_error(y_true = y_true, y_pred = tf.squeeze(y_pred))"
      ],
      "execution_count": null,
      "outputs": []
    },
    {
      "cell_type": "markdown",
      "metadata": {
        "id": "1xAAdU8KTIHZ"
      },
      "source": [
        "### A new Model"
      ]
    },
    {
      "cell_type": "code",
      "metadata": {
        "colab": {
          "base_uri": "https://localhost:8080/"
        },
        "id": "xrZTXKdMmmii",
        "outputId": "5bb7e8aa-1a26-4313-a7ec-58334d3cb376"
      },
      "source": [
        "### Lets create a new data\n",
        "data_X = tf.range(-100, 100, 2)\n",
        "data_X"
      ],
      "execution_count": 3,
      "outputs": [
        {
          "output_type": "execute_result",
          "data": {
            "text/plain": [
              "<tf.Tensor: shape=(100,), dtype=int32, numpy=\n",
              "array([-100,  -98,  -96,  -94,  -92,  -90,  -88,  -86,  -84,  -82,  -80,\n",
              "        -78,  -76,  -74,  -72,  -70,  -68,  -66,  -64,  -62,  -60,  -58,\n",
              "        -56,  -54,  -52,  -50,  -48,  -46,  -44,  -42,  -40,  -38,  -36,\n",
              "        -34,  -32,  -30,  -28,  -26,  -24,  -22,  -20,  -18,  -16,  -14,\n",
              "        -12,  -10,   -8,   -6,   -4,   -2,    0,    2,    4,    6,    8,\n",
              "         10,   12,   14,   16,   18,   20,   22,   24,   26,   28,   30,\n",
              "         32,   34,   36,   38,   40,   42,   44,   46,   48,   50,   52,\n",
              "         54,   56,   58,   60,   62,   64,   66,   68,   70,   72,   74,\n",
              "         76,   78,   80,   82,   84,   86,   88,   90,   92,   94,   96,\n",
              "         98], dtype=int32)>"
            ]
          },
          "metadata": {
            "tags": []
          },
          "execution_count": 3
        }
      ]
    },
    {
      "cell_type": "code",
      "metadata": {
        "colab": {
          "base_uri": "https://localhost:8080/"
        },
        "id": "Lh_PuXstqF7T",
        "outputId": "e5802b36-df1a-4c57-d0d0-25064cf7502c"
      },
      "source": [
        "data_Y = data_X**2 + 5\n",
        "data_Y"
      ],
      "execution_count": 4,
      "outputs": [
        {
          "output_type": "execute_result",
          "data": {
            "text/plain": [
              "<tf.Tensor: shape=(100,), dtype=int32, numpy=\n",
              "array([10005,  9609,  9221,  8841,  8469,  8105,  7749,  7401,  7061,\n",
              "        6729,  6405,  6089,  5781,  5481,  5189,  4905,  4629,  4361,\n",
              "        4101,  3849,  3605,  3369,  3141,  2921,  2709,  2505,  2309,\n",
              "        2121,  1941,  1769,  1605,  1449,  1301,  1161,  1029,   905,\n",
              "         789,   681,   581,   489,   405,   329,   261,   201,   149,\n",
              "         105,    69,    41,    21,     9,     5,     9,    21,    41,\n",
              "          69,   105,   149,   201,   261,   329,   405,   489,   581,\n",
              "         681,   789,   905,  1029,  1161,  1301,  1449,  1605,  1769,\n",
              "        1941,  2121,  2309,  2505,  2709,  2921,  3141,  3369,  3605,\n",
              "        3849,  4101,  4361,  4629,  4905,  5189,  5481,  5781,  6089,\n",
              "        6405,  6729,  7061,  7401,  7749,  8105,  8469,  8841,  9221,\n",
              "        9609], dtype=int32)>"
            ]
          },
          "metadata": {
            "tags": []
          },
          "execution_count": 4
        }
      ]
    },
    {
      "cell_type": "code",
      "metadata": {
        "colab": {
          "base_uri": "https://localhost:8080/",
          "height": 283
        },
        "id": "emFag54krVlO",
        "outputId": "c322745c-02ee-48e9-dcdb-4d1c225e2e58"
      },
      "source": [
        "# visuallize the data\n",
        "plt.scatter(data_X, data_Y)"
      ],
      "execution_count": 5,
      "outputs": [
        {
          "output_type": "execute_result",
          "data": {
            "text/plain": [
              "<matplotlib.collections.PathCollection at 0x7fc8ee06c850>"
            ]
          },
          "metadata": {
            "tags": []
          },
          "execution_count": 5
        },
        {
          "output_type": "display_data",
          "data": {
            "image/png": "[encoded data removed]",
            "text/plain": [
              "<Figure size 432x288 with 1 Axes>"
            ]
          },
          "metadata": {
            "tags": [],
            "needs_background": "light"
          }
        }
      ]
    },
    {
      "cell_type": "code",
      "metadata": {
        "colab": {
          "base_uri": "https://localhost:8080/"
        },
        "id": "QSNU6I3qqXMs",
        "outputId": "f1ecdf70-fd1f-4091-a102-94b20a69ef29"
      },
      "source": [
        "# split data into trin and test sets\n",
        "\n",
        "X_train , X_test = data_X[:60],data_X[60:]\n",
        "X_train, X_test"
      ],
      "execution_count": 6,
      "outputs": [
        {
          "output_type": "execute_result",
          "data": {
            "text/plain": [
              "(<tf.Tensor: shape=(60,), dtype=int32, numpy=\n",
              " array([-100,  -98,  -96,  -94,  -92,  -90,  -88,  -86,  -84,  -82,  -80,\n",
              "         -78,  -76,  -74,  -72,  -70,  -68,  -66,  -64,  -62,  -60,  -58,\n",
              "         -56,  -54,  -52,  -50,  -48,  -46,  -44,  -42,  -40,  -38,  -36,\n",
              "         -34,  -32,  -30,  -28,  -26,  -24,  -22,  -20,  -18,  -16,  -14,\n",
              "         -12,  -10,   -8,   -6,   -4,   -2,    0,    2,    4,    6,    8,\n",
              "          10,   12,   14,   16,   18], dtype=int32)>,\n",
              " <tf.Tensor: shape=(40,), dtype=int32, numpy=\n",
              " array([20, 22, 24, 26, 28, 30, 32, 34, 36, 38, 40, 42, 44, 46, 48, 50, 52,\n",
              "        54, 56, 58, 60, 62, 64, 66, 68, 70, 72, 74, 76, 78, 80, 82, 84, 86,\n",
              "        88, 90, 92, 94, 96, 98], dtype=int32)>)"
            ]
          },
          "metadata": {
            "tags": []
          },
          "execution_count": 6
        }
      ]
    },
    {
      "cell_type": "code",
      "metadata": {
        "colab": {
          "base_uri": "https://localhost:8080/"
        },
        "id": "CDzAOQqdq39Y",
        "outputId": "82efb491-f851-4743-f7f0-8dd7dfe8c1d4"
      },
      "source": [
        "Y_train , Y_test = data_Y[:60],data_Y[60:]\n",
        "Y_train, Y_test"
      ],
      "execution_count": 7,
      "outputs": [
        {
          "output_type": "execute_result",
          "data": {
            "text/plain": [
              "(<tf.Tensor: shape=(60,), dtype=int32, numpy=\n",
              " array([10005,  9609,  9221,  8841,  8469,  8105,  7749,  7401,  7061,\n",
              "         6729,  6405,  6089,  5781,  5481,  5189,  4905,  4629,  4361,\n",
              "         4101,  3849,  3605,  3369,  3141,  2921,  2709,  2505,  2309,\n",
              "         2121,  1941,  1769,  1605,  1449,  1301,  1161,  1029,   905,\n",
              "          789,   681,   581,   489,   405,   329,   261,   201,   149,\n",
              "          105,    69,    41,    21,     9,     5,     9,    21,    41,\n",
              "           69,   105,   149,   201,   261,   329], dtype=int32)>,\n",
              " <tf.Tensor: shape=(40,), dtype=int32, numpy=\n",
              " array([ 405,  489,  581,  681,  789,  905, 1029, 1161, 1301, 1449, 1605,\n",
              "        1769, 1941, 2121, 2309, 2505, 2709, 2921, 3141, 3369, 3605, 3849,\n",
              "        4101, 4361, 4629, 4905, 5189, 5481, 5781, 6089, 6405, 6729, 7061,\n",
              "        7401, 7749, 8105, 8469, 8841, 9221, 9609], dtype=int32)>)"
            ]
          },
          "metadata": {
            "tags": []
          },
          "execution_count": 7
        }
      ]
    },
    {
      "cell_type": "code",
      "metadata": {
        "colab": {
          "base_uri": "https://localhost:8080/",
          "height": 446
        },
        "id": "mFFuGnPmrJt_",
        "outputId": "891a105d-95ee-4948-d5fc-af041e814521"
      },
      "source": [
        "# visualize the data\n",
        "\n",
        "# specify the size\n",
        "plt.figure(figsize=(10,7))\n",
        "\n",
        "# plot training data\n",
        "plt.scatter(X_train,Y_train,c=\"b\", label=\"trining data\")\n",
        "\n",
        "# plot test data\n",
        "plt.scatter(X_test,Y_test, c=\"g\" ,label = \"testing data\")\n",
        "\n",
        "# show legend\n",
        "plt.legend()"
      ],
      "execution_count": 8,
      "outputs": [
        {
          "output_type": "execute_result",
          "data": {
            "text/plain": [
              "<matplotlib.legend.Legend at 0x7fc8ea300650>"
            ]
          },
          "metadata": {
            "tags": []
          },
          "execution_count": 8
        },
        {
          "output_type": "display_data",
          "data": {
            "image/png": "[encoded data removed]",
            "text/plain": [
              "<Figure size 720x504 with 1 Axes>"
            ]
          },
          "metadata": {
            "tags": [],
            "needs_background": "light"
          }
        }
      ]
    },
    {
      "cell_type": "markdown",
      "metadata": {
        "id": "kwKdOhCArrxt"
      },
      "source": [
        "**Build the model**"
      ]
    },
    {
      "cell_type": "code",
      "metadata": {
        "colab": {
          "base_uri": "https://localhost:8080/"
        },
        "id": "QYYCpTAMs6bD",
        "outputId": "d20a7907-a9d7-477f-901f-0bf3dead6bb3"
      },
      "source": [
        "# 1. create a model with one layer\n",
        "model = tf.keras.Sequential([\n",
        "                             tf.keras.layers.Dense(1)\n",
        "])\n",
        "\n",
        "# 2. compile the model with SGD optimzer\n",
        "model.compile(\n",
        "    optimizer = tf.keras.optimizers.SGD(),\n",
        "    loss = \"mae\",\n",
        "    metrics = [\"mae\"]\n",
        "    )\n",
        "\n",
        "# 3. fit the model with 100 epochs\n",
        "model.fit(X_train, Y_train, epochs=100,verbose=0)"
      ],
      "execution_count": 10,
      "outputs": [
        {
          "output_type": "execute_result",
          "data": {
            "text/plain": [
              "<tensorflow.python.keras.callbacks.History at 0x7fc8e7743a10>"
            ]
          },
          "metadata": {
            "tags": []
          },
          "execution_count": 10
        }
      ]
    },
    {
      "cell_type": "code",
      "metadata": {
        "colab": {
          "base_uri": "https://localhost:8080/"
        },
        "id": "VS-Dlg2stukT",
        "outputId": "0db0a245-660e-4064-ea2b-897ae085fef8"
      },
      "source": [
        "Y_pred_1 = model.predict(X_test)\n",
        "Y_pred_1"
      ],
      "execution_count": 11,
      "outputs": [
        {
          "output_type": "execute_result",
          "data": {
            "text/plain": [
              "array([[-1165.666 ],\n",
              "       [-1282.3219],\n",
              "       [-1398.9777],\n",
              "       [-1515.6335],\n",
              "       [-1632.2893],\n",
              "       [-1748.9452],\n",
              "       [-1865.601 ],\n",
              "       [-1982.2567],\n",
              "       [-2098.9126],\n",
              "       [-2215.5684],\n",
              "       [-2332.224 ],\n",
              "       [-2448.8801],\n",
              "       [-2565.536 ],\n",
              "       [-2682.1917],\n",
              "       [-2798.8474],\n",
              "       [-2915.5032],\n",
              "       [-3032.1592],\n",
              "       [-3148.815 ],\n",
              "       [-3265.4707],\n",
              "       [-3382.1265],\n",
              "       [-3498.7825],\n",
              "       [-3615.4382],\n",
              "       [-3732.094 ],\n",
              "       [-3848.7498],\n",
              "       [-3965.4055],\n",
              "       [-4082.0615],\n",
              "       [-4198.7173],\n",
              "       [-4315.373 ],\n",
              "       [-4432.029 ],\n",
              "       [-4548.6846],\n",
              "       [-4665.3403],\n",
              "       [-4781.996 ],\n",
              "       [-4898.6523],\n",
              "       [-5015.308 ],\n",
              "       [-5131.964 ],\n",
              "       [-5248.6196],\n",
              "       [-5365.2754],\n",
              "       [-5481.931 ],\n",
              "       [-5598.587 ],\n",
              "       [-5715.2427]], dtype=float32)"
            ]
          },
          "metadata": {
            "tags": []
          },
          "execution_count": 11
        }
      ]
    },
    {
      "cell_type": "code",
      "metadata": {
        "colab": {
          "base_uri": "https://localhost:8080/"
        },
        "id": "TVOXV5Z-uckM",
        "outputId": "e541a441-8c27-445c-9631-32274ba96ef0"
      },
      "source": [
        "# calculate mean absolute error\n",
        "\n",
        "# first check the shape of Y_test and Y_pred\n",
        "tf.shape(Y_test), tf.shape(Y_pred_1)"
      ],
      "execution_count": 12,
      "outputs": [
        {
          "output_type": "execute_result",
          "data": {
            "text/plain": [
              "(<tf.Tensor: shape=(1,), dtype=int32, numpy=array([40], dtype=int32)>,\n",
              " <tf.Tensor: shape=(2,), dtype=int32, numpy=array([40,  1], dtype=int32)>)"
            ]
          },
          "metadata": {
            "tags": []
          },
          "execution_count": 12
        }
      ]
    },
    {
      "cell_type": "code",
      "metadata": {
        "colab": {
          "base_uri": "https://localhost:8080/"
        },
        "id": "6Kdywzktu1zl",
        "outputId": "6403e8fe-8101-4d60-c621-ec31a4a86dbd"
      },
      "source": [
        "# shape of Y_pred_1 is more hence squeeze it\n",
        "Y_pred_1 = tf.squeeze(Y_pred_1)\n",
        "tf.shape(Y_pred_1)"
      ],
      "execution_count": 13,
      "outputs": [
        {
          "output_type": "execute_result",
          "data": {
            "text/plain": [
              "<tf.Tensor: shape=(1,), dtype=int32, numpy=array([40], dtype=int32)>"
            ]
          },
          "metadata": {
            "tags": []
          },
          "execution_count": 13
        }
      ]
    },
    {
      "cell_type": "code",
      "metadata": {
        "colab": {
          "base_uri": "https://localhost:8080/"
        },
        "id": "Wrji4HqRvJCE",
        "outputId": "ac82941c-4c24-40c7-a68f-0168268f3539"
      },
      "source": [
        "# calculate mean absolute error\n",
        "tf.metrics.mean_absolute_error(y_true= Y_test, y_pred= Y_pred_1)"
      ],
      "execution_count": 14,
      "outputs": [
        {
          "output_type": "execute_result",
          "data": {
            "text/plain": [
              "<tf.Tensor: shape=(), dtype=float32, numpy=7459.4546>"
            ]
          },
          "metadata": {
            "tags": []
          },
          "execution_count": 14
        }
      ]
    },
    {
      "cell_type": "code",
      "metadata": {
        "colab": {
          "base_uri": "https://localhost:8080/",
          "height": 446
        },
        "id": "SmZOeUsdvZ_-",
        "outputId": "e331e532-5709-4bb3-fa36-931f78195a74"
      },
      "source": [
        "# visualize the actual and predicted value\n",
        "plt.figure(figsize = (10,7))\n",
        "\n",
        "plt.scatter(X_test,Y_test, c=\"b\",label = \"actual\")\n",
        "\n",
        "plt.scatter(X_test,Y_pred_1, c=\"r\", label = \"predicted\")\n",
        "\n",
        "plt.legend()"
      ],
      "execution_count": 15,
      "outputs": [
        {
          "output_type": "execute_result",
          "data": {
            "text/plain": [
              "<matplotlib.legend.Legend at 0x7fc8e9102c10>"
            ]
          },
          "metadata": {
            "tags": []
          },
          "execution_count": 15
        },
        {
          "output_type": "display_data",
          "data": {
            "image/png": "[encoded data removed]",
            "text/plain": [
              "<Figure size 720x504 with 1 Axes>"
            ]
          },
          "metadata": {
            "tags": [],
            "needs_background": "light"
          }
        }
      ]
    },
    {
      "cell_type": "markdown",
      "metadata": {
        "id": "DeKr89QrwDS7"
      },
      "source": [
        "**lets improve the model-1**\n",
        "- add one more layer"
      ]
    },
    {
      "cell_type": "code",
      "metadata": {
        "colab": {
          "base_uri": "https://localhost:8080/"
        },
        "id": "8HiPx9iNwlnr",
        "outputId": "825cd435-5adf-4e2a-e44d-97fec640e25f"
      },
      "source": [
        "# create model2 \n",
        "model2 = tf.keras.Sequential([\n",
        "                              tf.keras.layers.Dense(100, activation=\"relu\"),\n",
        "                              tf.keras.layers.Dense(1)\n",
        "])\n",
        "\n",
        "# compile the model\n",
        "model2.compile(\n",
        "    optimizer= tf.keras.optimizers.SGD(),\n",
        "    loss = \"mae\",\n",
        "    metrics = [\"mae\"]\n",
        ")\n",
        "\n",
        "# fit the training data\n",
        "model2.fit(\n",
        "    X_train,\n",
        "    Y_train,\n",
        "    epochs = 100,\n",
        "    verbose=0\n",
        ")"
      ],
      "execution_count": 16,
      "outputs": [
        {
          "output_type": "execute_result",
          "data": {
            "text/plain": [
              "<tensorflow.python.keras.callbacks.History at 0x7fc8e65b7150>"
            ]
          },
          "metadata": {
            "tags": []
          },
          "execution_count": 16
        }
      ]
    },
    {
      "cell_type": "code",
      "metadata": {
        "id": "Ex_HIxaY8A-E"
      },
      "source": [
        "Y_pred_2 = model2.predict(X_test)"
      ],
      "execution_count": 17,
      "outputs": []
    },
    {
      "cell_type": "markdown",
      "metadata": {
        "id": "0uCfW5w22tlk"
      },
      "source": [
        "**Add Adam optimzer in place of SGD**"
      ]
    },
    {
      "cell_type": "code",
      "metadata": {
        "colab": {
          "base_uri": "https://localhost:8080/"
        },
        "id": "dCZwQdCM0Yli",
        "outputId": "563df604-71c8-4445-91f2-db9e60cfa473"
      },
      "source": [
        "\n",
        "model3 = tf.keras.Sequential([\n",
        "                              tf.keras.layers.Dense(100, activation = \"relu\"),\n",
        "                              tf.keras.layers.Dense(1)\n",
        "])\n",
        "\n",
        "# compile model\n",
        "model3.compile(\n",
        "    optimizer = tf.keras.optimizers.Adam(learning_rate=.1),\n",
        "    loss=\"mae\",\n",
        "    metrics = [\"mae\"]\n",
        ")\n",
        "\n",
        "# fit data\n",
        "model3.fit(\n",
        "    X_train,\n",
        "    Y_train,\n",
        "    epochs = 500, \n",
        "    verbose=0\n",
        ")"
      ],
      "execution_count": 19,
      "outputs": [
        {
          "output_type": "execute_result",
          "data": {
            "text/plain": [
              "<tensorflow.python.keras.callbacks.History at 0x7fc8e6500ad0>"
            ]
          },
          "metadata": {
            "tags": []
          },
          "execution_count": 19
        }
      ]
    },
    {
      "cell_type": "code",
      "metadata": {
        "colab": {
          "base_uri": "https://localhost:8080/"
        },
        "id": "hoIYJ_Ew1y8r",
        "outputId": "0d14bc8b-6749-480b-9338-7eb6c9633762"
      },
      "source": [
        "# predict\n",
        "Y_pred_3 = model3.predict(X_test)\n",
        "Y_pred_3"
      ],
      "execution_count": 20,
      "outputs": [
        {
          "output_type": "execute_result",
          "data": {
            "text/plain": [
              "array([[ 387.92294],\n",
              "       [ 448.9305 ],\n",
              "       [ 510.35858],\n",
              "       [ 572.2229 ],\n",
              "       [ 635.49585],\n",
              "       [ 699.1398 ],\n",
              "       [ 763.0174 ],\n",
              "       [ 826.9239 ],\n",
              "       [ 890.8853 ],\n",
              "       [ 955.43097],\n",
              "       [1020.30066],\n",
              "       [1085.1721 ],\n",
              "       [1150.0436 ],\n",
              "       [1214.9153 ],\n",
              "       [1279.787  ],\n",
              "       [1344.6587 ],\n",
              "       [1409.5302 ],\n",
              "       [1474.4017 ],\n",
              "       [1539.2734 ],\n",
              "       [1604.1448 ],\n",
              "       [1669.0166 ],\n",
              "       [1733.8881 ],\n",
              "       [1798.7598 ],\n",
              "       [1863.6313 ],\n",
              "       [1928.5029 ],\n",
              "       [1993.3746 ],\n",
              "       [2058.2463 ],\n",
              "       [2123.118  ],\n",
              "       [2187.9895 ],\n",
              "       [2252.8806 ],\n",
              "       [2317.7776 ],\n",
              "       [2382.6746 ],\n",
              "       [2447.5718 ],\n",
              "       [2512.4685 ],\n",
              "       [2577.3655 ],\n",
              "       [2642.2627 ],\n",
              "       [2707.1597 ],\n",
              "       [2772.057  ],\n",
              "       [2836.9539 ],\n",
              "       [2901.8508 ]], dtype=float32)"
            ]
          },
          "metadata": {
            "tags": []
          },
          "execution_count": 20
        }
      ]
    },
    {
      "cell_type": "code",
      "metadata": {
        "colab": {
          "base_uri": "https://localhost:8080/"
        },
        "id": "LU7Z19-uT2nB",
        "outputId": "348241df-ad7b-4baf-f761-99685d7bd139"
      },
      "source": [
        "# evaluate\n",
        "model3.evaluate(X_test, Y_test)"
      ],
      "execution_count": 21,
      "outputs": [
        {
          "output_type": "stream",
          "text": [
            "2/2 [==============================] - 0s 8ms/step - loss: 2380.9976 - mae: 2380.9976\n"
          ],
          "name": "stdout"
        },
        {
          "output_type": "execute_result",
          "data": {
            "text/plain": [
              "[2380.99755859375, 2380.99755859375]"
            ]
          },
          "metadata": {
            "tags": []
          },
          "execution_count": 21
        }
      ]
    },
    {
      "cell_type": "code",
      "metadata": {
        "colab": {
          "base_uri": "https://localhost:8080/",
          "height": 448
        },
        "id": "pTPpGo-S1OqQ",
        "outputId": "6df8757a-9593-4325-b9dd-969c50be5a54"
      },
      "source": [
        "\n",
        "# visulaize the predicted and actual again\n",
        "plt.figure(figsize=(10,7))\n",
        "\n",
        "plt.scatter(X_test,Y_test, c=\"b\", label = \"actual\")\n",
        "\n",
        "plt.scatter(X_test,Y_pred_3, c=\"r\", label=\"prdicted\")\n",
        "\n",
        "plt.legend()"
      ],
      "execution_count": 22,
      "outputs": [
        {
          "output_type": "execute_result",
          "data": {
            "text/plain": [
              "<matplotlib.legend.Legend at 0x7fc8e3559d90>"
            ]
          },
          "metadata": {
            "tags": []
          },
          "execution_count": 22
        },
        {
          "output_type": "display_data",
          "data": {
            "image/png": "[encoded data removed]",
            "text/plain": [
              "<Figure size 720x504 with 1 Axes>"
            ]
          },
          "metadata": {
            "tags": [],
            "needs_background": "light"
          }
        }
      ]
    },
    {
      "cell_type": "markdown",
      "metadata": {
        "id": "Dt2hqK7y2dqy"
      },
      "source": [
        "**Add one more layer to the model**"
      ]
    },
    {
      "cell_type": "code",
      "metadata": {
        "colab": {
          "base_uri": "https://localhost:8080/"
        },
        "id": "jk45GDS32_aW",
        "outputId": "467db328-b317-42ce-c5e6-10f793e80749"
      },
      "source": [
        "tf.random.set_seed(42)\n",
        "# add one more / 3 layers\n",
        "model4 = tf.keras.Sequential([\n",
        "                              tf.keras.layers.Dense(100, activation=\"relu\",name=\"input_layer-01\"),\n",
        "                              tf.keras.layers.Dense(200, activation=\"relu\", name=\"Hidden_layer\"),\n",
        "                              tf.keras.layers.Dense(1,name=\"output_layer\")\n",
        "]) \n",
        "\n",
        "model4.compile(\n",
        "    optimizer = tf.keras.optimizers.Adam(learning_rate= .1),\n",
        "    loss = \"mae\",\n",
        "    metrics = [\"mae\"]\n",
        ")\n",
        "\n",
        "model4.fit(X_train, Y_train, epochs = 500, verbose=0)"
      ],
      "execution_count": 31,
      "outputs": [
        {
          "output_type": "execute_result",
          "data": {
            "text/plain": [
              "<tensorflow.python.keras.callbacks.History at 0x7fc8e8c1d990>"
            ]
          },
          "metadata": {
            "tags": []
          },
          "execution_count": 31
        }
      ]
    },
    {
      "cell_type": "code",
      "metadata": {
        "colab": {
          "base_uri": "https://localhost:8080/"
        },
        "id": "3eaDDcJ1UYRO",
        "outputId": "a081fcfb-4324-4c69-85ea-7460a714489c"
      },
      "source": [
        "# summary of model 4\n",
        "model4.summary()"
      ],
      "execution_count": 32,
      "outputs": [
        {
          "output_type": "stream",
          "text": [
            "Model: \"sequential_8\"\n",
            "_________________________________________________________________\n",
            "Layer (type)                 Output Shape              Param #   \n",
            "=================================================================\n",
            "input_layer-01 (Dense)       (None, 100)               200       \n",
            "_________________________________________________________________\n",
            "Hidden_layer (Dense)         (None, 200)               20200     \n",
            "_________________________________________________________________\n",
            "output_layer (Dense)         (None, 1)                 201       \n",
            "=================================================================\n",
            "Total params: 20,601\n",
            "Trainable params: 20,601\n",
            "Non-trainable params: 0\n",
            "_________________________________________________________________\n"
          ],
          "name": "stdout"
        }
      ]
    },
    {
      "cell_type": "code",
      "metadata": {
        "colab": {
          "base_uri": "https://localhost:8080/",
          "height": 422
        },
        "id": "lskuVkPpUhOU",
        "outputId": "aa86740c-c84a-4a52-a2fd-b2201a1bd8cb"
      },
      "source": [
        "# plot the model block diagram\n",
        "from tensorflow.keras.utils import plot_model\n",
        "plot_model(model4, show_shapes=True)"
      ],
      "execution_count": 33,
      "outputs": [
        {
          "output_type": "execute_result",
          "data": {
            "image/png": "[encoded data removed]",
            "text/plain": [
              "<IPython.core.display.Image object>"
            ]
          },
          "metadata": {
            "tags": []
          },
          "execution_count": 33
        }
      ]
    },
    {
      "cell_type": "code",
      "metadata": {
        "id": "chqAEd8z3vBR"
      },
      "source": [
        "# Y predicted\n",
        "Y_pred_4 = model4.predict(X_test) "
      ],
      "execution_count": 39,
      "outputs": []
    },
    {
      "cell_type": "code",
      "metadata": {
        "colab": {
          "base_uri": "https://localhost:8080/"
        },
        "id": "H4d_4kc4WDpp",
        "outputId": "edc5f61c-4f71-47fc-ffef-516f114fcbe9"
      },
      "source": [
        "# evaluate the model\n",
        "model4.evaluate(X_test,Y_test)"
      ],
      "execution_count": 40,
      "outputs": [
        {
          "output_type": "stream",
          "text": [
            "2/2 [==============================] - 0s 5ms/step - loss: 302.4579 - mae: 302.4579\n"
          ],
          "name": "stdout"
        },
        {
          "output_type": "execute_result",
          "data": {
            "text/plain": [
              "[302.45794677734375, 302.45794677734375]"
            ]
          },
          "metadata": {
            "tags": []
          },
          "execution_count": 40
        }
      ]
    },
    {
      "cell_type": "code",
      "metadata": {
        "colab": {
          "base_uri": "https://localhost:8080/",
          "height": 448
        },
        "id": "grUo_W9L4lqU",
        "outputId": "b5248c28-ff31-4fcc-f789-831c08b26083"
      },
      "source": [
        "# visualize the data\n",
        "\n",
        "# visulaize the predicted and actual again\n",
        "plt.figure(figsize=(10,7))\n",
        "\n",
        "plt.scatter(X_test,Y_test, c=\"b\", label = \"actual\")\n",
        "\n",
        "plt.scatter(X_test,Y_pred_4, c=\"r\", label=\"prdicted\")\n",
        "\n",
        "plt.legend()"
      ],
      "execution_count": 41,
      "outputs": [
        {
          "output_type": "execute_result",
          "data": {
            "text/plain": [
              "<matplotlib.legend.Legend at 0x7fc8e90c9250>"
            ]
          },
          "metadata": {
            "tags": []
          },
          "execution_count": 41
        },
        {
          "output_type": "display_data",
          "data": {
            "image/png": "[encoded data removed]",
            "text/plain": [
              "<Figure size 720x504 with 1 Axes>"
            ]
          },
          "metadata": {
            "tags": [],
            "needs_background": "light"
          }
        }
      ]
    },
    {
      "cell_type": "markdown",
      "metadata": {
        "id": "H9ioXoa84v28"
      },
      "source": [
        "**One more experiment**I"
      ]
    },
    {
      "cell_type": "code",
      "metadata": {
        "colab": {
          "base_uri": "https://localhost:8080/",
          "height": 446
        },
        "id": "_VGbs3f059bO",
        "outputId": "b554325e-4e94-4615-f915-cc39ba33f271"
      },
      "source": [
        "# visualize the data\n",
        "\n",
        "# visulaize the predicted and actual again\n",
        "plt.figure(figsize=(10,7))\n",
        "\n",
        "plt.scatter(X_test,Y_test, c=\"b\", label = \"actual\")\n",
        "\n",
        "plt.scatter(X_test,Y_pred_1, color = '#88c999', label=\"prdicted-1\")\n",
        "plt.scatter(X_test,Y_pred_2, c=\"y\", label=\"prdicted-2\")\n",
        "\n",
        "\n",
        "plt.scatter(X_test,Y_pred_3, c=\"g\", label=\"prdicted-3\")\n",
        "plt.scatter(X_test,Y_pred_4, c=\"r\", label=\"prdicted-4\")\n",
        "\n",
        "plt.legend()"
      ],
      "execution_count": null,
      "outputs": [
        {
          "output_type": "execute_result",
          "data": {
            "text/plain": [
              "<matplotlib.legend.Legend at 0x7ff1323170d0>"
            ]
          },
          "metadata": {
            "tags": []
          },
          "execution_count": 215
        },
        {
          "output_type": "display_data",
          "data": {
            "image/png": "[encoded data removed]",
            "text/plain": [
              "<Figure size 720x504 with 1 Axes>"
            ]
          },
          "metadata": {
            "tags": [],
            "needs_background": "light"
          }
        }
      ]
    },
    {
      "cell_type": "markdown",
      "metadata": {
        "id": "HlF4t5OF6DkL"
      },
      "source": [
        "## Training Your Experiments\n",
        "One really good habiot in Machine Learning modelling is to track the results of your experiments.\n",
        "\n",
        "And when doing so, it can be tedious if you're running lots of experiments.\n",
        "\n",
        "Lucily, there are tools to help us !\n",
        "\n",
        "**Resources**: As we build more models , we will use \n",
        "- TensorBoard - A component in tensorflow library to help track of modelling experiment.\n",
        "\n",
        "- Weight and Biases - A tool for tracking all kind of machine learning experiment.(plugs stright to tensor board) "
      ]
    },
    {
      "cell_type": "markdown",
      "metadata": {
        "id": "SkLObVx_bAnh"
      },
      "source": [
        "## Saving Our Model\n",
        "Saving our model allows us to use them outside of Google Colab(or wherever they were trained) such as in a web application or a mobile app.\n",
        "\n",
        "There are two main format we can save our model's too :\n",
        "1. The Save Model Format\n",
        "2. The HDF5 Format(Hirarchical data format)"
      ]
    },
    {
      "cell_type": "code",
      "metadata": {
        "colab": {
          "base_uri": "https://localhost:8080/"
        },
        "id": "QdpTIBgCcAg-",
        "outputId": "f1e3f4e3-ca3f-494d-f164-be36db08207f"
      },
      "source": [
        "# save model using save model format\n",
        "model4.save(\"suarePlus10\")"
      ],
      "execution_count": 43,
      "outputs": [
        {
          "output_type": "stream",
          "text": [
            "WARNING:absl:Function `_wrapped_model` contains input name(s) input_layer-01_input with unsupported characters which will be renamed to input_layer_01_input in the SavedModel.\n"
          ],
          "name": "stderr"
        },
        {
          "output_type": "stream",
          "text": [
            "INFO:tensorflow:Assets written to: suarePlus10/assets\n"
          ],
          "name": "stdout"
        },
        {
          "output_type": "stream",
          "text": [
            "INFO:tensorflow:Assets written to: suarePlus10/assets\n"
          ],
          "name": "stderr"
        }
      ]
    },
    {
      "cell_type": "code",
      "metadata": {
        "id": "8Gl5qif6e00F"
      },
      "source": [
        "# save model using HDF5 format\n",
        "model4.save(\"squarePlus10_HDF5.h5\")"
      ],
      "execution_count": 44,
      "outputs": []
    },
    {
      "cell_type": "markdown",
      "metadata": {
        "id": "QgDIyAXegDtf"
      },
      "source": [
        "## Loading a Saved Model"
      ]
    },
    {
      "cell_type": "code",
      "metadata": {
        "colab": {
          "base_uri": "https://localhost:8080/"
        },
        "id": "KE5RuMgoghYR",
        "outputId": "cb066b50-d20e-45a0-8aec-280e8d68b521"
      },
      "source": [
        "# laoding the SavedModel Format Model\n",
        "loaded_SavedModel_format = tf.keras.models.load_model(\"/content/suarePlus10\")\n",
        "loaded_SavedModel_format.summary()"
      ],
      "execution_count": 45,
      "outputs": [
        {
          "output_type": "stream",
          "text": [
            "Model: \"sequential_8\"\n",
            "_________________________________________________________________\n",
            "Layer (type)                 Output Shape              Param #   \n",
            "=================================================================\n",
            "input_layer-01 (Dense)       (None, 100)               200       \n",
            "_________________________________________________________________\n",
            "Hidden_layer (Dense)         (None, 200)               20200     \n",
            "_________________________________________________________________\n",
            "output_layer (Dense)         (None, 1)                 201       \n",
            "=================================================================\n",
            "Total params: 20,601\n",
            "Trainable params: 20,601\n",
            "Non-trainable params: 0\n",
            "_________________________________________________________________\n"
          ],
          "name": "stdout"
        }
      ]
    },
    {
      "cell_type": "code",
      "metadata": {
        "colab": {
          "base_uri": "https://localhost:8080/"
        },
        "id": "Ii9zHHylhPBP",
        "outputId": "aa22eacd-2011-4710-9534-ea46e2052843"
      },
      "source": [
        "model4.summary()"
      ],
      "execution_count": 46,
      "outputs": [
        {
          "output_type": "stream",
          "text": [
            "Model: \"sequential_8\"\n",
            "_________________________________________________________________\n",
            "Layer (type)                 Output Shape              Param #   \n",
            "=================================================================\n",
            "input_layer-01 (Dense)       (None, 100)               200       \n",
            "_________________________________________________________________\n",
            "Hidden_layer (Dense)         (None, 200)               20200     \n",
            "_________________________________________________________________\n",
            "output_layer (Dense)         (None, 1)                 201       \n",
            "=================================================================\n",
            "Total params: 20,601\n",
            "Trainable params: 20,601\n",
            "Non-trainable params: 0\n",
            "_________________________________________________________________\n"
          ],
          "name": "stdout"
        }
      ]
    },
    {
      "cell_type": "code",
      "metadata": {
        "colab": {
          "base_uri": "https://localhost:8080/"
        },
        "id": "WOjaerqQhjbs",
        "outputId": "7c13e143-40bf-4a4d-c40b-83d4d3380f75"
      },
      "source": [
        "# compare mode4 prediction with saved model prediction\n",
        "model4.predict([10])"
      ],
      "execution_count": 48,
      "outputs": [
        {
          "output_type": "execute_result",
          "data": {
            "text/plain": [
              "array([[107.95699]], dtype=float32)"
            ]
          },
          "metadata": {
            "tags": []
          },
          "execution_count": 48
        }
      ]
    },
    {
      "cell_type": "code",
      "metadata": {
        "colab": {
          "base_uri": "https://localhost:8080/"
        },
        "id": "o8DfM8u-huST",
        "outputId": "f4cd733f-a70c-405c-bc3e-007b72cf9b75"
      },
      "source": [
        "loaded_SavedModel_format.predict([10])"
      ],
      "execution_count": 50,
      "outputs": [
        {
          "output_type": "execute_result",
          "data": {
            "text/plain": [
              "array([[107.95699]], dtype=float32)"
            ]
          },
          "metadata": {
            "tags": []
          },
          "execution_count": 50
        }
      ]
    },
    {
      "cell_type": "code",
      "metadata": {
        "colab": {
          "base_uri": "https://localhost:8080/"
        },
        "id": "NgJ8r6eQh1zO",
        "outputId": "58bdd955-c08e-4da4-8c3d-6dbcab7585e1"
      },
      "source": [
        "#load model with h5 format\n",
        "loaded_HDF5_format = tf.keras.models.load_model(\"squarePlus10_HDF5.h5\")\n",
        "loaded_HDF5_format.summary()"
      ],
      "execution_count": 52,
      "outputs": [
        {
          "output_type": "stream",
          "text": [
            "Model: \"sequential_8\"\n",
            "_________________________________________________________________\n",
            "Layer (type)                 Output Shape              Param #   \n",
            "=================================================================\n",
            "input_layer-01 (Dense)       (None, 100)               200       \n",
            "_________________________________________________________________\n",
            "Hidden_layer (Dense)         (None, 200)               20200     \n",
            "_________________________________________________________________\n",
            "output_layer (Dense)         (None, 1)                 201       \n",
            "=================================================================\n",
            "Total params: 20,601\n",
            "Trainable params: 20,601\n",
            "Non-trainable params: 0\n",
            "_________________________________________________________________\n"
          ],
          "name": "stdout"
        }
      ]
    },
    {
      "cell_type": "code",
      "metadata": {
        "colab": {
          "base_uri": "https://localhost:8080/"
        },
        "id": "bFOatY1CixtY",
        "outputId": "1fdc031a-1915-46e5-8d37-147eb314748f"
      },
      "source": [
        "model4.predict([10]), loaded_HDF5_format.predict([10]), loaded_SavedModel_format.predict([10])"
      ],
      "execution_count": 56,
      "outputs": [
        {
          "output_type": "execute_result",
          "data": {
            "text/plain": [
              "(array([[107.95699]], dtype=float32),\n",
              " array([[107.95699]], dtype=float32),\n",
              " array([[107.95699]], dtype=float32))"
            ]
          },
          "metadata": {
            "tags": []
          },
          "execution_count": 56
        }
      ]
    },
    {
      "cell_type": "markdown",
      "metadata": {
        "id": "FsgjJR3FjBAX"
      },
      "source": [
        "## Download Files From codelab"
      ]
    },
    {
      "cell_type": "code",
      "metadata": {
        "colab": {
          "base_uri": "https://localhost:8080/",
          "height": 17
        },
        "id": "12bBOWM-kCcp",
        "outputId": "edf05552-a44b-41df-9b3a-d0555d7d2c50"
      },
      "source": [
        "from google.colab import files\n",
        "files.download(\"/content/model.png\")"
      ],
      "execution_count": 58,
      "outputs": [
        {
          "output_type": "display_data",
          "data": {
            "application/javascript": [
              "\n",
              "    async function download(id, filename, size) {\n",
              "      if (!google.colab.kernel.accessAllowed) {\n",
              "        return;\n",
              "      }\n",
              "      const div = document.createElement('div');\n",
              "      const label = document.createElement('label');\n",
              "      label.textContent = `Downloading \"${filename}\": `;\n",
              "      div.appendChild(label);\n",
              "      const progress = document.createElement('progress');\n",
              "      progress.max = size;\n",
              "      div.appendChild(progress);\n",
              "      document.body.appendChild(div);\n",
              "\n",
              "      const buffers = [];\n",
              "      let downloaded = 0;\n",
              "\n",
              "      const channel = await google.colab.kernel.comms.open(id);\n",
              "      // Send a message to notify the kernel that we're ready.\n",
              "      channel.send({})\n",
              "\n",
              "      for await (const message of channel.messages) {\n",
              "        // Send a message to notify the kernel that we're ready.\n",
              "        channel.send({})\n",
              "        if (message.buffers) {\n",
              "          for (const buffer of message.buffers) {\n",
              "            buffers.push(buffer);\n",
              "            downloaded += buffer.byteLength;\n",
              "            progress.value = downloaded;\n",
              "          }\n",
              "        }\n",
              "      }\n",
              "      const blob = new Blob(buffers, {type: 'application/binary'});\n",
              "      const a = document.createElement('a');\n",
              "      a.href = window.URL.createObjectURL(blob);\n",
              "      a.download = filename;\n",
              "      div.appendChild(a);\n",
              "      a.click();\n",
              "      div.remove();\n",
              "    }\n",
              "  "
            ],
            "text/plain": [
              "<IPython.core.display.Javascript object>"
            ]
          },
          "metadata": {
            "tags": []
          }
        },
        {
          "output_type": "display_data",
          "data": {
            "application/javascript": [
              "download(\"download_2ca3e3b3-8952-4175-9b34-714c18d9a297\", \"model.png\", 23693)"
            ],
            "text/plain": [
              "<IPython.core.display.Javascript object>"
            ]
          },
          "metadata": {
            "tags": []
          }
        }
      ]
    },
    {
      "cell_type": "code",
      "metadata": {
        "colab": {
          "base_uri": "https://localhost:8080/"
        },
        "id": "dYBqDD1RkRUS",
        "outputId": "b5943159-735b-4f00-e0bf-6be529c69802"
      },
      "source": [
        "!ls"
      ],
      "execution_count": 59,
      "outputs": [
        {
          "output_type": "stream",
          "text": [
            "drive  model.png  sample_data  squarePlus10_HDF5.h5  suarePlus10\n"
          ],
          "name": "stdout"
        }
      ]
    },
    {
      "cell_type": "code",
      "metadata": {
        "id": "HfQ_QdbokuHg"
      },
      "source": [
        ""
      ],
      "execution_count": null,
      "outputs": []
    }
  ]
}