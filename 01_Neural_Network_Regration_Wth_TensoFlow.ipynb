{
  "nbformat": 4,
  "nbformat_minor": 0,
  "metadata": {
    "colab": {
      "name": "01_Neural_Network_Regration_Wth_TensoFlow.ipynb",
      "provenance": [],
      "authorship_tag": "ABX9TyNZo/IqViSOJtJCcVr5K+TY",
      "include_colab_link": true
    },
    "kernelspec": {
      "name": "python3",
      "display_name": "Python 3"
    },
    "language_info": {
      "name": "python"
    }
  },
  "cells": [
    {
      "cell_type": "markdown",
      "metadata": {
        "id": "view-in-github",
        "colab_type": "text"
      },
      "source": [
        "<a href=\"https://colab.research.google.com/github/A-jha/TENSOR-FLOW-LAB/blob/master/01_Neural_Network_Regration_Wth_TensoFlow.ipynb\" target=\"_parent\"><img src=\"https://colab.research.google.com/assets/colab-badge.svg\" alt=\"Open In Colab\"/></a>"
      ]
    },
    {
      "cell_type": "markdown",
      "metadata": {
        "id": "-mK9BzRbcP4Z"
      },
      "source": [
        "# Nural Network regration"
      ]
    },
    {
      "cell_type": "markdown",
      "metadata": {
        "id": "C9zrOAZBczEm"
      },
      "source": [
        "## What is Regration"
      ]
    },
    {
      "cell_type": "code",
      "metadata": {
        "id": "sXfdIDhNc3co"
      },
      "source": [
        ""
      ],
      "execution_count": null,
      "outputs": []
    }
  ]
}